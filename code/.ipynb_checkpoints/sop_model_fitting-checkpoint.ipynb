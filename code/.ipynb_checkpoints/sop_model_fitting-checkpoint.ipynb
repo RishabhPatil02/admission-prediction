{
 "cells": [
  {
   "cell_type": "code",
   "execution_count": 1,
   "id": "36404c50",
   "metadata": {},
   "outputs": [
    {
     "data": {
      "text/html": [
       "        <script type=\"text/javascript\">\n",
       "        window.PlotlyConfig = {MathJaxConfig: 'local'};\n",
       "        if (window.MathJax) {MathJax.Hub.Config({SVG: {font: \"STIX-Web\"}});}\n",
       "        if (typeof require !== 'undefined') {\n",
       "        require.undef(\"plotly\");\n",
       "        requirejs.config({\n",
       "            paths: {\n",
       "                'plotly': ['https://cdn.plot.ly/plotly-2.2.0.min']\n",
       "            }\n",
       "        });\n",
       "        require(['plotly'], function(Plotly) {\n",
       "            window._Plotly = Plotly;\n",
       "        });\n",
       "        }\n",
       "        </script>\n",
       "        "
      ]
     },
     "metadata": {},
     "output_type": "display_data"
    }
   ],
   "source": [
    "import numpy as np\n",
    "import pandas as pd\n",
    "#import os\n",
    "from matplotlib import pyplot as plt\n",
    "from sklearn import preprocessing\n",
    "from sklearn.preprocessing import StandardScaler\n",
    "from sklearn.model_selection import train_test_split\n",
    "from sklearn.linear_model import LinearRegression\n",
    "from sklearn.tree import DecisionTreeRegressor\n",
    "from sklearn.ensemble import RandomForestRegressor\n",
    "import seaborn as sns\n",
    "import plotly.express as px\n",
    "import plotly.graph_objects as go\n",
    "import plotly.offline as pyo\n",
    "import plotly.figure_factory as ff\n",
    "from plotly.offline import init_notebook_mode, iplot, download_plotlyjs\n",
    "init_notebook_mode(connected = True)\n",
    "sns.set(style='white')\n",
    "sns.set(style='whitegrid', color_codes=True)"
   ]
  },
  {
   "cell_type": "code",
   "execution_count": 2,
   "id": "7eee89d5",
   "metadata": {},
   "outputs": [
    {
     "data": {
      "text/html": [
       "<div>\n",
       "<style scoped>\n",
       "    .dataframe tbody tr th:only-of-type {\n",
       "        vertical-align: middle;\n",
       "    }\n",
       "\n",
       "    .dataframe tbody tr th {\n",
       "        vertical-align: top;\n",
       "    }\n",
       "\n",
       "    .dataframe thead th {\n",
       "        text-align: right;\n",
       "    }\n",
       "</style>\n",
       "<table border=\"1\" class=\"dataframe\">\n",
       "  <thead>\n",
       "    <tr style=\"text-align: right;\">\n",
       "      <th></th>\n",
       "      <th>sop</th>\n",
       "    </tr>\n",
       "  </thead>\n",
       "  <tbody>\n",
       "    <tr>\n",
       "      <th>0</th>\n",
       "      <td>My goal is to combine my background in physics...</td>\n",
       "    </tr>\n",
       "    <tr>\n",
       "      <th>1</th>\n",
       "      <td>The doctoral program will provide me with an o...</td>\n",
       "    </tr>\n",
       "    <tr>\n",
       "      <th>2</th>\n",
       "      <td>Growing up, I always loved math and sciences. ...</td>\n",
       "    </tr>\n",
       "    <tr>\n",
       "      <th>3</th>\n",
       "      <td>A desire to extend my knowledge and an enthusi...</td>\n",
       "    </tr>\n",
       "    <tr>\n",
       "      <th>4</th>\n",
       "      <td>As a child born and raised in Delhi, India, I ...</td>\n",
       "    </tr>\n",
       "    <tr>\n",
       "      <th>5</th>\n",
       "      <td>I am applying to Harvards doctoral program in ...</td>\n",
       "    </tr>\n",
       "    <tr>\n",
       "      <th>6</th>\n",
       "      <td>When I came to college I wanted to be a doctor...</td>\n",
       "    </tr>\n",
       "    <tr>\n",
       "      <th>7</th>\n",
       "      <td>I want to pursue a Ph.D. in Computer Science, ...</td>\n",
       "    </tr>\n",
       "    <tr>\n",
       "      <th>8</th>\n",
       "      <td>Having worked as a teacher at Liaocheng Teache...</td>\n",
       "    </tr>\n",
       "    <tr>\n",
       "      <th>9</th>\n",
       "      <td>In order to best contribute to the leading que...</td>\n",
       "    </tr>\n",
       "    <tr>\n",
       "      <th>10</th>\n",
       "      <td>Certainly, my academic journey has not been wi...</td>\n",
       "    </tr>\n",
       "    <tr>\n",
       "      <th>11</th>\n",
       "      <td>During my early studies I had no clue about ar...</td>\n",
       "    </tr>\n",
       "    <tr>\n",
       "      <th>12</th>\n",
       "      <td>I am interested in the STRATFOR summer interns...</td>\n",
       "    </tr>\n",
       "    <tr>\n",
       "      <th>13</th>\n",
       "      <td>Currently, I am working with USC Professor Bar...</td>\n",
       "    </tr>\n",
       "    <tr>\n",
       "      <th>14</th>\n",
       "      <td>I did my undergraduate research on how familia...</td>\n",
       "    </tr>\n",
       "    <tr>\n",
       "      <th>15</th>\n",
       "      <td>In the current time, new breakthroughs in tech...</td>\n",
       "    </tr>\n",
       "    <tr>\n",
       "      <th>16</th>\n",
       "      <td>It is amazing to me what can be done through t...</td>\n",
       "    </tr>\n",
       "    <tr>\n",
       "      <th>17</th>\n",
       "      <td>I can still clearly remember the day just like...</td>\n",
       "    </tr>\n",
       "    <tr>\n",
       "      <th>18</th>\n",
       "      <td>Statement of Purpose for MS in Computer Scienc...</td>\n",
       "    </tr>\n",
       "    <tr>\n",
       "      <th>19</th>\n",
       "      <td>I can still clearly remember the day just like...</td>\n",
       "    </tr>\n",
       "    <tr>\n",
       "      <th>20</th>\n",
       "      <td>It was the International Conference on Machine...</td>\n",
       "    </tr>\n",
       "    <tr>\n",
       "      <th>21</th>\n",
       "      <td>As the world's usage of technology has increas...</td>\n",
       "    </tr>\n",
       "    <tr>\n",
       "      <th>22</th>\n",
       "      <td>Moving toward graduate school, I am interested...</td>\n",
       "    </tr>\n",
       "    <tr>\n",
       "      <th>23</th>\n",
       "      <td>Few areas of my education have stimulated me t...</td>\n",
       "    </tr>\n",
       "  </tbody>\n",
       "</table>\n",
       "</div>"
      ],
      "text/plain": [
       "                                                  sop\n",
       "0   My goal is to combine my background in physics...\n",
       "1   The doctoral program will provide me with an o...\n",
       "2   Growing up, I always loved math and sciences. ...\n",
       "3   A desire to extend my knowledge and an enthusi...\n",
       "4   As a child born and raised in Delhi, India, I ...\n",
       "5   I am applying to Harvards doctoral program in ...\n",
       "6   When I came to college I wanted to be a doctor...\n",
       "7   I want to pursue a Ph.D. in Computer Science, ...\n",
       "8   Having worked as a teacher at Liaocheng Teache...\n",
       "9   In order to best contribute to the leading que...\n",
       "10  Certainly, my academic journey has not been wi...\n",
       "11  During my early studies I had no clue about ar...\n",
       "12  I am interested in the STRATFOR summer interns...\n",
       "13  Currently, I am working with USC Professor Bar...\n",
       "14  I did my undergraduate research on how familia...\n",
       "15  In the current time, new breakthroughs in tech...\n",
       "16  It is amazing to me what can be done through t...\n",
       "17  I can still clearly remember the day just like...\n",
       "18  Statement of Purpose for MS in Computer Scienc...\n",
       "19  I can still clearly remember the day just like...\n",
       "20  It was the International Conference on Machine...\n",
       "21  As the world's usage of technology has increas...\n",
       "22  Moving toward graduate school, I am interested...\n",
       "23  Few areas of my education have stimulated me t..."
      ]
     },
     "execution_count": 2,
     "metadata": {},
     "output_type": "execute_result"
    }
   ],
   "source": [
    "df = pd.read_csv(\"../data/sop.csv\")\n",
    "df"
   ]
  },
  {
   "cell_type": "code",
   "execution_count": 3,
   "id": "9d0b0129",
   "metadata": {},
   "outputs": [],
   "source": [
    "# l=[]\n",
    "# for i in range(14):\n",
    "#     l.append(df.iloc[i]['sop'].replace(\"�\",\"\"))\n",
    "# dfw = pd.DataFrame(l,columns =['sop'])\n",
    "# dfw.to_csv('../data/sop.csv', index=False)"
   ]
  },
  {
   "cell_type": "code",
   "execution_count": 4,
   "id": "ea3eda26",
   "metadata": {},
   "outputs": [],
   "source": [
    "from sklearn.feature_extraction.text import TfidfVectorizer\n",
    "from sklearn.cluster import KMeans"
   ]
  },
  {
   "cell_type": "code",
   "execution_count": 5,
   "id": "6d05aabc",
   "metadata": {},
   "outputs": [],
   "source": [
    "l=[]\n",
    "vectorizer = TfidfVectorizer(stop_words='english')\n",
    "for i in range(14):\n",
    "    l.append(df.iloc[i]['sop'].lower())\n",
    "X = vectorizer.fit_transform(l)\n"
   ]
  },
  {
   "cell_type": "code",
   "execution_count": 6,
   "id": "06780a0f",
   "metadata": {},
   "outputs": [
    {
     "data": {
      "text/plain": [
       "KMeans(max_iter=100, n_clusters=2, n_init=1)"
      ]
     },
     "execution_count": 6,
     "metadata": {},
     "output_type": "execute_result"
    }
   ],
   "source": [
    "true_k = 2\n",
    "model = KMeans(n_clusters=true_k, init='k-means++', max_iter=100, n_init=1)\n",
    "model.fit(X)"
   ]
  },
  {
   "cell_type": "code",
   "execution_count": 15,
   "id": "c37584ae",
   "metadata": {},
   "outputs": [
    {
     "data": {
      "text/plain": [
       "array([[1708, 2118,   37, ...,  648, 1508, 2238],\n",
       "       [1708, 1492, 2032, ..., 1550, 1552, 1119]], dtype=int64)"
      ]
     },
     "execution_count": 15,
     "metadata": {},
     "output_type": "execute_result"
    }
   ],
   "source": [
    "order_centroids = model.cluster_centers_.argsort()[:, ::-1]\n",
    "terms = vectorizer.get_feature_names()\n",
    "order_centroids"
   ]
  },
  {
   "cell_type": "code",
   "execution_count": 14,
   "id": "d6e24e49",
   "metadata": {},
   "outputs": [
    {
     "name": "stdout",
     "output_type": "stream",
     "text": [
      "Cluster 0:\n",
      " research\n",
      "\n",
      "\n",
      "Cluster 1:\n",
      " research\n",
      "\n",
      "\n"
     ]
    }
   ],
   "source": [
    "for i in range(true_k):\n",
    "    print(\"Cluster %d:\" % i),\n",
    "    for ind in order_centroids[i, :1]:\n",
    "        print(' %s' % terms[ind])\n",
    "    print(\"\\n\")"
   ]
  },
  {
   "cell_type": "code",
   "execution_count": 9,
   "id": "6f744192",
   "metadata": {},
   "outputs": [
    {
     "name": "stdout",
     "output_type": "stream",
     "text": [
      "\n",
      "\n",
      "Prediction\n",
      "[1]\n"
     ]
    }
   ],
   "source": [
    "print(\"\\n\")\n",
    "print(\"Prediction\")\n",
    "X = vectorizer.transform([l[13]])\n",
    "predicted = model.predict(X)\n",
    "print(predicted)"
   ]
  },
  {
   "cell_type": "code",
   "execution_count": 18,
   "id": "f0b421b2",
   "metadata": {},
   "outputs": [
    {
     "data": {
      "text/plain": [
       "<1x2239 sparse matrix of type '<class 'numpy.float64'>'\n",
       "\twith 248 stored elements in Compressed Sparse Row format>"
      ]
     },
     "execution_count": 18,
     "metadata": {},
     "output_type": "execute_result"
    }
   ],
   "source": [
    "X"
   ]
  },
  {
   "cell_type": "code",
   "execution_count": 13,
   "id": "c23de125",
   "metadata": {},
   "outputs": [],
   "source": [
    "# sklearn.metrics.pairwise.euclidean_distances(X, Y=None, *, Y_norm_squared=None, squared=False, X_norm_squared=None)"
   ]
  },
  {
   "cell_type": "code",
   "execution_count": 19,
   "id": "2cda7b2f",
   "metadata": {},
   "outputs": [],
   "source": [
    "# def compute_distance(self, X, centroids):\n",
    "#     distance = np.zeros((X.shape[0], self.n_clusters))\n",
    "#     for k in range(self.n_clusters):\n",
    "#         row_norm = norm(X - centroids[k, :], axis=1)\n",
    "#         distance[:, k] = np.square(row_norm)\n",
    "#     return distance"
   ]
  },
  {
   "cell_type": "code",
   "execution_count": 21,
   "id": "b707e103",
   "metadata": {},
   "outputs": [
    {
     "data": {
      "text/plain": [
       "array([[0., 0.]])"
      ]
     },
     "execution_count": 21,
     "metadata": {},
     "output_type": "execute_result"
    }
   ],
   "source": [
    "np.zeros((X.shape[0], true_k))"
   ]
  },
  {
   "cell_type": "code",
   "execution_count": 22,
   "id": "42203136",
   "metadata": {},
   "outputs": [
    {
     "data": {
      "text/plain": [
       "1"
      ]
     },
     "execution_count": 22,
     "metadata": {},
     "output_type": "execute_result"
    }
   ],
   "source": [
    "X.shape[0]"
   ]
  },
  {
   "cell_type": "code",
   "execution_count": null,
   "id": "be82fb3e",
   "metadata": {},
   "outputs": [],
   "source": []
  }
 ],
 "metadata": {
  "kernelspec": {
   "display_name": "Python 3",
   "language": "python",
   "name": "python3"
  },
  "language_info": {
   "codemirror_mode": {
    "name": "ipython",
    "version": 3
   },
   "file_extension": ".py",
   "mimetype": "text/x-python",
   "name": "python",
   "nbconvert_exporter": "python",
   "pygments_lexer": "ipython3",
   "version": "3.9.1"
  }
 },
 "nbformat": 4,
 "nbformat_minor": 5
}
