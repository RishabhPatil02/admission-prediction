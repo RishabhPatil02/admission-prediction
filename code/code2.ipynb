{
 "cells": [
  {
   "cell_type": "code",
   "execution_count": 1,
   "id": "8f35f2fb",
   "metadata": {},
   "outputs": [],
   "source": [
    "# This Python 3 environment comes with many helpful analytics libraries installed\n",
    "# It is defined by the kaggle/python Docker image: https://github.com/kaggle/docker-python\n",
    "# For example, here's several helpful packages to load\n",
    "\n",
    "import numpy as np # linear algebra\n",
    "import pandas as pd # data processing, CSV file I/O (e.g. pd.read_csv)\n",
    "\n",
    "# Input data files are available in the read-only \"../input/\" directory\n",
    "# For example, running this (by clicking run or pressing Shift+Enter) will list all files under the input directory\n",
    "\n",
    "import os\n",
    "for dirname, _, filenames in os.walk('/kaggle/input'):\n",
    "    for filename in filenames:\n",
    "        print(os.path.join(dirname, filename))\n",
    "\n",
    "# You can write up to 20GB to the current directory (/kaggle/working/) that gets preserved as output when you create a version using \"Save & Run All\" \n",
    "# You can also write temporary files to /kaggle/temp/, but they won't be saved outside of the current session"
   ]
  },
  {
   "cell_type": "code",
   "execution_count": 2,
   "id": "ad839be9",
   "metadata": {},
   "outputs": [
    {
     "data": {
      "text/html": [
       "        <script type=\"text/javascript\">\n",
       "        window.PlotlyConfig = {MathJaxConfig: 'local'};\n",
       "        if (window.MathJax) {MathJax.Hub.Config({SVG: {font: \"STIX-Web\"}});}\n",
       "        if (typeof require !== 'undefined') {\n",
       "        require.undef(\"plotly\");\n",
       "        requirejs.config({\n",
       "            paths: {\n",
       "                'plotly': ['https://cdn.plot.ly/plotly-2.2.0.min']\n",
       "            }\n",
       "        });\n",
       "        require(['plotly'], function(Plotly) {\n",
       "            window._Plotly = Plotly;\n",
       "        });\n",
       "        }\n",
       "        </script>\n",
       "        "
      ]
     },
     "metadata": {},
     "output_type": "display_data"
    }
   ],
   "source": [
    "import pandas as pd\n",
    "import numpy as np\n",
    "\n",
    "import matplotlib.pyplot as plt\n",
    "import seaborn as sns\n",
    "import plotly.express as px\n",
    "import plotly.graph_objects as go\n",
    "import plotly.offline as pyo\n",
    "import plotly.figure_factory as ff\n",
    "from plotly.offline import init_notebook_mode, iplot, download_plotlyjs\n",
    "init_notebook_mode(connected = True)"
   ]
  },
  {
   "cell_type": "code",
   "execution_count": 3,
   "id": "b1e62c36",
   "metadata": {},
   "outputs": [],
   "source": [
    "# Function defined to check medata of a dataframe\n",
    "def master_dataframe(dataframe):\n",
    "    df_metadata = pd.DataFrame({'Datatype': dataframe.dtypes,\n",
    "                                \"Null Values\": dataframe.isna().sum(),  \n",
    "                                \"Null %\": round(dataframe.isna().sum()/len(dataframe)*100, 2),\n",
    "                                \"No: Of Unique Values\": dataframe.nunique()})\n",
    "    \n",
    "    df_describe = dataframe.describe(include='all').T\n",
    "    \n",
    "    df_metadata = df_metadata.join(df_describe)  \n",
    "\n",
    "    return df_metadata"
   ]
  },
  {
   "cell_type": "code",
   "execution_count": 4,
   "id": "ddf283fe",
   "metadata": {},
   "outputs": [],
   "source": [
    "raw_data = pd.read_csv('../data/Admission_Predict.csv')"
   ]
  },
  {
   "cell_type": "code",
   "execution_count": 5,
   "id": "4f260c6b",
   "metadata": {},
   "outputs": [
    {
     "data": {
      "text/html": [
       "<div>\n",
       "<style scoped>\n",
       "    .dataframe tbody tr th:only-of-type {\n",
       "        vertical-align: middle;\n",
       "    }\n",
       "\n",
       "    .dataframe tbody tr th {\n",
       "        vertical-align: top;\n",
       "    }\n",
       "\n",
       "    .dataframe thead th {\n",
       "        text-align: right;\n",
       "    }\n",
       "</style>\n",
       "<table border=\"1\" class=\"dataframe\">\n",
       "  <thead>\n",
       "    <tr style=\"text-align: right;\">\n",
       "      <th></th>\n",
       "      <th>Datatype</th>\n",
       "      <th>Null Values</th>\n",
       "      <th>Null %</th>\n",
       "      <th>No: Of Unique Values</th>\n",
       "      <th>count</th>\n",
       "      <th>mean</th>\n",
       "      <th>std</th>\n",
       "      <th>min</th>\n",
       "      <th>25%</th>\n",
       "      <th>50%</th>\n",
       "      <th>75%</th>\n",
       "      <th>max</th>\n",
       "    </tr>\n",
       "  </thead>\n",
       "  <tbody>\n",
       "    <tr>\n",
       "      <th>Serial No.</th>\n",
       "      <td>int64</td>\n",
       "      <td>0</td>\n",
       "      <td>0.0</td>\n",
       "      <td>400</td>\n",
       "      <td>400.0</td>\n",
       "      <td>200.500000</td>\n",
       "      <td>115.614301</td>\n",
       "      <td>1.00</td>\n",
       "      <td>100.75</td>\n",
       "      <td>200.50</td>\n",
       "      <td>300.2500</td>\n",
       "      <td>400.00</td>\n",
       "    </tr>\n",
       "    <tr>\n",
       "      <th>GRE Score</th>\n",
       "      <td>int64</td>\n",
       "      <td>0</td>\n",
       "      <td>0.0</td>\n",
       "      <td>49</td>\n",
       "      <td>400.0</td>\n",
       "      <td>316.807500</td>\n",
       "      <td>11.473646</td>\n",
       "      <td>290.00</td>\n",
       "      <td>308.00</td>\n",
       "      <td>317.00</td>\n",
       "      <td>325.0000</td>\n",
       "      <td>340.00</td>\n",
       "    </tr>\n",
       "    <tr>\n",
       "      <th>TOEFL Score</th>\n",
       "      <td>int64</td>\n",
       "      <td>0</td>\n",
       "      <td>0.0</td>\n",
       "      <td>29</td>\n",
       "      <td>400.0</td>\n",
       "      <td>107.410000</td>\n",
       "      <td>6.069514</td>\n",
       "      <td>92.00</td>\n",
       "      <td>103.00</td>\n",
       "      <td>107.00</td>\n",
       "      <td>112.0000</td>\n",
       "      <td>120.00</td>\n",
       "    </tr>\n",
       "    <tr>\n",
       "      <th>University Rating</th>\n",
       "      <td>int64</td>\n",
       "      <td>0</td>\n",
       "      <td>0.0</td>\n",
       "      <td>5</td>\n",
       "      <td>400.0</td>\n",
       "      <td>3.087500</td>\n",
       "      <td>1.143728</td>\n",
       "      <td>1.00</td>\n",
       "      <td>2.00</td>\n",
       "      <td>3.00</td>\n",
       "      <td>4.0000</td>\n",
       "      <td>5.00</td>\n",
       "    </tr>\n",
       "    <tr>\n",
       "      <th>SOP</th>\n",
       "      <td>float64</td>\n",
       "      <td>0</td>\n",
       "      <td>0.0</td>\n",
       "      <td>9</td>\n",
       "      <td>400.0</td>\n",
       "      <td>3.400000</td>\n",
       "      <td>1.006869</td>\n",
       "      <td>1.00</td>\n",
       "      <td>2.50</td>\n",
       "      <td>3.50</td>\n",
       "      <td>4.0000</td>\n",
       "      <td>5.00</td>\n",
       "    </tr>\n",
       "    <tr>\n",
       "      <th>LOR</th>\n",
       "      <td>float64</td>\n",
       "      <td>0</td>\n",
       "      <td>0.0</td>\n",
       "      <td>9</td>\n",
       "      <td>400.0</td>\n",
       "      <td>3.452500</td>\n",
       "      <td>0.898478</td>\n",
       "      <td>1.00</td>\n",
       "      <td>3.00</td>\n",
       "      <td>3.50</td>\n",
       "      <td>4.0000</td>\n",
       "      <td>5.00</td>\n",
       "    </tr>\n",
       "    <tr>\n",
       "      <th>CGPA</th>\n",
       "      <td>float64</td>\n",
       "      <td>0</td>\n",
       "      <td>0.0</td>\n",
       "      <td>168</td>\n",
       "      <td>400.0</td>\n",
       "      <td>8.598925</td>\n",
       "      <td>0.596317</td>\n",
       "      <td>6.80</td>\n",
       "      <td>8.17</td>\n",
       "      <td>8.61</td>\n",
       "      <td>9.0625</td>\n",
       "      <td>9.92</td>\n",
       "    </tr>\n",
       "    <tr>\n",
       "      <th>Research</th>\n",
       "      <td>int64</td>\n",
       "      <td>0</td>\n",
       "      <td>0.0</td>\n",
       "      <td>2</td>\n",
       "      <td>400.0</td>\n",
       "      <td>0.547500</td>\n",
       "      <td>0.498362</td>\n",
       "      <td>0.00</td>\n",
       "      <td>0.00</td>\n",
       "      <td>1.00</td>\n",
       "      <td>1.0000</td>\n",
       "      <td>1.00</td>\n",
       "    </tr>\n",
       "    <tr>\n",
       "      <th>Chance of Admit</th>\n",
       "      <td>float64</td>\n",
       "      <td>0</td>\n",
       "      <td>0.0</td>\n",
       "      <td>60</td>\n",
       "      <td>400.0</td>\n",
       "      <td>0.724350</td>\n",
       "      <td>0.142609</td>\n",
       "      <td>0.34</td>\n",
       "      <td>0.64</td>\n",
       "      <td>0.73</td>\n",
       "      <td>0.8300</td>\n",
       "      <td>0.97</td>\n",
       "    </tr>\n",
       "  </tbody>\n",
       "</table>\n",
       "</div>"
      ],
      "text/plain": [
       "                  Datatype  Null Values  Null %  No: Of Unique Values  count  \\\n",
       "Serial No.           int64            0     0.0                   400  400.0   \n",
       "GRE Score            int64            0     0.0                    49  400.0   \n",
       "TOEFL Score          int64            0     0.0                    29  400.0   \n",
       "University Rating    int64            0     0.0                     5  400.0   \n",
       "SOP                float64            0     0.0                     9  400.0   \n",
       "LOR                float64            0     0.0                     9  400.0   \n",
       "CGPA               float64            0     0.0                   168  400.0   \n",
       "Research             int64            0     0.0                     2  400.0   \n",
       "Chance of Admit    float64            0     0.0                    60  400.0   \n",
       "\n",
       "                         mean         std     min     25%     50%       75%  \\\n",
       "Serial No.         200.500000  115.614301    1.00  100.75  200.50  300.2500   \n",
       "GRE Score          316.807500   11.473646  290.00  308.00  317.00  325.0000   \n",
       "TOEFL Score        107.410000    6.069514   92.00  103.00  107.00  112.0000   \n",
       "University Rating    3.087500    1.143728    1.00    2.00    3.00    4.0000   \n",
       "SOP                  3.400000    1.006869    1.00    2.50    3.50    4.0000   \n",
       "LOR                  3.452500    0.898478    1.00    3.00    3.50    4.0000   \n",
       "CGPA                 8.598925    0.596317    6.80    8.17    8.61    9.0625   \n",
       "Research             0.547500    0.498362    0.00    0.00    1.00    1.0000   \n",
       "Chance of Admit      0.724350    0.142609    0.34    0.64    0.73    0.8300   \n",
       "\n",
       "                      max  \n",
       "Serial No.         400.00  \n",
       "GRE Score          340.00  \n",
       "TOEFL Score        120.00  \n",
       "University Rating    5.00  \n",
       "SOP                  5.00  \n",
       "LOR                  5.00  \n",
       "CGPA                 9.92  \n",
       "Research             1.00  \n",
       "Chance of Admit      0.97  "
      ]
     },
     "execution_count": 5,
     "metadata": {},
     "output_type": "execute_result"
    }
   ],
   "source": [
    "# Calling the function to check metadata.\n",
    "master_dataframe(raw_data)"
   ]
  },
  {
   "cell_type": "code",
   "execution_count": 6,
   "id": "d38e3d1f",
   "metadata": {},
   "outputs": [
    {
     "data": {
      "text/plain": [
       "Index(['Serial No.', 'GRE Score', 'TOEFL Score', 'University Rating', 'SOP',\n",
       "       'LOR ', 'CGPA', 'Research', 'Chance of Admit '],\n",
       "      dtype='object')"
      ]
     },
     "execution_count": 6,
     "metadata": {},
     "output_type": "execute_result"
    }
   ],
   "source": [
    "raw_data.columns"
   ]
  },
  {
   "cell_type": "code",
   "execution_count": 7,
   "id": "8aed2d53",
   "metadata": {},
   "outputs": [],
   "source": [
    "# Droppig Serial No. from the data frame and removing extra space from column Chance of Admit\n",
    "data_col_chng = raw_data.copy()\n",
    "data_col_chng.drop(columns = ['Serial No.'], axis = 1, inplace = True)\n",
    "data_col_chng.columns = data_col_chng.columns.str.strip()"
   ]
  },
  {
   "cell_type": "code",
   "execution_count": 8,
   "id": "a4259e56",
   "metadata": {},
   "outputs": [
    {
     "data": {
      "text/plain": [
       "Index(['GRE Score', 'TOEFL Score', 'University Rating', 'SOP', 'LOR', 'CGPA',\n",
       "       'Research', 'Chance of Admit'],\n",
       "      dtype='object')"
      ]
     },
     "execution_count": 8,
     "metadata": {},
     "output_type": "execute_result"
    }
   ],
   "source": [
    "data_col_chng.columns"
   ]
  },
  {
   "cell_type": "code",
   "execution_count": 9,
   "id": "8da1bb43",
   "metadata": {},
   "outputs": [
    {
     "data": {
      "text/html": [
       "<div>\n",
       "<style scoped>\n",
       "    .dataframe tbody tr th:only-of-type {\n",
       "        vertical-align: middle;\n",
       "    }\n",
       "\n",
       "    .dataframe tbody tr th {\n",
       "        vertical-align: top;\n",
       "    }\n",
       "\n",
       "    .dataframe thead th {\n",
       "        text-align: right;\n",
       "    }\n",
       "</style>\n",
       "<table border=\"1\" class=\"dataframe\">\n",
       "  <thead>\n",
       "    <tr style=\"text-align: right;\">\n",
       "      <th></th>\n",
       "      <th>GRE Score</th>\n",
       "      <th>TOEFL Score</th>\n",
       "      <th>University Rating</th>\n",
       "      <th>SOP</th>\n",
       "      <th>LOR</th>\n",
       "      <th>CGPA</th>\n",
       "      <th>Research</th>\n",
       "      <th>Chance of Admit</th>\n",
       "    </tr>\n",
       "  </thead>\n",
       "  <tbody>\n",
       "    <tr>\n",
       "      <th>0</th>\n",
       "      <td>337</td>\n",
       "      <td>118</td>\n",
       "      <td>4</td>\n",
       "      <td>4.5</td>\n",
       "      <td>4.5</td>\n",
       "      <td>9.65</td>\n",
       "      <td>1</td>\n",
       "      <td>0.92</td>\n",
       "    </tr>\n",
       "    <tr>\n",
       "      <th>1</th>\n",
       "      <td>324</td>\n",
       "      <td>107</td>\n",
       "      <td>4</td>\n",
       "      <td>4.0</td>\n",
       "      <td>4.5</td>\n",
       "      <td>8.87</td>\n",
       "      <td>1</td>\n",
       "      <td>0.76</td>\n",
       "    </tr>\n",
       "    <tr>\n",
       "      <th>2</th>\n",
       "      <td>316</td>\n",
       "      <td>104</td>\n",
       "      <td>3</td>\n",
       "      <td>3.0</td>\n",
       "      <td>3.5</td>\n",
       "      <td>8.00</td>\n",
       "      <td>1</td>\n",
       "      <td>0.72</td>\n",
       "    </tr>\n",
       "    <tr>\n",
       "      <th>3</th>\n",
       "      <td>322</td>\n",
       "      <td>110</td>\n",
       "      <td>3</td>\n",
       "      <td>3.5</td>\n",
       "      <td>2.5</td>\n",
       "      <td>8.67</td>\n",
       "      <td>1</td>\n",
       "      <td>0.80</td>\n",
       "    </tr>\n",
       "    <tr>\n",
       "      <th>4</th>\n",
       "      <td>314</td>\n",
       "      <td>103</td>\n",
       "      <td>2</td>\n",
       "      <td>2.0</td>\n",
       "      <td>3.0</td>\n",
       "      <td>8.21</td>\n",
       "      <td>0</td>\n",
       "      <td>0.65</td>\n",
       "    </tr>\n",
       "    <tr>\n",
       "      <th>...</th>\n",
       "      <td>...</td>\n",
       "      <td>...</td>\n",
       "      <td>...</td>\n",
       "      <td>...</td>\n",
       "      <td>...</td>\n",
       "      <td>...</td>\n",
       "      <td>...</td>\n",
       "      <td>...</td>\n",
       "    </tr>\n",
       "    <tr>\n",
       "      <th>395</th>\n",
       "      <td>324</td>\n",
       "      <td>110</td>\n",
       "      <td>3</td>\n",
       "      <td>3.5</td>\n",
       "      <td>3.5</td>\n",
       "      <td>9.04</td>\n",
       "      <td>1</td>\n",
       "      <td>0.82</td>\n",
       "    </tr>\n",
       "    <tr>\n",
       "      <th>396</th>\n",
       "      <td>325</td>\n",
       "      <td>107</td>\n",
       "      <td>3</td>\n",
       "      <td>3.0</td>\n",
       "      <td>3.5</td>\n",
       "      <td>9.11</td>\n",
       "      <td>1</td>\n",
       "      <td>0.84</td>\n",
       "    </tr>\n",
       "    <tr>\n",
       "      <th>397</th>\n",
       "      <td>330</td>\n",
       "      <td>116</td>\n",
       "      <td>4</td>\n",
       "      <td>5.0</td>\n",
       "      <td>4.5</td>\n",
       "      <td>9.45</td>\n",
       "      <td>1</td>\n",
       "      <td>0.91</td>\n",
       "    </tr>\n",
       "    <tr>\n",
       "      <th>398</th>\n",
       "      <td>312</td>\n",
       "      <td>103</td>\n",
       "      <td>3</td>\n",
       "      <td>3.5</td>\n",
       "      <td>4.0</td>\n",
       "      <td>8.78</td>\n",
       "      <td>0</td>\n",
       "      <td>0.67</td>\n",
       "    </tr>\n",
       "    <tr>\n",
       "      <th>399</th>\n",
       "      <td>333</td>\n",
       "      <td>117</td>\n",
       "      <td>4</td>\n",
       "      <td>5.0</td>\n",
       "      <td>4.0</td>\n",
       "      <td>9.66</td>\n",
       "      <td>1</td>\n",
       "      <td>0.95</td>\n",
       "    </tr>\n",
       "  </tbody>\n",
       "</table>\n",
       "<p>400 rows × 8 columns</p>\n",
       "</div>"
      ],
      "text/plain": [
       "     GRE Score  TOEFL Score  University Rating  SOP  LOR  CGPA  Research  \\\n",
       "0          337          118                  4  4.5  4.5  9.65         1   \n",
       "1          324          107                  4  4.0  4.5  8.87         1   \n",
       "2          316          104                  3  3.0  3.5  8.00         1   \n",
       "3          322          110                  3  3.5  2.5  8.67         1   \n",
       "4          314          103                  2  2.0  3.0  8.21         0   \n",
       "..         ...          ...                ...  ...  ...   ...       ...   \n",
       "395        324          110                  3  3.5  3.5  9.04         1   \n",
       "396        325          107                  3  3.0  3.5  9.11         1   \n",
       "397        330          116                  4  5.0  4.5  9.45         1   \n",
       "398        312          103                  3  3.5  4.0  8.78         0   \n",
       "399        333          117                  4  5.0  4.0  9.66         1   \n",
       "\n",
       "     Chance of Admit  \n",
       "0               0.92  \n",
       "1               0.76  \n",
       "2               0.72  \n",
       "3               0.80  \n",
       "4               0.65  \n",
       "..               ...  \n",
       "395             0.82  \n",
       "396             0.84  \n",
       "397             0.91  \n",
       "398             0.67  \n",
       "399             0.95  \n",
       "\n",
       "[400 rows x 8 columns]"
      ]
     },
     "execution_count": 9,
     "metadata": {},
     "output_type": "execute_result"
    }
   ],
   "source": [
    "data_col_chng"
   ]
  },
  {
   "cell_type": "code",
   "execution_count": 10,
   "id": "6c4cbbcf",
   "metadata": {},
   "outputs": [
    {
     "data": {
      "application/vnd.plotly.v1+json": {
       "config": {
        "linkText": "Export to plot.ly",
        "plotlyServerURL": "https://plot.ly",
        "showLink": false
       },
       "data": [
        {
         "marker": {
          "line": {
           "color": "black",
           "width": 0.5
          }
         },
         "text": [
          "54.81",
          "62.6",
          "71.19",
          "81.81",
          "88.82"
         ],
         "textposition": "inside",
         "type": "bar",
         "x": [
          1,
          2,
          3,
          4,
          5
         ],
         "y": [
          54.81,
          62.6,
          71.19,
          81.81,
          88.82
         ]
        }
       ],
       "layout": {
        "template": {
         "data": {
          "bar": [
           {
            "error_x": {
             "color": "#2a3f5f"
            },
            "error_y": {
             "color": "#2a3f5f"
            },
            "marker": {
             "line": {
              "color": "#E5ECF6",
              "width": 0.5
             },
             "pattern": {
              "fillmode": "overlay",
              "size": 10,
              "solidity": 0.2
             }
            },
            "type": "bar"
           }
          ],
          "barpolar": [
           {
            "marker": {
             "line": {
              "color": "#E5ECF6",
              "width": 0.5
             },
             "pattern": {
              "fillmode": "overlay",
              "size": 10,
              "solidity": 0.2
             }
            },
            "type": "barpolar"
           }
          ],
          "carpet": [
           {
            "aaxis": {
             "endlinecolor": "#2a3f5f",
             "gridcolor": "white",
             "linecolor": "white",
             "minorgridcolor": "white",
             "startlinecolor": "#2a3f5f"
            },
            "baxis": {
             "endlinecolor": "#2a3f5f",
             "gridcolor": "white",
             "linecolor": "white",
             "minorgridcolor": "white",
             "startlinecolor": "#2a3f5f"
            },
            "type": "carpet"
           }
          ],
          "choropleth": [
           {
            "colorbar": {
             "outlinewidth": 0,
             "ticks": ""
            },
            "type": "choropleth"
           }
          ],
          "contour": [
           {
            "colorbar": {
             "outlinewidth": 0,
             "ticks": ""
            },
            "colorscale": [
             [
              0,
              "#0d0887"
             ],
             [
              0.1111111111111111,
              "#46039f"
             ],
             [
              0.2222222222222222,
              "#7201a8"
             ],
             [
              0.3333333333333333,
              "#9c179e"
             ],
             [
              0.4444444444444444,
              "#bd3786"
             ],
             [
              0.5555555555555556,
              "#d8576b"
             ],
             [
              0.6666666666666666,
              "#ed7953"
             ],
             [
              0.7777777777777778,
              "#fb9f3a"
             ],
             [
              0.8888888888888888,
              "#fdca26"
             ],
             [
              1,
              "#f0f921"
             ]
            ],
            "type": "contour"
           }
          ],
          "contourcarpet": [
           {
            "colorbar": {
             "outlinewidth": 0,
             "ticks": ""
            },
            "type": "contourcarpet"
           }
          ],
          "heatmap": [
           {
            "colorbar": {
             "outlinewidth": 0,
             "ticks": ""
            },
            "colorscale": [
             [
              0,
              "#0d0887"
             ],
             [
              0.1111111111111111,
              "#46039f"
             ],
             [
              0.2222222222222222,
              "#7201a8"
             ],
             [
              0.3333333333333333,
              "#9c179e"
             ],
             [
              0.4444444444444444,
              "#bd3786"
             ],
             [
              0.5555555555555556,
              "#d8576b"
             ],
             [
              0.6666666666666666,
              "#ed7953"
             ],
             [
              0.7777777777777778,
              "#fb9f3a"
             ],
             [
              0.8888888888888888,
              "#fdca26"
             ],
             [
              1,
              "#f0f921"
             ]
            ],
            "type": "heatmap"
           }
          ],
          "heatmapgl": [
           {
            "colorbar": {
             "outlinewidth": 0,
             "ticks": ""
            },
            "colorscale": [
             [
              0,
              "#0d0887"
             ],
             [
              0.1111111111111111,
              "#46039f"
             ],
             [
              0.2222222222222222,
              "#7201a8"
             ],
             [
              0.3333333333333333,
              "#9c179e"
             ],
             [
              0.4444444444444444,
              "#bd3786"
             ],
             [
              0.5555555555555556,
              "#d8576b"
             ],
             [
              0.6666666666666666,
              "#ed7953"
             ],
             [
              0.7777777777777778,
              "#fb9f3a"
             ],
             [
              0.8888888888888888,
              "#fdca26"
             ],
             [
              1,
              "#f0f921"
             ]
            ],
            "type": "heatmapgl"
           }
          ],
          "histogram": [
           {
            "marker": {
             "pattern": {
              "fillmode": "overlay",
              "size": 10,
              "solidity": 0.2
             }
            },
            "type": "histogram"
           }
          ],
          "histogram2d": [
           {
            "colorbar": {
             "outlinewidth": 0,
             "ticks": ""
            },
            "colorscale": [
             [
              0,
              "#0d0887"
             ],
             [
              0.1111111111111111,
              "#46039f"
             ],
             [
              0.2222222222222222,
              "#7201a8"
             ],
             [
              0.3333333333333333,
              "#9c179e"
             ],
             [
              0.4444444444444444,
              "#bd3786"
             ],
             [
              0.5555555555555556,
              "#d8576b"
             ],
             [
              0.6666666666666666,
              "#ed7953"
             ],
             [
              0.7777777777777778,
              "#fb9f3a"
             ],
             [
              0.8888888888888888,
              "#fdca26"
             ],
             [
              1,
              "#f0f921"
             ]
            ],
            "type": "histogram2d"
           }
          ],
          "histogram2dcontour": [
           {
            "colorbar": {
             "outlinewidth": 0,
             "ticks": ""
            },
            "colorscale": [
             [
              0,
              "#0d0887"
             ],
             [
              0.1111111111111111,
              "#46039f"
             ],
             [
              0.2222222222222222,
              "#7201a8"
             ],
             [
              0.3333333333333333,
              "#9c179e"
             ],
             [
              0.4444444444444444,
              "#bd3786"
             ],
             [
              0.5555555555555556,
              "#d8576b"
             ],
             [
              0.6666666666666666,
              "#ed7953"
             ],
             [
              0.7777777777777778,
              "#fb9f3a"
             ],
             [
              0.8888888888888888,
              "#fdca26"
             ],
             [
              1,
              "#f0f921"
             ]
            ],
            "type": "histogram2dcontour"
           }
          ],
          "mesh3d": [
           {
            "colorbar": {
             "outlinewidth": 0,
             "ticks": ""
            },
            "type": "mesh3d"
           }
          ],
          "parcoords": [
           {
            "line": {
             "colorbar": {
              "outlinewidth": 0,
              "ticks": ""
             }
            },
            "type": "parcoords"
           }
          ],
          "pie": [
           {
            "automargin": true,
            "type": "pie"
           }
          ],
          "scatter": [
           {
            "marker": {
             "colorbar": {
              "outlinewidth": 0,
              "ticks": ""
             }
            },
            "type": "scatter"
           }
          ],
          "scatter3d": [
           {
            "line": {
             "colorbar": {
              "outlinewidth": 0,
              "ticks": ""
             }
            },
            "marker": {
             "colorbar": {
              "outlinewidth": 0,
              "ticks": ""
             }
            },
            "type": "scatter3d"
           }
          ],
          "scattercarpet": [
           {
            "marker": {
             "colorbar": {
              "outlinewidth": 0,
              "ticks": ""
             }
            },
            "type": "scattercarpet"
           }
          ],
          "scattergeo": [
           {
            "marker": {
             "colorbar": {
              "outlinewidth": 0,
              "ticks": ""
             }
            },
            "type": "scattergeo"
           }
          ],
          "scattergl": [
           {
            "marker": {
             "colorbar": {
              "outlinewidth": 0,
              "ticks": ""
             }
            },
            "type": "scattergl"
           }
          ],
          "scattermapbox": [
           {
            "marker": {
             "colorbar": {
              "outlinewidth": 0,
              "ticks": ""
             }
            },
            "type": "scattermapbox"
           }
          ],
          "scatterpolar": [
           {
            "marker": {
             "colorbar": {
              "outlinewidth": 0,
              "ticks": ""
             }
            },
            "type": "scatterpolar"
           }
          ],
          "scatterpolargl": [
           {
            "marker": {
             "colorbar": {
              "outlinewidth": 0,
              "ticks": ""
             }
            },
            "type": "scatterpolargl"
           }
          ],
          "scatterternary": [
           {
            "marker": {
             "colorbar": {
              "outlinewidth": 0,
              "ticks": ""
             }
            },
            "type": "scatterternary"
           }
          ],
          "surface": [
           {
            "colorbar": {
             "outlinewidth": 0,
             "ticks": ""
            },
            "colorscale": [
             [
              0,
              "#0d0887"
             ],
             [
              0.1111111111111111,
              "#46039f"
             ],
             [
              0.2222222222222222,
              "#7201a8"
             ],
             [
              0.3333333333333333,
              "#9c179e"
             ],
             [
              0.4444444444444444,
              "#bd3786"
             ],
             [
              0.5555555555555556,
              "#d8576b"
             ],
             [
              0.6666666666666666,
              "#ed7953"
             ],
             [
              0.7777777777777778,
              "#fb9f3a"
             ],
             [
              0.8888888888888888,
              "#fdca26"
             ],
             [
              1,
              "#f0f921"
             ]
            ],
            "type": "surface"
           }
          ],
          "table": [
           {
            "cells": {
             "fill": {
              "color": "#EBF0F8"
             },
             "line": {
              "color": "white"
             }
            },
            "header": {
             "fill": {
              "color": "#C8D4E3"
             },
             "line": {
              "color": "white"
             }
            },
            "type": "table"
           }
          ]
         },
         "layout": {
          "annotationdefaults": {
           "arrowcolor": "#2a3f5f",
           "arrowhead": 0,
           "arrowwidth": 1
          },
          "autotypenumbers": "strict",
          "coloraxis": {
           "colorbar": {
            "outlinewidth": 0,
            "ticks": ""
           }
          },
          "colorscale": {
           "diverging": [
            [
             0,
             "#8e0152"
            ],
            [
             0.1,
             "#c51b7d"
            ],
            [
             0.2,
             "#de77ae"
            ],
            [
             0.3,
             "#f1b6da"
            ],
            [
             0.4,
             "#fde0ef"
            ],
            [
             0.5,
             "#f7f7f7"
            ],
            [
             0.6,
             "#e6f5d0"
            ],
            [
             0.7,
             "#b8e186"
            ],
            [
             0.8,
             "#7fbc41"
            ],
            [
             0.9,
             "#4d9221"
            ],
            [
             1,
             "#276419"
            ]
           ],
           "sequential": [
            [
             0,
             "#0d0887"
            ],
            [
             0.1111111111111111,
             "#46039f"
            ],
            [
             0.2222222222222222,
             "#7201a8"
            ],
            [
             0.3333333333333333,
             "#9c179e"
            ],
            [
             0.4444444444444444,
             "#bd3786"
            ],
            [
             0.5555555555555556,
             "#d8576b"
            ],
            [
             0.6666666666666666,
             "#ed7953"
            ],
            [
             0.7777777777777778,
             "#fb9f3a"
            ],
            [
             0.8888888888888888,
             "#fdca26"
            ],
            [
             1,
             "#f0f921"
            ]
           ],
           "sequentialminus": [
            [
             0,
             "#0d0887"
            ],
            [
             0.1111111111111111,
             "#46039f"
            ],
            [
             0.2222222222222222,
             "#7201a8"
            ],
            [
             0.3333333333333333,
             "#9c179e"
            ],
            [
             0.4444444444444444,
             "#bd3786"
            ],
            [
             0.5555555555555556,
             "#d8576b"
            ],
            [
             0.6666666666666666,
             "#ed7953"
            ],
            [
             0.7777777777777778,
             "#fb9f3a"
            ],
            [
             0.8888888888888888,
             "#fdca26"
            ],
            [
             1,
             "#f0f921"
            ]
           ]
          },
          "colorway": [
           "#636efa",
           "#EF553B",
           "#00cc96",
           "#ab63fa",
           "#FFA15A",
           "#19d3f3",
           "#FF6692",
           "#B6E880",
           "#FF97FF",
           "#FECB52"
          ],
          "font": {
           "color": "#2a3f5f"
          },
          "geo": {
           "bgcolor": "white",
           "lakecolor": "white",
           "landcolor": "#E5ECF6",
           "showlakes": true,
           "showland": true,
           "subunitcolor": "white"
          },
          "hoverlabel": {
           "align": "left"
          },
          "hovermode": "closest",
          "mapbox": {
           "style": "light"
          },
          "paper_bgcolor": "white",
          "plot_bgcolor": "#E5ECF6",
          "polar": {
           "angularaxis": {
            "gridcolor": "white",
            "linecolor": "white",
            "ticks": ""
           },
           "bgcolor": "#E5ECF6",
           "radialaxis": {
            "gridcolor": "white",
            "linecolor": "white",
            "ticks": ""
           }
          },
          "scene": {
           "xaxis": {
            "backgroundcolor": "#E5ECF6",
            "gridcolor": "white",
            "gridwidth": 2,
            "linecolor": "white",
            "showbackground": true,
            "ticks": "",
            "zerolinecolor": "white"
           },
           "yaxis": {
            "backgroundcolor": "#E5ECF6",
            "gridcolor": "white",
            "gridwidth": 2,
            "linecolor": "white",
            "showbackground": true,
            "ticks": "",
            "zerolinecolor": "white"
           },
           "zaxis": {
            "backgroundcolor": "#E5ECF6",
            "gridcolor": "white",
            "gridwidth": 2,
            "linecolor": "white",
            "showbackground": true,
            "ticks": "",
            "zerolinecolor": "white"
           }
          },
          "shapedefaults": {
           "line": {
            "color": "#2a3f5f"
           }
          },
          "ternary": {
           "aaxis": {
            "gridcolor": "white",
            "linecolor": "white",
            "ticks": ""
           },
           "baxis": {
            "gridcolor": "white",
            "linecolor": "white",
            "ticks": ""
           },
           "bgcolor": "#E5ECF6",
           "caxis": {
            "gridcolor": "white",
            "linecolor": "white",
            "ticks": ""
           }
          },
          "title": {
           "x": 0.05
          },
          "xaxis": {
           "automargin": true,
           "gridcolor": "white",
           "linecolor": "white",
           "ticks": "",
           "title": {
            "standoff": 15
           },
           "zerolinecolor": "white",
           "zerolinewidth": 2
          },
          "yaxis": {
           "automargin": true,
           "gridcolor": "white",
           "linecolor": "white",
           "ticks": "",
           "title": {
            "standoff": 15
           },
           "zerolinecolor": "white",
           "zerolinewidth": 2
          }
         }
        },
        "title": {
         "font": {
          "size": 20
         },
         "text": "Percentage Chance Of Admission By University Rating",
         "x": 0.5,
         "xanchor": "center",
         "y": 0.88,
         "yanchor": "top"
        },
        "xaxis": {
         "title": {
          "font": {
           "size": 16
          },
          "text": "University Rating"
         }
        },
        "yaxis": {
         "range": [
          0,
          100
         ],
         "title": {
          "font": {
           "size": 16
          },
          "text": "Percentage Chance Of Admission"
         }
        }
       }
      },
      "text/html": [
       "<div>                            <div id=\"0458511e-5188-4065-afb6-80fe8f711f2a\" class=\"plotly-graph-div\" style=\"height:525px; width:100%;\"></div>            <script type=\"text/javascript\">                require([\"plotly\"], function(Plotly) {                    window.PLOTLYENV=window.PLOTLYENV || {};                                    if (document.getElementById(\"0458511e-5188-4065-afb6-80fe8f711f2a\")) {                    Plotly.newPlot(                        \"0458511e-5188-4065-afb6-80fe8f711f2a\",                        [{\"marker\":{\"line\":{\"color\":\"black\",\"width\":0.5}},\"text\":[\"54.81\",\"62.6\",\"71.19\",\"81.81\",\"88.82\"],\"textposition\":\"inside\",\"type\":\"bar\",\"x\":[1,2,3,4,5],\"y\":[54.81,62.6,71.19,81.81,88.82]}],                        {\"template\":{\"data\":{\"bar\":[{\"error_x\":{\"color\":\"#2a3f5f\"},\"error_y\":{\"color\":\"#2a3f5f\"},\"marker\":{\"line\":{\"color\":\"#E5ECF6\",\"width\":0.5},\"pattern\":{\"fillmode\":\"overlay\",\"size\":10,\"solidity\":0.2}},\"type\":\"bar\"}],\"barpolar\":[{\"marker\":{\"line\":{\"color\":\"#E5ECF6\",\"width\":0.5},\"pattern\":{\"fillmode\":\"overlay\",\"size\":10,\"solidity\":0.2}},\"type\":\"barpolar\"}],\"carpet\":[{\"aaxis\":{\"endlinecolor\":\"#2a3f5f\",\"gridcolor\":\"white\",\"linecolor\":\"white\",\"minorgridcolor\":\"white\",\"startlinecolor\":\"#2a3f5f\"},\"baxis\":{\"endlinecolor\":\"#2a3f5f\",\"gridcolor\":\"white\",\"linecolor\":\"white\",\"minorgridcolor\":\"white\",\"startlinecolor\":\"#2a3f5f\"},\"type\":\"carpet\"}],\"choropleth\":[{\"colorbar\":{\"outlinewidth\":0,\"ticks\":\"\"},\"type\":\"choropleth\"}],\"contour\":[{\"colorbar\":{\"outlinewidth\":0,\"ticks\":\"\"},\"colorscale\":[[0.0,\"#0d0887\"],[0.1111111111111111,\"#46039f\"],[0.2222222222222222,\"#7201a8\"],[0.3333333333333333,\"#9c179e\"],[0.4444444444444444,\"#bd3786\"],[0.5555555555555556,\"#d8576b\"],[0.6666666666666666,\"#ed7953\"],[0.7777777777777778,\"#fb9f3a\"],[0.8888888888888888,\"#fdca26\"],[1.0,\"#f0f921\"]],\"type\":\"contour\"}],\"contourcarpet\":[{\"colorbar\":{\"outlinewidth\":0,\"ticks\":\"\"},\"type\":\"contourcarpet\"}],\"heatmap\":[{\"colorbar\":{\"outlinewidth\":0,\"ticks\":\"\"},\"colorscale\":[[0.0,\"#0d0887\"],[0.1111111111111111,\"#46039f\"],[0.2222222222222222,\"#7201a8\"],[0.3333333333333333,\"#9c179e\"],[0.4444444444444444,\"#bd3786\"],[0.5555555555555556,\"#d8576b\"],[0.6666666666666666,\"#ed7953\"],[0.7777777777777778,\"#fb9f3a\"],[0.8888888888888888,\"#fdca26\"],[1.0,\"#f0f921\"]],\"type\":\"heatmap\"}],\"heatmapgl\":[{\"colorbar\":{\"outlinewidth\":0,\"ticks\":\"\"},\"colorscale\":[[0.0,\"#0d0887\"],[0.1111111111111111,\"#46039f\"],[0.2222222222222222,\"#7201a8\"],[0.3333333333333333,\"#9c179e\"],[0.4444444444444444,\"#bd3786\"],[0.5555555555555556,\"#d8576b\"],[0.6666666666666666,\"#ed7953\"],[0.7777777777777778,\"#fb9f3a\"],[0.8888888888888888,\"#fdca26\"],[1.0,\"#f0f921\"]],\"type\":\"heatmapgl\"}],\"histogram\":[{\"marker\":{\"pattern\":{\"fillmode\":\"overlay\",\"size\":10,\"solidity\":0.2}},\"type\":\"histogram\"}],\"histogram2d\":[{\"colorbar\":{\"outlinewidth\":0,\"ticks\":\"\"},\"colorscale\":[[0.0,\"#0d0887\"],[0.1111111111111111,\"#46039f\"],[0.2222222222222222,\"#7201a8\"],[0.3333333333333333,\"#9c179e\"],[0.4444444444444444,\"#bd3786\"],[0.5555555555555556,\"#d8576b\"],[0.6666666666666666,\"#ed7953\"],[0.7777777777777778,\"#fb9f3a\"],[0.8888888888888888,\"#fdca26\"],[1.0,\"#f0f921\"]],\"type\":\"histogram2d\"}],\"histogram2dcontour\":[{\"colorbar\":{\"outlinewidth\":0,\"ticks\":\"\"},\"colorscale\":[[0.0,\"#0d0887\"],[0.1111111111111111,\"#46039f\"],[0.2222222222222222,\"#7201a8\"],[0.3333333333333333,\"#9c179e\"],[0.4444444444444444,\"#bd3786\"],[0.5555555555555556,\"#d8576b\"],[0.6666666666666666,\"#ed7953\"],[0.7777777777777778,\"#fb9f3a\"],[0.8888888888888888,\"#fdca26\"],[1.0,\"#f0f921\"]],\"type\":\"histogram2dcontour\"}],\"mesh3d\":[{\"colorbar\":{\"outlinewidth\":0,\"ticks\":\"\"},\"type\":\"mesh3d\"}],\"parcoords\":[{\"line\":{\"colorbar\":{\"outlinewidth\":0,\"ticks\":\"\"}},\"type\":\"parcoords\"}],\"pie\":[{\"automargin\":true,\"type\":\"pie\"}],\"scatter\":[{\"marker\":{\"colorbar\":{\"outlinewidth\":0,\"ticks\":\"\"}},\"type\":\"scatter\"}],\"scatter3d\":[{\"line\":{\"colorbar\":{\"outlinewidth\":0,\"ticks\":\"\"}},\"marker\":{\"colorbar\":{\"outlinewidth\":0,\"ticks\":\"\"}},\"type\":\"scatter3d\"}],\"scattercarpet\":[{\"marker\":{\"colorbar\":{\"outlinewidth\":0,\"ticks\":\"\"}},\"type\":\"scattercarpet\"}],\"scattergeo\":[{\"marker\":{\"colorbar\":{\"outlinewidth\":0,\"ticks\":\"\"}},\"type\":\"scattergeo\"}],\"scattergl\":[{\"marker\":{\"colorbar\":{\"outlinewidth\":0,\"ticks\":\"\"}},\"type\":\"scattergl\"}],\"scattermapbox\":[{\"marker\":{\"colorbar\":{\"outlinewidth\":0,\"ticks\":\"\"}},\"type\":\"scattermapbox\"}],\"scatterpolar\":[{\"marker\":{\"colorbar\":{\"outlinewidth\":0,\"ticks\":\"\"}},\"type\":\"scatterpolar\"}],\"scatterpolargl\":[{\"marker\":{\"colorbar\":{\"outlinewidth\":0,\"ticks\":\"\"}},\"type\":\"scatterpolargl\"}],\"scatterternary\":[{\"marker\":{\"colorbar\":{\"outlinewidth\":0,\"ticks\":\"\"}},\"type\":\"scatterternary\"}],\"surface\":[{\"colorbar\":{\"outlinewidth\":0,\"ticks\":\"\"},\"colorscale\":[[0.0,\"#0d0887\"],[0.1111111111111111,\"#46039f\"],[0.2222222222222222,\"#7201a8\"],[0.3333333333333333,\"#9c179e\"],[0.4444444444444444,\"#bd3786\"],[0.5555555555555556,\"#d8576b\"],[0.6666666666666666,\"#ed7953\"],[0.7777777777777778,\"#fb9f3a\"],[0.8888888888888888,\"#fdca26\"],[1.0,\"#f0f921\"]],\"type\":\"surface\"}],\"table\":[{\"cells\":{\"fill\":{\"color\":\"#EBF0F8\"},\"line\":{\"color\":\"white\"}},\"header\":{\"fill\":{\"color\":\"#C8D4E3\"},\"line\":{\"color\":\"white\"}},\"type\":\"table\"}]},\"layout\":{\"annotationdefaults\":{\"arrowcolor\":\"#2a3f5f\",\"arrowhead\":0,\"arrowwidth\":1},\"autotypenumbers\":\"strict\",\"coloraxis\":{\"colorbar\":{\"outlinewidth\":0,\"ticks\":\"\"}},\"colorscale\":{\"diverging\":[[0,\"#8e0152\"],[0.1,\"#c51b7d\"],[0.2,\"#de77ae\"],[0.3,\"#f1b6da\"],[0.4,\"#fde0ef\"],[0.5,\"#f7f7f7\"],[0.6,\"#e6f5d0\"],[0.7,\"#b8e186\"],[0.8,\"#7fbc41\"],[0.9,\"#4d9221\"],[1,\"#276419\"]],\"sequential\":[[0.0,\"#0d0887\"],[0.1111111111111111,\"#46039f\"],[0.2222222222222222,\"#7201a8\"],[0.3333333333333333,\"#9c179e\"],[0.4444444444444444,\"#bd3786\"],[0.5555555555555556,\"#d8576b\"],[0.6666666666666666,\"#ed7953\"],[0.7777777777777778,\"#fb9f3a\"],[0.8888888888888888,\"#fdca26\"],[1.0,\"#f0f921\"]],\"sequentialminus\":[[0.0,\"#0d0887\"],[0.1111111111111111,\"#46039f\"],[0.2222222222222222,\"#7201a8\"],[0.3333333333333333,\"#9c179e\"],[0.4444444444444444,\"#bd3786\"],[0.5555555555555556,\"#d8576b\"],[0.6666666666666666,\"#ed7953\"],[0.7777777777777778,\"#fb9f3a\"],[0.8888888888888888,\"#fdca26\"],[1.0,\"#f0f921\"]]},\"colorway\":[\"#636efa\",\"#EF553B\",\"#00cc96\",\"#ab63fa\",\"#FFA15A\",\"#19d3f3\",\"#FF6692\",\"#B6E880\",\"#FF97FF\",\"#FECB52\"],\"font\":{\"color\":\"#2a3f5f\"},\"geo\":{\"bgcolor\":\"white\",\"lakecolor\":\"white\",\"landcolor\":\"#E5ECF6\",\"showlakes\":true,\"showland\":true,\"subunitcolor\":\"white\"},\"hoverlabel\":{\"align\":\"left\"},\"hovermode\":\"closest\",\"mapbox\":{\"style\":\"light\"},\"paper_bgcolor\":\"white\",\"plot_bgcolor\":\"#E5ECF6\",\"polar\":{\"angularaxis\":{\"gridcolor\":\"white\",\"linecolor\":\"white\",\"ticks\":\"\"},\"bgcolor\":\"#E5ECF6\",\"radialaxis\":{\"gridcolor\":\"white\",\"linecolor\":\"white\",\"ticks\":\"\"}},\"scene\":{\"xaxis\":{\"backgroundcolor\":\"#E5ECF6\",\"gridcolor\":\"white\",\"gridwidth\":2,\"linecolor\":\"white\",\"showbackground\":true,\"ticks\":\"\",\"zerolinecolor\":\"white\"},\"yaxis\":{\"backgroundcolor\":\"#E5ECF6\",\"gridcolor\":\"white\",\"gridwidth\":2,\"linecolor\":\"white\",\"showbackground\":true,\"ticks\":\"\",\"zerolinecolor\":\"white\"},\"zaxis\":{\"backgroundcolor\":\"#E5ECF6\",\"gridcolor\":\"white\",\"gridwidth\":2,\"linecolor\":\"white\",\"showbackground\":true,\"ticks\":\"\",\"zerolinecolor\":\"white\"}},\"shapedefaults\":{\"line\":{\"color\":\"#2a3f5f\"}},\"ternary\":{\"aaxis\":{\"gridcolor\":\"white\",\"linecolor\":\"white\",\"ticks\":\"\"},\"baxis\":{\"gridcolor\":\"white\",\"linecolor\":\"white\",\"ticks\":\"\"},\"bgcolor\":\"#E5ECF6\",\"caxis\":{\"gridcolor\":\"white\",\"linecolor\":\"white\",\"ticks\":\"\"}},\"title\":{\"x\":0.05},\"xaxis\":{\"automargin\":true,\"gridcolor\":\"white\",\"linecolor\":\"white\",\"ticks\":\"\",\"title\":{\"standoff\":15},\"zerolinecolor\":\"white\",\"zerolinewidth\":2},\"yaxis\":{\"automargin\":true,\"gridcolor\":\"white\",\"linecolor\":\"white\",\"ticks\":\"\",\"title\":{\"standoff\":15},\"zerolinecolor\":\"white\",\"zerolinewidth\":2}}},\"title\":{\"font\":{\"size\":20},\"text\":\"Percentage Chance Of Admission By University Rating\",\"x\":0.5,\"xanchor\":\"center\",\"y\":0.88,\"yanchor\":\"top\"},\"xaxis\":{\"title\":{\"font\":{\"size\":16},\"text\":\"University Rating\"}},\"yaxis\":{\"range\":[0,100],\"title\":{\"font\":{\"size\":16},\"text\":\"Percentage Chance Of Admission\"}}},                        {\"responsive\": true}                    ).then(function(){\n",
       "                            \n",
       "var gd = document.getElementById('0458511e-5188-4065-afb6-80fe8f711f2a');\n",
       "var x = new MutationObserver(function (mutations, observer) {{\n",
       "        var display = window.getComputedStyle(gd).display;\n",
       "        if (!display || display === 'none') {{\n",
       "            console.log([gd, 'removed!']);\n",
       "            Plotly.purge(gd);\n",
       "            observer.disconnect();\n",
       "        }}\n",
       "}});\n",
       "\n",
       "// Listen for the removal of the full notebook cells\n",
       "var notebookContainer = gd.closest('#notebook-container');\n",
       "if (notebookContainer) {{\n",
       "    x.observe(notebookContainer, {childList: true});\n",
       "}}\n",
       "\n",
       "// Listen for the clearing of the current output cell\n",
       "var outputEl = gd.closest('.output');\n",
       "if (outputEl) {{\n",
       "    x.observe(outputEl, {childList: true});\n",
       "}}\n",
       "\n",
       "                        })                };                });            </script>        </div>"
      ]
     },
     "metadata": {},
     "output_type": "display_data"
    }
   ],
   "source": [
    "grp_UR = data_col_chng.groupby(by=['University Rating'])[\"Chance of Admit\"].mean().reset_index()\n",
    "grp_UR['Chance of Admit'] = round(grp_UR['Chance of Admit']*100, 2)\n",
    "grp_UR.sort_values(by=['Chance of Admit'], inplace = True)\n",
    "\n",
    "data = [go.Bar(x = grp_UR['University Rating'], \n",
    "               y = grp_UR['Chance of Admit'], \n",
    "               text = grp_UR['Chance of Admit'],\n",
    "               textposition = 'inside',\n",
    "               marker = dict(line = {'color': 'black', 'width': 0.5}))]\n",
    "\n",
    "layout = go.Layout(title = dict(text = 'Percentage Chance Of Admission By University Rating', \n",
    "                                font = {'size': 20},\n",
    "                                x = 0.5, \n",
    "                                y = 0.88, \n",
    "                                xanchor = 'center', \n",
    "                                yanchor = 'top'), \n",
    "                   xaxis = dict(title = 'University Rating', \n",
    "                                titlefont = {'size': 16}), \n",
    "                   yaxis = dict(title = 'Percentage Chance Of Admission', \n",
    "                                titlefont = {'size': 16}, \n",
    "                                range = [0, 100]))\n",
    "\n",
    "fig = go.Figure(data = data, \n",
    "                layout = layout)\n",
    "\n",
    "iplot(fig)\n"
   ]
  },
  {
   "cell_type": "code",
   "execution_count": 11,
   "id": "d252b561",
   "metadata": {},
   "outputs": [
    {
     "data": {
      "application/vnd.plotly.v1+json": {
       "config": {
        "linkText": "Export to plot.ly",
        "plotlyServerURL": "https://plot.ly",
        "showLink": false
       },
       "data": [
        {
         "marker": {
          "line": {
           "color": "black",
           "width": 0.5
          }
         },
         "text": [
          "42.0",
          "56.32",
          "56.71",
          "63.26",
          "67.42",
          "72.11",
          "77.64",
          "85.84",
          "88.34"
         ],
         "textposition": "inside",
         "type": "bar",
         "x": [
          1,
          2,
          1.5,
          2.5,
          3,
          3.5,
          4,
          4.5,
          5
         ],
         "y": [
          42,
          56.32,
          56.71,
          63.26,
          67.42,
          72.11,
          77.64,
          85.84,
          88.34
         ]
        }
       ],
       "layout": {
        "template": {
         "data": {
          "bar": [
           {
            "error_x": {
             "color": "#2a3f5f"
            },
            "error_y": {
             "color": "#2a3f5f"
            },
            "marker": {
             "line": {
              "color": "#E5ECF6",
              "width": 0.5
             },
             "pattern": {
              "fillmode": "overlay",
              "size": 10,
              "solidity": 0.2
             }
            },
            "type": "bar"
           }
          ],
          "barpolar": [
           {
            "marker": {
             "line": {
              "color": "#E5ECF6",
              "width": 0.5
             },
             "pattern": {
              "fillmode": "overlay",
              "size": 10,
              "solidity": 0.2
             }
            },
            "type": "barpolar"
           }
          ],
          "carpet": [
           {
            "aaxis": {
             "endlinecolor": "#2a3f5f",
             "gridcolor": "white",
             "linecolor": "white",
             "minorgridcolor": "white",
             "startlinecolor": "#2a3f5f"
            },
            "baxis": {
             "endlinecolor": "#2a3f5f",
             "gridcolor": "white",
             "linecolor": "white",
             "minorgridcolor": "white",
             "startlinecolor": "#2a3f5f"
            },
            "type": "carpet"
           }
          ],
          "choropleth": [
           {
            "colorbar": {
             "outlinewidth": 0,
             "ticks": ""
            },
            "type": "choropleth"
           }
          ],
          "contour": [
           {
            "colorbar": {
             "outlinewidth": 0,
             "ticks": ""
            },
            "colorscale": [
             [
              0,
              "#0d0887"
             ],
             [
              0.1111111111111111,
              "#46039f"
             ],
             [
              0.2222222222222222,
              "#7201a8"
             ],
             [
              0.3333333333333333,
              "#9c179e"
             ],
             [
              0.4444444444444444,
              "#bd3786"
             ],
             [
              0.5555555555555556,
              "#d8576b"
             ],
             [
              0.6666666666666666,
              "#ed7953"
             ],
             [
              0.7777777777777778,
              "#fb9f3a"
             ],
             [
              0.8888888888888888,
              "#fdca26"
             ],
             [
              1,
              "#f0f921"
             ]
            ],
            "type": "contour"
           }
          ],
          "contourcarpet": [
           {
            "colorbar": {
             "outlinewidth": 0,
             "ticks": ""
            },
            "type": "contourcarpet"
           }
          ],
          "heatmap": [
           {
            "colorbar": {
             "outlinewidth": 0,
             "ticks": ""
            },
            "colorscale": [
             [
              0,
              "#0d0887"
             ],
             [
              0.1111111111111111,
              "#46039f"
             ],
             [
              0.2222222222222222,
              "#7201a8"
             ],
             [
              0.3333333333333333,
              "#9c179e"
             ],
             [
              0.4444444444444444,
              "#bd3786"
             ],
             [
              0.5555555555555556,
              "#d8576b"
             ],
             [
              0.6666666666666666,
              "#ed7953"
             ],
             [
              0.7777777777777778,
              "#fb9f3a"
             ],
             [
              0.8888888888888888,
              "#fdca26"
             ],
             [
              1,
              "#f0f921"
             ]
            ],
            "type": "heatmap"
           }
          ],
          "heatmapgl": [
           {
            "colorbar": {
             "outlinewidth": 0,
             "ticks": ""
            },
            "colorscale": [
             [
              0,
              "#0d0887"
             ],
             [
              0.1111111111111111,
              "#46039f"
             ],
             [
              0.2222222222222222,
              "#7201a8"
             ],
             [
              0.3333333333333333,
              "#9c179e"
             ],
             [
              0.4444444444444444,
              "#bd3786"
             ],
             [
              0.5555555555555556,
              "#d8576b"
             ],
             [
              0.6666666666666666,
              "#ed7953"
             ],
             [
              0.7777777777777778,
              "#fb9f3a"
             ],
             [
              0.8888888888888888,
              "#fdca26"
             ],
             [
              1,
              "#f0f921"
             ]
            ],
            "type": "heatmapgl"
           }
          ],
          "histogram": [
           {
            "marker": {
             "pattern": {
              "fillmode": "overlay",
              "size": 10,
              "solidity": 0.2
             }
            },
            "type": "histogram"
           }
          ],
          "histogram2d": [
           {
            "colorbar": {
             "outlinewidth": 0,
             "ticks": ""
            },
            "colorscale": [
             [
              0,
              "#0d0887"
             ],
             [
              0.1111111111111111,
              "#46039f"
             ],
             [
              0.2222222222222222,
              "#7201a8"
             ],
             [
              0.3333333333333333,
              "#9c179e"
             ],
             [
              0.4444444444444444,
              "#bd3786"
             ],
             [
              0.5555555555555556,
              "#d8576b"
             ],
             [
              0.6666666666666666,
              "#ed7953"
             ],
             [
              0.7777777777777778,
              "#fb9f3a"
             ],
             [
              0.8888888888888888,
              "#fdca26"
             ],
             [
              1,
              "#f0f921"
             ]
            ],
            "type": "histogram2d"
           }
          ],
          "histogram2dcontour": [
           {
            "colorbar": {
             "outlinewidth": 0,
             "ticks": ""
            },
            "colorscale": [
             [
              0,
              "#0d0887"
             ],
             [
              0.1111111111111111,
              "#46039f"
             ],
             [
              0.2222222222222222,
              "#7201a8"
             ],
             [
              0.3333333333333333,
              "#9c179e"
             ],
             [
              0.4444444444444444,
              "#bd3786"
             ],
             [
              0.5555555555555556,
              "#d8576b"
             ],
             [
              0.6666666666666666,
              "#ed7953"
             ],
             [
              0.7777777777777778,
              "#fb9f3a"
             ],
             [
              0.8888888888888888,
              "#fdca26"
             ],
             [
              1,
              "#f0f921"
             ]
            ],
            "type": "histogram2dcontour"
           }
          ],
          "mesh3d": [
           {
            "colorbar": {
             "outlinewidth": 0,
             "ticks": ""
            },
            "type": "mesh3d"
           }
          ],
          "parcoords": [
           {
            "line": {
             "colorbar": {
              "outlinewidth": 0,
              "ticks": ""
             }
            },
            "type": "parcoords"
           }
          ],
          "pie": [
           {
            "automargin": true,
            "type": "pie"
           }
          ],
          "scatter": [
           {
            "marker": {
             "colorbar": {
              "outlinewidth": 0,
              "ticks": ""
             }
            },
            "type": "scatter"
           }
          ],
          "scatter3d": [
           {
            "line": {
             "colorbar": {
              "outlinewidth": 0,
              "ticks": ""
             }
            },
            "marker": {
             "colorbar": {
              "outlinewidth": 0,
              "ticks": ""
             }
            },
            "type": "scatter3d"
           }
          ],
          "scattercarpet": [
           {
            "marker": {
             "colorbar": {
              "outlinewidth": 0,
              "ticks": ""
             }
            },
            "type": "scattercarpet"
           }
          ],
          "scattergeo": [
           {
            "marker": {
             "colorbar": {
              "outlinewidth": 0,
              "ticks": ""
             }
            },
            "type": "scattergeo"
           }
          ],
          "scattergl": [
           {
            "marker": {
             "colorbar": {
              "outlinewidth": 0,
              "ticks": ""
             }
            },
            "type": "scattergl"
           }
          ],
          "scattermapbox": [
           {
            "marker": {
             "colorbar": {
              "outlinewidth": 0,
              "ticks": ""
             }
            },
            "type": "scattermapbox"
           }
          ],
          "scatterpolar": [
           {
            "marker": {
             "colorbar": {
              "outlinewidth": 0,
              "ticks": ""
             }
            },
            "type": "scatterpolar"
           }
          ],
          "scatterpolargl": [
           {
            "marker": {
             "colorbar": {
              "outlinewidth": 0,
              "ticks": ""
             }
            },
            "type": "scatterpolargl"
           }
          ],
          "scatterternary": [
           {
            "marker": {
             "colorbar": {
              "outlinewidth": 0,
              "ticks": ""
             }
            },
            "type": "scatterternary"
           }
          ],
          "surface": [
           {
            "colorbar": {
             "outlinewidth": 0,
             "ticks": ""
            },
            "colorscale": [
             [
              0,
              "#0d0887"
             ],
             [
              0.1111111111111111,
              "#46039f"
             ],
             [
              0.2222222222222222,
              "#7201a8"
             ],
             [
              0.3333333333333333,
              "#9c179e"
             ],
             [
              0.4444444444444444,
              "#bd3786"
             ],
             [
              0.5555555555555556,
              "#d8576b"
             ],
             [
              0.6666666666666666,
              "#ed7953"
             ],
             [
              0.7777777777777778,
              "#fb9f3a"
             ],
             [
              0.8888888888888888,
              "#fdca26"
             ],
             [
              1,
              "#f0f921"
             ]
            ],
            "type": "surface"
           }
          ],
          "table": [
           {
            "cells": {
             "fill": {
              "color": "#EBF0F8"
             },
             "line": {
              "color": "white"
             }
            },
            "header": {
             "fill": {
              "color": "#C8D4E3"
             },
             "line": {
              "color": "white"
             }
            },
            "type": "table"
           }
          ]
         },
         "layout": {
          "annotationdefaults": {
           "arrowcolor": "#2a3f5f",
           "arrowhead": 0,
           "arrowwidth": 1
          },
          "autotypenumbers": "strict",
          "coloraxis": {
           "colorbar": {
            "outlinewidth": 0,
            "ticks": ""
           }
          },
          "colorscale": {
           "diverging": [
            [
             0,
             "#8e0152"
            ],
            [
             0.1,
             "#c51b7d"
            ],
            [
             0.2,
             "#de77ae"
            ],
            [
             0.3,
             "#f1b6da"
            ],
            [
             0.4,
             "#fde0ef"
            ],
            [
             0.5,
             "#f7f7f7"
            ],
            [
             0.6,
             "#e6f5d0"
            ],
            [
             0.7,
             "#b8e186"
            ],
            [
             0.8,
             "#7fbc41"
            ],
            [
             0.9,
             "#4d9221"
            ],
            [
             1,
             "#276419"
            ]
           ],
           "sequential": [
            [
             0,
             "#0d0887"
            ],
            [
             0.1111111111111111,
             "#46039f"
            ],
            [
             0.2222222222222222,
             "#7201a8"
            ],
            [
             0.3333333333333333,
             "#9c179e"
            ],
            [
             0.4444444444444444,
             "#bd3786"
            ],
            [
             0.5555555555555556,
             "#d8576b"
            ],
            [
             0.6666666666666666,
             "#ed7953"
            ],
            [
             0.7777777777777778,
             "#fb9f3a"
            ],
            [
             0.8888888888888888,
             "#fdca26"
            ],
            [
             1,
             "#f0f921"
            ]
           ],
           "sequentialminus": [
            [
             0,
             "#0d0887"
            ],
            [
             0.1111111111111111,
             "#46039f"
            ],
            [
             0.2222222222222222,
             "#7201a8"
            ],
            [
             0.3333333333333333,
             "#9c179e"
            ],
            [
             0.4444444444444444,
             "#bd3786"
            ],
            [
             0.5555555555555556,
             "#d8576b"
            ],
            [
             0.6666666666666666,
             "#ed7953"
            ],
            [
             0.7777777777777778,
             "#fb9f3a"
            ],
            [
             0.8888888888888888,
             "#fdca26"
            ],
            [
             1,
             "#f0f921"
            ]
           ]
          },
          "colorway": [
           "#636efa",
           "#EF553B",
           "#00cc96",
           "#ab63fa",
           "#FFA15A",
           "#19d3f3",
           "#FF6692",
           "#B6E880",
           "#FF97FF",
           "#FECB52"
          ],
          "font": {
           "color": "#2a3f5f"
          },
          "geo": {
           "bgcolor": "white",
           "lakecolor": "white",
           "landcolor": "#E5ECF6",
           "showlakes": true,
           "showland": true,
           "subunitcolor": "white"
          },
          "hoverlabel": {
           "align": "left"
          },
          "hovermode": "closest",
          "mapbox": {
           "style": "light"
          },
          "paper_bgcolor": "white",
          "plot_bgcolor": "#E5ECF6",
          "polar": {
           "angularaxis": {
            "gridcolor": "white",
            "linecolor": "white",
            "ticks": ""
           },
           "bgcolor": "#E5ECF6",
           "radialaxis": {
            "gridcolor": "white",
            "linecolor": "white",
            "ticks": ""
           }
          },
          "scene": {
           "xaxis": {
            "backgroundcolor": "#E5ECF6",
            "gridcolor": "white",
            "gridwidth": 2,
            "linecolor": "white",
            "showbackground": true,
            "ticks": "",
            "zerolinecolor": "white"
           },
           "yaxis": {
            "backgroundcolor": "#E5ECF6",
            "gridcolor": "white",
            "gridwidth": 2,
            "linecolor": "white",
            "showbackground": true,
            "ticks": "",
            "zerolinecolor": "white"
           },
           "zaxis": {
            "backgroundcolor": "#E5ECF6",
            "gridcolor": "white",
            "gridwidth": 2,
            "linecolor": "white",
            "showbackground": true,
            "ticks": "",
            "zerolinecolor": "white"
           }
          },
          "shapedefaults": {
           "line": {
            "color": "#2a3f5f"
           }
          },
          "ternary": {
           "aaxis": {
            "gridcolor": "white",
            "linecolor": "white",
            "ticks": ""
           },
           "baxis": {
            "gridcolor": "white",
            "linecolor": "white",
            "ticks": ""
           },
           "bgcolor": "#E5ECF6",
           "caxis": {
            "gridcolor": "white",
            "linecolor": "white",
            "ticks": ""
           }
          },
          "title": {
           "x": 0.05
          },
          "xaxis": {
           "automargin": true,
           "gridcolor": "white",
           "linecolor": "white",
           "ticks": "",
           "title": {
            "standoff": 15
           },
           "zerolinecolor": "white",
           "zerolinewidth": 2
          },
          "yaxis": {
           "automargin": true,
           "gridcolor": "white",
           "linecolor": "white",
           "ticks": "",
           "title": {
            "standoff": 15
           },
           "zerolinecolor": "white",
           "zerolinewidth": 2
          }
         }
        },
        "title": {
         "font": {
          "size": 20
         },
         "text": "Percentage Chance Of Admission By Letter Of Recommendation",
         "x": 0.5,
         "xanchor": "center",
         "y": 0.88,
         "yanchor": "top"
        },
        "xaxis": {
         "title": {
          "font": {
           "size": 16
          },
          "text": "LOR"
         }
        },
        "yaxis": {
         "range": [
          0,
          100
         ],
         "title": {
          "font": {
           "size": 16
          },
          "text": "Percentage Chance Of Admission"
         }
        }
       }
      },
      "text/html": [
       "<div>                            <div id=\"eddcab30-5201-4f1f-b4d5-6acbc6a6c96a\" class=\"plotly-graph-div\" style=\"height:525px; width:100%;\"></div>            <script type=\"text/javascript\">                require([\"plotly\"], function(Plotly) {                    window.PLOTLYENV=window.PLOTLYENV || {};                                    if (document.getElementById(\"eddcab30-5201-4f1f-b4d5-6acbc6a6c96a\")) {                    Plotly.newPlot(                        \"eddcab30-5201-4f1f-b4d5-6acbc6a6c96a\",                        [{\"marker\":{\"line\":{\"color\":\"black\",\"width\":0.5}},\"text\":[\"42.0\",\"56.32\",\"56.71\",\"63.26\",\"67.42\",\"72.11\",\"77.64\",\"85.84\",\"88.34\"],\"textposition\":\"inside\",\"type\":\"bar\",\"x\":[1.0,2.0,1.5,2.5,3.0,3.5,4.0,4.5,5.0],\"y\":[42.0,56.32,56.71,63.26,67.42,72.11,77.64,85.84,88.34]}],                        {\"template\":{\"data\":{\"bar\":[{\"error_x\":{\"color\":\"#2a3f5f\"},\"error_y\":{\"color\":\"#2a3f5f\"},\"marker\":{\"line\":{\"color\":\"#E5ECF6\",\"width\":0.5},\"pattern\":{\"fillmode\":\"overlay\",\"size\":10,\"solidity\":0.2}},\"type\":\"bar\"}],\"barpolar\":[{\"marker\":{\"line\":{\"color\":\"#E5ECF6\",\"width\":0.5},\"pattern\":{\"fillmode\":\"overlay\",\"size\":10,\"solidity\":0.2}},\"type\":\"barpolar\"}],\"carpet\":[{\"aaxis\":{\"endlinecolor\":\"#2a3f5f\",\"gridcolor\":\"white\",\"linecolor\":\"white\",\"minorgridcolor\":\"white\",\"startlinecolor\":\"#2a3f5f\"},\"baxis\":{\"endlinecolor\":\"#2a3f5f\",\"gridcolor\":\"white\",\"linecolor\":\"white\",\"minorgridcolor\":\"white\",\"startlinecolor\":\"#2a3f5f\"},\"type\":\"carpet\"}],\"choropleth\":[{\"colorbar\":{\"outlinewidth\":0,\"ticks\":\"\"},\"type\":\"choropleth\"}],\"contour\":[{\"colorbar\":{\"outlinewidth\":0,\"ticks\":\"\"},\"colorscale\":[[0.0,\"#0d0887\"],[0.1111111111111111,\"#46039f\"],[0.2222222222222222,\"#7201a8\"],[0.3333333333333333,\"#9c179e\"],[0.4444444444444444,\"#bd3786\"],[0.5555555555555556,\"#d8576b\"],[0.6666666666666666,\"#ed7953\"],[0.7777777777777778,\"#fb9f3a\"],[0.8888888888888888,\"#fdca26\"],[1.0,\"#f0f921\"]],\"type\":\"contour\"}],\"contourcarpet\":[{\"colorbar\":{\"outlinewidth\":0,\"ticks\":\"\"},\"type\":\"contourcarpet\"}],\"heatmap\":[{\"colorbar\":{\"outlinewidth\":0,\"ticks\":\"\"},\"colorscale\":[[0.0,\"#0d0887\"],[0.1111111111111111,\"#46039f\"],[0.2222222222222222,\"#7201a8\"],[0.3333333333333333,\"#9c179e\"],[0.4444444444444444,\"#bd3786\"],[0.5555555555555556,\"#d8576b\"],[0.6666666666666666,\"#ed7953\"],[0.7777777777777778,\"#fb9f3a\"],[0.8888888888888888,\"#fdca26\"],[1.0,\"#f0f921\"]],\"type\":\"heatmap\"}],\"heatmapgl\":[{\"colorbar\":{\"outlinewidth\":0,\"ticks\":\"\"},\"colorscale\":[[0.0,\"#0d0887\"],[0.1111111111111111,\"#46039f\"],[0.2222222222222222,\"#7201a8\"],[0.3333333333333333,\"#9c179e\"],[0.4444444444444444,\"#bd3786\"],[0.5555555555555556,\"#d8576b\"],[0.6666666666666666,\"#ed7953\"],[0.7777777777777778,\"#fb9f3a\"],[0.8888888888888888,\"#fdca26\"],[1.0,\"#f0f921\"]],\"type\":\"heatmapgl\"}],\"histogram\":[{\"marker\":{\"pattern\":{\"fillmode\":\"overlay\",\"size\":10,\"solidity\":0.2}},\"type\":\"histogram\"}],\"histogram2d\":[{\"colorbar\":{\"outlinewidth\":0,\"ticks\":\"\"},\"colorscale\":[[0.0,\"#0d0887\"],[0.1111111111111111,\"#46039f\"],[0.2222222222222222,\"#7201a8\"],[0.3333333333333333,\"#9c179e\"],[0.4444444444444444,\"#bd3786\"],[0.5555555555555556,\"#d8576b\"],[0.6666666666666666,\"#ed7953\"],[0.7777777777777778,\"#fb9f3a\"],[0.8888888888888888,\"#fdca26\"],[1.0,\"#f0f921\"]],\"type\":\"histogram2d\"}],\"histogram2dcontour\":[{\"colorbar\":{\"outlinewidth\":0,\"ticks\":\"\"},\"colorscale\":[[0.0,\"#0d0887\"],[0.1111111111111111,\"#46039f\"],[0.2222222222222222,\"#7201a8\"],[0.3333333333333333,\"#9c179e\"],[0.4444444444444444,\"#bd3786\"],[0.5555555555555556,\"#d8576b\"],[0.6666666666666666,\"#ed7953\"],[0.7777777777777778,\"#fb9f3a\"],[0.8888888888888888,\"#fdca26\"],[1.0,\"#f0f921\"]],\"type\":\"histogram2dcontour\"}],\"mesh3d\":[{\"colorbar\":{\"outlinewidth\":0,\"ticks\":\"\"},\"type\":\"mesh3d\"}],\"parcoords\":[{\"line\":{\"colorbar\":{\"outlinewidth\":0,\"ticks\":\"\"}},\"type\":\"parcoords\"}],\"pie\":[{\"automargin\":true,\"type\":\"pie\"}],\"scatter\":[{\"marker\":{\"colorbar\":{\"outlinewidth\":0,\"ticks\":\"\"}},\"type\":\"scatter\"}],\"scatter3d\":[{\"line\":{\"colorbar\":{\"outlinewidth\":0,\"ticks\":\"\"}},\"marker\":{\"colorbar\":{\"outlinewidth\":0,\"ticks\":\"\"}},\"type\":\"scatter3d\"}],\"scattercarpet\":[{\"marker\":{\"colorbar\":{\"outlinewidth\":0,\"ticks\":\"\"}},\"type\":\"scattercarpet\"}],\"scattergeo\":[{\"marker\":{\"colorbar\":{\"outlinewidth\":0,\"ticks\":\"\"}},\"type\":\"scattergeo\"}],\"scattergl\":[{\"marker\":{\"colorbar\":{\"outlinewidth\":0,\"ticks\":\"\"}},\"type\":\"scattergl\"}],\"scattermapbox\":[{\"marker\":{\"colorbar\":{\"outlinewidth\":0,\"ticks\":\"\"}},\"type\":\"scattermapbox\"}],\"scatterpolar\":[{\"marker\":{\"colorbar\":{\"outlinewidth\":0,\"ticks\":\"\"}},\"type\":\"scatterpolar\"}],\"scatterpolargl\":[{\"marker\":{\"colorbar\":{\"outlinewidth\":0,\"ticks\":\"\"}},\"type\":\"scatterpolargl\"}],\"scatterternary\":[{\"marker\":{\"colorbar\":{\"outlinewidth\":0,\"ticks\":\"\"}},\"type\":\"scatterternary\"}],\"surface\":[{\"colorbar\":{\"outlinewidth\":0,\"ticks\":\"\"},\"colorscale\":[[0.0,\"#0d0887\"],[0.1111111111111111,\"#46039f\"],[0.2222222222222222,\"#7201a8\"],[0.3333333333333333,\"#9c179e\"],[0.4444444444444444,\"#bd3786\"],[0.5555555555555556,\"#d8576b\"],[0.6666666666666666,\"#ed7953\"],[0.7777777777777778,\"#fb9f3a\"],[0.8888888888888888,\"#fdca26\"],[1.0,\"#f0f921\"]],\"type\":\"surface\"}],\"table\":[{\"cells\":{\"fill\":{\"color\":\"#EBF0F8\"},\"line\":{\"color\":\"white\"}},\"header\":{\"fill\":{\"color\":\"#C8D4E3\"},\"line\":{\"color\":\"white\"}},\"type\":\"table\"}]},\"layout\":{\"annotationdefaults\":{\"arrowcolor\":\"#2a3f5f\",\"arrowhead\":0,\"arrowwidth\":1},\"autotypenumbers\":\"strict\",\"coloraxis\":{\"colorbar\":{\"outlinewidth\":0,\"ticks\":\"\"}},\"colorscale\":{\"diverging\":[[0,\"#8e0152\"],[0.1,\"#c51b7d\"],[0.2,\"#de77ae\"],[0.3,\"#f1b6da\"],[0.4,\"#fde0ef\"],[0.5,\"#f7f7f7\"],[0.6,\"#e6f5d0\"],[0.7,\"#b8e186\"],[0.8,\"#7fbc41\"],[0.9,\"#4d9221\"],[1,\"#276419\"]],\"sequential\":[[0.0,\"#0d0887\"],[0.1111111111111111,\"#46039f\"],[0.2222222222222222,\"#7201a8\"],[0.3333333333333333,\"#9c179e\"],[0.4444444444444444,\"#bd3786\"],[0.5555555555555556,\"#d8576b\"],[0.6666666666666666,\"#ed7953\"],[0.7777777777777778,\"#fb9f3a\"],[0.8888888888888888,\"#fdca26\"],[1.0,\"#f0f921\"]],\"sequentialminus\":[[0.0,\"#0d0887\"],[0.1111111111111111,\"#46039f\"],[0.2222222222222222,\"#7201a8\"],[0.3333333333333333,\"#9c179e\"],[0.4444444444444444,\"#bd3786\"],[0.5555555555555556,\"#d8576b\"],[0.6666666666666666,\"#ed7953\"],[0.7777777777777778,\"#fb9f3a\"],[0.8888888888888888,\"#fdca26\"],[1.0,\"#f0f921\"]]},\"colorway\":[\"#636efa\",\"#EF553B\",\"#00cc96\",\"#ab63fa\",\"#FFA15A\",\"#19d3f3\",\"#FF6692\",\"#B6E880\",\"#FF97FF\",\"#FECB52\"],\"font\":{\"color\":\"#2a3f5f\"},\"geo\":{\"bgcolor\":\"white\",\"lakecolor\":\"white\",\"landcolor\":\"#E5ECF6\",\"showlakes\":true,\"showland\":true,\"subunitcolor\":\"white\"},\"hoverlabel\":{\"align\":\"left\"},\"hovermode\":\"closest\",\"mapbox\":{\"style\":\"light\"},\"paper_bgcolor\":\"white\",\"plot_bgcolor\":\"#E5ECF6\",\"polar\":{\"angularaxis\":{\"gridcolor\":\"white\",\"linecolor\":\"white\",\"ticks\":\"\"},\"bgcolor\":\"#E5ECF6\",\"radialaxis\":{\"gridcolor\":\"white\",\"linecolor\":\"white\",\"ticks\":\"\"}},\"scene\":{\"xaxis\":{\"backgroundcolor\":\"#E5ECF6\",\"gridcolor\":\"white\",\"gridwidth\":2,\"linecolor\":\"white\",\"showbackground\":true,\"ticks\":\"\",\"zerolinecolor\":\"white\"},\"yaxis\":{\"backgroundcolor\":\"#E5ECF6\",\"gridcolor\":\"white\",\"gridwidth\":2,\"linecolor\":\"white\",\"showbackground\":true,\"ticks\":\"\",\"zerolinecolor\":\"white\"},\"zaxis\":{\"backgroundcolor\":\"#E5ECF6\",\"gridcolor\":\"white\",\"gridwidth\":2,\"linecolor\":\"white\",\"showbackground\":true,\"ticks\":\"\",\"zerolinecolor\":\"white\"}},\"shapedefaults\":{\"line\":{\"color\":\"#2a3f5f\"}},\"ternary\":{\"aaxis\":{\"gridcolor\":\"white\",\"linecolor\":\"white\",\"ticks\":\"\"},\"baxis\":{\"gridcolor\":\"white\",\"linecolor\":\"white\",\"ticks\":\"\"},\"bgcolor\":\"#E5ECF6\",\"caxis\":{\"gridcolor\":\"white\",\"linecolor\":\"white\",\"ticks\":\"\"}},\"title\":{\"x\":0.05},\"xaxis\":{\"automargin\":true,\"gridcolor\":\"white\",\"linecolor\":\"white\",\"ticks\":\"\",\"title\":{\"standoff\":15},\"zerolinecolor\":\"white\",\"zerolinewidth\":2},\"yaxis\":{\"automargin\":true,\"gridcolor\":\"white\",\"linecolor\":\"white\",\"ticks\":\"\",\"title\":{\"standoff\":15},\"zerolinecolor\":\"white\",\"zerolinewidth\":2}}},\"title\":{\"font\":{\"size\":20},\"text\":\"Percentage Chance Of Admission By Letter Of Recommendation\",\"x\":0.5,\"xanchor\":\"center\",\"y\":0.88,\"yanchor\":\"top\"},\"xaxis\":{\"title\":{\"font\":{\"size\":16},\"text\":\"LOR\"}},\"yaxis\":{\"range\":[0,100],\"title\":{\"font\":{\"size\":16},\"text\":\"Percentage Chance Of Admission\"}}},                        {\"responsive\": true}                    ).then(function(){\n",
       "                            \n",
       "var gd = document.getElementById('eddcab30-5201-4f1f-b4d5-6acbc6a6c96a');\n",
       "var x = new MutationObserver(function (mutations, observer) {{\n",
       "        var display = window.getComputedStyle(gd).display;\n",
       "        if (!display || display === 'none') {{\n",
       "            console.log([gd, 'removed!']);\n",
       "            Plotly.purge(gd);\n",
       "            observer.disconnect();\n",
       "        }}\n",
       "}});\n",
       "\n",
       "// Listen for the removal of the full notebook cells\n",
       "var notebookContainer = gd.closest('#notebook-container');\n",
       "if (notebookContainer) {{\n",
       "    x.observe(notebookContainer, {childList: true});\n",
       "}}\n",
       "\n",
       "// Listen for the clearing of the current output cell\n",
       "var outputEl = gd.closest('.output');\n",
       "if (outputEl) {{\n",
       "    x.observe(outputEl, {childList: true});\n",
       "}}\n",
       "\n",
       "                        })                };                });            </script>        </div>"
      ]
     },
     "metadata": {},
     "output_type": "display_data"
    }
   ],
   "source": [
    "grp_LOR= data_col_chng.groupby(by=['LOR'])[\"Chance of Admit\"].mean().reset_index()\n",
    "grp_LOR['Chance of Admit'] = round(grp_LOR['Chance of Admit']*100, 2)\n",
    "grp_LOR.sort_values(by=['Chance of Admit'], inplace = True)\n",
    "\n",
    "data = [go.Bar(x = grp_LOR['LOR'], \n",
    "               y = grp_LOR['Chance of Admit'], \n",
    "               text = grp_LOR['Chance of Admit'],\n",
    "               textposition = 'inside',\n",
    "               marker = dict(line = {'color': 'black', 'width': 0.5}))]\n",
    "\n",
    "layout = go.Layout(title = dict(text = 'Percentage Chance Of Admission By Letter Of Recommendation', \n",
    "                                font = {'size': 20},\n",
    "                                x = 0.5, \n",
    "                                y = 0.88, \n",
    "                                xanchor = 'center', \n",
    "                                yanchor = 'top'), \n",
    "                   xaxis = dict(title = 'LOR', \n",
    "                                titlefont = {'size': 16}), \n",
    "                   yaxis = dict(title = 'Percentage Chance Of Admission', \n",
    "                                titlefont = {'size': 16}, \n",
    "                                range = [0, 100]))\n",
    "\n",
    "fig = go.Figure(data = data, \n",
    "                layout = layout)\n",
    "\n",
    "iplot(fig)\n"
   ]
  },
  {
   "cell_type": "code",
   "execution_count": 12,
   "id": "ef1aed15",
   "metadata": {},
   "outputs": [
    {
     "data": {
      "application/vnd.plotly.v1+json": {
       "config": {
        "linkText": "Export to plot.ly",
        "plotlyServerURL": "https://plot.ly",
        "showLink": false
       },
       "data": [
        {
         "marker": {
          "line": {
           "color": "black",
           "width": 0.5
          }
         },
         "text": [
          "52.15",
          "53.83",
          "60.27",
          "65.13",
          "68.36",
          "71.36",
          "77.8",
          "84.4",
          "88.35"
         ],
         "textposition": "inside",
         "type": "bar",
         "x": [
          1.5,
          1,
          2,
          2.5,
          3,
          3.5,
          4,
          4.5,
          5
         ],
         "y": [
          52.15,
          53.83,
          60.27,
          65.13,
          68.36,
          71.36,
          77.8,
          84.4,
          88.35
         ]
        }
       ],
       "layout": {
        "template": {
         "data": {
          "bar": [
           {
            "error_x": {
             "color": "#2a3f5f"
            },
            "error_y": {
             "color": "#2a3f5f"
            },
            "marker": {
             "line": {
              "color": "#E5ECF6",
              "width": 0.5
             },
             "pattern": {
              "fillmode": "overlay",
              "size": 10,
              "solidity": 0.2
             }
            },
            "type": "bar"
           }
          ],
          "barpolar": [
           {
            "marker": {
             "line": {
              "color": "#E5ECF6",
              "width": 0.5
             },
             "pattern": {
              "fillmode": "overlay",
              "size": 10,
              "solidity": 0.2
             }
            },
            "type": "barpolar"
           }
          ],
          "carpet": [
           {
            "aaxis": {
             "endlinecolor": "#2a3f5f",
             "gridcolor": "white",
             "linecolor": "white",
             "minorgridcolor": "white",
             "startlinecolor": "#2a3f5f"
            },
            "baxis": {
             "endlinecolor": "#2a3f5f",
             "gridcolor": "white",
             "linecolor": "white",
             "minorgridcolor": "white",
             "startlinecolor": "#2a3f5f"
            },
            "type": "carpet"
           }
          ],
          "choropleth": [
           {
            "colorbar": {
             "outlinewidth": 0,
             "ticks": ""
            },
            "type": "choropleth"
           }
          ],
          "contour": [
           {
            "colorbar": {
             "outlinewidth": 0,
             "ticks": ""
            },
            "colorscale": [
             [
              0,
              "#0d0887"
             ],
             [
              0.1111111111111111,
              "#46039f"
             ],
             [
              0.2222222222222222,
              "#7201a8"
             ],
             [
              0.3333333333333333,
              "#9c179e"
             ],
             [
              0.4444444444444444,
              "#bd3786"
             ],
             [
              0.5555555555555556,
              "#d8576b"
             ],
             [
              0.6666666666666666,
              "#ed7953"
             ],
             [
              0.7777777777777778,
              "#fb9f3a"
             ],
             [
              0.8888888888888888,
              "#fdca26"
             ],
             [
              1,
              "#f0f921"
             ]
            ],
            "type": "contour"
           }
          ],
          "contourcarpet": [
           {
            "colorbar": {
             "outlinewidth": 0,
             "ticks": ""
            },
            "type": "contourcarpet"
           }
          ],
          "heatmap": [
           {
            "colorbar": {
             "outlinewidth": 0,
             "ticks": ""
            },
            "colorscale": [
             [
              0,
              "#0d0887"
             ],
             [
              0.1111111111111111,
              "#46039f"
             ],
             [
              0.2222222222222222,
              "#7201a8"
             ],
             [
              0.3333333333333333,
              "#9c179e"
             ],
             [
              0.4444444444444444,
              "#bd3786"
             ],
             [
              0.5555555555555556,
              "#d8576b"
             ],
             [
              0.6666666666666666,
              "#ed7953"
             ],
             [
              0.7777777777777778,
              "#fb9f3a"
             ],
             [
              0.8888888888888888,
              "#fdca26"
             ],
             [
              1,
              "#f0f921"
             ]
            ],
            "type": "heatmap"
           }
          ],
          "heatmapgl": [
           {
            "colorbar": {
             "outlinewidth": 0,
             "ticks": ""
            },
            "colorscale": [
             [
              0,
              "#0d0887"
             ],
             [
              0.1111111111111111,
              "#46039f"
             ],
             [
              0.2222222222222222,
              "#7201a8"
             ],
             [
              0.3333333333333333,
              "#9c179e"
             ],
             [
              0.4444444444444444,
              "#bd3786"
             ],
             [
              0.5555555555555556,
              "#d8576b"
             ],
             [
              0.6666666666666666,
              "#ed7953"
             ],
             [
              0.7777777777777778,
              "#fb9f3a"
             ],
             [
              0.8888888888888888,
              "#fdca26"
             ],
             [
              1,
              "#f0f921"
             ]
            ],
            "type": "heatmapgl"
           }
          ],
          "histogram": [
           {
            "marker": {
             "pattern": {
              "fillmode": "overlay",
              "size": 10,
              "solidity": 0.2
             }
            },
            "type": "histogram"
           }
          ],
          "histogram2d": [
           {
            "colorbar": {
             "outlinewidth": 0,
             "ticks": ""
            },
            "colorscale": [
             [
              0,
              "#0d0887"
             ],
             [
              0.1111111111111111,
              "#46039f"
             ],
             [
              0.2222222222222222,
              "#7201a8"
             ],
             [
              0.3333333333333333,
              "#9c179e"
             ],
             [
              0.4444444444444444,
              "#bd3786"
             ],
             [
              0.5555555555555556,
              "#d8576b"
             ],
             [
              0.6666666666666666,
              "#ed7953"
             ],
             [
              0.7777777777777778,
              "#fb9f3a"
             ],
             [
              0.8888888888888888,
              "#fdca26"
             ],
             [
              1,
              "#f0f921"
             ]
            ],
            "type": "histogram2d"
           }
          ],
          "histogram2dcontour": [
           {
            "colorbar": {
             "outlinewidth": 0,
             "ticks": ""
            },
            "colorscale": [
             [
              0,
              "#0d0887"
             ],
             [
              0.1111111111111111,
              "#46039f"
             ],
             [
              0.2222222222222222,
              "#7201a8"
             ],
             [
              0.3333333333333333,
              "#9c179e"
             ],
             [
              0.4444444444444444,
              "#bd3786"
             ],
             [
              0.5555555555555556,
              "#d8576b"
             ],
             [
              0.6666666666666666,
              "#ed7953"
             ],
             [
              0.7777777777777778,
              "#fb9f3a"
             ],
             [
              0.8888888888888888,
              "#fdca26"
             ],
             [
              1,
              "#f0f921"
             ]
            ],
            "type": "histogram2dcontour"
           }
          ],
          "mesh3d": [
           {
            "colorbar": {
             "outlinewidth": 0,
             "ticks": ""
            },
            "type": "mesh3d"
           }
          ],
          "parcoords": [
           {
            "line": {
             "colorbar": {
              "outlinewidth": 0,
              "ticks": ""
             }
            },
            "type": "parcoords"
           }
          ],
          "pie": [
           {
            "automargin": true,
            "type": "pie"
           }
          ],
          "scatter": [
           {
            "marker": {
             "colorbar": {
              "outlinewidth": 0,
              "ticks": ""
             }
            },
            "type": "scatter"
           }
          ],
          "scatter3d": [
           {
            "line": {
             "colorbar": {
              "outlinewidth": 0,
              "ticks": ""
             }
            },
            "marker": {
             "colorbar": {
              "outlinewidth": 0,
              "ticks": ""
             }
            },
            "type": "scatter3d"
           }
          ],
          "scattercarpet": [
           {
            "marker": {
             "colorbar": {
              "outlinewidth": 0,
              "ticks": ""
             }
            },
            "type": "scattercarpet"
           }
          ],
          "scattergeo": [
           {
            "marker": {
             "colorbar": {
              "outlinewidth": 0,
              "ticks": ""
             }
            },
            "type": "scattergeo"
           }
          ],
          "scattergl": [
           {
            "marker": {
             "colorbar": {
              "outlinewidth": 0,
              "ticks": ""
             }
            },
            "type": "scattergl"
           }
          ],
          "scattermapbox": [
           {
            "marker": {
             "colorbar": {
              "outlinewidth": 0,
              "ticks": ""
             }
            },
            "type": "scattermapbox"
           }
          ],
          "scatterpolar": [
           {
            "marker": {
             "colorbar": {
              "outlinewidth": 0,
              "ticks": ""
             }
            },
            "type": "scatterpolar"
           }
          ],
          "scatterpolargl": [
           {
            "marker": {
             "colorbar": {
              "outlinewidth": 0,
              "ticks": ""
             }
            },
            "type": "scatterpolargl"
           }
          ],
          "scatterternary": [
           {
            "marker": {
             "colorbar": {
              "outlinewidth": 0,
              "ticks": ""
             }
            },
            "type": "scatterternary"
           }
          ],
          "surface": [
           {
            "colorbar": {
             "outlinewidth": 0,
             "ticks": ""
            },
            "colorscale": [
             [
              0,
              "#0d0887"
             ],
             [
              0.1111111111111111,
              "#46039f"
             ],
             [
              0.2222222222222222,
              "#7201a8"
             ],
             [
              0.3333333333333333,
              "#9c179e"
             ],
             [
              0.4444444444444444,
              "#bd3786"
             ],
             [
              0.5555555555555556,
              "#d8576b"
             ],
             [
              0.6666666666666666,
              "#ed7953"
             ],
             [
              0.7777777777777778,
              "#fb9f3a"
             ],
             [
              0.8888888888888888,
              "#fdca26"
             ],
             [
              1,
              "#f0f921"
             ]
            ],
            "type": "surface"
           }
          ],
          "table": [
           {
            "cells": {
             "fill": {
              "color": "#EBF0F8"
             },
             "line": {
              "color": "white"
             }
            },
            "header": {
             "fill": {
              "color": "#C8D4E3"
             },
             "line": {
              "color": "white"
             }
            },
            "type": "table"
           }
          ]
         },
         "layout": {
          "annotationdefaults": {
           "arrowcolor": "#2a3f5f",
           "arrowhead": 0,
           "arrowwidth": 1
          },
          "autotypenumbers": "strict",
          "coloraxis": {
           "colorbar": {
            "outlinewidth": 0,
            "ticks": ""
           }
          },
          "colorscale": {
           "diverging": [
            [
             0,
             "#8e0152"
            ],
            [
             0.1,
             "#c51b7d"
            ],
            [
             0.2,
             "#de77ae"
            ],
            [
             0.3,
             "#f1b6da"
            ],
            [
             0.4,
             "#fde0ef"
            ],
            [
             0.5,
             "#f7f7f7"
            ],
            [
             0.6,
             "#e6f5d0"
            ],
            [
             0.7,
             "#b8e186"
            ],
            [
             0.8,
             "#7fbc41"
            ],
            [
             0.9,
             "#4d9221"
            ],
            [
             1,
             "#276419"
            ]
           ],
           "sequential": [
            [
             0,
             "#0d0887"
            ],
            [
             0.1111111111111111,
             "#46039f"
            ],
            [
             0.2222222222222222,
             "#7201a8"
            ],
            [
             0.3333333333333333,
             "#9c179e"
            ],
            [
             0.4444444444444444,
             "#bd3786"
            ],
            [
             0.5555555555555556,
             "#d8576b"
            ],
            [
             0.6666666666666666,
             "#ed7953"
            ],
            [
             0.7777777777777778,
             "#fb9f3a"
            ],
            [
             0.8888888888888888,
             "#fdca26"
            ],
            [
             1,
             "#f0f921"
            ]
           ],
           "sequentialminus": [
            [
             0,
             "#0d0887"
            ],
            [
             0.1111111111111111,
             "#46039f"
            ],
            [
             0.2222222222222222,
             "#7201a8"
            ],
            [
             0.3333333333333333,
             "#9c179e"
            ],
            [
             0.4444444444444444,
             "#bd3786"
            ],
            [
             0.5555555555555556,
             "#d8576b"
            ],
            [
             0.6666666666666666,
             "#ed7953"
            ],
            [
             0.7777777777777778,
             "#fb9f3a"
            ],
            [
             0.8888888888888888,
             "#fdca26"
            ],
            [
             1,
             "#f0f921"
            ]
           ]
          },
          "colorway": [
           "#636efa",
           "#EF553B",
           "#00cc96",
           "#ab63fa",
           "#FFA15A",
           "#19d3f3",
           "#FF6692",
           "#B6E880",
           "#FF97FF",
           "#FECB52"
          ],
          "font": {
           "color": "#2a3f5f"
          },
          "geo": {
           "bgcolor": "white",
           "lakecolor": "white",
           "landcolor": "#E5ECF6",
           "showlakes": true,
           "showland": true,
           "subunitcolor": "white"
          },
          "hoverlabel": {
           "align": "left"
          },
          "hovermode": "closest",
          "mapbox": {
           "style": "light"
          },
          "paper_bgcolor": "white",
          "plot_bgcolor": "#E5ECF6",
          "polar": {
           "angularaxis": {
            "gridcolor": "white",
            "linecolor": "white",
            "ticks": ""
           },
           "bgcolor": "#E5ECF6",
           "radialaxis": {
            "gridcolor": "white",
            "linecolor": "white",
            "ticks": ""
           }
          },
          "scene": {
           "xaxis": {
            "backgroundcolor": "#E5ECF6",
            "gridcolor": "white",
            "gridwidth": 2,
            "linecolor": "white",
            "showbackground": true,
            "ticks": "",
            "zerolinecolor": "white"
           },
           "yaxis": {
            "backgroundcolor": "#E5ECF6",
            "gridcolor": "white",
            "gridwidth": 2,
            "linecolor": "white",
            "showbackground": true,
            "ticks": "",
            "zerolinecolor": "white"
           },
           "zaxis": {
            "backgroundcolor": "#E5ECF6",
            "gridcolor": "white",
            "gridwidth": 2,
            "linecolor": "white",
            "showbackground": true,
            "ticks": "",
            "zerolinecolor": "white"
           }
          },
          "shapedefaults": {
           "line": {
            "color": "#2a3f5f"
           }
          },
          "ternary": {
           "aaxis": {
            "gridcolor": "white",
            "linecolor": "white",
            "ticks": ""
           },
           "baxis": {
            "gridcolor": "white",
            "linecolor": "white",
            "ticks": ""
           },
           "bgcolor": "#E5ECF6",
           "caxis": {
            "gridcolor": "white",
            "linecolor": "white",
            "ticks": ""
           }
          },
          "title": {
           "x": 0.05
          },
          "xaxis": {
           "automargin": true,
           "gridcolor": "white",
           "linecolor": "white",
           "ticks": "",
           "title": {
            "standoff": 15
           },
           "zerolinecolor": "white",
           "zerolinewidth": 2
          },
          "yaxis": {
           "automargin": true,
           "gridcolor": "white",
           "linecolor": "white",
           "ticks": "",
           "title": {
            "standoff": 15
           },
           "zerolinecolor": "white",
           "zerolinewidth": 2
          }
         }
        },
        "title": {
         "font": {
          "size": 20
         },
         "text": "Percentage Chance Of Admission By SOP",
         "x": 0.5,
         "xanchor": "center",
         "y": 0.88,
         "yanchor": "top"
        },
        "xaxis": {
         "title": {
          "font": {
           "size": 16
          },
          "text": "SOP"
         }
        },
        "yaxis": {
         "range": [
          0,
          100
         ],
         "title": {
          "font": {
           "size": 16
          },
          "text": "Percentage Chance Of Admission"
         }
        }
       }
      },
      "text/html": [
       "<div>                            <div id=\"43cd2be1-f6e4-4584-b32b-7981ebbfc69e\" class=\"plotly-graph-div\" style=\"height:525px; width:100%;\"></div>            <script type=\"text/javascript\">                require([\"plotly\"], function(Plotly) {                    window.PLOTLYENV=window.PLOTLYENV || {};                                    if (document.getElementById(\"43cd2be1-f6e4-4584-b32b-7981ebbfc69e\")) {                    Plotly.newPlot(                        \"43cd2be1-f6e4-4584-b32b-7981ebbfc69e\",                        [{\"marker\":{\"line\":{\"color\":\"black\",\"width\":0.5}},\"text\":[\"52.15\",\"53.83\",\"60.27\",\"65.13\",\"68.36\",\"71.36\",\"77.8\",\"84.4\",\"88.35\"],\"textposition\":\"inside\",\"type\":\"bar\",\"x\":[1.5,1.0,2.0,2.5,3.0,3.5,4.0,4.5,5.0],\"y\":[52.15,53.83,60.27,65.13,68.36,71.36,77.8,84.4,88.35]}],                        {\"template\":{\"data\":{\"bar\":[{\"error_x\":{\"color\":\"#2a3f5f\"},\"error_y\":{\"color\":\"#2a3f5f\"},\"marker\":{\"line\":{\"color\":\"#E5ECF6\",\"width\":0.5},\"pattern\":{\"fillmode\":\"overlay\",\"size\":10,\"solidity\":0.2}},\"type\":\"bar\"}],\"barpolar\":[{\"marker\":{\"line\":{\"color\":\"#E5ECF6\",\"width\":0.5},\"pattern\":{\"fillmode\":\"overlay\",\"size\":10,\"solidity\":0.2}},\"type\":\"barpolar\"}],\"carpet\":[{\"aaxis\":{\"endlinecolor\":\"#2a3f5f\",\"gridcolor\":\"white\",\"linecolor\":\"white\",\"minorgridcolor\":\"white\",\"startlinecolor\":\"#2a3f5f\"},\"baxis\":{\"endlinecolor\":\"#2a3f5f\",\"gridcolor\":\"white\",\"linecolor\":\"white\",\"minorgridcolor\":\"white\",\"startlinecolor\":\"#2a3f5f\"},\"type\":\"carpet\"}],\"choropleth\":[{\"colorbar\":{\"outlinewidth\":0,\"ticks\":\"\"},\"type\":\"choropleth\"}],\"contour\":[{\"colorbar\":{\"outlinewidth\":0,\"ticks\":\"\"},\"colorscale\":[[0.0,\"#0d0887\"],[0.1111111111111111,\"#46039f\"],[0.2222222222222222,\"#7201a8\"],[0.3333333333333333,\"#9c179e\"],[0.4444444444444444,\"#bd3786\"],[0.5555555555555556,\"#d8576b\"],[0.6666666666666666,\"#ed7953\"],[0.7777777777777778,\"#fb9f3a\"],[0.8888888888888888,\"#fdca26\"],[1.0,\"#f0f921\"]],\"type\":\"contour\"}],\"contourcarpet\":[{\"colorbar\":{\"outlinewidth\":0,\"ticks\":\"\"},\"type\":\"contourcarpet\"}],\"heatmap\":[{\"colorbar\":{\"outlinewidth\":0,\"ticks\":\"\"},\"colorscale\":[[0.0,\"#0d0887\"],[0.1111111111111111,\"#46039f\"],[0.2222222222222222,\"#7201a8\"],[0.3333333333333333,\"#9c179e\"],[0.4444444444444444,\"#bd3786\"],[0.5555555555555556,\"#d8576b\"],[0.6666666666666666,\"#ed7953\"],[0.7777777777777778,\"#fb9f3a\"],[0.8888888888888888,\"#fdca26\"],[1.0,\"#f0f921\"]],\"type\":\"heatmap\"}],\"heatmapgl\":[{\"colorbar\":{\"outlinewidth\":0,\"ticks\":\"\"},\"colorscale\":[[0.0,\"#0d0887\"],[0.1111111111111111,\"#46039f\"],[0.2222222222222222,\"#7201a8\"],[0.3333333333333333,\"#9c179e\"],[0.4444444444444444,\"#bd3786\"],[0.5555555555555556,\"#d8576b\"],[0.6666666666666666,\"#ed7953\"],[0.7777777777777778,\"#fb9f3a\"],[0.8888888888888888,\"#fdca26\"],[1.0,\"#f0f921\"]],\"type\":\"heatmapgl\"}],\"histogram\":[{\"marker\":{\"pattern\":{\"fillmode\":\"overlay\",\"size\":10,\"solidity\":0.2}},\"type\":\"histogram\"}],\"histogram2d\":[{\"colorbar\":{\"outlinewidth\":0,\"ticks\":\"\"},\"colorscale\":[[0.0,\"#0d0887\"],[0.1111111111111111,\"#46039f\"],[0.2222222222222222,\"#7201a8\"],[0.3333333333333333,\"#9c179e\"],[0.4444444444444444,\"#bd3786\"],[0.5555555555555556,\"#d8576b\"],[0.6666666666666666,\"#ed7953\"],[0.7777777777777778,\"#fb9f3a\"],[0.8888888888888888,\"#fdca26\"],[1.0,\"#f0f921\"]],\"type\":\"histogram2d\"}],\"histogram2dcontour\":[{\"colorbar\":{\"outlinewidth\":0,\"ticks\":\"\"},\"colorscale\":[[0.0,\"#0d0887\"],[0.1111111111111111,\"#46039f\"],[0.2222222222222222,\"#7201a8\"],[0.3333333333333333,\"#9c179e\"],[0.4444444444444444,\"#bd3786\"],[0.5555555555555556,\"#d8576b\"],[0.6666666666666666,\"#ed7953\"],[0.7777777777777778,\"#fb9f3a\"],[0.8888888888888888,\"#fdca26\"],[1.0,\"#f0f921\"]],\"type\":\"histogram2dcontour\"}],\"mesh3d\":[{\"colorbar\":{\"outlinewidth\":0,\"ticks\":\"\"},\"type\":\"mesh3d\"}],\"parcoords\":[{\"line\":{\"colorbar\":{\"outlinewidth\":0,\"ticks\":\"\"}},\"type\":\"parcoords\"}],\"pie\":[{\"automargin\":true,\"type\":\"pie\"}],\"scatter\":[{\"marker\":{\"colorbar\":{\"outlinewidth\":0,\"ticks\":\"\"}},\"type\":\"scatter\"}],\"scatter3d\":[{\"line\":{\"colorbar\":{\"outlinewidth\":0,\"ticks\":\"\"}},\"marker\":{\"colorbar\":{\"outlinewidth\":0,\"ticks\":\"\"}},\"type\":\"scatter3d\"}],\"scattercarpet\":[{\"marker\":{\"colorbar\":{\"outlinewidth\":0,\"ticks\":\"\"}},\"type\":\"scattercarpet\"}],\"scattergeo\":[{\"marker\":{\"colorbar\":{\"outlinewidth\":0,\"ticks\":\"\"}},\"type\":\"scattergeo\"}],\"scattergl\":[{\"marker\":{\"colorbar\":{\"outlinewidth\":0,\"ticks\":\"\"}},\"type\":\"scattergl\"}],\"scattermapbox\":[{\"marker\":{\"colorbar\":{\"outlinewidth\":0,\"ticks\":\"\"}},\"type\":\"scattermapbox\"}],\"scatterpolar\":[{\"marker\":{\"colorbar\":{\"outlinewidth\":0,\"ticks\":\"\"}},\"type\":\"scatterpolar\"}],\"scatterpolargl\":[{\"marker\":{\"colorbar\":{\"outlinewidth\":0,\"ticks\":\"\"}},\"type\":\"scatterpolargl\"}],\"scatterternary\":[{\"marker\":{\"colorbar\":{\"outlinewidth\":0,\"ticks\":\"\"}},\"type\":\"scatterternary\"}],\"surface\":[{\"colorbar\":{\"outlinewidth\":0,\"ticks\":\"\"},\"colorscale\":[[0.0,\"#0d0887\"],[0.1111111111111111,\"#46039f\"],[0.2222222222222222,\"#7201a8\"],[0.3333333333333333,\"#9c179e\"],[0.4444444444444444,\"#bd3786\"],[0.5555555555555556,\"#d8576b\"],[0.6666666666666666,\"#ed7953\"],[0.7777777777777778,\"#fb9f3a\"],[0.8888888888888888,\"#fdca26\"],[1.0,\"#f0f921\"]],\"type\":\"surface\"}],\"table\":[{\"cells\":{\"fill\":{\"color\":\"#EBF0F8\"},\"line\":{\"color\":\"white\"}},\"header\":{\"fill\":{\"color\":\"#C8D4E3\"},\"line\":{\"color\":\"white\"}},\"type\":\"table\"}]},\"layout\":{\"annotationdefaults\":{\"arrowcolor\":\"#2a3f5f\",\"arrowhead\":0,\"arrowwidth\":1},\"autotypenumbers\":\"strict\",\"coloraxis\":{\"colorbar\":{\"outlinewidth\":0,\"ticks\":\"\"}},\"colorscale\":{\"diverging\":[[0,\"#8e0152\"],[0.1,\"#c51b7d\"],[0.2,\"#de77ae\"],[0.3,\"#f1b6da\"],[0.4,\"#fde0ef\"],[0.5,\"#f7f7f7\"],[0.6,\"#e6f5d0\"],[0.7,\"#b8e186\"],[0.8,\"#7fbc41\"],[0.9,\"#4d9221\"],[1,\"#276419\"]],\"sequential\":[[0.0,\"#0d0887\"],[0.1111111111111111,\"#46039f\"],[0.2222222222222222,\"#7201a8\"],[0.3333333333333333,\"#9c179e\"],[0.4444444444444444,\"#bd3786\"],[0.5555555555555556,\"#d8576b\"],[0.6666666666666666,\"#ed7953\"],[0.7777777777777778,\"#fb9f3a\"],[0.8888888888888888,\"#fdca26\"],[1.0,\"#f0f921\"]],\"sequentialminus\":[[0.0,\"#0d0887\"],[0.1111111111111111,\"#46039f\"],[0.2222222222222222,\"#7201a8\"],[0.3333333333333333,\"#9c179e\"],[0.4444444444444444,\"#bd3786\"],[0.5555555555555556,\"#d8576b\"],[0.6666666666666666,\"#ed7953\"],[0.7777777777777778,\"#fb9f3a\"],[0.8888888888888888,\"#fdca26\"],[1.0,\"#f0f921\"]]},\"colorway\":[\"#636efa\",\"#EF553B\",\"#00cc96\",\"#ab63fa\",\"#FFA15A\",\"#19d3f3\",\"#FF6692\",\"#B6E880\",\"#FF97FF\",\"#FECB52\"],\"font\":{\"color\":\"#2a3f5f\"},\"geo\":{\"bgcolor\":\"white\",\"lakecolor\":\"white\",\"landcolor\":\"#E5ECF6\",\"showlakes\":true,\"showland\":true,\"subunitcolor\":\"white\"},\"hoverlabel\":{\"align\":\"left\"},\"hovermode\":\"closest\",\"mapbox\":{\"style\":\"light\"},\"paper_bgcolor\":\"white\",\"plot_bgcolor\":\"#E5ECF6\",\"polar\":{\"angularaxis\":{\"gridcolor\":\"white\",\"linecolor\":\"white\",\"ticks\":\"\"},\"bgcolor\":\"#E5ECF6\",\"radialaxis\":{\"gridcolor\":\"white\",\"linecolor\":\"white\",\"ticks\":\"\"}},\"scene\":{\"xaxis\":{\"backgroundcolor\":\"#E5ECF6\",\"gridcolor\":\"white\",\"gridwidth\":2,\"linecolor\":\"white\",\"showbackground\":true,\"ticks\":\"\",\"zerolinecolor\":\"white\"},\"yaxis\":{\"backgroundcolor\":\"#E5ECF6\",\"gridcolor\":\"white\",\"gridwidth\":2,\"linecolor\":\"white\",\"showbackground\":true,\"ticks\":\"\",\"zerolinecolor\":\"white\"},\"zaxis\":{\"backgroundcolor\":\"#E5ECF6\",\"gridcolor\":\"white\",\"gridwidth\":2,\"linecolor\":\"white\",\"showbackground\":true,\"ticks\":\"\",\"zerolinecolor\":\"white\"}},\"shapedefaults\":{\"line\":{\"color\":\"#2a3f5f\"}},\"ternary\":{\"aaxis\":{\"gridcolor\":\"white\",\"linecolor\":\"white\",\"ticks\":\"\"},\"baxis\":{\"gridcolor\":\"white\",\"linecolor\":\"white\",\"ticks\":\"\"},\"bgcolor\":\"#E5ECF6\",\"caxis\":{\"gridcolor\":\"white\",\"linecolor\":\"white\",\"ticks\":\"\"}},\"title\":{\"x\":0.05},\"xaxis\":{\"automargin\":true,\"gridcolor\":\"white\",\"linecolor\":\"white\",\"ticks\":\"\",\"title\":{\"standoff\":15},\"zerolinecolor\":\"white\",\"zerolinewidth\":2},\"yaxis\":{\"automargin\":true,\"gridcolor\":\"white\",\"linecolor\":\"white\",\"ticks\":\"\",\"title\":{\"standoff\":15},\"zerolinecolor\":\"white\",\"zerolinewidth\":2}}},\"title\":{\"font\":{\"size\":20},\"text\":\"Percentage Chance Of Admission By SOP\",\"x\":0.5,\"xanchor\":\"center\",\"y\":0.88,\"yanchor\":\"top\"},\"xaxis\":{\"title\":{\"font\":{\"size\":16},\"text\":\"SOP\"}},\"yaxis\":{\"range\":[0,100],\"title\":{\"font\":{\"size\":16},\"text\":\"Percentage Chance Of Admission\"}}},                        {\"responsive\": true}                    ).then(function(){\n",
       "                            \n",
       "var gd = document.getElementById('43cd2be1-f6e4-4584-b32b-7981ebbfc69e');\n",
       "var x = new MutationObserver(function (mutations, observer) {{\n",
       "        var display = window.getComputedStyle(gd).display;\n",
       "        if (!display || display === 'none') {{\n",
       "            console.log([gd, 'removed!']);\n",
       "            Plotly.purge(gd);\n",
       "            observer.disconnect();\n",
       "        }}\n",
       "}});\n",
       "\n",
       "// Listen for the removal of the full notebook cells\n",
       "var notebookContainer = gd.closest('#notebook-container');\n",
       "if (notebookContainer) {{\n",
       "    x.observe(notebookContainer, {childList: true});\n",
       "}}\n",
       "\n",
       "// Listen for the clearing of the current output cell\n",
       "var outputEl = gd.closest('.output');\n",
       "if (outputEl) {{\n",
       "    x.observe(outputEl, {childList: true});\n",
       "}}\n",
       "\n",
       "                        })                };                });            </script>        </div>"
      ]
     },
     "metadata": {},
     "output_type": "display_data"
    }
   ],
   "source": [
    "grp_SOP = data_col_chng.groupby(by=['SOP'])[\"Chance of Admit\"].mean().reset_index()\n",
    "grp_SOP['Chance of Admit'] = round(grp_SOP['Chance of Admit']*100, 2)\n",
    "grp_SOP.sort_values(by=['Chance of Admit'], inplace = True)\n",
    "\n",
    "data = [go.Bar(x = grp_SOP['SOP'], \n",
    "               y = grp_SOP['Chance of Admit'], \n",
    "               text = grp_SOP['Chance of Admit'],\n",
    "               textposition = 'inside',\n",
    "               marker = dict(line = {'color': 'black', 'width': 0.5}))]\n",
    "\n",
    "layout = go.Layout(title = dict(text = 'Percentage Chance Of Admission By SOP', \n",
    "                                font = {'size': 20},\n",
    "                                x = 0.5, \n",
    "                                y = 0.88, \n",
    "                                xanchor = 'center', \n",
    "                                yanchor = 'top'), \n",
    "                   xaxis = dict(title = 'SOP', \n",
    "                                titlefont = {'size': 16}), \n",
    "                   yaxis = dict(title = 'Percentage Chance Of Admission', \n",
    "                                titlefont = {'size': 16}, \n",
    "                                range = [0, 100]))\n",
    "\n",
    "fig = go.Figure(data = data, \n",
    "                layout = layout)\n",
    "\n",
    "iplot(fig)\n"
   ]
  },
  {
   "cell_type": "code",
   "execution_count": 13,
   "id": "95e80397",
   "metadata": {},
   "outputs": [
    {
     "data": {
      "application/vnd.plotly.v1+json": {
       "config": {
        "linkText": "Export to plot.ly",
        "plotlyServerURL": "https://plot.ly",
        "showLink": false
       },
       "data": [
        {
         "type": "pie",
         "values": [
          63.77,
          79.6
         ]
        }
       ],
       "layout": {
        "template": {
         "data": {
          "bar": [
           {
            "error_x": {
             "color": "#2a3f5f"
            },
            "error_y": {
             "color": "#2a3f5f"
            },
            "marker": {
             "line": {
              "color": "#E5ECF6",
              "width": 0.5
             },
             "pattern": {
              "fillmode": "overlay",
              "size": 10,
              "solidity": 0.2
             }
            },
            "type": "bar"
           }
          ],
          "barpolar": [
           {
            "marker": {
             "line": {
              "color": "#E5ECF6",
              "width": 0.5
             },
             "pattern": {
              "fillmode": "overlay",
              "size": 10,
              "solidity": 0.2
             }
            },
            "type": "barpolar"
           }
          ],
          "carpet": [
           {
            "aaxis": {
             "endlinecolor": "#2a3f5f",
             "gridcolor": "white",
             "linecolor": "white",
             "minorgridcolor": "white",
             "startlinecolor": "#2a3f5f"
            },
            "baxis": {
             "endlinecolor": "#2a3f5f",
             "gridcolor": "white",
             "linecolor": "white",
             "minorgridcolor": "white",
             "startlinecolor": "#2a3f5f"
            },
            "type": "carpet"
           }
          ],
          "choropleth": [
           {
            "colorbar": {
             "outlinewidth": 0,
             "ticks": ""
            },
            "type": "choropleth"
           }
          ],
          "contour": [
           {
            "colorbar": {
             "outlinewidth": 0,
             "ticks": ""
            },
            "colorscale": [
             [
              0,
              "#0d0887"
             ],
             [
              0.1111111111111111,
              "#46039f"
             ],
             [
              0.2222222222222222,
              "#7201a8"
             ],
             [
              0.3333333333333333,
              "#9c179e"
             ],
             [
              0.4444444444444444,
              "#bd3786"
             ],
             [
              0.5555555555555556,
              "#d8576b"
             ],
             [
              0.6666666666666666,
              "#ed7953"
             ],
             [
              0.7777777777777778,
              "#fb9f3a"
             ],
             [
              0.8888888888888888,
              "#fdca26"
             ],
             [
              1,
              "#f0f921"
             ]
            ],
            "type": "contour"
           }
          ],
          "contourcarpet": [
           {
            "colorbar": {
             "outlinewidth": 0,
             "ticks": ""
            },
            "type": "contourcarpet"
           }
          ],
          "heatmap": [
           {
            "colorbar": {
             "outlinewidth": 0,
             "ticks": ""
            },
            "colorscale": [
             [
              0,
              "#0d0887"
             ],
             [
              0.1111111111111111,
              "#46039f"
             ],
             [
              0.2222222222222222,
              "#7201a8"
             ],
             [
              0.3333333333333333,
              "#9c179e"
             ],
             [
              0.4444444444444444,
              "#bd3786"
             ],
             [
              0.5555555555555556,
              "#d8576b"
             ],
             [
              0.6666666666666666,
              "#ed7953"
             ],
             [
              0.7777777777777778,
              "#fb9f3a"
             ],
             [
              0.8888888888888888,
              "#fdca26"
             ],
             [
              1,
              "#f0f921"
             ]
            ],
            "type": "heatmap"
           }
          ],
          "heatmapgl": [
           {
            "colorbar": {
             "outlinewidth": 0,
             "ticks": ""
            },
            "colorscale": [
             [
              0,
              "#0d0887"
             ],
             [
              0.1111111111111111,
              "#46039f"
             ],
             [
              0.2222222222222222,
              "#7201a8"
             ],
             [
              0.3333333333333333,
              "#9c179e"
             ],
             [
              0.4444444444444444,
              "#bd3786"
             ],
             [
              0.5555555555555556,
              "#d8576b"
             ],
             [
              0.6666666666666666,
              "#ed7953"
             ],
             [
              0.7777777777777778,
              "#fb9f3a"
             ],
             [
              0.8888888888888888,
              "#fdca26"
             ],
             [
              1,
              "#f0f921"
             ]
            ],
            "type": "heatmapgl"
           }
          ],
          "histogram": [
           {
            "marker": {
             "pattern": {
              "fillmode": "overlay",
              "size": 10,
              "solidity": 0.2
             }
            },
            "type": "histogram"
           }
          ],
          "histogram2d": [
           {
            "colorbar": {
             "outlinewidth": 0,
             "ticks": ""
            },
            "colorscale": [
             [
              0,
              "#0d0887"
             ],
             [
              0.1111111111111111,
              "#46039f"
             ],
             [
              0.2222222222222222,
              "#7201a8"
             ],
             [
              0.3333333333333333,
              "#9c179e"
             ],
             [
              0.4444444444444444,
              "#bd3786"
             ],
             [
              0.5555555555555556,
              "#d8576b"
             ],
             [
              0.6666666666666666,
              "#ed7953"
             ],
             [
              0.7777777777777778,
              "#fb9f3a"
             ],
             [
              0.8888888888888888,
              "#fdca26"
             ],
             [
              1,
              "#f0f921"
             ]
            ],
            "type": "histogram2d"
           }
          ],
          "histogram2dcontour": [
           {
            "colorbar": {
             "outlinewidth": 0,
             "ticks": ""
            },
            "colorscale": [
             [
              0,
              "#0d0887"
             ],
             [
              0.1111111111111111,
              "#46039f"
             ],
             [
              0.2222222222222222,
              "#7201a8"
             ],
             [
              0.3333333333333333,
              "#9c179e"
             ],
             [
              0.4444444444444444,
              "#bd3786"
             ],
             [
              0.5555555555555556,
              "#d8576b"
             ],
             [
              0.6666666666666666,
              "#ed7953"
             ],
             [
              0.7777777777777778,
              "#fb9f3a"
             ],
             [
              0.8888888888888888,
              "#fdca26"
             ],
             [
              1,
              "#f0f921"
             ]
            ],
            "type": "histogram2dcontour"
           }
          ],
          "mesh3d": [
           {
            "colorbar": {
             "outlinewidth": 0,
             "ticks": ""
            },
            "type": "mesh3d"
           }
          ],
          "parcoords": [
           {
            "line": {
             "colorbar": {
              "outlinewidth": 0,
              "ticks": ""
             }
            },
            "type": "parcoords"
           }
          ],
          "pie": [
           {
            "automargin": true,
            "type": "pie"
           }
          ],
          "scatter": [
           {
            "marker": {
             "colorbar": {
              "outlinewidth": 0,
              "ticks": ""
             }
            },
            "type": "scatter"
           }
          ],
          "scatter3d": [
           {
            "line": {
             "colorbar": {
              "outlinewidth": 0,
              "ticks": ""
             }
            },
            "marker": {
             "colorbar": {
              "outlinewidth": 0,
              "ticks": ""
             }
            },
            "type": "scatter3d"
           }
          ],
          "scattercarpet": [
           {
            "marker": {
             "colorbar": {
              "outlinewidth": 0,
              "ticks": ""
             }
            },
            "type": "scattercarpet"
           }
          ],
          "scattergeo": [
           {
            "marker": {
             "colorbar": {
              "outlinewidth": 0,
              "ticks": ""
             }
            },
            "type": "scattergeo"
           }
          ],
          "scattergl": [
           {
            "marker": {
             "colorbar": {
              "outlinewidth": 0,
              "ticks": ""
             }
            },
            "type": "scattergl"
           }
          ],
          "scattermapbox": [
           {
            "marker": {
             "colorbar": {
              "outlinewidth": 0,
              "ticks": ""
             }
            },
            "type": "scattermapbox"
           }
          ],
          "scatterpolar": [
           {
            "marker": {
             "colorbar": {
              "outlinewidth": 0,
              "ticks": ""
             }
            },
            "type": "scatterpolar"
           }
          ],
          "scatterpolargl": [
           {
            "marker": {
             "colorbar": {
              "outlinewidth": 0,
              "ticks": ""
             }
            },
            "type": "scatterpolargl"
           }
          ],
          "scatterternary": [
           {
            "marker": {
             "colorbar": {
              "outlinewidth": 0,
              "ticks": ""
             }
            },
            "type": "scatterternary"
           }
          ],
          "surface": [
           {
            "colorbar": {
             "outlinewidth": 0,
             "ticks": ""
            },
            "colorscale": [
             [
              0,
              "#0d0887"
             ],
             [
              0.1111111111111111,
              "#46039f"
             ],
             [
              0.2222222222222222,
              "#7201a8"
             ],
             [
              0.3333333333333333,
              "#9c179e"
             ],
             [
              0.4444444444444444,
              "#bd3786"
             ],
             [
              0.5555555555555556,
              "#d8576b"
             ],
             [
              0.6666666666666666,
              "#ed7953"
             ],
             [
              0.7777777777777778,
              "#fb9f3a"
             ],
             [
              0.8888888888888888,
              "#fdca26"
             ],
             [
              1,
              "#f0f921"
             ]
            ],
            "type": "surface"
           }
          ],
          "table": [
           {
            "cells": {
             "fill": {
              "color": "#EBF0F8"
             },
             "line": {
              "color": "white"
             }
            },
            "header": {
             "fill": {
              "color": "#C8D4E3"
             },
             "line": {
              "color": "white"
             }
            },
            "type": "table"
           }
          ]
         },
         "layout": {
          "annotationdefaults": {
           "arrowcolor": "#2a3f5f",
           "arrowhead": 0,
           "arrowwidth": 1
          },
          "autotypenumbers": "strict",
          "coloraxis": {
           "colorbar": {
            "outlinewidth": 0,
            "ticks": ""
           }
          },
          "colorscale": {
           "diverging": [
            [
             0,
             "#8e0152"
            ],
            [
             0.1,
             "#c51b7d"
            ],
            [
             0.2,
             "#de77ae"
            ],
            [
             0.3,
             "#f1b6da"
            ],
            [
             0.4,
             "#fde0ef"
            ],
            [
             0.5,
             "#f7f7f7"
            ],
            [
             0.6,
             "#e6f5d0"
            ],
            [
             0.7,
             "#b8e186"
            ],
            [
             0.8,
             "#7fbc41"
            ],
            [
             0.9,
             "#4d9221"
            ],
            [
             1,
             "#276419"
            ]
           ],
           "sequential": [
            [
             0,
             "#0d0887"
            ],
            [
             0.1111111111111111,
             "#46039f"
            ],
            [
             0.2222222222222222,
             "#7201a8"
            ],
            [
             0.3333333333333333,
             "#9c179e"
            ],
            [
             0.4444444444444444,
             "#bd3786"
            ],
            [
             0.5555555555555556,
             "#d8576b"
            ],
            [
             0.6666666666666666,
             "#ed7953"
            ],
            [
             0.7777777777777778,
             "#fb9f3a"
            ],
            [
             0.8888888888888888,
             "#fdca26"
            ],
            [
             1,
             "#f0f921"
            ]
           ],
           "sequentialminus": [
            [
             0,
             "#0d0887"
            ],
            [
             0.1111111111111111,
             "#46039f"
            ],
            [
             0.2222222222222222,
             "#7201a8"
            ],
            [
             0.3333333333333333,
             "#9c179e"
            ],
            [
             0.4444444444444444,
             "#bd3786"
            ],
            [
             0.5555555555555556,
             "#d8576b"
            ],
            [
             0.6666666666666666,
             "#ed7953"
            ],
            [
             0.7777777777777778,
             "#fb9f3a"
            ],
            [
             0.8888888888888888,
             "#fdca26"
            ],
            [
             1,
             "#f0f921"
            ]
           ]
          },
          "colorway": [
           "#636efa",
           "#EF553B",
           "#00cc96",
           "#ab63fa",
           "#FFA15A",
           "#19d3f3",
           "#FF6692",
           "#B6E880",
           "#FF97FF",
           "#FECB52"
          ],
          "font": {
           "color": "#2a3f5f"
          },
          "geo": {
           "bgcolor": "white",
           "lakecolor": "white",
           "landcolor": "#E5ECF6",
           "showlakes": true,
           "showland": true,
           "subunitcolor": "white"
          },
          "hoverlabel": {
           "align": "left"
          },
          "hovermode": "closest",
          "mapbox": {
           "style": "light"
          },
          "paper_bgcolor": "white",
          "plot_bgcolor": "#E5ECF6",
          "polar": {
           "angularaxis": {
            "gridcolor": "white",
            "linecolor": "white",
            "ticks": ""
           },
           "bgcolor": "#E5ECF6",
           "radialaxis": {
            "gridcolor": "white",
            "linecolor": "white",
            "ticks": ""
           }
          },
          "scene": {
           "xaxis": {
            "backgroundcolor": "#E5ECF6",
            "gridcolor": "white",
            "gridwidth": 2,
            "linecolor": "white",
            "showbackground": true,
            "ticks": "",
            "zerolinecolor": "white"
           },
           "yaxis": {
            "backgroundcolor": "#E5ECF6",
            "gridcolor": "white",
            "gridwidth": 2,
            "linecolor": "white",
            "showbackground": true,
            "ticks": "",
            "zerolinecolor": "white"
           },
           "zaxis": {
            "backgroundcolor": "#E5ECF6",
            "gridcolor": "white",
            "gridwidth": 2,
            "linecolor": "white",
            "showbackground": true,
            "ticks": "",
            "zerolinecolor": "white"
           }
          },
          "shapedefaults": {
           "line": {
            "color": "#2a3f5f"
           }
          },
          "ternary": {
           "aaxis": {
            "gridcolor": "white",
            "linecolor": "white",
            "ticks": ""
           },
           "baxis": {
            "gridcolor": "white",
            "linecolor": "white",
            "ticks": ""
           },
           "bgcolor": "#E5ECF6",
           "caxis": {
            "gridcolor": "white",
            "linecolor": "white",
            "ticks": ""
           }
          },
          "title": {
           "x": 0.05
          },
          "xaxis": {
           "automargin": true,
           "gridcolor": "white",
           "linecolor": "white",
           "ticks": "",
           "title": {
            "standoff": 15
           },
           "zerolinecolor": "white",
           "zerolinewidth": 2
          },
          "yaxis": {
           "automargin": true,
           "gridcolor": "white",
           "linecolor": "white",
           "ticks": "",
           "title": {
            "standoff": 15
           },
           "zerolinecolor": "white",
           "zerolinewidth": 2
          }
         }
        },
        "title": {
         "font": {
          "size": 20
         },
         "text": "Percentage Chance Of Admission By Research",
         "x": 0.5,
         "xanchor": "center",
         "y": 0.88,
         "yanchor": "top"
        }
       }
      },
      "text/html": [
       "<div>                            <div id=\"a908f4d7-c3fe-491d-a92b-d5313b800dfb\" class=\"plotly-graph-div\" style=\"height:525px; width:100%;\"></div>            <script type=\"text/javascript\">                require([\"plotly\"], function(Plotly) {                    window.PLOTLYENV=window.PLOTLYENV || {};                                    if (document.getElementById(\"a908f4d7-c3fe-491d-a92b-d5313b800dfb\")) {                    Plotly.newPlot(                        \"a908f4d7-c3fe-491d-a92b-d5313b800dfb\",                        [{\"type\":\"pie\",\"values\":[63.77,79.6]}],                        {\"template\":{\"data\":{\"bar\":[{\"error_x\":{\"color\":\"#2a3f5f\"},\"error_y\":{\"color\":\"#2a3f5f\"},\"marker\":{\"line\":{\"color\":\"#E5ECF6\",\"width\":0.5},\"pattern\":{\"fillmode\":\"overlay\",\"size\":10,\"solidity\":0.2}},\"type\":\"bar\"}],\"barpolar\":[{\"marker\":{\"line\":{\"color\":\"#E5ECF6\",\"width\":0.5},\"pattern\":{\"fillmode\":\"overlay\",\"size\":10,\"solidity\":0.2}},\"type\":\"barpolar\"}],\"carpet\":[{\"aaxis\":{\"endlinecolor\":\"#2a3f5f\",\"gridcolor\":\"white\",\"linecolor\":\"white\",\"minorgridcolor\":\"white\",\"startlinecolor\":\"#2a3f5f\"},\"baxis\":{\"endlinecolor\":\"#2a3f5f\",\"gridcolor\":\"white\",\"linecolor\":\"white\",\"minorgridcolor\":\"white\",\"startlinecolor\":\"#2a3f5f\"},\"type\":\"carpet\"}],\"choropleth\":[{\"colorbar\":{\"outlinewidth\":0,\"ticks\":\"\"},\"type\":\"choropleth\"}],\"contour\":[{\"colorbar\":{\"outlinewidth\":0,\"ticks\":\"\"},\"colorscale\":[[0.0,\"#0d0887\"],[0.1111111111111111,\"#46039f\"],[0.2222222222222222,\"#7201a8\"],[0.3333333333333333,\"#9c179e\"],[0.4444444444444444,\"#bd3786\"],[0.5555555555555556,\"#d8576b\"],[0.6666666666666666,\"#ed7953\"],[0.7777777777777778,\"#fb9f3a\"],[0.8888888888888888,\"#fdca26\"],[1.0,\"#f0f921\"]],\"type\":\"contour\"}],\"contourcarpet\":[{\"colorbar\":{\"outlinewidth\":0,\"ticks\":\"\"},\"type\":\"contourcarpet\"}],\"heatmap\":[{\"colorbar\":{\"outlinewidth\":0,\"ticks\":\"\"},\"colorscale\":[[0.0,\"#0d0887\"],[0.1111111111111111,\"#46039f\"],[0.2222222222222222,\"#7201a8\"],[0.3333333333333333,\"#9c179e\"],[0.4444444444444444,\"#bd3786\"],[0.5555555555555556,\"#d8576b\"],[0.6666666666666666,\"#ed7953\"],[0.7777777777777778,\"#fb9f3a\"],[0.8888888888888888,\"#fdca26\"],[1.0,\"#f0f921\"]],\"type\":\"heatmap\"}],\"heatmapgl\":[{\"colorbar\":{\"outlinewidth\":0,\"ticks\":\"\"},\"colorscale\":[[0.0,\"#0d0887\"],[0.1111111111111111,\"#46039f\"],[0.2222222222222222,\"#7201a8\"],[0.3333333333333333,\"#9c179e\"],[0.4444444444444444,\"#bd3786\"],[0.5555555555555556,\"#d8576b\"],[0.6666666666666666,\"#ed7953\"],[0.7777777777777778,\"#fb9f3a\"],[0.8888888888888888,\"#fdca26\"],[1.0,\"#f0f921\"]],\"type\":\"heatmapgl\"}],\"histogram\":[{\"marker\":{\"pattern\":{\"fillmode\":\"overlay\",\"size\":10,\"solidity\":0.2}},\"type\":\"histogram\"}],\"histogram2d\":[{\"colorbar\":{\"outlinewidth\":0,\"ticks\":\"\"},\"colorscale\":[[0.0,\"#0d0887\"],[0.1111111111111111,\"#46039f\"],[0.2222222222222222,\"#7201a8\"],[0.3333333333333333,\"#9c179e\"],[0.4444444444444444,\"#bd3786\"],[0.5555555555555556,\"#d8576b\"],[0.6666666666666666,\"#ed7953\"],[0.7777777777777778,\"#fb9f3a\"],[0.8888888888888888,\"#fdca26\"],[1.0,\"#f0f921\"]],\"type\":\"histogram2d\"}],\"histogram2dcontour\":[{\"colorbar\":{\"outlinewidth\":0,\"ticks\":\"\"},\"colorscale\":[[0.0,\"#0d0887\"],[0.1111111111111111,\"#46039f\"],[0.2222222222222222,\"#7201a8\"],[0.3333333333333333,\"#9c179e\"],[0.4444444444444444,\"#bd3786\"],[0.5555555555555556,\"#d8576b\"],[0.6666666666666666,\"#ed7953\"],[0.7777777777777778,\"#fb9f3a\"],[0.8888888888888888,\"#fdca26\"],[1.0,\"#f0f921\"]],\"type\":\"histogram2dcontour\"}],\"mesh3d\":[{\"colorbar\":{\"outlinewidth\":0,\"ticks\":\"\"},\"type\":\"mesh3d\"}],\"parcoords\":[{\"line\":{\"colorbar\":{\"outlinewidth\":0,\"ticks\":\"\"}},\"type\":\"parcoords\"}],\"pie\":[{\"automargin\":true,\"type\":\"pie\"}],\"scatter\":[{\"marker\":{\"colorbar\":{\"outlinewidth\":0,\"ticks\":\"\"}},\"type\":\"scatter\"}],\"scatter3d\":[{\"line\":{\"colorbar\":{\"outlinewidth\":0,\"ticks\":\"\"}},\"marker\":{\"colorbar\":{\"outlinewidth\":0,\"ticks\":\"\"}},\"type\":\"scatter3d\"}],\"scattercarpet\":[{\"marker\":{\"colorbar\":{\"outlinewidth\":0,\"ticks\":\"\"}},\"type\":\"scattercarpet\"}],\"scattergeo\":[{\"marker\":{\"colorbar\":{\"outlinewidth\":0,\"ticks\":\"\"}},\"type\":\"scattergeo\"}],\"scattergl\":[{\"marker\":{\"colorbar\":{\"outlinewidth\":0,\"ticks\":\"\"}},\"type\":\"scattergl\"}],\"scattermapbox\":[{\"marker\":{\"colorbar\":{\"outlinewidth\":0,\"ticks\":\"\"}},\"type\":\"scattermapbox\"}],\"scatterpolar\":[{\"marker\":{\"colorbar\":{\"outlinewidth\":0,\"ticks\":\"\"}},\"type\":\"scatterpolar\"}],\"scatterpolargl\":[{\"marker\":{\"colorbar\":{\"outlinewidth\":0,\"ticks\":\"\"}},\"type\":\"scatterpolargl\"}],\"scatterternary\":[{\"marker\":{\"colorbar\":{\"outlinewidth\":0,\"ticks\":\"\"}},\"type\":\"scatterternary\"}],\"surface\":[{\"colorbar\":{\"outlinewidth\":0,\"ticks\":\"\"},\"colorscale\":[[0.0,\"#0d0887\"],[0.1111111111111111,\"#46039f\"],[0.2222222222222222,\"#7201a8\"],[0.3333333333333333,\"#9c179e\"],[0.4444444444444444,\"#bd3786\"],[0.5555555555555556,\"#d8576b\"],[0.6666666666666666,\"#ed7953\"],[0.7777777777777778,\"#fb9f3a\"],[0.8888888888888888,\"#fdca26\"],[1.0,\"#f0f921\"]],\"type\":\"surface\"}],\"table\":[{\"cells\":{\"fill\":{\"color\":\"#EBF0F8\"},\"line\":{\"color\":\"white\"}},\"header\":{\"fill\":{\"color\":\"#C8D4E3\"},\"line\":{\"color\":\"white\"}},\"type\":\"table\"}]},\"layout\":{\"annotationdefaults\":{\"arrowcolor\":\"#2a3f5f\",\"arrowhead\":0,\"arrowwidth\":1},\"autotypenumbers\":\"strict\",\"coloraxis\":{\"colorbar\":{\"outlinewidth\":0,\"ticks\":\"\"}},\"colorscale\":{\"diverging\":[[0,\"#8e0152\"],[0.1,\"#c51b7d\"],[0.2,\"#de77ae\"],[0.3,\"#f1b6da\"],[0.4,\"#fde0ef\"],[0.5,\"#f7f7f7\"],[0.6,\"#e6f5d0\"],[0.7,\"#b8e186\"],[0.8,\"#7fbc41\"],[0.9,\"#4d9221\"],[1,\"#276419\"]],\"sequential\":[[0.0,\"#0d0887\"],[0.1111111111111111,\"#46039f\"],[0.2222222222222222,\"#7201a8\"],[0.3333333333333333,\"#9c179e\"],[0.4444444444444444,\"#bd3786\"],[0.5555555555555556,\"#d8576b\"],[0.6666666666666666,\"#ed7953\"],[0.7777777777777778,\"#fb9f3a\"],[0.8888888888888888,\"#fdca26\"],[1.0,\"#f0f921\"]],\"sequentialminus\":[[0.0,\"#0d0887\"],[0.1111111111111111,\"#46039f\"],[0.2222222222222222,\"#7201a8\"],[0.3333333333333333,\"#9c179e\"],[0.4444444444444444,\"#bd3786\"],[0.5555555555555556,\"#d8576b\"],[0.6666666666666666,\"#ed7953\"],[0.7777777777777778,\"#fb9f3a\"],[0.8888888888888888,\"#fdca26\"],[1.0,\"#f0f921\"]]},\"colorway\":[\"#636efa\",\"#EF553B\",\"#00cc96\",\"#ab63fa\",\"#FFA15A\",\"#19d3f3\",\"#FF6692\",\"#B6E880\",\"#FF97FF\",\"#FECB52\"],\"font\":{\"color\":\"#2a3f5f\"},\"geo\":{\"bgcolor\":\"white\",\"lakecolor\":\"white\",\"landcolor\":\"#E5ECF6\",\"showlakes\":true,\"showland\":true,\"subunitcolor\":\"white\"},\"hoverlabel\":{\"align\":\"left\"},\"hovermode\":\"closest\",\"mapbox\":{\"style\":\"light\"},\"paper_bgcolor\":\"white\",\"plot_bgcolor\":\"#E5ECF6\",\"polar\":{\"angularaxis\":{\"gridcolor\":\"white\",\"linecolor\":\"white\",\"ticks\":\"\"},\"bgcolor\":\"#E5ECF6\",\"radialaxis\":{\"gridcolor\":\"white\",\"linecolor\":\"white\",\"ticks\":\"\"}},\"scene\":{\"xaxis\":{\"backgroundcolor\":\"#E5ECF6\",\"gridcolor\":\"white\",\"gridwidth\":2,\"linecolor\":\"white\",\"showbackground\":true,\"ticks\":\"\",\"zerolinecolor\":\"white\"},\"yaxis\":{\"backgroundcolor\":\"#E5ECF6\",\"gridcolor\":\"white\",\"gridwidth\":2,\"linecolor\":\"white\",\"showbackground\":true,\"ticks\":\"\",\"zerolinecolor\":\"white\"},\"zaxis\":{\"backgroundcolor\":\"#E5ECF6\",\"gridcolor\":\"white\",\"gridwidth\":2,\"linecolor\":\"white\",\"showbackground\":true,\"ticks\":\"\",\"zerolinecolor\":\"white\"}},\"shapedefaults\":{\"line\":{\"color\":\"#2a3f5f\"}},\"ternary\":{\"aaxis\":{\"gridcolor\":\"white\",\"linecolor\":\"white\",\"ticks\":\"\"},\"baxis\":{\"gridcolor\":\"white\",\"linecolor\":\"white\",\"ticks\":\"\"},\"bgcolor\":\"#E5ECF6\",\"caxis\":{\"gridcolor\":\"white\",\"linecolor\":\"white\",\"ticks\":\"\"}},\"title\":{\"x\":0.05},\"xaxis\":{\"automargin\":true,\"gridcolor\":\"white\",\"linecolor\":\"white\",\"ticks\":\"\",\"title\":{\"standoff\":15},\"zerolinecolor\":\"white\",\"zerolinewidth\":2},\"yaxis\":{\"automargin\":true,\"gridcolor\":\"white\",\"linecolor\":\"white\",\"ticks\":\"\",\"title\":{\"standoff\":15},\"zerolinecolor\":\"white\",\"zerolinewidth\":2}}},\"title\":{\"font\":{\"size\":20},\"text\":\"Percentage Chance Of Admission By Research\",\"x\":0.5,\"xanchor\":\"center\",\"y\":0.88,\"yanchor\":\"top\"}},                        {\"responsive\": true}                    ).then(function(){\n",
       "                            \n",
       "var gd = document.getElementById('a908f4d7-c3fe-491d-a92b-d5313b800dfb');\n",
       "var x = new MutationObserver(function (mutations, observer) {{\n",
       "        var display = window.getComputedStyle(gd).display;\n",
       "        if (!display || display === 'none') {{\n",
       "            console.log([gd, 'removed!']);\n",
       "            Plotly.purge(gd);\n",
       "            observer.disconnect();\n",
       "        }}\n",
       "}});\n",
       "\n",
       "// Listen for the removal of the full notebook cells\n",
       "var notebookContainer = gd.closest('#notebook-container');\n",
       "if (notebookContainer) {{\n",
       "    x.observe(notebookContainer, {childList: true});\n",
       "}}\n",
       "\n",
       "// Listen for the clearing of the current output cell\n",
       "var outputEl = gd.closest('.output');\n",
       "if (outputEl) {{\n",
       "    x.observe(outputEl, {childList: true});\n",
       "}}\n",
       "\n",
       "                        })                };                });            </script>        </div>"
      ]
     },
     "metadata": {},
     "output_type": "display_data"
    }
   ],
   "source": [
    "grp_Res = data_col_chng.groupby(by=['Research'])[\"Chance of Admit\"].mean().reset_index()\n",
    "grp_Res['Chance of Admit'] = round(grp_Res['Chance of Admit']*100, 2)\n",
    "grp_Res.sort_values(by=['Chance of Admit'], inplace = True)\n",
    "\n",
    "data = [go.Pie(values = grp_Res['Chance of Admit'], \n",
    "               )]\n",
    "\n",
    "layout = go.Layout(title = dict(text = 'Percentage Chance Of Admission By Research', \n",
    "                                font = {'size': 20},\n",
    "                                x = 0.5, \n",
    "                                y = 0.88, \n",
    "                                xanchor = 'center', \n",
    "                                yanchor = 'top')\n",
    "                  )\n",
    "\n",
    "fig = go.Figure(data = data, \n",
    "                layout = layout)\n",
    "\n",
    "iplot(fig)"
   ]
  },
  {
   "cell_type": "code",
   "execution_count": 14,
   "id": "52ba488c",
   "metadata": {},
   "outputs": [
    {
     "data": {
      "application/vnd.plotly.v1+json": {
       "config": {
        "linkText": "Export to plot.ly",
        "plotlyServerURL": "https://plot.ly",
        "showLink": false
       },
       "data": [
        {
         "marker": {
          "color": [
           4.5,
           4,
           3,
           3.5,
           2,
           4.5,
           3,
           3,
           2,
           3.5,
           3.5,
           4,
           4,
           4,
           3.5,
           3.5,
           4,
           4,
           4,
           3.5,
           3,
           3,
           5,
           5,
           4,
           4.5,
           4.5,
           1.5,
           2,
           1.5,
           3,
           4,
           3,
           4,
           4,
           5,
           4,
           1,
           3,
           4,
           3.5,
           2.5,
           2.5,
           4.5,
           4.5,
           5,
           4,
           4.5,
           3.5,
           3,
           2.5,
           1.5,
           4,
           4,
           3,
           3,
           2,
           4,
           3,
           2,
           3,
           4,
           3,
           4,
           3,
           3.5,
           3,
           3.5,
           3.5,
           4.5,
           5,
           5,
           5,
           4.5,
           3,
           2,
           3,
           3,
           3,
           1.5,
           2,
           5,
           5,
           4,
           4.5,
           4.5,
           4.5,
           3.5,
           4.5,
           4.5,
           4,
           5,
           4,
           3,
           2,
           1.5,
           3,
           4,
           5,
           4,
           3.5,
           2.5,
           4,
           4.5,
           3.5,
           4,
           4.5,
           3.5,
           5,
           5,
           3,
           4,
           3.5,
           4,
           3.5,
           4.5,
           4,
           2,
           3,
           3,
           5,
           4.5,
           1.5,
           3.5,
           2.5,
           2,
           4,
           2.5,
           3.5,
           5,
           4,
           5,
           3.5,
           4,
           4,
           3.5,
           5,
           1.5,
           4.5,
           3.5,
           4,
           4.5,
           4,
           4.5,
           3,
           2,
           2,
           3,
           4,
           3.5,
           4,
           5,
           5,
           3,
           3,
           3,
           2,
           2,
           2,
           1.5,
           1.5,
           1.5,
           3,
           3.5,
           4.5,
           4.5,
           3.5,
           2,
           2,
           2.5,
           2.5,
           4,
           4,
           4,
           4,
           4.5,
           4.5,
           3.5,
           2.5,
           3,
           3.5,
           2.5,
           3,
           4,
           2.5,
           4.5,
           3.5,
           4.5,
           4.5,
           5,
           4.5,
           4,
           4.5,
           4.5,
           3.5,
           3,
           3,
           3.5,
           4.5,
           4,
           2.5,
           3.5,
           4.5,
           4,
           3.5,
           2.5,
           3.5,
           3.5,
           3,
           3.5,
           4.5,
           5,
           5,
           5,
           4.5,
           5,
           4.5,
           4,
           3,
           3.5,
           4,
           3.5,
           4.5,
           3,
           3,
           2.5,
           3.5,
           3.5,
           4,
           3,
           4,
           3.5,
           2.5,
           2.5,
           5,
           4.5,
           4,
           4.5,
           2,
           1.5,
           2.5,
           2.5,
           3.5,
           3.5,
           2.5,
           4,
           3,
           2.5,
           3.5,
           3.5,
           3,
           2.5,
           2.5,
           4.5,
           4,
           4,
           4,
           4,
           5,
           5,
           5,
           3.5,
           2.5,
           2.5,
           3,
           2.5,
           2,
           3,
           4.5,
           4.5,
           2.5,
           1.5,
           1.5,
           1,
           2,
           3.5,
           5,
           2.5,
           3,
           3,
           4.5,
           4,
           4,
           2.5,
           5,
           4,
           4.5,
           5,
           5,
           4,
           2.5,
           1.5,
           1,
           3.5,
           2.5,
           3,
           3.5,
           4,
           4.5,
           3,
           2.5,
           2.5,
           3,
           3.5,
           2.5,
           3.5,
           4,
           4,
           3.5,
           3.5,
           3,
           4.5,
           4.5,
           3.5,
           3,
           2.5,
           1.5,
           1,
           2.5,
           3.5,
           4,
           4,
           2.5,
           2,
           3,
           3.5,
           2,
           2.5,
           4,
           2.5,
           3.5,
           3,
           3.5,
           3,
           4.5,
           4,
           3,
           5,
           4,
           3.5,
           3,
           3.5,
           3,
           2.5,
           1.5,
           1.5,
           1.5,
           1,
           2,
           2.5,
           3,
           3.5,
           3,
           3.5,
           2.5,
           2,
           3.5,
           3.5,
           2.5,
           2,
           4,
           4,
           4.5,
           2.5,
           3.5,
           4.5,
           3.5,
           1,
           2,
           2,
           2.5,
           3.5,
           4.5,
           3,
           2,
           2,
           2.5,
           1.5,
           2,
           2.5,
           3.5,
           3,
           4.5,
           3,
           5,
           5,
           2.5,
           2,
           1.5,
           3.5,
           2,
           2,
           4,
           3,
           4.5,
           3.5,
           3,
           5,
           3.5,
           5
          ],
          "showscale": true,
          "size": 16,
          "symbol": "circle"
         },
         "mode": "markers",
         "type": "scatter",
         "x": [
          337,
          324,
          316,
          322,
          314,
          330,
          321,
          308,
          302,
          323,
          325,
          327,
          328,
          307,
          311,
          314,
          317,
          319,
          318,
          303,
          312,
          325,
          328,
          334,
          336,
          340,
          322,
          298,
          295,
          310,
          300,
          327,
          338,
          340,
          331,
          320,
          299,
          300,
          304,
          307,
          308,
          316,
          313,
          332,
          326,
          322,
          329,
          339,
          321,
          327,
          313,
          312,
          334,
          324,
          322,
          320,
          316,
          298,
          300,
          311,
          309,
          307,
          304,
          315,
          325,
          325,
          327,
          316,
          318,
          328,
          332,
          336,
          321,
          314,
          314,
          329,
          327,
          301,
          296,
          294,
          312,
          340,
          320,
          322,
          340,
          319,
          315,
          317,
          314,
          316,
          318,
          299,
          298,
          301,
          303,
          304,
          306,
          331,
          332,
          323,
          322,
          312,
          314,
          317,
          326,
          316,
          329,
          338,
          331,
          304,
          305,
          321,
          301,
          320,
          311,
          310,
          299,
          290,
          296,
          327,
          335,
          334,
          310,
          308,
          301,
          300,
          323,
          319,
          326,
          333,
          339,
          303,
          309,
          323,
          333,
          314,
          312,
          316,
          326,
          318,
          329,
          332,
          331,
          340,
          325,
          320,
          315,
          326,
          339,
          311,
          334,
          332,
          321,
          324,
          326,
          312,
          315,
          309,
          306,
          297,
          315,
          298,
          318,
          317,
          329,
          322,
          302,
          313,
          293,
          311,
          312,
          334,
          322,
          323,
          321,
          320,
          329,
          319,
          309,
          307,
          300,
          305,
          299,
          314,
          316,
          327,
          317,
          335,
          331,
          324,
          324,
          323,
          322,
          336,
          316,
          307,
          306,
          310,
          311,
          313,
          317,
          315,
          340,
          334,
          298,
          295,
          315,
          310,
          305,
          301,
          325,
          328,
          338,
          333,
          331,
          330,
          322,
          321,
          324,
          312,
          313,
          316,
          324,
          308,
          305,
          296,
          306,
          312,
          318,
          324,
          313,
          319,
          312,
          304,
          330,
          326,
          325,
          329,
          310,
          299,
          296,
          317,
          324,
          325,
          314,
          328,
          316,
          311,
          324,
          321,
          320,
          316,
          318,
          335,
          321,
          307,
          309,
          324,
          326,
          331,
          327,
          312,
          308,
          324,
          325,
          313,
          312,
          314,
          327,
          308,
          306,
          299,
          294,
          312,
          315,
          322,
          329,
          320,
          308,
          304,
          311,
          317,
          312,
          321,
          340,
          331,
          336,
          324,
          314,
          313,
          307,
          300,
          302,
          312,
          316,
          317,
          310,
          320,
          330,
          305,
          309,
          319,
          322,
          323,
          313,
          321,
          323,
          325,
          312,
          308,
          320,
          328,
          311,
          301,
          305,
          308,
          298,
          300,
          324,
          327,
          317,
          323,
          314,
          305,
          315,
          326,
          299,
          295,
          324,
          297,
          327,
          311,
          308,
          319,
          312,
          325,
          319,
          332,
          323,
          324,
          312,
          326,
          308,
          305,
          295,
          316,
          304,
          299,
          302,
          313,
          318,
          325,
          303,
          300,
          297,
          317,
          327,
          301,
          314,
          321,
          322,
          334,
          338,
          306,
          313,
          330,
          320,
          311,
          298,
          301,
          310,
          324,
          336,
          321,
          315,
          304,
          297,
          290,
          303,
          311,
          322,
          319,
          324,
          300,
          340,
          335,
          302,
          307,
          296,
          320,
          314,
          318,
          326,
          317,
          329,
          324,
          325,
          330,
          312,
          333
         ],
         "y": [
          92,
          76,
          72,
          80,
          65,
          90,
          75,
          68,
          50,
          45,
          52,
          84,
          78,
          62,
          61,
          54,
          66,
          65,
          63,
          62,
          64,
          70,
          94,
          95,
          97,
          94,
          76,
          44,
          46,
          54,
          65,
          74,
          91,
          90,
          94,
          88,
          64,
          57.99999999999999,
          52,
          48,
          46,
          49,
          53,
          87,
          91,
          88,
          86,
          89,
          82,
          78,
          76,
          56.00000000000001,
          78,
          72,
          70,
          64,
          64,
          46,
          36,
          42,
          48,
          47,
          54,
          56.00000000000001,
          52,
          55.00000000000001,
          61,
          56.99999999999999,
          68,
          78,
          94,
          96,
          93,
          84,
          74,
          72,
          74,
          64,
          44,
          46,
          50,
          96,
          92,
          92,
          94,
          76,
          72,
          66,
          64,
          74,
          64,
          38,
          34,
          44,
          36,
          42,
          48,
          86,
          90,
          79,
          71,
          64,
          62,
          56.99999999999999,
          74,
          69,
          87,
          91,
          93,
          68,
          61,
          69,
          62,
          72,
          59,
          66,
          56.00000000000001,
          45,
          47,
          71,
          94,
          94,
          56.99999999999999,
          61,
          56.99999999999999,
          64,
          85,
          78,
          84,
          92,
          96,
          77,
          71,
          79,
          89,
          82,
          76,
          71,
          80,
          78,
          84,
          90,
          92,
          97,
          80,
          81,
          75,
          83,
          96,
          79,
          93,
          94,
          86,
          79,
          80,
          77,
          70,
          65,
          61,
          52,
          56.99999999999999,
          53,
          67,
          68,
          81,
          78,
          65,
          64,
          64,
          65,
          68,
          89,
          86,
          89,
          87,
          85,
          90,
          82,
          72,
          73,
          71,
          71,
          68,
          75,
          72,
          89,
          84,
          93,
          93,
          88,
          90,
          87,
          86,
          94,
          77,
          78,
          73,
          73,
          70,
          72,
          73,
          72,
          97,
          97,
          69,
          56.99999999999999,
          63,
          66,
          64,
          68,
          79,
          82,
          95,
          96,
          94,
          93,
          91,
          85,
          84,
          74,
          76,
          75,
          76,
          71,
          67,
          61,
          63,
          64,
          71,
          82,
          73,
          74,
          69,
          64,
          91,
          88,
          85,
          86,
          70,
          59,
          60,
          65,
          70,
          76,
          63,
          81,
          72,
          71,
          80,
          77,
          74,
          70,
          71,
          93,
          85,
          79,
          76,
          78,
          77,
          90,
          87,
          71,
          70,
          70,
          75,
          71,
          72,
          73,
          83,
          77,
          72,
          54,
          49,
          52,
          57.99999999999999,
          78,
          89,
          70,
          66,
          67,
          68,
          80,
          81,
          80,
          94,
          93,
          92,
          89,
          82,
          79,
          57.99999999999999,
          56.00000000000001,
          56.00000000000001,
          64,
          61,
          68,
          76,
          86,
          90,
          71,
          62,
          66,
          65,
          73,
          62,
          74,
          79,
          80,
          69,
          70,
          76,
          84,
          78,
          67,
          66,
          65,
          54,
          57.99999999999999,
          79,
          80,
          75,
          73,
          72,
          62,
          67,
          81,
          63,
          69,
          80,
          43,
          80,
          73,
          75,
          71,
          73,
          83,
          72,
          94,
          81,
          81,
          75,
          79,
          57.99999999999999,
          59,
          47,
          49,
          47,
          42,
          56.99999999999999,
          62,
          74,
          73,
          64,
          63,
          59,
          73,
          79,
          68,
          70,
          81,
          85,
          93,
          91,
          69,
          77,
          86,
          74,
          56.99999999999999,
          51,
          67,
          72,
          89,
          95,
          79,
          39,
          38,
          34,
          47,
          56.00000000000001,
          71,
          78,
          73,
          82,
          62,
          96,
          96,
          46,
          53,
          49,
          76,
          64,
          71,
          84,
          77,
          89,
          82,
          84,
          91,
          67,
          95
         ]
        }
       ],
       "layout": {
        "template": {
         "data": {
          "bar": [
           {
            "error_x": {
             "color": "#f2f5fa"
            },
            "error_y": {
             "color": "#f2f5fa"
            },
            "marker": {
             "line": {
              "color": "rgb(17,17,17)",
              "width": 0.5
             },
             "pattern": {
              "fillmode": "overlay",
              "size": 10,
              "solidity": 0.2
             }
            },
            "type": "bar"
           }
          ],
          "barpolar": [
           {
            "marker": {
             "line": {
              "color": "rgb(17,17,17)",
              "width": 0.5
             },
             "pattern": {
              "fillmode": "overlay",
              "size": 10,
              "solidity": 0.2
             }
            },
            "type": "barpolar"
           }
          ],
          "carpet": [
           {
            "aaxis": {
             "endlinecolor": "#A2B1C6",
             "gridcolor": "#506784",
             "linecolor": "#506784",
             "minorgridcolor": "#506784",
             "startlinecolor": "#A2B1C6"
            },
            "baxis": {
             "endlinecolor": "#A2B1C6",
             "gridcolor": "#506784",
             "linecolor": "#506784",
             "minorgridcolor": "#506784",
             "startlinecolor": "#A2B1C6"
            },
            "type": "carpet"
           }
          ],
          "choropleth": [
           {
            "colorbar": {
             "outlinewidth": 0,
             "ticks": ""
            },
            "type": "choropleth"
           }
          ],
          "contour": [
           {
            "colorbar": {
             "outlinewidth": 0,
             "ticks": ""
            },
            "colorscale": [
             [
              0,
              "#0d0887"
             ],
             [
              0.1111111111111111,
              "#46039f"
             ],
             [
              0.2222222222222222,
              "#7201a8"
             ],
             [
              0.3333333333333333,
              "#9c179e"
             ],
             [
              0.4444444444444444,
              "#bd3786"
             ],
             [
              0.5555555555555556,
              "#d8576b"
             ],
             [
              0.6666666666666666,
              "#ed7953"
             ],
             [
              0.7777777777777778,
              "#fb9f3a"
             ],
             [
              0.8888888888888888,
              "#fdca26"
             ],
             [
              1,
              "#f0f921"
             ]
            ],
            "type": "contour"
           }
          ],
          "contourcarpet": [
           {
            "colorbar": {
             "outlinewidth": 0,
             "ticks": ""
            },
            "type": "contourcarpet"
           }
          ],
          "heatmap": [
           {
            "colorbar": {
             "outlinewidth": 0,
             "ticks": ""
            },
            "colorscale": [
             [
              0,
              "#0d0887"
             ],
             [
              0.1111111111111111,
              "#46039f"
             ],
             [
              0.2222222222222222,
              "#7201a8"
             ],
             [
              0.3333333333333333,
              "#9c179e"
             ],
             [
              0.4444444444444444,
              "#bd3786"
             ],
             [
              0.5555555555555556,
              "#d8576b"
             ],
             [
              0.6666666666666666,
              "#ed7953"
             ],
             [
              0.7777777777777778,
              "#fb9f3a"
             ],
             [
              0.8888888888888888,
              "#fdca26"
             ],
             [
              1,
              "#f0f921"
             ]
            ],
            "type": "heatmap"
           }
          ],
          "heatmapgl": [
           {
            "colorbar": {
             "outlinewidth": 0,
             "ticks": ""
            },
            "colorscale": [
             [
              0,
              "#0d0887"
             ],
             [
              0.1111111111111111,
              "#46039f"
             ],
             [
              0.2222222222222222,
              "#7201a8"
             ],
             [
              0.3333333333333333,
              "#9c179e"
             ],
             [
              0.4444444444444444,
              "#bd3786"
             ],
             [
              0.5555555555555556,
              "#d8576b"
             ],
             [
              0.6666666666666666,
              "#ed7953"
             ],
             [
              0.7777777777777778,
              "#fb9f3a"
             ],
             [
              0.8888888888888888,
              "#fdca26"
             ],
             [
              1,
              "#f0f921"
             ]
            ],
            "type": "heatmapgl"
           }
          ],
          "histogram": [
           {
            "marker": {
             "pattern": {
              "fillmode": "overlay",
              "size": 10,
              "solidity": 0.2
             }
            },
            "type": "histogram"
           }
          ],
          "histogram2d": [
           {
            "colorbar": {
             "outlinewidth": 0,
             "ticks": ""
            },
            "colorscale": [
             [
              0,
              "#0d0887"
             ],
             [
              0.1111111111111111,
              "#46039f"
             ],
             [
              0.2222222222222222,
              "#7201a8"
             ],
             [
              0.3333333333333333,
              "#9c179e"
             ],
             [
              0.4444444444444444,
              "#bd3786"
             ],
             [
              0.5555555555555556,
              "#d8576b"
             ],
             [
              0.6666666666666666,
              "#ed7953"
             ],
             [
              0.7777777777777778,
              "#fb9f3a"
             ],
             [
              0.8888888888888888,
              "#fdca26"
             ],
             [
              1,
              "#f0f921"
             ]
            ],
            "type": "histogram2d"
           }
          ],
          "histogram2dcontour": [
           {
            "colorbar": {
             "outlinewidth": 0,
             "ticks": ""
            },
            "colorscale": [
             [
              0,
              "#0d0887"
             ],
             [
              0.1111111111111111,
              "#46039f"
             ],
             [
              0.2222222222222222,
              "#7201a8"
             ],
             [
              0.3333333333333333,
              "#9c179e"
             ],
             [
              0.4444444444444444,
              "#bd3786"
             ],
             [
              0.5555555555555556,
              "#d8576b"
             ],
             [
              0.6666666666666666,
              "#ed7953"
             ],
             [
              0.7777777777777778,
              "#fb9f3a"
             ],
             [
              0.8888888888888888,
              "#fdca26"
             ],
             [
              1,
              "#f0f921"
             ]
            ],
            "type": "histogram2dcontour"
           }
          ],
          "mesh3d": [
           {
            "colorbar": {
             "outlinewidth": 0,
             "ticks": ""
            },
            "type": "mesh3d"
           }
          ],
          "parcoords": [
           {
            "line": {
             "colorbar": {
              "outlinewidth": 0,
              "ticks": ""
             }
            },
            "type": "parcoords"
           }
          ],
          "pie": [
           {
            "automargin": true,
            "type": "pie"
           }
          ],
          "scatter": [
           {
            "marker": {
             "line": {
              "color": "#283442"
             }
            },
            "type": "scatter"
           }
          ],
          "scatter3d": [
           {
            "line": {
             "colorbar": {
              "outlinewidth": 0,
              "ticks": ""
             }
            },
            "marker": {
             "colorbar": {
              "outlinewidth": 0,
              "ticks": ""
             }
            },
            "type": "scatter3d"
           }
          ],
          "scattercarpet": [
           {
            "marker": {
             "colorbar": {
              "outlinewidth": 0,
              "ticks": ""
             }
            },
            "type": "scattercarpet"
           }
          ],
          "scattergeo": [
           {
            "marker": {
             "colorbar": {
              "outlinewidth": 0,
              "ticks": ""
             }
            },
            "type": "scattergeo"
           }
          ],
          "scattergl": [
           {
            "marker": {
             "line": {
              "color": "#283442"
             }
            },
            "type": "scattergl"
           }
          ],
          "scattermapbox": [
           {
            "marker": {
             "colorbar": {
              "outlinewidth": 0,
              "ticks": ""
             }
            },
            "type": "scattermapbox"
           }
          ],
          "scatterpolar": [
           {
            "marker": {
             "colorbar": {
              "outlinewidth": 0,
              "ticks": ""
             }
            },
            "type": "scatterpolar"
           }
          ],
          "scatterpolargl": [
           {
            "marker": {
             "colorbar": {
              "outlinewidth": 0,
              "ticks": ""
             }
            },
            "type": "scatterpolargl"
           }
          ],
          "scatterternary": [
           {
            "marker": {
             "colorbar": {
              "outlinewidth": 0,
              "ticks": ""
             }
            },
            "type": "scatterternary"
           }
          ],
          "surface": [
           {
            "colorbar": {
             "outlinewidth": 0,
             "ticks": ""
            },
            "colorscale": [
             [
              0,
              "#0d0887"
             ],
             [
              0.1111111111111111,
              "#46039f"
             ],
             [
              0.2222222222222222,
              "#7201a8"
             ],
             [
              0.3333333333333333,
              "#9c179e"
             ],
             [
              0.4444444444444444,
              "#bd3786"
             ],
             [
              0.5555555555555556,
              "#d8576b"
             ],
             [
              0.6666666666666666,
              "#ed7953"
             ],
             [
              0.7777777777777778,
              "#fb9f3a"
             ],
             [
              0.8888888888888888,
              "#fdca26"
             ],
             [
              1,
              "#f0f921"
             ]
            ],
            "type": "surface"
           }
          ],
          "table": [
           {
            "cells": {
             "fill": {
              "color": "#506784"
             },
             "line": {
              "color": "rgb(17,17,17)"
             }
            },
            "header": {
             "fill": {
              "color": "#2a3f5f"
             },
             "line": {
              "color": "rgb(17,17,17)"
             }
            },
            "type": "table"
           }
          ]
         },
         "layout": {
          "annotationdefaults": {
           "arrowcolor": "#f2f5fa",
           "arrowhead": 0,
           "arrowwidth": 1
          },
          "autotypenumbers": "strict",
          "coloraxis": {
           "colorbar": {
            "outlinewidth": 0,
            "ticks": ""
           }
          },
          "colorscale": {
           "diverging": [
            [
             0,
             "#8e0152"
            ],
            [
             0.1,
             "#c51b7d"
            ],
            [
             0.2,
             "#de77ae"
            ],
            [
             0.3,
             "#f1b6da"
            ],
            [
             0.4,
             "#fde0ef"
            ],
            [
             0.5,
             "#f7f7f7"
            ],
            [
             0.6,
             "#e6f5d0"
            ],
            [
             0.7,
             "#b8e186"
            ],
            [
             0.8,
             "#7fbc41"
            ],
            [
             0.9,
             "#4d9221"
            ],
            [
             1,
             "#276419"
            ]
           ],
           "sequential": [
            [
             0,
             "#0d0887"
            ],
            [
             0.1111111111111111,
             "#46039f"
            ],
            [
             0.2222222222222222,
             "#7201a8"
            ],
            [
             0.3333333333333333,
             "#9c179e"
            ],
            [
             0.4444444444444444,
             "#bd3786"
            ],
            [
             0.5555555555555556,
             "#d8576b"
            ],
            [
             0.6666666666666666,
             "#ed7953"
            ],
            [
             0.7777777777777778,
             "#fb9f3a"
            ],
            [
             0.8888888888888888,
             "#fdca26"
            ],
            [
             1,
             "#f0f921"
            ]
           ],
           "sequentialminus": [
            [
             0,
             "#0d0887"
            ],
            [
             0.1111111111111111,
             "#46039f"
            ],
            [
             0.2222222222222222,
             "#7201a8"
            ],
            [
             0.3333333333333333,
             "#9c179e"
            ],
            [
             0.4444444444444444,
             "#bd3786"
            ],
            [
             0.5555555555555556,
             "#d8576b"
            ],
            [
             0.6666666666666666,
             "#ed7953"
            ],
            [
             0.7777777777777778,
             "#fb9f3a"
            ],
            [
             0.8888888888888888,
             "#fdca26"
            ],
            [
             1,
             "#f0f921"
            ]
           ]
          },
          "colorway": [
           "#636efa",
           "#EF553B",
           "#00cc96",
           "#ab63fa",
           "#FFA15A",
           "#19d3f3",
           "#FF6692",
           "#B6E880",
           "#FF97FF",
           "#FECB52"
          ],
          "font": {
           "color": "#f2f5fa"
          },
          "geo": {
           "bgcolor": "rgb(17,17,17)",
           "lakecolor": "rgb(17,17,17)",
           "landcolor": "rgb(17,17,17)",
           "showlakes": true,
           "showland": true,
           "subunitcolor": "#506784"
          },
          "hoverlabel": {
           "align": "left"
          },
          "hovermode": "closest",
          "mapbox": {
           "style": "dark"
          },
          "paper_bgcolor": "rgb(17,17,17)",
          "plot_bgcolor": "rgb(17,17,17)",
          "polar": {
           "angularaxis": {
            "gridcolor": "#506784",
            "linecolor": "#506784",
            "ticks": ""
           },
           "bgcolor": "rgb(17,17,17)",
           "radialaxis": {
            "gridcolor": "#506784",
            "linecolor": "#506784",
            "ticks": ""
           }
          },
          "scene": {
           "xaxis": {
            "backgroundcolor": "rgb(17,17,17)",
            "gridcolor": "#506784",
            "gridwidth": 2,
            "linecolor": "#506784",
            "showbackground": true,
            "ticks": "",
            "zerolinecolor": "#C8D4E3"
           },
           "yaxis": {
            "backgroundcolor": "rgb(17,17,17)",
            "gridcolor": "#506784",
            "gridwidth": 2,
            "linecolor": "#506784",
            "showbackground": true,
            "ticks": "",
            "zerolinecolor": "#C8D4E3"
           },
           "zaxis": {
            "backgroundcolor": "rgb(17,17,17)",
            "gridcolor": "#506784",
            "gridwidth": 2,
            "linecolor": "#506784",
            "showbackground": true,
            "ticks": "",
            "zerolinecolor": "#C8D4E3"
           }
          },
          "shapedefaults": {
           "line": {
            "color": "#f2f5fa"
           }
          },
          "sliderdefaults": {
           "bgcolor": "#C8D4E3",
           "bordercolor": "rgb(17,17,17)",
           "borderwidth": 1,
           "tickwidth": 0
          },
          "ternary": {
           "aaxis": {
            "gridcolor": "#506784",
            "linecolor": "#506784",
            "ticks": ""
           },
           "baxis": {
            "gridcolor": "#506784",
            "linecolor": "#506784",
            "ticks": ""
           },
           "bgcolor": "rgb(17,17,17)",
           "caxis": {
            "gridcolor": "#506784",
            "linecolor": "#506784",
            "ticks": ""
           }
          },
          "title": {
           "x": 0.05
          },
          "updatemenudefaults": {
           "bgcolor": "#506784",
           "borderwidth": 0
          },
          "xaxis": {
           "automargin": true,
           "gridcolor": "#283442",
           "linecolor": "#506784",
           "ticks": "",
           "title": {
            "standoff": 15
           },
           "zerolinecolor": "#283442",
           "zerolinewidth": 2
          },
          "yaxis": {
           "automargin": true,
           "gridcolor": "#283442",
           "linecolor": "#506784",
           "ticks": "",
           "title": {
            "standoff": 15
           },
           "zerolinecolor": "#283442",
           "zerolinewidth": 2
          }
         }
        },
        "title": {
         "font": {
          "size": 20
         },
         "text": "GRE Score Vs Chance Of Admit - SOP",
         "x": 0.5,
         "y": 0.88
        },
        "xaxis": {
         "title": {
          "font": {
           "size": 16
          },
          "text": "GRE Score"
         }
        },
        "yaxis": {
         "title": {
          "font": {
           "size": 16
          },
          "text": "Chance Of Admit"
         }
        }
       }
      },
      "text/html": [
       "<div>                            <div id=\"647da9a3-9a9f-4b07-832a-28ac91ab4c4f\" class=\"plotly-graph-div\" style=\"height:525px; width:100%;\"></div>            <script type=\"text/javascript\">                require([\"plotly\"], function(Plotly) {                    window.PLOTLYENV=window.PLOTLYENV || {};                                    if (document.getElementById(\"647da9a3-9a9f-4b07-832a-28ac91ab4c4f\")) {                    Plotly.newPlot(                        \"647da9a3-9a9f-4b07-832a-28ac91ab4c4f\",                        [{\"marker\":{\"color\":[4.5,4.0,3.0,3.5,2.0,4.5,3.0,3.0,2.0,3.5,3.5,4.0,4.0,4.0,3.5,3.5,4.0,4.0,4.0,3.5,3.0,3.0,5.0,5.0,4.0,4.5,4.5,1.5,2.0,1.5,3.0,4.0,3.0,4.0,4.0,5.0,4.0,1.0,3.0,4.0,3.5,2.5,2.5,4.5,4.5,5.0,4.0,4.5,3.5,3.0,2.5,1.5,4.0,4.0,3.0,3.0,2.0,4.0,3.0,2.0,3.0,4.0,3.0,4.0,3.0,3.5,3.0,3.5,3.5,4.5,5.0,5.0,5.0,4.5,3.0,2.0,3.0,3.0,3.0,1.5,2.0,5.0,5.0,4.0,4.5,4.5,4.5,3.5,4.5,4.5,4.0,5.0,4.0,3.0,2.0,1.5,3.0,4.0,5.0,4.0,3.5,2.5,4.0,4.5,3.5,4.0,4.5,3.5,5.0,5.0,3.0,4.0,3.5,4.0,3.5,4.5,4.0,2.0,3.0,3.0,5.0,4.5,1.5,3.5,2.5,2.0,4.0,2.5,3.5,5.0,4.0,5.0,3.5,4.0,4.0,3.5,5.0,1.5,4.5,3.5,4.0,4.5,4.0,4.5,3.0,2.0,2.0,3.0,4.0,3.5,4.0,5.0,5.0,3.0,3.0,3.0,2.0,2.0,2.0,1.5,1.5,1.5,3.0,3.5,4.5,4.5,3.5,2.0,2.0,2.5,2.5,4.0,4.0,4.0,4.0,4.5,4.5,3.5,2.5,3.0,3.5,2.5,3.0,4.0,2.5,4.5,3.5,4.5,4.5,5.0,4.5,4.0,4.5,4.5,3.5,3.0,3.0,3.5,4.5,4.0,2.5,3.5,4.5,4.0,3.5,2.5,3.5,3.5,3.0,3.5,4.5,5.0,5.0,5.0,4.5,5.0,4.5,4.0,3.0,3.5,4.0,3.5,4.5,3.0,3.0,2.5,3.5,3.5,4.0,3.0,4.0,3.5,2.5,2.5,5.0,4.5,4.0,4.5,2.0,1.5,2.5,2.5,3.5,3.5,2.5,4.0,3.0,2.5,3.5,3.5,3.0,2.5,2.5,4.5,4.0,4.0,4.0,4.0,5.0,5.0,5.0,3.5,2.5,2.5,3.0,2.5,2.0,3.0,4.5,4.5,2.5,1.5,1.5,1.0,2.0,3.5,5.0,2.5,3.0,3.0,4.5,4.0,4.0,2.5,5.0,4.0,4.5,5.0,5.0,4.0,2.5,1.5,1.0,3.5,2.5,3.0,3.5,4.0,4.5,3.0,2.5,2.5,3.0,3.5,2.5,3.5,4.0,4.0,3.5,3.5,3.0,4.5,4.5,3.5,3.0,2.5,1.5,1.0,2.5,3.5,4.0,4.0,2.5,2.0,3.0,3.5,2.0,2.5,4.0,2.5,3.5,3.0,3.5,3.0,4.5,4.0,3.0,5.0,4.0,3.5,3.0,3.5,3.0,2.5,1.5,1.5,1.5,1.0,2.0,2.5,3.0,3.5,3.0,3.5,2.5,2.0,3.5,3.5,2.5,2.0,4.0,4.0,4.5,2.5,3.5,4.5,3.5,1.0,2.0,2.0,2.5,3.5,4.5,3.0,2.0,2.0,2.5,1.5,2.0,2.5,3.5,3.0,4.5,3.0,5.0,5.0,2.5,2.0,1.5,3.5,2.0,2.0,4.0,3.0,4.5,3.5,3.0,5.0,3.5,5.0],\"showscale\":true,\"size\":16,\"symbol\":\"circle\"},\"mode\":\"markers\",\"type\":\"scatter\",\"x\":[337,324,316,322,314,330,321,308,302,323,325,327,328,307,311,314,317,319,318,303,312,325,328,334,336,340,322,298,295,310,300,327,338,340,331,320,299,300,304,307,308,316,313,332,326,322,329,339,321,327,313,312,334,324,322,320,316,298,300,311,309,307,304,315,325,325,327,316,318,328,332,336,321,314,314,329,327,301,296,294,312,340,320,322,340,319,315,317,314,316,318,299,298,301,303,304,306,331,332,323,322,312,314,317,326,316,329,338,331,304,305,321,301,320,311,310,299,290,296,327,335,334,310,308,301,300,323,319,326,333,339,303,309,323,333,314,312,316,326,318,329,332,331,340,325,320,315,326,339,311,334,332,321,324,326,312,315,309,306,297,315,298,318,317,329,322,302,313,293,311,312,334,322,323,321,320,329,319,309,307,300,305,299,314,316,327,317,335,331,324,324,323,322,336,316,307,306,310,311,313,317,315,340,334,298,295,315,310,305,301,325,328,338,333,331,330,322,321,324,312,313,316,324,308,305,296,306,312,318,324,313,319,312,304,330,326,325,329,310,299,296,317,324,325,314,328,316,311,324,321,320,316,318,335,321,307,309,324,326,331,327,312,308,324,325,313,312,314,327,308,306,299,294,312,315,322,329,320,308,304,311,317,312,321,340,331,336,324,314,313,307,300,302,312,316,317,310,320,330,305,309,319,322,323,313,321,323,325,312,308,320,328,311,301,305,308,298,300,324,327,317,323,314,305,315,326,299,295,324,297,327,311,308,319,312,325,319,332,323,324,312,326,308,305,295,316,304,299,302,313,318,325,303,300,297,317,327,301,314,321,322,334,338,306,313,330,320,311,298,301,310,324,336,321,315,304,297,290,303,311,322,319,324,300,340,335,302,307,296,320,314,318,326,317,329,324,325,330,312,333],\"y\":[92.0,76.0,72.0,80.0,65.0,90.0,75.0,68.0,50.0,45.0,52.0,84.0,78.0,62.0,61.0,54.0,66.0,65.0,63.0,62.0,64.0,70.0,94.0,95.0,97.0,94.0,76.0,44.0,46.0,54.0,65.0,74.0,91.0,90.0,94.0,88.0,64.0,57.99999999999999,52.0,48.0,46.0,49.0,53.0,87.0,91.0,88.0,86.0,89.0,82.0,78.0,76.0,56.00000000000001,78.0,72.0,70.0,64.0,64.0,46.0,36.0,42.0,48.0,47.0,54.0,56.00000000000001,52.0,55.00000000000001,61.0,56.99999999999999,68.0,78.0,94.0,96.0,93.0,84.0,74.0,72.0,74.0,64.0,44.0,46.0,50.0,96.0,92.0,92.0,94.0,76.0,72.0,66.0,64.0,74.0,64.0,38.0,34.0,44.0,36.0,42.0,48.0,86.0,90.0,79.0,71.0,64.0,62.0,56.99999999999999,74.0,69.0,87.0,91.0,93.0,68.0,61.0,69.0,62.0,72.0,59.0,66.0,56.00000000000001,45.0,47.0,71.0,94.0,94.0,56.99999999999999,61.0,56.99999999999999,64.0,85.0,78.0,84.0,92.0,96.0,77.0,71.0,79.0,89.0,82.0,76.0,71.0,80.0,78.0,84.0,90.0,92.0,97.0,80.0,81.0,75.0,83.0,96.0,79.0,93.0,94.0,86.0,79.0,80.0,77.0,70.0,65.0,61.0,52.0,56.99999999999999,53.0,67.0,68.0,81.0,78.0,65.0,64.0,64.0,65.0,68.0,89.0,86.0,89.0,87.0,85.0,90.0,82.0,72.0,73.0,71.0,71.0,68.0,75.0,72.0,89.0,84.0,93.0,93.0,88.0,90.0,87.0,86.0,94.0,77.0,78.0,73.0,73.0,70.0,72.0,73.0,72.0,97.0,97.0,69.0,56.99999999999999,63.0,66.0,64.0,68.0,79.0,82.0,95.0,96.0,94.0,93.0,91.0,85.0,84.0,74.0,76.0,75.0,76.0,71.0,67.0,61.0,63.0,64.0,71.0,82.0,73.0,74.0,69.0,64.0,91.0,88.0,85.0,86.0,70.0,59.0,60.0,65.0,70.0,76.0,63.0,81.0,72.0,71.0,80.0,77.0,74.0,70.0,71.0,93.0,85.0,79.0,76.0,78.0,77.0,90.0,87.0,71.0,70.0,70.0,75.0,71.0,72.0,73.0,83.0,77.0,72.0,54.0,49.0,52.0,57.99999999999999,78.0,89.0,70.0,66.0,67.0,68.0,80.0,81.0,80.0,94.0,93.0,92.0,89.0,82.0,79.0,57.99999999999999,56.00000000000001,56.00000000000001,64.0,61.0,68.0,76.0,86.0,90.0,71.0,62.0,66.0,65.0,73.0,62.0,74.0,79.0,80.0,69.0,70.0,76.0,84.0,78.0,67.0,66.0,65.0,54.0,57.99999999999999,79.0,80.0,75.0,73.0,72.0,62.0,67.0,81.0,63.0,69.0,80.0,43.0,80.0,73.0,75.0,71.0,73.0,83.0,72.0,94.0,81.0,81.0,75.0,79.0,57.99999999999999,59.0,47.0,49.0,47.0,42.0,56.99999999999999,62.0,74.0,73.0,64.0,63.0,59.0,73.0,79.0,68.0,70.0,81.0,85.0,93.0,91.0,69.0,77.0,86.0,74.0,56.99999999999999,51.0,67.0,72.0,89.0,95.0,79.0,39.0,38.0,34.0,47.0,56.00000000000001,71.0,78.0,73.0,82.0,62.0,96.0,96.0,46.0,53.0,49.0,76.0,64.0,71.0,84.0,77.0,89.0,82.0,84.0,91.0,67.0,95.0]}],                        {\"template\":{\"data\":{\"bar\":[{\"error_x\":{\"color\":\"#f2f5fa\"},\"error_y\":{\"color\":\"#f2f5fa\"},\"marker\":{\"line\":{\"color\":\"rgb(17,17,17)\",\"width\":0.5},\"pattern\":{\"fillmode\":\"overlay\",\"size\":10,\"solidity\":0.2}},\"type\":\"bar\"}],\"barpolar\":[{\"marker\":{\"line\":{\"color\":\"rgb(17,17,17)\",\"width\":0.5},\"pattern\":{\"fillmode\":\"overlay\",\"size\":10,\"solidity\":0.2}},\"type\":\"barpolar\"}],\"carpet\":[{\"aaxis\":{\"endlinecolor\":\"#A2B1C6\",\"gridcolor\":\"#506784\",\"linecolor\":\"#506784\",\"minorgridcolor\":\"#506784\",\"startlinecolor\":\"#A2B1C6\"},\"baxis\":{\"endlinecolor\":\"#A2B1C6\",\"gridcolor\":\"#506784\",\"linecolor\":\"#506784\",\"minorgridcolor\":\"#506784\",\"startlinecolor\":\"#A2B1C6\"},\"type\":\"carpet\"}],\"choropleth\":[{\"colorbar\":{\"outlinewidth\":0,\"ticks\":\"\"},\"type\":\"choropleth\"}],\"contour\":[{\"colorbar\":{\"outlinewidth\":0,\"ticks\":\"\"},\"colorscale\":[[0.0,\"#0d0887\"],[0.1111111111111111,\"#46039f\"],[0.2222222222222222,\"#7201a8\"],[0.3333333333333333,\"#9c179e\"],[0.4444444444444444,\"#bd3786\"],[0.5555555555555556,\"#d8576b\"],[0.6666666666666666,\"#ed7953\"],[0.7777777777777778,\"#fb9f3a\"],[0.8888888888888888,\"#fdca26\"],[1.0,\"#f0f921\"]],\"type\":\"contour\"}],\"contourcarpet\":[{\"colorbar\":{\"outlinewidth\":0,\"ticks\":\"\"},\"type\":\"contourcarpet\"}],\"heatmap\":[{\"colorbar\":{\"outlinewidth\":0,\"ticks\":\"\"},\"colorscale\":[[0.0,\"#0d0887\"],[0.1111111111111111,\"#46039f\"],[0.2222222222222222,\"#7201a8\"],[0.3333333333333333,\"#9c179e\"],[0.4444444444444444,\"#bd3786\"],[0.5555555555555556,\"#d8576b\"],[0.6666666666666666,\"#ed7953\"],[0.7777777777777778,\"#fb9f3a\"],[0.8888888888888888,\"#fdca26\"],[1.0,\"#f0f921\"]],\"type\":\"heatmap\"}],\"heatmapgl\":[{\"colorbar\":{\"outlinewidth\":0,\"ticks\":\"\"},\"colorscale\":[[0.0,\"#0d0887\"],[0.1111111111111111,\"#46039f\"],[0.2222222222222222,\"#7201a8\"],[0.3333333333333333,\"#9c179e\"],[0.4444444444444444,\"#bd3786\"],[0.5555555555555556,\"#d8576b\"],[0.6666666666666666,\"#ed7953\"],[0.7777777777777778,\"#fb9f3a\"],[0.8888888888888888,\"#fdca26\"],[1.0,\"#f0f921\"]],\"type\":\"heatmapgl\"}],\"histogram\":[{\"marker\":{\"pattern\":{\"fillmode\":\"overlay\",\"size\":10,\"solidity\":0.2}},\"type\":\"histogram\"}],\"histogram2d\":[{\"colorbar\":{\"outlinewidth\":0,\"ticks\":\"\"},\"colorscale\":[[0.0,\"#0d0887\"],[0.1111111111111111,\"#46039f\"],[0.2222222222222222,\"#7201a8\"],[0.3333333333333333,\"#9c179e\"],[0.4444444444444444,\"#bd3786\"],[0.5555555555555556,\"#d8576b\"],[0.6666666666666666,\"#ed7953\"],[0.7777777777777778,\"#fb9f3a\"],[0.8888888888888888,\"#fdca26\"],[1.0,\"#f0f921\"]],\"type\":\"histogram2d\"}],\"histogram2dcontour\":[{\"colorbar\":{\"outlinewidth\":0,\"ticks\":\"\"},\"colorscale\":[[0.0,\"#0d0887\"],[0.1111111111111111,\"#46039f\"],[0.2222222222222222,\"#7201a8\"],[0.3333333333333333,\"#9c179e\"],[0.4444444444444444,\"#bd3786\"],[0.5555555555555556,\"#d8576b\"],[0.6666666666666666,\"#ed7953\"],[0.7777777777777778,\"#fb9f3a\"],[0.8888888888888888,\"#fdca26\"],[1.0,\"#f0f921\"]],\"type\":\"histogram2dcontour\"}],\"mesh3d\":[{\"colorbar\":{\"outlinewidth\":0,\"ticks\":\"\"},\"type\":\"mesh3d\"}],\"parcoords\":[{\"line\":{\"colorbar\":{\"outlinewidth\":0,\"ticks\":\"\"}},\"type\":\"parcoords\"}],\"pie\":[{\"automargin\":true,\"type\":\"pie\"}],\"scatter\":[{\"marker\":{\"line\":{\"color\":\"#283442\"}},\"type\":\"scatter\"}],\"scatter3d\":[{\"line\":{\"colorbar\":{\"outlinewidth\":0,\"ticks\":\"\"}},\"marker\":{\"colorbar\":{\"outlinewidth\":0,\"ticks\":\"\"}},\"type\":\"scatter3d\"}],\"scattercarpet\":[{\"marker\":{\"colorbar\":{\"outlinewidth\":0,\"ticks\":\"\"}},\"type\":\"scattercarpet\"}],\"scattergeo\":[{\"marker\":{\"colorbar\":{\"outlinewidth\":0,\"ticks\":\"\"}},\"type\":\"scattergeo\"}],\"scattergl\":[{\"marker\":{\"line\":{\"color\":\"#283442\"}},\"type\":\"scattergl\"}],\"scattermapbox\":[{\"marker\":{\"colorbar\":{\"outlinewidth\":0,\"ticks\":\"\"}},\"type\":\"scattermapbox\"}],\"scatterpolar\":[{\"marker\":{\"colorbar\":{\"outlinewidth\":0,\"ticks\":\"\"}},\"type\":\"scatterpolar\"}],\"scatterpolargl\":[{\"marker\":{\"colorbar\":{\"outlinewidth\":0,\"ticks\":\"\"}},\"type\":\"scatterpolargl\"}],\"scatterternary\":[{\"marker\":{\"colorbar\":{\"outlinewidth\":0,\"ticks\":\"\"}},\"type\":\"scatterternary\"}],\"surface\":[{\"colorbar\":{\"outlinewidth\":0,\"ticks\":\"\"},\"colorscale\":[[0.0,\"#0d0887\"],[0.1111111111111111,\"#46039f\"],[0.2222222222222222,\"#7201a8\"],[0.3333333333333333,\"#9c179e\"],[0.4444444444444444,\"#bd3786\"],[0.5555555555555556,\"#d8576b\"],[0.6666666666666666,\"#ed7953\"],[0.7777777777777778,\"#fb9f3a\"],[0.8888888888888888,\"#fdca26\"],[1.0,\"#f0f921\"]],\"type\":\"surface\"}],\"table\":[{\"cells\":{\"fill\":{\"color\":\"#506784\"},\"line\":{\"color\":\"rgb(17,17,17)\"}},\"header\":{\"fill\":{\"color\":\"#2a3f5f\"},\"line\":{\"color\":\"rgb(17,17,17)\"}},\"type\":\"table\"}]},\"layout\":{\"annotationdefaults\":{\"arrowcolor\":\"#f2f5fa\",\"arrowhead\":0,\"arrowwidth\":1},\"autotypenumbers\":\"strict\",\"coloraxis\":{\"colorbar\":{\"outlinewidth\":0,\"ticks\":\"\"}},\"colorscale\":{\"diverging\":[[0,\"#8e0152\"],[0.1,\"#c51b7d\"],[0.2,\"#de77ae\"],[0.3,\"#f1b6da\"],[0.4,\"#fde0ef\"],[0.5,\"#f7f7f7\"],[0.6,\"#e6f5d0\"],[0.7,\"#b8e186\"],[0.8,\"#7fbc41\"],[0.9,\"#4d9221\"],[1,\"#276419\"]],\"sequential\":[[0.0,\"#0d0887\"],[0.1111111111111111,\"#46039f\"],[0.2222222222222222,\"#7201a8\"],[0.3333333333333333,\"#9c179e\"],[0.4444444444444444,\"#bd3786\"],[0.5555555555555556,\"#d8576b\"],[0.6666666666666666,\"#ed7953\"],[0.7777777777777778,\"#fb9f3a\"],[0.8888888888888888,\"#fdca26\"],[1.0,\"#f0f921\"]],\"sequentialminus\":[[0.0,\"#0d0887\"],[0.1111111111111111,\"#46039f\"],[0.2222222222222222,\"#7201a8\"],[0.3333333333333333,\"#9c179e\"],[0.4444444444444444,\"#bd3786\"],[0.5555555555555556,\"#d8576b\"],[0.6666666666666666,\"#ed7953\"],[0.7777777777777778,\"#fb9f3a\"],[0.8888888888888888,\"#fdca26\"],[1.0,\"#f0f921\"]]},\"colorway\":[\"#636efa\",\"#EF553B\",\"#00cc96\",\"#ab63fa\",\"#FFA15A\",\"#19d3f3\",\"#FF6692\",\"#B6E880\",\"#FF97FF\",\"#FECB52\"],\"font\":{\"color\":\"#f2f5fa\"},\"geo\":{\"bgcolor\":\"rgb(17,17,17)\",\"lakecolor\":\"rgb(17,17,17)\",\"landcolor\":\"rgb(17,17,17)\",\"showlakes\":true,\"showland\":true,\"subunitcolor\":\"#506784\"},\"hoverlabel\":{\"align\":\"left\"},\"hovermode\":\"closest\",\"mapbox\":{\"style\":\"dark\"},\"paper_bgcolor\":\"rgb(17,17,17)\",\"plot_bgcolor\":\"rgb(17,17,17)\",\"polar\":{\"angularaxis\":{\"gridcolor\":\"#506784\",\"linecolor\":\"#506784\",\"ticks\":\"\"},\"bgcolor\":\"rgb(17,17,17)\",\"radialaxis\":{\"gridcolor\":\"#506784\",\"linecolor\":\"#506784\",\"ticks\":\"\"}},\"scene\":{\"xaxis\":{\"backgroundcolor\":\"rgb(17,17,17)\",\"gridcolor\":\"#506784\",\"gridwidth\":2,\"linecolor\":\"#506784\",\"showbackground\":true,\"ticks\":\"\",\"zerolinecolor\":\"#C8D4E3\"},\"yaxis\":{\"backgroundcolor\":\"rgb(17,17,17)\",\"gridcolor\":\"#506784\",\"gridwidth\":2,\"linecolor\":\"#506784\",\"showbackground\":true,\"ticks\":\"\",\"zerolinecolor\":\"#C8D4E3\"},\"zaxis\":{\"backgroundcolor\":\"rgb(17,17,17)\",\"gridcolor\":\"#506784\",\"gridwidth\":2,\"linecolor\":\"#506784\",\"showbackground\":true,\"ticks\":\"\",\"zerolinecolor\":\"#C8D4E3\"}},\"shapedefaults\":{\"line\":{\"color\":\"#f2f5fa\"}},\"sliderdefaults\":{\"bgcolor\":\"#C8D4E3\",\"bordercolor\":\"rgb(17,17,17)\",\"borderwidth\":1,\"tickwidth\":0},\"ternary\":{\"aaxis\":{\"gridcolor\":\"#506784\",\"linecolor\":\"#506784\",\"ticks\":\"\"},\"baxis\":{\"gridcolor\":\"#506784\",\"linecolor\":\"#506784\",\"ticks\":\"\"},\"bgcolor\":\"rgb(17,17,17)\",\"caxis\":{\"gridcolor\":\"#506784\",\"linecolor\":\"#506784\",\"ticks\":\"\"}},\"title\":{\"x\":0.05},\"updatemenudefaults\":{\"bgcolor\":\"#506784\",\"borderwidth\":0},\"xaxis\":{\"automargin\":true,\"gridcolor\":\"#283442\",\"linecolor\":\"#506784\",\"ticks\":\"\",\"title\":{\"standoff\":15},\"zerolinecolor\":\"#283442\",\"zerolinewidth\":2},\"yaxis\":{\"automargin\":true,\"gridcolor\":\"#283442\",\"linecolor\":\"#506784\",\"ticks\":\"\",\"title\":{\"standoff\":15},\"zerolinecolor\":\"#283442\",\"zerolinewidth\":2}}},\"title\":{\"font\":{\"size\":20},\"text\":\"GRE Score Vs Chance Of Admit - SOP\",\"x\":0.5,\"y\":0.88},\"xaxis\":{\"title\":{\"font\":{\"size\":16},\"text\":\"GRE Score\"}},\"yaxis\":{\"title\":{\"font\":{\"size\":16},\"text\":\"Chance Of Admit\"}}},                        {\"responsive\": true}                    ).then(function(){\n",
       "                            \n",
       "var gd = document.getElementById('647da9a3-9a9f-4b07-832a-28ac91ab4c4f');\n",
       "var x = new MutationObserver(function (mutations, observer) {{\n",
       "        var display = window.getComputedStyle(gd).display;\n",
       "        if (!display || display === 'none') {{\n",
       "            console.log([gd, 'removed!']);\n",
       "            Plotly.purge(gd);\n",
       "            observer.disconnect();\n",
       "        }}\n",
       "}});\n",
       "\n",
       "// Listen for the removal of the full notebook cells\n",
       "var notebookContainer = gd.closest('#notebook-container');\n",
       "if (notebookContainer) {{\n",
       "    x.observe(notebookContainer, {childList: true});\n",
       "}}\n",
       "\n",
       "// Listen for the clearing of the current output cell\n",
       "var outputEl = gd.closest('.output');\n",
       "if (outputEl) {{\n",
       "    x.observe(outputEl, {childList: true});\n",
       "}}\n",
       "\n",
       "                        })                };                });            </script>        </div>"
      ]
     },
     "metadata": {},
     "output_type": "display_data"
    }
   ],
   "source": [
    "data = [go.Scatter(x = data_col_chng['GRE Score'], \n",
    "                   y = data_col_chng['Chance of Admit']*100, \n",
    "                   mode = 'markers', \n",
    "                   marker = dict(symbol = 'circle', \n",
    "                                 size = 16, \n",
    "                                 color = data_col_chng['SOP'], \n",
    "                                 showscale = True))]\n",
    "\n",
    "layout = go.Layout(title = dict(text = 'GRE Score Vs Chance Of Admit - SOP', \n",
    "                                x = 0.5, \n",
    "                                y = 0.88, \n",
    "                                font = {'size': 20}),\n",
    "                   xaxis = dict(title = 'GRE Score', \n",
    "                                titlefont = {'size': 16}),\n",
    "                   yaxis = dict(title = 'Chance Of Admit', \n",
    "                                titlefont = {'size': 16}),\n",
    "                   template = 'plotly_dark')\n",
    "\n",
    "fig = go.Figure(data = data, \n",
    "                layout = layout)\n",
    "\n",
    "iplot(fig)"
   ]
  },
  {
   "cell_type": "code",
   "execution_count": 15,
   "id": "a3b24675",
   "metadata": {},
   "outputs": [
    {
     "data": {
      "application/vnd.plotly.v1+json": {
       "config": {
        "linkText": "Export to plot.ly",
        "plotlyServerURL": "https://plot.ly",
        "showLink": false
       },
       "data": [
        {
         "marker": {
          "color": [
           4,
           4,
           3,
           3,
           2,
           5,
           3,
           2,
           1,
           3,
           3,
           4,
           4,
           3,
           3,
           3,
           3,
           3,
           3,
           3,
           3,
           4,
           5,
           5,
           5,
           5,
           5,
           2,
           1,
           2,
           2,
           3,
           4,
           5,
           5,
           5,
           2,
           1,
           1,
           2,
           3,
           2,
           2,
           4,
           5,
           5,
           5,
           5,
           3,
           4,
           3,
           2,
           4,
           4,
           3,
           3,
           3,
           2,
           1,
           2,
           2,
           3,
           2,
           2,
           3,
           4,
           3,
           2,
           3,
           4,
           5,
           5,
           5,
           4,
           3,
           2,
           3,
           2,
           2,
           1,
           3,
           4,
           5,
           5,
           5,
           4,
           3,
           2,
           3,
           4,
           2,
           3,
           2,
           2,
           3,
           4,
           2,
           3,
           4,
           3,
           3,
           2,
           2,
           2,
           3,
           3,
           4,
           4,
           5,
           5,
           5,
           4,
           3,
           2,
           3,
           4,
           3,
           4,
           2,
           5,
           5,
           5,
           4,
           3,
           4,
           3,
           3,
           3,
           3,
           5,
           5,
           5,
           5,
           5,
           5,
           4,
           3,
           2,
           2,
           1,
           2,
           2,
           5,
           4,
           2,
           2,
           3,
           3,
           4,
           2,
           4,
           5,
           5,
           3,
           3,
           3,
           3,
           2,
           2,
           1,
           1,
           1,
           3,
           3,
           4,
           5,
           3,
           3,
           2,
           2,
           2,
           5,
           4,
           4,
           4,
           4,
           4,
           3,
           3,
           3,
           3,
           2,
           2,
           3,
           2,
           4,
           3,
           5,
           5,
           5,
           5,
           5,
           5,
           5,
           3,
           2,
           2,
           2,
           3,
           3,
           3,
           2,
           5,
           5,
           3,
           2,
           2,
           3,
           2,
           3,
           4,
           4,
           4,
           5,
           4,
           5,
           4,
           4,
           4,
           3,
           3,
           3,
           4,
           2,
           2,
           2,
           2,
           2,
           3,
           4,
           3,
           3,
           2,
           2,
           5,
           5,
           4,
           5,
           3,
           1,
           1,
           2,
           3,
           3,
           2,
           4,
           3,
           2,
           3,
           3,
           3,
           2,
           2,
           4,
           4,
           4,
           3,
           3,
           4,
           4,
           5,
           3,
           2,
           3,
           2,
           3,
           2,
           3,
           4,
           4,
           2,
           2,
           1,
           1,
           1,
           3,
           5,
           2,
           2,
           2,
           3,
           3,
           3,
           3,
           4,
           5,
           5,
           5,
           4,
           3,
           2,
           2,
           2,
           1,
           2,
           2,
           3,
           3,
           3,
           3,
           2,
           2,
           2,
           3,
           2,
           3,
           3,
           4,
           3,
           4,
           3,
           4,
           4,
           3,
           2,
           2,
           2,
           1,
           3,
           4,
           3,
           3,
           2,
           2,
           3,
           3,
           3,
           2,
           4,
           2,
           3,
           2,
           3,
           3,
           4,
           4,
           3,
           5,
           5,
           5,
           3,
           3,
           3,
           2,
           2,
           1,
           2,
           1,
           1,
           3,
           3,
           4,
           2,
           3,
           2,
           2,
           3,
           2,
           2,
           2,
           3,
           4,
           5,
           2,
           3,
           4,
           3,
           1,
           1,
           1,
           2,
           3,
           4,
           3,
           2,
           2,
           2,
           1,
           1,
           1,
           3,
           3,
           4,
           3,
           4,
           5,
           2,
           2,
           2,
           3,
           2,
           3,
           4,
           2,
           4,
           3,
           3,
           4,
           3,
           4
          ],
          "showscale": true,
          "size": 16,
          "symbol": "circle"
         },
         "mode": "markers",
         "type": "scatter",
         "x": [
          9.65,
          8.87,
          8,
          8.67,
          8.21,
          9.34,
          8.2,
          7.9,
          8,
          8.6,
          8.4,
          9,
          9.1,
          8,
          8.2,
          8.3,
          8.7,
          8,
          8.8,
          8.5,
          7.9,
          8.4,
          9.5,
          9.7,
          9.8,
          9.6,
          8.8,
          7.5,
          7.2,
          7.3,
          8.1,
          8.3,
          9.4,
          9.6,
          9.8,
          9.2,
          8.4,
          7.8,
          7.5,
          7.7,
          8,
          8.2,
          8.5,
          9.1,
          9.4,
          9.1,
          9.3,
          9.7,
          8.85,
          8.4,
          8.3,
          7.9,
          8,
          8.1,
          8,
          7.7,
          7.4,
          7.6,
          6.8,
          8.3,
          8.1,
          8.2,
          8.2,
          8.5,
          8.7,
          8.92,
          9.02,
          8.64,
          9.22,
          9.16,
          9.64,
          9.76,
          9.45,
          9.04,
          8.9,
          8.56,
          8.72,
          8.22,
          7.54,
          7.36,
          8.02,
          9.5,
          9.22,
          9.36,
          9.45,
          8.66,
          8.42,
          8.28,
          8.14,
          8.76,
          7.92,
          7.66,
          8.03,
          7.88,
          7.66,
          7.84,
          8,
          8.96,
          9.24,
          8.88,
          8.46,
          8.12,
          8.25,
          8.47,
          9.05,
          8.78,
          9.18,
          9.46,
          9.38,
          8.64,
          8.48,
          8.68,
          8.34,
          8.56,
          8.45,
          9.04,
          8.62,
          7.46,
          7.28,
          8.84,
          9.56,
          9.48,
          8.36,
          8.22,
          8.47,
          8.66,
          9.32,
          8.71,
          9.1,
          9.35,
          9.76,
          8.65,
          8.56,
          8.78,
          9.28,
          8.77,
          8.45,
          8.16,
          9.08,
          9.12,
          9.15,
          9.36,
          9.44,
          9.92,
          8.96,
          8.64,
          8.48,
          9.11,
          9.8,
          8.26,
          9.43,
          9.28,
          9.06,
          8.75,
          8.89,
          8.69,
          8.34,
          8.26,
          8.14,
          7.9,
          7.86,
          7.46,
          8.5,
          8.56,
          9.01,
          8.97,
          8.33,
          8.27,
          7.8,
          7.98,
          8.04,
          9.07,
          9.13,
          9.23,
          8.97,
          8.87,
          9.16,
          9.04,
          8.12,
          8.27,
          8.16,
          8.42,
          7.88,
          8.8,
          8.32,
          9.11,
          8.68,
          9.44,
          9.36,
          9.08,
          9.16,
          8.98,
          8.94,
          9.53,
          8.76,
          8.52,
          8.26,
          8.33,
          8.43,
          8.69,
          8.54,
          8.46,
          9.91,
          9.87,
          8.54,
          7.65,
          7.89,
          8.02,
          8.16,
          8.12,
          9.06,
          9.14,
          9.66,
          9.78,
          9.42,
          9.36,
          9.26,
          9.13,
          8.97,
          8.42,
          8.75,
          8.56,
          8.79,
          8.45,
          8.23,
          8.03,
          8.45,
          8.53,
          8.67,
          9.01,
          8.65,
          8.33,
          8.27,
          8.07,
          9.31,
          9.23,
          9.17,
          9.19,
          8.37,
          7.89,
          7.68,
          8.15,
          8.76,
          9.04,
          8.56,
          9.02,
          8.73,
          8.48,
          8.87,
          8.83,
          8.57,
          9,
          8.54,
          9.68,
          9.12,
          8.37,
          8.56,
          8.64,
          8.76,
          9.34,
          9.13,
          8.09,
          8.36,
          8.79,
          8.76,
          8.68,
          8.45,
          8.17,
          9.14,
          8.34,
          8.22,
          7.86,
          7.64,
          8.01,
          7.95,
          8.96,
          9.45,
          8.62,
          8.49,
          8.73,
          8.64,
          9.11,
          8.79,
          8.9,
          9.66,
          9.26,
          9.19,
          9.08,
          9.02,
          9,
          7.65,
          7.87,
          7.97,
          8.18,
          8.32,
          8.57,
          8.67,
          9.11,
          9.24,
          8.65,
          8,
          8.76,
          8.45,
          8.55,
          8.43,
          8.8,
          9.1,
          9,
          8.53,
          8.6,
          8.74,
          9.18,
          9,
          8.04,
          8.13,
          8.07,
          7.86,
          8.01,
          8.8,
          8.69,
          8.5,
          8.44,
          8.27,
          8.18,
          8.33,
          9.14,
          8.02,
          7.86,
          8.77,
          7.89,
          8.66,
          8.12,
          8.21,
          8.54,
          8.65,
          9.11,
          8.79,
          9.47,
          8.74,
          8.66,
          8.46,
          8.76,
          8.24,
          8.13,
          7.34,
          7.43,
          7.64,
          7.34,
          7.25,
          8.04,
          8.27,
          8.67,
          8.06,
          8.17,
          7.67,
          8.12,
          8.77,
          7.89,
          7.64,
          8.44,
          8.64,
          9.54,
          9.23,
          8.36,
          8.9,
          9.17,
          8.34,
          7.46,
          7.88,
          8.03,
          8.24,
          9.22,
          9.62,
          8.54,
          7.65,
          7.66,
          7.43,
          7.56,
          7.65,
          8.43,
          8.84,
          8.67,
          9.15,
          8.26,
          9.74,
          9.82,
          7.96,
          8.1,
          7.8,
          8.44,
          8.24,
          8.65,
          9.12,
          8.76,
          9.23,
          9.04,
          9.11,
          9.45,
          8.78,
          9.66
         ],
         "y": [
          92,
          76,
          72,
          80,
          65,
          90,
          75,
          68,
          50,
          45,
          52,
          84,
          78,
          62,
          61,
          54,
          66,
          65,
          63,
          62,
          64,
          70,
          94,
          95,
          97,
          94,
          76,
          44,
          46,
          54,
          65,
          74,
          91,
          90,
          94,
          88,
          64,
          57.99999999999999,
          52,
          48,
          46,
          49,
          53,
          87,
          91,
          88,
          86,
          89,
          82,
          78,
          76,
          56.00000000000001,
          78,
          72,
          70,
          64,
          64,
          46,
          36,
          42,
          48,
          47,
          54,
          56.00000000000001,
          52,
          55.00000000000001,
          61,
          56.99999999999999,
          68,
          78,
          94,
          96,
          93,
          84,
          74,
          72,
          74,
          64,
          44,
          46,
          50,
          96,
          92,
          92,
          94,
          76,
          72,
          66,
          64,
          74,
          64,
          38,
          34,
          44,
          36,
          42,
          48,
          86,
          90,
          79,
          71,
          64,
          62,
          56.99999999999999,
          74,
          69,
          87,
          91,
          93,
          68,
          61,
          69,
          62,
          72,
          59,
          66,
          56.00000000000001,
          45,
          47,
          71,
          94,
          94,
          56.99999999999999,
          61,
          56.99999999999999,
          64,
          85,
          78,
          84,
          92,
          96,
          77,
          71,
          79,
          89,
          82,
          76,
          71,
          80,
          78,
          84,
          90,
          92,
          97,
          80,
          81,
          75,
          83,
          96,
          79,
          93,
          94,
          86,
          79,
          80,
          77,
          70,
          65,
          61,
          52,
          56.99999999999999,
          53,
          67,
          68,
          81,
          78,
          65,
          64,
          64,
          65,
          68,
          89,
          86,
          89,
          87,
          85,
          90,
          82,
          72,
          73,
          71,
          71,
          68,
          75,
          72,
          89,
          84,
          93,
          93,
          88,
          90,
          87,
          86,
          94,
          77,
          78,
          73,
          73,
          70,
          72,
          73,
          72,
          97,
          97,
          69,
          56.99999999999999,
          63,
          66,
          64,
          68,
          79,
          82,
          95,
          96,
          94,
          93,
          91,
          85,
          84,
          74,
          76,
          75,
          76,
          71,
          67,
          61,
          63,
          64,
          71,
          82,
          73,
          74,
          69,
          64,
          91,
          88,
          85,
          86,
          70,
          59,
          60,
          65,
          70,
          76,
          63,
          81,
          72,
          71,
          80,
          77,
          74,
          70,
          71,
          93,
          85,
          79,
          76,
          78,
          77,
          90,
          87,
          71,
          70,
          70,
          75,
          71,
          72,
          73,
          83,
          77,
          72,
          54,
          49,
          52,
          57.99999999999999,
          78,
          89,
          70,
          66,
          67,
          68,
          80,
          81,
          80,
          94,
          93,
          92,
          89,
          82,
          79,
          57.99999999999999,
          56.00000000000001,
          56.00000000000001,
          64,
          61,
          68,
          76,
          86,
          90,
          71,
          62,
          66,
          65,
          73,
          62,
          74,
          79,
          80,
          69,
          70,
          76,
          84,
          78,
          67,
          66,
          65,
          54,
          57.99999999999999,
          79,
          80,
          75,
          73,
          72,
          62,
          67,
          81,
          63,
          69,
          80,
          43,
          80,
          73,
          75,
          71,
          73,
          83,
          72,
          94,
          81,
          81,
          75,
          79,
          57.99999999999999,
          59,
          47,
          49,
          47,
          42,
          56.99999999999999,
          62,
          74,
          73,
          64,
          63,
          59,
          73,
          79,
          68,
          70,
          81,
          85,
          93,
          91,
          69,
          77,
          86,
          74,
          56.99999999999999,
          51,
          67,
          72,
          89,
          95,
          79,
          39,
          38,
          34,
          47,
          56.00000000000001,
          71,
          78,
          73,
          82,
          62,
          96,
          96,
          46,
          53,
          49,
          76,
          64,
          71,
          84,
          77,
          89,
          82,
          84,
          91,
          67,
          95
         ]
        }
       ],
       "layout": {
        "template": {
         "data": {
          "bar": [
           {
            "error_x": {
             "color": "#f2f5fa"
            },
            "error_y": {
             "color": "#f2f5fa"
            },
            "marker": {
             "line": {
              "color": "rgb(17,17,17)",
              "width": 0.5
             },
             "pattern": {
              "fillmode": "overlay",
              "size": 10,
              "solidity": 0.2
             }
            },
            "type": "bar"
           }
          ],
          "barpolar": [
           {
            "marker": {
             "line": {
              "color": "rgb(17,17,17)",
              "width": 0.5
             },
             "pattern": {
              "fillmode": "overlay",
              "size": 10,
              "solidity": 0.2
             }
            },
            "type": "barpolar"
           }
          ],
          "carpet": [
           {
            "aaxis": {
             "endlinecolor": "#A2B1C6",
             "gridcolor": "#506784",
             "linecolor": "#506784",
             "minorgridcolor": "#506784",
             "startlinecolor": "#A2B1C6"
            },
            "baxis": {
             "endlinecolor": "#A2B1C6",
             "gridcolor": "#506784",
             "linecolor": "#506784",
             "minorgridcolor": "#506784",
             "startlinecolor": "#A2B1C6"
            },
            "type": "carpet"
           }
          ],
          "choropleth": [
           {
            "colorbar": {
             "outlinewidth": 0,
             "ticks": ""
            },
            "type": "choropleth"
           }
          ],
          "contour": [
           {
            "colorbar": {
             "outlinewidth": 0,
             "ticks": ""
            },
            "colorscale": [
             [
              0,
              "#0d0887"
             ],
             [
              0.1111111111111111,
              "#46039f"
             ],
             [
              0.2222222222222222,
              "#7201a8"
             ],
             [
              0.3333333333333333,
              "#9c179e"
             ],
             [
              0.4444444444444444,
              "#bd3786"
             ],
             [
              0.5555555555555556,
              "#d8576b"
             ],
             [
              0.6666666666666666,
              "#ed7953"
             ],
             [
              0.7777777777777778,
              "#fb9f3a"
             ],
             [
              0.8888888888888888,
              "#fdca26"
             ],
             [
              1,
              "#f0f921"
             ]
            ],
            "type": "contour"
           }
          ],
          "contourcarpet": [
           {
            "colorbar": {
             "outlinewidth": 0,
             "ticks": ""
            },
            "type": "contourcarpet"
           }
          ],
          "heatmap": [
           {
            "colorbar": {
             "outlinewidth": 0,
             "ticks": ""
            },
            "colorscale": [
             [
              0,
              "#0d0887"
             ],
             [
              0.1111111111111111,
              "#46039f"
             ],
             [
              0.2222222222222222,
              "#7201a8"
             ],
             [
              0.3333333333333333,
              "#9c179e"
             ],
             [
              0.4444444444444444,
              "#bd3786"
             ],
             [
              0.5555555555555556,
              "#d8576b"
             ],
             [
              0.6666666666666666,
              "#ed7953"
             ],
             [
              0.7777777777777778,
              "#fb9f3a"
             ],
             [
              0.8888888888888888,
              "#fdca26"
             ],
             [
              1,
              "#f0f921"
             ]
            ],
            "type": "heatmap"
           }
          ],
          "heatmapgl": [
           {
            "colorbar": {
             "outlinewidth": 0,
             "ticks": ""
            },
            "colorscale": [
             [
              0,
              "#0d0887"
             ],
             [
              0.1111111111111111,
              "#46039f"
             ],
             [
              0.2222222222222222,
              "#7201a8"
             ],
             [
              0.3333333333333333,
              "#9c179e"
             ],
             [
              0.4444444444444444,
              "#bd3786"
             ],
             [
              0.5555555555555556,
              "#d8576b"
             ],
             [
              0.6666666666666666,
              "#ed7953"
             ],
             [
              0.7777777777777778,
              "#fb9f3a"
             ],
             [
              0.8888888888888888,
              "#fdca26"
             ],
             [
              1,
              "#f0f921"
             ]
            ],
            "type": "heatmapgl"
           }
          ],
          "histogram": [
           {
            "marker": {
             "pattern": {
              "fillmode": "overlay",
              "size": 10,
              "solidity": 0.2
             }
            },
            "type": "histogram"
           }
          ],
          "histogram2d": [
           {
            "colorbar": {
             "outlinewidth": 0,
             "ticks": ""
            },
            "colorscale": [
             [
              0,
              "#0d0887"
             ],
             [
              0.1111111111111111,
              "#46039f"
             ],
             [
              0.2222222222222222,
              "#7201a8"
             ],
             [
              0.3333333333333333,
              "#9c179e"
             ],
             [
              0.4444444444444444,
              "#bd3786"
             ],
             [
              0.5555555555555556,
              "#d8576b"
             ],
             [
              0.6666666666666666,
              "#ed7953"
             ],
             [
              0.7777777777777778,
              "#fb9f3a"
             ],
             [
              0.8888888888888888,
              "#fdca26"
             ],
             [
              1,
              "#f0f921"
             ]
            ],
            "type": "histogram2d"
           }
          ],
          "histogram2dcontour": [
           {
            "colorbar": {
             "outlinewidth": 0,
             "ticks": ""
            },
            "colorscale": [
             [
              0,
              "#0d0887"
             ],
             [
              0.1111111111111111,
              "#46039f"
             ],
             [
              0.2222222222222222,
              "#7201a8"
             ],
             [
              0.3333333333333333,
              "#9c179e"
             ],
             [
              0.4444444444444444,
              "#bd3786"
             ],
             [
              0.5555555555555556,
              "#d8576b"
             ],
             [
              0.6666666666666666,
              "#ed7953"
             ],
             [
              0.7777777777777778,
              "#fb9f3a"
             ],
             [
              0.8888888888888888,
              "#fdca26"
             ],
             [
              1,
              "#f0f921"
             ]
            ],
            "type": "histogram2dcontour"
           }
          ],
          "mesh3d": [
           {
            "colorbar": {
             "outlinewidth": 0,
             "ticks": ""
            },
            "type": "mesh3d"
           }
          ],
          "parcoords": [
           {
            "line": {
             "colorbar": {
              "outlinewidth": 0,
              "ticks": ""
             }
            },
            "type": "parcoords"
           }
          ],
          "pie": [
           {
            "automargin": true,
            "type": "pie"
           }
          ],
          "scatter": [
           {
            "marker": {
             "line": {
              "color": "#283442"
             }
            },
            "type": "scatter"
           }
          ],
          "scatter3d": [
           {
            "line": {
             "colorbar": {
              "outlinewidth": 0,
              "ticks": ""
             }
            },
            "marker": {
             "colorbar": {
              "outlinewidth": 0,
              "ticks": ""
             }
            },
            "type": "scatter3d"
           }
          ],
          "scattercarpet": [
           {
            "marker": {
             "colorbar": {
              "outlinewidth": 0,
              "ticks": ""
             }
            },
            "type": "scattercarpet"
           }
          ],
          "scattergeo": [
           {
            "marker": {
             "colorbar": {
              "outlinewidth": 0,
              "ticks": ""
             }
            },
            "type": "scattergeo"
           }
          ],
          "scattergl": [
           {
            "marker": {
             "line": {
              "color": "#283442"
             }
            },
            "type": "scattergl"
           }
          ],
          "scattermapbox": [
           {
            "marker": {
             "colorbar": {
              "outlinewidth": 0,
              "ticks": ""
             }
            },
            "type": "scattermapbox"
           }
          ],
          "scatterpolar": [
           {
            "marker": {
             "colorbar": {
              "outlinewidth": 0,
              "ticks": ""
             }
            },
            "type": "scatterpolar"
           }
          ],
          "scatterpolargl": [
           {
            "marker": {
             "colorbar": {
              "outlinewidth": 0,
              "ticks": ""
             }
            },
            "type": "scatterpolargl"
           }
          ],
          "scatterternary": [
           {
            "marker": {
             "colorbar": {
              "outlinewidth": 0,
              "ticks": ""
             }
            },
            "type": "scatterternary"
           }
          ],
          "surface": [
           {
            "colorbar": {
             "outlinewidth": 0,
             "ticks": ""
            },
            "colorscale": [
             [
              0,
              "#0d0887"
             ],
             [
              0.1111111111111111,
              "#46039f"
             ],
             [
              0.2222222222222222,
              "#7201a8"
             ],
             [
              0.3333333333333333,
              "#9c179e"
             ],
             [
              0.4444444444444444,
              "#bd3786"
             ],
             [
              0.5555555555555556,
              "#d8576b"
             ],
             [
              0.6666666666666666,
              "#ed7953"
             ],
             [
              0.7777777777777778,
              "#fb9f3a"
             ],
             [
              0.8888888888888888,
              "#fdca26"
             ],
             [
              1,
              "#f0f921"
             ]
            ],
            "type": "surface"
           }
          ],
          "table": [
           {
            "cells": {
             "fill": {
              "color": "#506784"
             },
             "line": {
              "color": "rgb(17,17,17)"
             }
            },
            "header": {
             "fill": {
              "color": "#2a3f5f"
             },
             "line": {
              "color": "rgb(17,17,17)"
             }
            },
            "type": "table"
           }
          ]
         },
         "layout": {
          "annotationdefaults": {
           "arrowcolor": "#f2f5fa",
           "arrowhead": 0,
           "arrowwidth": 1
          },
          "autotypenumbers": "strict",
          "coloraxis": {
           "colorbar": {
            "outlinewidth": 0,
            "ticks": ""
           }
          },
          "colorscale": {
           "diverging": [
            [
             0,
             "#8e0152"
            ],
            [
             0.1,
             "#c51b7d"
            ],
            [
             0.2,
             "#de77ae"
            ],
            [
             0.3,
             "#f1b6da"
            ],
            [
             0.4,
             "#fde0ef"
            ],
            [
             0.5,
             "#f7f7f7"
            ],
            [
             0.6,
             "#e6f5d0"
            ],
            [
             0.7,
             "#b8e186"
            ],
            [
             0.8,
             "#7fbc41"
            ],
            [
             0.9,
             "#4d9221"
            ],
            [
             1,
             "#276419"
            ]
           ],
           "sequential": [
            [
             0,
             "#0d0887"
            ],
            [
             0.1111111111111111,
             "#46039f"
            ],
            [
             0.2222222222222222,
             "#7201a8"
            ],
            [
             0.3333333333333333,
             "#9c179e"
            ],
            [
             0.4444444444444444,
             "#bd3786"
            ],
            [
             0.5555555555555556,
             "#d8576b"
            ],
            [
             0.6666666666666666,
             "#ed7953"
            ],
            [
             0.7777777777777778,
             "#fb9f3a"
            ],
            [
             0.8888888888888888,
             "#fdca26"
            ],
            [
             1,
             "#f0f921"
            ]
           ],
           "sequentialminus": [
            [
             0,
             "#0d0887"
            ],
            [
             0.1111111111111111,
             "#46039f"
            ],
            [
             0.2222222222222222,
             "#7201a8"
            ],
            [
             0.3333333333333333,
             "#9c179e"
            ],
            [
             0.4444444444444444,
             "#bd3786"
            ],
            [
             0.5555555555555556,
             "#d8576b"
            ],
            [
             0.6666666666666666,
             "#ed7953"
            ],
            [
             0.7777777777777778,
             "#fb9f3a"
            ],
            [
             0.8888888888888888,
             "#fdca26"
            ],
            [
             1,
             "#f0f921"
            ]
           ]
          },
          "colorway": [
           "#636efa",
           "#EF553B",
           "#00cc96",
           "#ab63fa",
           "#FFA15A",
           "#19d3f3",
           "#FF6692",
           "#B6E880",
           "#FF97FF",
           "#FECB52"
          ],
          "font": {
           "color": "#f2f5fa"
          },
          "geo": {
           "bgcolor": "rgb(17,17,17)",
           "lakecolor": "rgb(17,17,17)",
           "landcolor": "rgb(17,17,17)",
           "showlakes": true,
           "showland": true,
           "subunitcolor": "#506784"
          },
          "hoverlabel": {
           "align": "left"
          },
          "hovermode": "closest",
          "mapbox": {
           "style": "dark"
          },
          "paper_bgcolor": "rgb(17,17,17)",
          "plot_bgcolor": "rgb(17,17,17)",
          "polar": {
           "angularaxis": {
            "gridcolor": "#506784",
            "linecolor": "#506784",
            "ticks": ""
           },
           "bgcolor": "rgb(17,17,17)",
           "radialaxis": {
            "gridcolor": "#506784",
            "linecolor": "#506784",
            "ticks": ""
           }
          },
          "scene": {
           "xaxis": {
            "backgroundcolor": "rgb(17,17,17)",
            "gridcolor": "#506784",
            "gridwidth": 2,
            "linecolor": "#506784",
            "showbackground": true,
            "ticks": "",
            "zerolinecolor": "#C8D4E3"
           },
           "yaxis": {
            "backgroundcolor": "rgb(17,17,17)",
            "gridcolor": "#506784",
            "gridwidth": 2,
            "linecolor": "#506784",
            "showbackground": true,
            "ticks": "",
            "zerolinecolor": "#C8D4E3"
           },
           "zaxis": {
            "backgroundcolor": "rgb(17,17,17)",
            "gridcolor": "#506784",
            "gridwidth": 2,
            "linecolor": "#506784",
            "showbackground": true,
            "ticks": "",
            "zerolinecolor": "#C8D4E3"
           }
          },
          "shapedefaults": {
           "line": {
            "color": "#f2f5fa"
           }
          },
          "sliderdefaults": {
           "bgcolor": "#C8D4E3",
           "bordercolor": "rgb(17,17,17)",
           "borderwidth": 1,
           "tickwidth": 0
          },
          "ternary": {
           "aaxis": {
            "gridcolor": "#506784",
            "linecolor": "#506784",
            "ticks": ""
           },
           "baxis": {
            "gridcolor": "#506784",
            "linecolor": "#506784",
            "ticks": ""
           },
           "bgcolor": "rgb(17,17,17)",
           "caxis": {
            "gridcolor": "#506784",
            "linecolor": "#506784",
            "ticks": ""
           }
          },
          "title": {
           "x": 0.05
          },
          "updatemenudefaults": {
           "bgcolor": "#506784",
           "borderwidth": 0
          },
          "xaxis": {
           "automargin": true,
           "gridcolor": "#283442",
           "linecolor": "#506784",
           "ticks": "",
           "title": {
            "standoff": 15
           },
           "zerolinecolor": "#283442",
           "zerolinewidth": 2
          },
          "yaxis": {
           "automargin": true,
           "gridcolor": "#283442",
           "linecolor": "#506784",
           "ticks": "",
           "title": {
            "standoff": 15
           },
           "zerolinecolor": "#283442",
           "zerolinewidth": 2
          }
         }
        },
        "title": {
         "font": {
          "size": 20
         },
         "text": "CGPA Vs Chance Of Admit - University Rating",
         "x": 0.5,
         "y": 0.88
        },
        "xaxis": {
         "title": {
          "font": {
           "size": 16
          },
          "text": "CGPA"
         }
        },
        "yaxis": {
         "title": {
          "font": {
           "size": 16
          },
          "text": "Chance Of Admit"
         }
        }
       }
      },
      "text/html": [
       "<div>                            <div id=\"c22546da-4100-4adc-a6a0-66845c71b02a\" class=\"plotly-graph-div\" style=\"height:525px; width:100%;\"></div>            <script type=\"text/javascript\">                require([\"plotly\"], function(Plotly) {                    window.PLOTLYENV=window.PLOTLYENV || {};                                    if (document.getElementById(\"c22546da-4100-4adc-a6a0-66845c71b02a\")) {                    Plotly.newPlot(                        \"c22546da-4100-4adc-a6a0-66845c71b02a\",                        [{\"marker\":{\"color\":[4,4,3,3,2,5,3,2,1,3,3,4,4,3,3,3,3,3,3,3,3,4,5,5,5,5,5,2,1,2,2,3,4,5,5,5,2,1,1,2,3,2,2,4,5,5,5,5,3,4,3,2,4,4,3,3,3,2,1,2,2,3,2,2,3,4,3,2,3,4,5,5,5,4,3,2,3,2,2,1,3,4,5,5,5,4,3,2,3,4,2,3,2,2,3,4,2,3,4,3,3,2,2,2,3,3,4,4,5,5,5,4,3,2,3,4,3,4,2,5,5,5,4,3,4,3,3,3,3,5,5,5,5,5,5,4,3,2,2,1,2,2,5,4,2,2,3,3,4,2,4,5,5,3,3,3,3,2,2,1,1,1,3,3,4,5,3,3,2,2,2,5,4,4,4,4,4,3,3,3,3,2,2,3,2,4,3,5,5,5,5,5,5,5,3,2,2,2,3,3,3,2,5,5,3,2,2,3,2,3,4,4,4,5,4,5,4,4,4,3,3,3,4,2,2,2,2,2,3,4,3,3,2,2,5,5,4,5,3,1,1,2,3,3,2,4,3,2,3,3,3,2,2,4,4,4,3,3,4,4,5,3,2,3,2,3,2,3,4,4,2,2,1,1,1,3,5,2,2,2,3,3,3,3,4,5,5,5,4,3,2,2,2,1,2,2,3,3,3,3,2,2,2,3,2,3,3,4,3,4,3,4,4,3,2,2,2,1,3,4,3,3,2,2,3,3,3,2,4,2,3,2,3,3,4,4,3,5,5,5,3,3,3,2,2,1,2,1,1,3,3,4,2,3,2,2,3,2,2,2,3,4,5,2,3,4,3,1,1,1,2,3,4,3,2,2,2,1,1,1,3,3,4,3,4,5,2,2,2,3,2,3,4,2,4,3,3,4,3,4],\"showscale\":true,\"size\":16,\"symbol\":\"circle\"},\"mode\":\"markers\",\"type\":\"scatter\",\"x\":[9.65,8.87,8.0,8.67,8.21,9.34,8.2,7.9,8.0,8.6,8.4,9.0,9.1,8.0,8.2,8.3,8.7,8.0,8.8,8.5,7.9,8.4,9.5,9.7,9.8,9.6,8.8,7.5,7.2,7.3,8.1,8.3,9.4,9.6,9.8,9.2,8.4,7.8,7.5,7.7,8.0,8.2,8.5,9.1,9.4,9.1,9.3,9.7,8.85,8.4,8.3,7.9,8.0,8.1,8.0,7.7,7.4,7.6,6.8,8.3,8.1,8.2,8.2,8.5,8.7,8.92,9.02,8.64,9.22,9.16,9.64,9.76,9.45,9.04,8.9,8.56,8.72,8.22,7.54,7.36,8.02,9.5,9.22,9.36,9.45,8.66,8.42,8.28,8.14,8.76,7.92,7.66,8.03,7.88,7.66,7.84,8.0,8.96,9.24,8.88,8.46,8.12,8.25,8.47,9.05,8.78,9.18,9.46,9.38,8.64,8.48,8.68,8.34,8.56,8.45,9.04,8.62,7.46,7.28,8.84,9.56,9.48,8.36,8.22,8.47,8.66,9.32,8.71,9.1,9.35,9.76,8.65,8.56,8.78,9.28,8.77,8.45,8.16,9.08,9.12,9.15,9.36,9.44,9.92,8.96,8.64,8.48,9.11,9.8,8.26,9.43,9.28,9.06,8.75,8.89,8.69,8.34,8.26,8.14,7.9,7.86,7.46,8.5,8.56,9.01,8.97,8.33,8.27,7.8,7.98,8.04,9.07,9.13,9.23,8.97,8.87,9.16,9.04,8.12,8.27,8.16,8.42,7.88,8.8,8.32,9.11,8.68,9.44,9.36,9.08,9.16,8.98,8.94,9.53,8.76,8.52,8.26,8.33,8.43,8.69,8.54,8.46,9.91,9.87,8.54,7.65,7.89,8.02,8.16,8.12,9.06,9.14,9.66,9.78,9.42,9.36,9.26,9.13,8.97,8.42,8.75,8.56,8.79,8.45,8.23,8.03,8.45,8.53,8.67,9.01,8.65,8.33,8.27,8.07,9.31,9.23,9.17,9.19,8.37,7.89,7.68,8.15,8.76,9.04,8.56,9.02,8.73,8.48,8.87,8.83,8.57,9.0,8.54,9.68,9.12,8.37,8.56,8.64,8.76,9.34,9.13,8.09,8.36,8.79,8.76,8.68,8.45,8.17,9.14,8.34,8.22,7.86,7.64,8.01,7.95,8.96,9.45,8.62,8.49,8.73,8.64,9.11,8.79,8.9,9.66,9.26,9.19,9.08,9.02,9.0,7.65,7.87,7.97,8.18,8.32,8.57,8.67,9.11,9.24,8.65,8.0,8.76,8.45,8.55,8.43,8.8,9.1,9.0,8.53,8.6,8.74,9.18,9.0,8.04,8.13,8.07,7.86,8.01,8.8,8.69,8.5,8.44,8.27,8.18,8.33,9.14,8.02,7.86,8.77,7.89,8.66,8.12,8.21,8.54,8.65,9.11,8.79,9.47,8.74,8.66,8.46,8.76,8.24,8.13,7.34,7.43,7.64,7.34,7.25,8.04,8.27,8.67,8.06,8.17,7.67,8.12,8.77,7.89,7.64,8.44,8.64,9.54,9.23,8.36,8.9,9.17,8.34,7.46,7.88,8.03,8.24,9.22,9.62,8.54,7.65,7.66,7.43,7.56,7.65,8.43,8.84,8.67,9.15,8.26,9.74,9.82,7.96,8.1,7.8,8.44,8.24,8.65,9.12,8.76,9.23,9.04,9.11,9.45,8.78,9.66],\"y\":[92.0,76.0,72.0,80.0,65.0,90.0,75.0,68.0,50.0,45.0,52.0,84.0,78.0,62.0,61.0,54.0,66.0,65.0,63.0,62.0,64.0,70.0,94.0,95.0,97.0,94.0,76.0,44.0,46.0,54.0,65.0,74.0,91.0,90.0,94.0,88.0,64.0,57.99999999999999,52.0,48.0,46.0,49.0,53.0,87.0,91.0,88.0,86.0,89.0,82.0,78.0,76.0,56.00000000000001,78.0,72.0,70.0,64.0,64.0,46.0,36.0,42.0,48.0,47.0,54.0,56.00000000000001,52.0,55.00000000000001,61.0,56.99999999999999,68.0,78.0,94.0,96.0,93.0,84.0,74.0,72.0,74.0,64.0,44.0,46.0,50.0,96.0,92.0,92.0,94.0,76.0,72.0,66.0,64.0,74.0,64.0,38.0,34.0,44.0,36.0,42.0,48.0,86.0,90.0,79.0,71.0,64.0,62.0,56.99999999999999,74.0,69.0,87.0,91.0,93.0,68.0,61.0,69.0,62.0,72.0,59.0,66.0,56.00000000000001,45.0,47.0,71.0,94.0,94.0,56.99999999999999,61.0,56.99999999999999,64.0,85.0,78.0,84.0,92.0,96.0,77.0,71.0,79.0,89.0,82.0,76.0,71.0,80.0,78.0,84.0,90.0,92.0,97.0,80.0,81.0,75.0,83.0,96.0,79.0,93.0,94.0,86.0,79.0,80.0,77.0,70.0,65.0,61.0,52.0,56.99999999999999,53.0,67.0,68.0,81.0,78.0,65.0,64.0,64.0,65.0,68.0,89.0,86.0,89.0,87.0,85.0,90.0,82.0,72.0,73.0,71.0,71.0,68.0,75.0,72.0,89.0,84.0,93.0,93.0,88.0,90.0,87.0,86.0,94.0,77.0,78.0,73.0,73.0,70.0,72.0,73.0,72.0,97.0,97.0,69.0,56.99999999999999,63.0,66.0,64.0,68.0,79.0,82.0,95.0,96.0,94.0,93.0,91.0,85.0,84.0,74.0,76.0,75.0,76.0,71.0,67.0,61.0,63.0,64.0,71.0,82.0,73.0,74.0,69.0,64.0,91.0,88.0,85.0,86.0,70.0,59.0,60.0,65.0,70.0,76.0,63.0,81.0,72.0,71.0,80.0,77.0,74.0,70.0,71.0,93.0,85.0,79.0,76.0,78.0,77.0,90.0,87.0,71.0,70.0,70.0,75.0,71.0,72.0,73.0,83.0,77.0,72.0,54.0,49.0,52.0,57.99999999999999,78.0,89.0,70.0,66.0,67.0,68.0,80.0,81.0,80.0,94.0,93.0,92.0,89.0,82.0,79.0,57.99999999999999,56.00000000000001,56.00000000000001,64.0,61.0,68.0,76.0,86.0,90.0,71.0,62.0,66.0,65.0,73.0,62.0,74.0,79.0,80.0,69.0,70.0,76.0,84.0,78.0,67.0,66.0,65.0,54.0,57.99999999999999,79.0,80.0,75.0,73.0,72.0,62.0,67.0,81.0,63.0,69.0,80.0,43.0,80.0,73.0,75.0,71.0,73.0,83.0,72.0,94.0,81.0,81.0,75.0,79.0,57.99999999999999,59.0,47.0,49.0,47.0,42.0,56.99999999999999,62.0,74.0,73.0,64.0,63.0,59.0,73.0,79.0,68.0,70.0,81.0,85.0,93.0,91.0,69.0,77.0,86.0,74.0,56.99999999999999,51.0,67.0,72.0,89.0,95.0,79.0,39.0,38.0,34.0,47.0,56.00000000000001,71.0,78.0,73.0,82.0,62.0,96.0,96.0,46.0,53.0,49.0,76.0,64.0,71.0,84.0,77.0,89.0,82.0,84.0,91.0,67.0,95.0]}],                        {\"template\":{\"data\":{\"bar\":[{\"error_x\":{\"color\":\"#f2f5fa\"},\"error_y\":{\"color\":\"#f2f5fa\"},\"marker\":{\"line\":{\"color\":\"rgb(17,17,17)\",\"width\":0.5},\"pattern\":{\"fillmode\":\"overlay\",\"size\":10,\"solidity\":0.2}},\"type\":\"bar\"}],\"barpolar\":[{\"marker\":{\"line\":{\"color\":\"rgb(17,17,17)\",\"width\":0.5},\"pattern\":{\"fillmode\":\"overlay\",\"size\":10,\"solidity\":0.2}},\"type\":\"barpolar\"}],\"carpet\":[{\"aaxis\":{\"endlinecolor\":\"#A2B1C6\",\"gridcolor\":\"#506784\",\"linecolor\":\"#506784\",\"minorgridcolor\":\"#506784\",\"startlinecolor\":\"#A2B1C6\"},\"baxis\":{\"endlinecolor\":\"#A2B1C6\",\"gridcolor\":\"#506784\",\"linecolor\":\"#506784\",\"minorgridcolor\":\"#506784\",\"startlinecolor\":\"#A2B1C6\"},\"type\":\"carpet\"}],\"choropleth\":[{\"colorbar\":{\"outlinewidth\":0,\"ticks\":\"\"},\"type\":\"choropleth\"}],\"contour\":[{\"colorbar\":{\"outlinewidth\":0,\"ticks\":\"\"},\"colorscale\":[[0.0,\"#0d0887\"],[0.1111111111111111,\"#46039f\"],[0.2222222222222222,\"#7201a8\"],[0.3333333333333333,\"#9c179e\"],[0.4444444444444444,\"#bd3786\"],[0.5555555555555556,\"#d8576b\"],[0.6666666666666666,\"#ed7953\"],[0.7777777777777778,\"#fb9f3a\"],[0.8888888888888888,\"#fdca26\"],[1.0,\"#f0f921\"]],\"type\":\"contour\"}],\"contourcarpet\":[{\"colorbar\":{\"outlinewidth\":0,\"ticks\":\"\"},\"type\":\"contourcarpet\"}],\"heatmap\":[{\"colorbar\":{\"outlinewidth\":0,\"ticks\":\"\"},\"colorscale\":[[0.0,\"#0d0887\"],[0.1111111111111111,\"#46039f\"],[0.2222222222222222,\"#7201a8\"],[0.3333333333333333,\"#9c179e\"],[0.4444444444444444,\"#bd3786\"],[0.5555555555555556,\"#d8576b\"],[0.6666666666666666,\"#ed7953\"],[0.7777777777777778,\"#fb9f3a\"],[0.8888888888888888,\"#fdca26\"],[1.0,\"#f0f921\"]],\"type\":\"heatmap\"}],\"heatmapgl\":[{\"colorbar\":{\"outlinewidth\":0,\"ticks\":\"\"},\"colorscale\":[[0.0,\"#0d0887\"],[0.1111111111111111,\"#46039f\"],[0.2222222222222222,\"#7201a8\"],[0.3333333333333333,\"#9c179e\"],[0.4444444444444444,\"#bd3786\"],[0.5555555555555556,\"#d8576b\"],[0.6666666666666666,\"#ed7953\"],[0.7777777777777778,\"#fb9f3a\"],[0.8888888888888888,\"#fdca26\"],[1.0,\"#f0f921\"]],\"type\":\"heatmapgl\"}],\"histogram\":[{\"marker\":{\"pattern\":{\"fillmode\":\"overlay\",\"size\":10,\"solidity\":0.2}},\"type\":\"histogram\"}],\"histogram2d\":[{\"colorbar\":{\"outlinewidth\":0,\"ticks\":\"\"},\"colorscale\":[[0.0,\"#0d0887\"],[0.1111111111111111,\"#46039f\"],[0.2222222222222222,\"#7201a8\"],[0.3333333333333333,\"#9c179e\"],[0.4444444444444444,\"#bd3786\"],[0.5555555555555556,\"#d8576b\"],[0.6666666666666666,\"#ed7953\"],[0.7777777777777778,\"#fb9f3a\"],[0.8888888888888888,\"#fdca26\"],[1.0,\"#f0f921\"]],\"type\":\"histogram2d\"}],\"histogram2dcontour\":[{\"colorbar\":{\"outlinewidth\":0,\"ticks\":\"\"},\"colorscale\":[[0.0,\"#0d0887\"],[0.1111111111111111,\"#46039f\"],[0.2222222222222222,\"#7201a8\"],[0.3333333333333333,\"#9c179e\"],[0.4444444444444444,\"#bd3786\"],[0.5555555555555556,\"#d8576b\"],[0.6666666666666666,\"#ed7953\"],[0.7777777777777778,\"#fb9f3a\"],[0.8888888888888888,\"#fdca26\"],[1.0,\"#f0f921\"]],\"type\":\"histogram2dcontour\"}],\"mesh3d\":[{\"colorbar\":{\"outlinewidth\":0,\"ticks\":\"\"},\"type\":\"mesh3d\"}],\"parcoords\":[{\"line\":{\"colorbar\":{\"outlinewidth\":0,\"ticks\":\"\"}},\"type\":\"parcoords\"}],\"pie\":[{\"automargin\":true,\"type\":\"pie\"}],\"scatter\":[{\"marker\":{\"line\":{\"color\":\"#283442\"}},\"type\":\"scatter\"}],\"scatter3d\":[{\"line\":{\"colorbar\":{\"outlinewidth\":0,\"ticks\":\"\"}},\"marker\":{\"colorbar\":{\"outlinewidth\":0,\"ticks\":\"\"}},\"type\":\"scatter3d\"}],\"scattercarpet\":[{\"marker\":{\"colorbar\":{\"outlinewidth\":0,\"ticks\":\"\"}},\"type\":\"scattercarpet\"}],\"scattergeo\":[{\"marker\":{\"colorbar\":{\"outlinewidth\":0,\"ticks\":\"\"}},\"type\":\"scattergeo\"}],\"scattergl\":[{\"marker\":{\"line\":{\"color\":\"#283442\"}},\"type\":\"scattergl\"}],\"scattermapbox\":[{\"marker\":{\"colorbar\":{\"outlinewidth\":0,\"ticks\":\"\"}},\"type\":\"scattermapbox\"}],\"scatterpolar\":[{\"marker\":{\"colorbar\":{\"outlinewidth\":0,\"ticks\":\"\"}},\"type\":\"scatterpolar\"}],\"scatterpolargl\":[{\"marker\":{\"colorbar\":{\"outlinewidth\":0,\"ticks\":\"\"}},\"type\":\"scatterpolargl\"}],\"scatterternary\":[{\"marker\":{\"colorbar\":{\"outlinewidth\":0,\"ticks\":\"\"}},\"type\":\"scatterternary\"}],\"surface\":[{\"colorbar\":{\"outlinewidth\":0,\"ticks\":\"\"},\"colorscale\":[[0.0,\"#0d0887\"],[0.1111111111111111,\"#46039f\"],[0.2222222222222222,\"#7201a8\"],[0.3333333333333333,\"#9c179e\"],[0.4444444444444444,\"#bd3786\"],[0.5555555555555556,\"#d8576b\"],[0.6666666666666666,\"#ed7953\"],[0.7777777777777778,\"#fb9f3a\"],[0.8888888888888888,\"#fdca26\"],[1.0,\"#f0f921\"]],\"type\":\"surface\"}],\"table\":[{\"cells\":{\"fill\":{\"color\":\"#506784\"},\"line\":{\"color\":\"rgb(17,17,17)\"}},\"header\":{\"fill\":{\"color\":\"#2a3f5f\"},\"line\":{\"color\":\"rgb(17,17,17)\"}},\"type\":\"table\"}]},\"layout\":{\"annotationdefaults\":{\"arrowcolor\":\"#f2f5fa\",\"arrowhead\":0,\"arrowwidth\":1},\"autotypenumbers\":\"strict\",\"coloraxis\":{\"colorbar\":{\"outlinewidth\":0,\"ticks\":\"\"}},\"colorscale\":{\"diverging\":[[0,\"#8e0152\"],[0.1,\"#c51b7d\"],[0.2,\"#de77ae\"],[0.3,\"#f1b6da\"],[0.4,\"#fde0ef\"],[0.5,\"#f7f7f7\"],[0.6,\"#e6f5d0\"],[0.7,\"#b8e186\"],[0.8,\"#7fbc41\"],[0.9,\"#4d9221\"],[1,\"#276419\"]],\"sequential\":[[0.0,\"#0d0887\"],[0.1111111111111111,\"#46039f\"],[0.2222222222222222,\"#7201a8\"],[0.3333333333333333,\"#9c179e\"],[0.4444444444444444,\"#bd3786\"],[0.5555555555555556,\"#d8576b\"],[0.6666666666666666,\"#ed7953\"],[0.7777777777777778,\"#fb9f3a\"],[0.8888888888888888,\"#fdca26\"],[1.0,\"#f0f921\"]],\"sequentialminus\":[[0.0,\"#0d0887\"],[0.1111111111111111,\"#46039f\"],[0.2222222222222222,\"#7201a8\"],[0.3333333333333333,\"#9c179e\"],[0.4444444444444444,\"#bd3786\"],[0.5555555555555556,\"#d8576b\"],[0.6666666666666666,\"#ed7953\"],[0.7777777777777778,\"#fb9f3a\"],[0.8888888888888888,\"#fdca26\"],[1.0,\"#f0f921\"]]},\"colorway\":[\"#636efa\",\"#EF553B\",\"#00cc96\",\"#ab63fa\",\"#FFA15A\",\"#19d3f3\",\"#FF6692\",\"#B6E880\",\"#FF97FF\",\"#FECB52\"],\"font\":{\"color\":\"#f2f5fa\"},\"geo\":{\"bgcolor\":\"rgb(17,17,17)\",\"lakecolor\":\"rgb(17,17,17)\",\"landcolor\":\"rgb(17,17,17)\",\"showlakes\":true,\"showland\":true,\"subunitcolor\":\"#506784\"},\"hoverlabel\":{\"align\":\"left\"},\"hovermode\":\"closest\",\"mapbox\":{\"style\":\"dark\"},\"paper_bgcolor\":\"rgb(17,17,17)\",\"plot_bgcolor\":\"rgb(17,17,17)\",\"polar\":{\"angularaxis\":{\"gridcolor\":\"#506784\",\"linecolor\":\"#506784\",\"ticks\":\"\"},\"bgcolor\":\"rgb(17,17,17)\",\"radialaxis\":{\"gridcolor\":\"#506784\",\"linecolor\":\"#506784\",\"ticks\":\"\"}},\"scene\":{\"xaxis\":{\"backgroundcolor\":\"rgb(17,17,17)\",\"gridcolor\":\"#506784\",\"gridwidth\":2,\"linecolor\":\"#506784\",\"showbackground\":true,\"ticks\":\"\",\"zerolinecolor\":\"#C8D4E3\"},\"yaxis\":{\"backgroundcolor\":\"rgb(17,17,17)\",\"gridcolor\":\"#506784\",\"gridwidth\":2,\"linecolor\":\"#506784\",\"showbackground\":true,\"ticks\":\"\",\"zerolinecolor\":\"#C8D4E3\"},\"zaxis\":{\"backgroundcolor\":\"rgb(17,17,17)\",\"gridcolor\":\"#506784\",\"gridwidth\":2,\"linecolor\":\"#506784\",\"showbackground\":true,\"ticks\":\"\",\"zerolinecolor\":\"#C8D4E3\"}},\"shapedefaults\":{\"line\":{\"color\":\"#f2f5fa\"}},\"sliderdefaults\":{\"bgcolor\":\"#C8D4E3\",\"bordercolor\":\"rgb(17,17,17)\",\"borderwidth\":1,\"tickwidth\":0},\"ternary\":{\"aaxis\":{\"gridcolor\":\"#506784\",\"linecolor\":\"#506784\",\"ticks\":\"\"},\"baxis\":{\"gridcolor\":\"#506784\",\"linecolor\":\"#506784\",\"ticks\":\"\"},\"bgcolor\":\"rgb(17,17,17)\",\"caxis\":{\"gridcolor\":\"#506784\",\"linecolor\":\"#506784\",\"ticks\":\"\"}},\"title\":{\"x\":0.05},\"updatemenudefaults\":{\"bgcolor\":\"#506784\",\"borderwidth\":0},\"xaxis\":{\"automargin\":true,\"gridcolor\":\"#283442\",\"linecolor\":\"#506784\",\"ticks\":\"\",\"title\":{\"standoff\":15},\"zerolinecolor\":\"#283442\",\"zerolinewidth\":2},\"yaxis\":{\"automargin\":true,\"gridcolor\":\"#283442\",\"linecolor\":\"#506784\",\"ticks\":\"\",\"title\":{\"standoff\":15},\"zerolinecolor\":\"#283442\",\"zerolinewidth\":2}}},\"title\":{\"font\":{\"size\":20},\"text\":\"CGPA Vs Chance Of Admit - University Rating\",\"x\":0.5,\"y\":0.88},\"xaxis\":{\"title\":{\"font\":{\"size\":16},\"text\":\"CGPA\"}},\"yaxis\":{\"title\":{\"font\":{\"size\":16},\"text\":\"Chance Of Admit\"}}},                        {\"responsive\": true}                    ).then(function(){\n",
       "                            \n",
       "var gd = document.getElementById('c22546da-4100-4adc-a6a0-66845c71b02a');\n",
       "var x = new MutationObserver(function (mutations, observer) {{\n",
       "        var display = window.getComputedStyle(gd).display;\n",
       "        if (!display || display === 'none') {{\n",
       "            console.log([gd, 'removed!']);\n",
       "            Plotly.purge(gd);\n",
       "            observer.disconnect();\n",
       "        }}\n",
       "}});\n",
       "\n",
       "// Listen for the removal of the full notebook cells\n",
       "var notebookContainer = gd.closest('#notebook-container');\n",
       "if (notebookContainer) {{\n",
       "    x.observe(notebookContainer, {childList: true});\n",
       "}}\n",
       "\n",
       "// Listen for the clearing of the current output cell\n",
       "var outputEl = gd.closest('.output');\n",
       "if (outputEl) {{\n",
       "    x.observe(outputEl, {childList: true});\n",
       "}}\n",
       "\n",
       "                        })                };                });            </script>        </div>"
      ]
     },
     "metadata": {},
     "output_type": "display_data"
    }
   ],
   "source": [
    "data = [go.Scatter(x = data_col_chng['CGPA'], \n",
    "                   y = data_col_chng['Chance of Admit']*100, \n",
    "                   mode = 'markers', \n",
    "                   marker = dict(symbol = 'circle', \n",
    "                                 size = 16, \n",
    "                                 color = data_col_chng['University Rating'], \n",
    "                                 showscale = True))]\n",
    "\n",
    "layout = go.Layout(title = dict(text = 'CGPA Vs Chance Of Admit - University Rating', \n",
    "                                x = 0.5, \n",
    "                                y = 0.88, \n",
    "                                font = {'size': 20}),\n",
    "                   xaxis = dict(title = 'CGPA', \n",
    "                                titlefont = {'size': 16}),\n",
    "                   yaxis = dict(title = 'Chance Of Admit', \n",
    "                                titlefont = {'size': 16}),\n",
    "                   template = 'plotly_dark')\n",
    "\n",
    "fig = go.Figure(data = data, \n",
    "                layout = layout)\n",
    "\n",
    "iplot(fig)"
   ]
  },
  {
   "cell_type": "code",
   "execution_count": 16,
   "id": "32a658f2",
   "metadata": {},
   "outputs": [
    {
     "data": {
      "application/vnd.plotly.v1+json": {
       "config": {
        "linkText": "Export to plot.ly",
        "plotlyServerURL": "https://plot.ly",
        "showLink": false
       },
       "data": [
        {
         "marker": {
          "color": [
           4.5,
           4.5,
           3.5,
           2.5,
           3,
           3,
           4,
           4,
           1.5,
           3,
           4,
           4.5,
           4.5,
           3,
           2,
           2.5,
           3,
           3,
           3,
           3,
           2,
           2,
           5,
           4.5,
           3.5,
           4.5,
           3.5,
           2.5,
           2,
           2,
           3,
           4,
           4.5,
           4,
           5,
           5,
           4,
           2,
           1.5,
           3.5,
           3,
           2.5,
           2,
           4,
           4,
           4,
           5,
           4,
           5,
           4,
           4.5,
           3.5,
           3,
           2.5,
           3.5,
           3,
           3,
           2,
           2,
           2,
           3,
           3,
           3,
           3,
           3.5,
           3.5,
           3,
           3.5,
           4,
           4,
           5,
           5,
           5,
           4,
           5,
           4,
           3,
           2,
           2,
           2,
           3,
           5,
           4.5,
           4.5,
           4.5,
           3.5,
           3.5,
           3,
           3.5,
           3.5,
           4,
           3.5,
           3,
           3,
           2.5,
           2.5,
           3,
           4,
           4.5,
           4,
           3.5,
           3,
           3.5,
           4,
           3,
           4.5,
           4.5,
           4.5,
           5,
           4,
           3,
           4,
           3.5,
           3.5,
           3,
           4.5,
           3.5,
           2.5,
           3.5,
           3.5,
           5,
           4.5,
           2.5,
           3.5,
           3,
           3,
           3,
           2,
           3,
           5,
           4.5,
           4.5,
           3.5,
           4.5,
           4,
           4,
           4,
           3,
           3,
           3.5,
           3,
           3.5,
           3.5,
           4,
           3.5,
           2.5,
           2.5,
           3,
           3.5,
           3,
           4,
           5,
           5,
           4,
           3.5,
           3,
           2.5,
           2.5,
           2.5,
           2,
           2,
           3,
           3,
           3,
           4,
           4,
           5,
           3,
           4,
           3,
           3.5,
           4.5,
           5,
           4.5,
           4,
           3.5,
           4.5,
           3.5,
           3,
           3,
           3,
           2.5,
           3.5,
           4,
           4,
           4.5,
           3,
           3.5,
           3.5,
           5,
           4,
           5,
           4,
           5,
           3,
           3.5,
           2.5,
           2.5,
           4.5,
           4.5,
           3,
           3,
           4.5,
           5,
           4,
           3,
           3,
           4,
           3,
           4,
           4,
           4,
           5,
           4.5,
           5,
           4.5,
           4.5,
           4,
           3.5,
           3.5,
           4,
           4,
           4,
           4,
           2,
           2.5,
           4,
           3,
           3.5,
           3,
           4.5,
           2.5,
           3.5,
           3.5,
           4,
           4,
           4.5,
           5,
           3.5,
           2,
           3,
           2,
           3,
           3,
           4,
           2.5,
           3.5,
           3.5,
           4,
           4,
           2.5,
           3,
           3.5,
           4.5,
           5,
           4.5,
           4,
           5,
           5,
           4.5,
           3.5,
           4,
           4,
           1.5,
           2.5,
           2.5,
           2.5,
           3.5,
           5,
           5,
           3,
           2,
           1.5,
           1.5,
           2.5,
           3,
           4.5,
           3,
           3.5,
           4,
           4,
           4.5,
           3.5,
           3,
           4.5,
           4,
           4,
           4.5,
           5,
           3.5,
           3,
           2,
           2,
           3,
           2,
           2.5,
           3.5,
           4.5,
           4.5,
           3.5,
           2.5,
           3,
           3,
           3.5,
           2,
           3.5,
           3.5,
           4,
           3,
           3,
           3.5,
           4,
           4.5,
           3,
           4,
           3,
           2,
           2.5,
           2,
           3,
           3.5,
           4,
           4,
           2.5,
           2.5,
           4,
           2,
           2,
           3.5,
           1.5,
           3,
           2,
           2.5,
           3.5,
           4,
           4.5,
           2.5,
           5,
           4,
           4,
           3,
           3.5,
           3,
           3.5,
           2,
           2,
           2,
           1,
           2,
           3,
           3.5,
           4,
           3.5,
           2.5,
           3,
           3.5,
           4,
           3.5,
           2,
           1.5,
           5,
           3.5,
           5,
           3,
           4,
           3,
           4.5,
           2.5,
           2,
           3,
           2.5,
           3,
           4,
           3,
           2.5,
           2.5,
           2,
           2,
           2.5,
           3,
           4,
           3.5,
           4,
           3.5,
           5,
           5,
           3.5,
           3.5,
           2,
           4,
           2.5,
           3,
           3.5,
           3,
           4,
           3.5,
           3.5,
           4.5,
           4,
           4
          ],
          "showscale": true,
          "size": 16,
          "symbol": "circle"
         },
         "mode": "markers",
         "type": "scatter",
         "x": [
          118,
          107,
          104,
          110,
          103,
          115,
          109,
          101,
          102,
          108,
          106,
          111,
          112,
          109,
          104,
          105,
          107,
          106,
          110,
          102,
          107,
          114,
          116,
          119,
          119,
          120,
          109,
          98,
          93,
          99,
          97,
          103,
          118,
          114,
          112,
          110,
          106,
          105,
          105,
          108,
          110,
          105,
          107,
          117,
          113,
          110,
          114,
          119,
          110,
          111,
          98,
          100,
          116,
          112,
          110,
          103,
          102,
          99,
          99,
          104,
          100,
          101,
          105,
          107,
          111,
          112,
          114,
          107,
          109,
          115,
          118,
          112,
          111,
          108,
          106,
          114,
          112,
          99,
          95,
          93,
          105,
          120,
          110,
          115,
          115,
          103,
          106,
          107,
          108,
          109,
          106,
          97,
          98,
          97,
          99,
          100,
          100,
          120,
          119,
          113,
          107,
          105,
          106,
          104,
          112,
          110,
          111,
          117,
          116,
          103,
          108,
          109,
          107,
          110,
          105,
          106,
          102,
          104,
          99,
          104,
          117,
          119,
          106,
          108,
          106,
          100,
          113,
          112,
          112,
          118,
          114,
          105,
          105,
          112,
          113,
          109,
          103,
          100,
          116,
          109,
          110,
          118,
          115,
          120,
          112,
          113,
          105,
          114,
          116,
          106,
          114,
          116,
          112,
          105,
          108,
          109,
          105,
          104,
          106,
          100,
          103,
          99,
          109,
          105,
          111,
          110,
          102,
          102,
          97,
          99,
          101,
          117,
          110,
          113,
          111,
          111,
          119,
          110,
          108,
          102,
          104,
          107,
          100,
          110,
          106,
          113,
          107,
          118,
          115,
          112,
          111,
          110,
          114,
          118,
          109,
          107,
          105,
          106,
          104,
          107,
          103,
          110,
          120,
          120,
          105,
          99,
          99,
          102,
          106,
          104,
          108,
          110,
          120,
          119,
          117,
          116,
          112,
          109,
          110,
          104,
          103,
          110,
          113,
          109,
          105,
          99,
          110,
          110,
          112,
          111,
          104,
          106,
          107,
          100,
          113,
          111,
          112,
          114,
          104,
          100,
          101,
          103,
          115,
          114,
          107,
          110,
          105,
          104,
          110,
          111,
          104,
          99,
          100,
          115,
          114,
          110,
          99,
          100,
          102,
          119,
          108,
          104,
          103,
          111,
          110,
          102,
          105,
          107,
          113,
          108,
          105,
          96,
          95,
          99,
          100,
          110,
          113,
          101,
          103,
          102,
          102,
          110,
          106,
          111,
          112,
          116,
          118,
          114,
          104,
          109,
          105,
          102,
          99,
          98,
          101,
          100,
          107,
          120,
          114,
          112,
          106,
          108,
          105,
          107,
          106,
          109,
          110,
          112,
          108,
          110,
          104,
          108,
          107,
          100,
          105,
          104,
          101,
          99,
          111,
          113,
          106,
          104,
          107,
          102,
          104,
          116,
          100,
          101,
          112,
          96,
          113,
          105,
          106,
          108,
          107,
          111,
          110,
          118,
          108,
          107,
          107,
          110,
          106,
          103,
          96,
          98,
          97,
          94,
          99,
          101,
          107,
          110,
          100,
          102,
          98,
          106,
          109,
          104,
          105,
          107,
          110,
          116,
          115,
          103,
          102,
          114,
          104,
          98,
          92,
          98,
          103,
          110,
          119,
          109,
          105,
          101,
          96,
          100,
          98,
          99,
          104,
          105,
          110,
          100,
          113,
          117,
          101,
          105,
          97,
          108,
          102,
          106,
          112,
          104,
          111,
          110,
          107,
          116,
          103,
          117
         ],
         "y": [
          92,
          76,
          72,
          80,
          65,
          90,
          75,
          68,
          50,
          45,
          52,
          84,
          78,
          62,
          61,
          54,
          66,
          65,
          63,
          62,
          64,
          70,
          94,
          95,
          97,
          94,
          76,
          44,
          46,
          54,
          65,
          74,
          91,
          90,
          94,
          88,
          64,
          57.99999999999999,
          52,
          48,
          46,
          49,
          53,
          87,
          91,
          88,
          86,
          89,
          82,
          78,
          76,
          56.00000000000001,
          78,
          72,
          70,
          64,
          64,
          46,
          36,
          42,
          48,
          47,
          54,
          56.00000000000001,
          52,
          55.00000000000001,
          61,
          56.99999999999999,
          68,
          78,
          94,
          96,
          93,
          84,
          74,
          72,
          74,
          64,
          44,
          46,
          50,
          96,
          92,
          92,
          94,
          76,
          72,
          66,
          64,
          74,
          64,
          38,
          34,
          44,
          36,
          42,
          48,
          86,
          90,
          79,
          71,
          64,
          62,
          56.99999999999999,
          74,
          69,
          87,
          91,
          93,
          68,
          61,
          69,
          62,
          72,
          59,
          66,
          56.00000000000001,
          45,
          47,
          71,
          94,
          94,
          56.99999999999999,
          61,
          56.99999999999999,
          64,
          85,
          78,
          84,
          92,
          96,
          77,
          71,
          79,
          89,
          82,
          76,
          71,
          80,
          78,
          84,
          90,
          92,
          97,
          80,
          81,
          75,
          83,
          96,
          79,
          93,
          94,
          86,
          79,
          80,
          77,
          70,
          65,
          61,
          52,
          56.99999999999999,
          53,
          67,
          68,
          81,
          78,
          65,
          64,
          64,
          65,
          68,
          89,
          86,
          89,
          87,
          85,
          90,
          82,
          72,
          73,
          71,
          71,
          68,
          75,
          72,
          89,
          84,
          93,
          93,
          88,
          90,
          87,
          86,
          94,
          77,
          78,
          73,
          73,
          70,
          72,
          73,
          72,
          97,
          97,
          69,
          56.99999999999999,
          63,
          66,
          64,
          68,
          79,
          82,
          95,
          96,
          94,
          93,
          91,
          85,
          84,
          74,
          76,
          75,
          76,
          71,
          67,
          61,
          63,
          64,
          71,
          82,
          73,
          74,
          69,
          64,
          91,
          88,
          85,
          86,
          70,
          59,
          60,
          65,
          70,
          76,
          63,
          81,
          72,
          71,
          80,
          77,
          74,
          70,
          71,
          93,
          85,
          79,
          76,
          78,
          77,
          90,
          87,
          71,
          70,
          70,
          75,
          71,
          72,
          73,
          83,
          77,
          72,
          54,
          49,
          52,
          57.99999999999999,
          78,
          89,
          70,
          66,
          67,
          68,
          80,
          81,
          80,
          94,
          93,
          92,
          89,
          82,
          79,
          57.99999999999999,
          56.00000000000001,
          56.00000000000001,
          64,
          61,
          68,
          76,
          86,
          90,
          71,
          62,
          66,
          65,
          73,
          62,
          74,
          79,
          80,
          69,
          70,
          76,
          84,
          78,
          67,
          66,
          65,
          54,
          57.99999999999999,
          79,
          80,
          75,
          73,
          72,
          62,
          67,
          81,
          63,
          69,
          80,
          43,
          80,
          73,
          75,
          71,
          73,
          83,
          72,
          94,
          81,
          81,
          75,
          79,
          57.99999999999999,
          59,
          47,
          49,
          47,
          42,
          56.99999999999999,
          62,
          74,
          73,
          64,
          63,
          59,
          73,
          79,
          68,
          70,
          81,
          85,
          93,
          91,
          69,
          77,
          86,
          74,
          56.99999999999999,
          51,
          67,
          72,
          89,
          95,
          79,
          39,
          38,
          34,
          47,
          56.00000000000001,
          71,
          78,
          73,
          82,
          62,
          96,
          96,
          46,
          53,
          49,
          76,
          64,
          71,
          84,
          77,
          89,
          82,
          84,
          91,
          67,
          95
         ]
        }
       ],
       "layout": {
        "template": {
         "data": {
          "bar": [
           {
            "error_x": {
             "color": "#f2f5fa"
            },
            "error_y": {
             "color": "#f2f5fa"
            },
            "marker": {
             "line": {
              "color": "rgb(17,17,17)",
              "width": 0.5
             },
             "pattern": {
              "fillmode": "overlay",
              "size": 10,
              "solidity": 0.2
             }
            },
            "type": "bar"
           }
          ],
          "barpolar": [
           {
            "marker": {
             "line": {
              "color": "rgb(17,17,17)",
              "width": 0.5
             },
             "pattern": {
              "fillmode": "overlay",
              "size": 10,
              "solidity": 0.2
             }
            },
            "type": "barpolar"
           }
          ],
          "carpet": [
           {
            "aaxis": {
             "endlinecolor": "#A2B1C6",
             "gridcolor": "#506784",
             "linecolor": "#506784",
             "minorgridcolor": "#506784",
             "startlinecolor": "#A2B1C6"
            },
            "baxis": {
             "endlinecolor": "#A2B1C6",
             "gridcolor": "#506784",
             "linecolor": "#506784",
             "minorgridcolor": "#506784",
             "startlinecolor": "#A2B1C6"
            },
            "type": "carpet"
           }
          ],
          "choropleth": [
           {
            "colorbar": {
             "outlinewidth": 0,
             "ticks": ""
            },
            "type": "choropleth"
           }
          ],
          "contour": [
           {
            "colorbar": {
             "outlinewidth": 0,
             "ticks": ""
            },
            "colorscale": [
             [
              0,
              "#0d0887"
             ],
             [
              0.1111111111111111,
              "#46039f"
             ],
             [
              0.2222222222222222,
              "#7201a8"
             ],
             [
              0.3333333333333333,
              "#9c179e"
             ],
             [
              0.4444444444444444,
              "#bd3786"
             ],
             [
              0.5555555555555556,
              "#d8576b"
             ],
             [
              0.6666666666666666,
              "#ed7953"
             ],
             [
              0.7777777777777778,
              "#fb9f3a"
             ],
             [
              0.8888888888888888,
              "#fdca26"
             ],
             [
              1,
              "#f0f921"
             ]
            ],
            "type": "contour"
           }
          ],
          "contourcarpet": [
           {
            "colorbar": {
             "outlinewidth": 0,
             "ticks": ""
            },
            "type": "contourcarpet"
           }
          ],
          "heatmap": [
           {
            "colorbar": {
             "outlinewidth": 0,
             "ticks": ""
            },
            "colorscale": [
             [
              0,
              "#0d0887"
             ],
             [
              0.1111111111111111,
              "#46039f"
             ],
             [
              0.2222222222222222,
              "#7201a8"
             ],
             [
              0.3333333333333333,
              "#9c179e"
             ],
             [
              0.4444444444444444,
              "#bd3786"
             ],
             [
              0.5555555555555556,
              "#d8576b"
             ],
             [
              0.6666666666666666,
              "#ed7953"
             ],
             [
              0.7777777777777778,
              "#fb9f3a"
             ],
             [
              0.8888888888888888,
              "#fdca26"
             ],
             [
              1,
              "#f0f921"
             ]
            ],
            "type": "heatmap"
           }
          ],
          "heatmapgl": [
           {
            "colorbar": {
             "outlinewidth": 0,
             "ticks": ""
            },
            "colorscale": [
             [
              0,
              "#0d0887"
             ],
             [
              0.1111111111111111,
              "#46039f"
             ],
             [
              0.2222222222222222,
              "#7201a8"
             ],
             [
              0.3333333333333333,
              "#9c179e"
             ],
             [
              0.4444444444444444,
              "#bd3786"
             ],
             [
              0.5555555555555556,
              "#d8576b"
             ],
             [
              0.6666666666666666,
              "#ed7953"
             ],
             [
              0.7777777777777778,
              "#fb9f3a"
             ],
             [
              0.8888888888888888,
              "#fdca26"
             ],
             [
              1,
              "#f0f921"
             ]
            ],
            "type": "heatmapgl"
           }
          ],
          "histogram": [
           {
            "marker": {
             "pattern": {
              "fillmode": "overlay",
              "size": 10,
              "solidity": 0.2
             }
            },
            "type": "histogram"
           }
          ],
          "histogram2d": [
           {
            "colorbar": {
             "outlinewidth": 0,
             "ticks": ""
            },
            "colorscale": [
             [
              0,
              "#0d0887"
             ],
             [
              0.1111111111111111,
              "#46039f"
             ],
             [
              0.2222222222222222,
              "#7201a8"
             ],
             [
              0.3333333333333333,
              "#9c179e"
             ],
             [
              0.4444444444444444,
              "#bd3786"
             ],
             [
              0.5555555555555556,
              "#d8576b"
             ],
             [
              0.6666666666666666,
              "#ed7953"
             ],
             [
              0.7777777777777778,
              "#fb9f3a"
             ],
             [
              0.8888888888888888,
              "#fdca26"
             ],
             [
              1,
              "#f0f921"
             ]
            ],
            "type": "histogram2d"
           }
          ],
          "histogram2dcontour": [
           {
            "colorbar": {
             "outlinewidth": 0,
             "ticks": ""
            },
            "colorscale": [
             [
              0,
              "#0d0887"
             ],
             [
              0.1111111111111111,
              "#46039f"
             ],
             [
              0.2222222222222222,
              "#7201a8"
             ],
             [
              0.3333333333333333,
              "#9c179e"
             ],
             [
              0.4444444444444444,
              "#bd3786"
             ],
             [
              0.5555555555555556,
              "#d8576b"
             ],
             [
              0.6666666666666666,
              "#ed7953"
             ],
             [
              0.7777777777777778,
              "#fb9f3a"
             ],
             [
              0.8888888888888888,
              "#fdca26"
             ],
             [
              1,
              "#f0f921"
             ]
            ],
            "type": "histogram2dcontour"
           }
          ],
          "mesh3d": [
           {
            "colorbar": {
             "outlinewidth": 0,
             "ticks": ""
            },
            "type": "mesh3d"
           }
          ],
          "parcoords": [
           {
            "line": {
             "colorbar": {
              "outlinewidth": 0,
              "ticks": ""
             }
            },
            "type": "parcoords"
           }
          ],
          "pie": [
           {
            "automargin": true,
            "type": "pie"
           }
          ],
          "scatter": [
           {
            "marker": {
             "line": {
              "color": "#283442"
             }
            },
            "type": "scatter"
           }
          ],
          "scatter3d": [
           {
            "line": {
             "colorbar": {
              "outlinewidth": 0,
              "ticks": ""
             }
            },
            "marker": {
             "colorbar": {
              "outlinewidth": 0,
              "ticks": ""
             }
            },
            "type": "scatter3d"
           }
          ],
          "scattercarpet": [
           {
            "marker": {
             "colorbar": {
              "outlinewidth": 0,
              "ticks": ""
             }
            },
            "type": "scattercarpet"
           }
          ],
          "scattergeo": [
           {
            "marker": {
             "colorbar": {
              "outlinewidth": 0,
              "ticks": ""
             }
            },
            "type": "scattergeo"
           }
          ],
          "scattergl": [
           {
            "marker": {
             "line": {
              "color": "#283442"
             }
            },
            "type": "scattergl"
           }
          ],
          "scattermapbox": [
           {
            "marker": {
             "colorbar": {
              "outlinewidth": 0,
              "ticks": ""
             }
            },
            "type": "scattermapbox"
           }
          ],
          "scatterpolar": [
           {
            "marker": {
             "colorbar": {
              "outlinewidth": 0,
              "ticks": ""
             }
            },
            "type": "scatterpolar"
           }
          ],
          "scatterpolargl": [
           {
            "marker": {
             "colorbar": {
              "outlinewidth": 0,
              "ticks": ""
             }
            },
            "type": "scatterpolargl"
           }
          ],
          "scatterternary": [
           {
            "marker": {
             "colorbar": {
              "outlinewidth": 0,
              "ticks": ""
             }
            },
            "type": "scatterternary"
           }
          ],
          "surface": [
           {
            "colorbar": {
             "outlinewidth": 0,
             "ticks": ""
            },
            "colorscale": [
             [
              0,
              "#0d0887"
             ],
             [
              0.1111111111111111,
              "#46039f"
             ],
             [
              0.2222222222222222,
              "#7201a8"
             ],
             [
              0.3333333333333333,
              "#9c179e"
             ],
             [
              0.4444444444444444,
              "#bd3786"
             ],
             [
              0.5555555555555556,
              "#d8576b"
             ],
             [
              0.6666666666666666,
              "#ed7953"
             ],
             [
              0.7777777777777778,
              "#fb9f3a"
             ],
             [
              0.8888888888888888,
              "#fdca26"
             ],
             [
              1,
              "#f0f921"
             ]
            ],
            "type": "surface"
           }
          ],
          "table": [
           {
            "cells": {
             "fill": {
              "color": "#506784"
             },
             "line": {
              "color": "rgb(17,17,17)"
             }
            },
            "header": {
             "fill": {
              "color": "#2a3f5f"
             },
             "line": {
              "color": "rgb(17,17,17)"
             }
            },
            "type": "table"
           }
          ]
         },
         "layout": {
          "annotationdefaults": {
           "arrowcolor": "#f2f5fa",
           "arrowhead": 0,
           "arrowwidth": 1
          },
          "autotypenumbers": "strict",
          "coloraxis": {
           "colorbar": {
            "outlinewidth": 0,
            "ticks": ""
           }
          },
          "colorscale": {
           "diverging": [
            [
             0,
             "#8e0152"
            ],
            [
             0.1,
             "#c51b7d"
            ],
            [
             0.2,
             "#de77ae"
            ],
            [
             0.3,
             "#f1b6da"
            ],
            [
             0.4,
             "#fde0ef"
            ],
            [
             0.5,
             "#f7f7f7"
            ],
            [
             0.6,
             "#e6f5d0"
            ],
            [
             0.7,
             "#b8e186"
            ],
            [
             0.8,
             "#7fbc41"
            ],
            [
             0.9,
             "#4d9221"
            ],
            [
             1,
             "#276419"
            ]
           ],
           "sequential": [
            [
             0,
             "#0d0887"
            ],
            [
             0.1111111111111111,
             "#46039f"
            ],
            [
             0.2222222222222222,
             "#7201a8"
            ],
            [
             0.3333333333333333,
             "#9c179e"
            ],
            [
             0.4444444444444444,
             "#bd3786"
            ],
            [
             0.5555555555555556,
             "#d8576b"
            ],
            [
             0.6666666666666666,
             "#ed7953"
            ],
            [
             0.7777777777777778,
             "#fb9f3a"
            ],
            [
             0.8888888888888888,
             "#fdca26"
            ],
            [
             1,
             "#f0f921"
            ]
           ],
           "sequentialminus": [
            [
             0,
             "#0d0887"
            ],
            [
             0.1111111111111111,
             "#46039f"
            ],
            [
             0.2222222222222222,
             "#7201a8"
            ],
            [
             0.3333333333333333,
             "#9c179e"
            ],
            [
             0.4444444444444444,
             "#bd3786"
            ],
            [
             0.5555555555555556,
             "#d8576b"
            ],
            [
             0.6666666666666666,
             "#ed7953"
            ],
            [
             0.7777777777777778,
             "#fb9f3a"
            ],
            [
             0.8888888888888888,
             "#fdca26"
            ],
            [
             1,
             "#f0f921"
            ]
           ]
          },
          "colorway": [
           "#636efa",
           "#EF553B",
           "#00cc96",
           "#ab63fa",
           "#FFA15A",
           "#19d3f3",
           "#FF6692",
           "#B6E880",
           "#FF97FF",
           "#FECB52"
          ],
          "font": {
           "color": "#f2f5fa"
          },
          "geo": {
           "bgcolor": "rgb(17,17,17)",
           "lakecolor": "rgb(17,17,17)",
           "landcolor": "rgb(17,17,17)",
           "showlakes": true,
           "showland": true,
           "subunitcolor": "#506784"
          },
          "hoverlabel": {
           "align": "left"
          },
          "hovermode": "closest",
          "mapbox": {
           "style": "dark"
          },
          "paper_bgcolor": "rgb(17,17,17)",
          "plot_bgcolor": "rgb(17,17,17)",
          "polar": {
           "angularaxis": {
            "gridcolor": "#506784",
            "linecolor": "#506784",
            "ticks": ""
           },
           "bgcolor": "rgb(17,17,17)",
           "radialaxis": {
            "gridcolor": "#506784",
            "linecolor": "#506784",
            "ticks": ""
           }
          },
          "scene": {
           "xaxis": {
            "backgroundcolor": "rgb(17,17,17)",
            "gridcolor": "#506784",
            "gridwidth": 2,
            "linecolor": "#506784",
            "showbackground": true,
            "ticks": "",
            "zerolinecolor": "#C8D4E3"
           },
           "yaxis": {
            "backgroundcolor": "rgb(17,17,17)",
            "gridcolor": "#506784",
            "gridwidth": 2,
            "linecolor": "#506784",
            "showbackground": true,
            "ticks": "",
            "zerolinecolor": "#C8D4E3"
           },
           "zaxis": {
            "backgroundcolor": "rgb(17,17,17)",
            "gridcolor": "#506784",
            "gridwidth": 2,
            "linecolor": "#506784",
            "showbackground": true,
            "ticks": "",
            "zerolinecolor": "#C8D4E3"
           }
          },
          "shapedefaults": {
           "line": {
            "color": "#f2f5fa"
           }
          },
          "sliderdefaults": {
           "bgcolor": "#C8D4E3",
           "bordercolor": "rgb(17,17,17)",
           "borderwidth": 1,
           "tickwidth": 0
          },
          "ternary": {
           "aaxis": {
            "gridcolor": "#506784",
            "linecolor": "#506784",
            "ticks": ""
           },
           "baxis": {
            "gridcolor": "#506784",
            "linecolor": "#506784",
            "ticks": ""
           },
           "bgcolor": "rgb(17,17,17)",
           "caxis": {
            "gridcolor": "#506784",
            "linecolor": "#506784",
            "ticks": ""
           }
          },
          "title": {
           "x": 0.05
          },
          "updatemenudefaults": {
           "bgcolor": "#506784",
           "borderwidth": 0
          },
          "xaxis": {
           "automargin": true,
           "gridcolor": "#283442",
           "linecolor": "#506784",
           "ticks": "",
           "title": {
            "standoff": 15
           },
           "zerolinecolor": "#283442",
           "zerolinewidth": 2
          },
          "yaxis": {
           "automargin": true,
           "gridcolor": "#283442",
           "linecolor": "#506784",
           "ticks": "",
           "title": {
            "standoff": 15
           },
           "zerolinecolor": "#283442",
           "zerolinewidth": 2
          }
         }
        },
        "title": {
         "font": {
          "size": 20
         },
         "text": "TOEFL Vs Chance Of Admit - LOR",
         "x": 0.5,
         "y": 0.88
        },
        "xaxis": {
         "title": {
          "font": {
           "size": 16
          },
          "text": "TOEFL"
         }
        },
        "yaxis": {
         "title": {
          "font": {
           "size": 16
          },
          "text": "Chance Of Admit"
         }
        }
       }
      },
      "text/html": [
       "<div>                            <div id=\"71d47832-b673-4583-a04d-efc6e4cb7f32\" class=\"plotly-graph-div\" style=\"height:525px; width:100%;\"></div>            <script type=\"text/javascript\">                require([\"plotly\"], function(Plotly) {                    window.PLOTLYENV=window.PLOTLYENV || {};                                    if (document.getElementById(\"71d47832-b673-4583-a04d-efc6e4cb7f32\")) {                    Plotly.newPlot(                        \"71d47832-b673-4583-a04d-efc6e4cb7f32\",                        [{\"marker\":{\"color\":[4.5,4.5,3.5,2.5,3.0,3.0,4.0,4.0,1.5,3.0,4.0,4.5,4.5,3.0,2.0,2.5,3.0,3.0,3.0,3.0,2.0,2.0,5.0,4.5,3.5,4.5,3.5,2.5,2.0,2.0,3.0,4.0,4.5,4.0,5.0,5.0,4.0,2.0,1.5,3.5,3.0,2.5,2.0,4.0,4.0,4.0,5.0,4.0,5.0,4.0,4.5,3.5,3.0,2.5,3.5,3.0,3.0,2.0,2.0,2.0,3.0,3.0,3.0,3.0,3.5,3.5,3.0,3.5,4.0,4.0,5.0,5.0,5.0,4.0,5.0,4.0,3.0,2.0,2.0,2.0,3.0,5.0,4.5,4.5,4.5,3.5,3.5,3.0,3.5,3.5,4.0,3.5,3.0,3.0,2.5,2.5,3.0,4.0,4.5,4.0,3.5,3.0,3.5,4.0,3.0,4.5,4.5,4.5,5.0,4.0,3.0,4.0,3.5,3.5,3.0,4.5,3.5,2.5,3.5,3.5,5.0,4.5,2.5,3.5,3.0,3.0,3.0,2.0,3.0,5.0,4.5,4.5,3.5,4.5,4.0,4.0,4.0,3.0,3.0,3.5,3.0,3.5,3.5,4.0,3.5,2.5,2.5,3.0,3.5,3.0,4.0,5.0,5.0,4.0,3.5,3.0,2.5,2.5,2.5,2.0,2.0,3.0,3.0,3.0,4.0,4.0,5.0,3.0,4.0,3.0,3.5,4.5,5.0,4.5,4.0,3.5,4.5,3.5,3.0,3.0,3.0,2.5,3.5,4.0,4.0,4.5,3.0,3.5,3.5,5.0,4.0,5.0,4.0,5.0,3.0,3.5,2.5,2.5,4.5,4.5,3.0,3.0,4.5,5.0,4.0,3.0,3.0,4.0,3.0,4.0,4.0,4.0,5.0,4.5,5.0,4.5,4.5,4.0,3.5,3.5,4.0,4.0,4.0,4.0,2.0,2.5,4.0,3.0,3.5,3.0,4.5,2.5,3.5,3.5,4.0,4.0,4.5,5.0,3.5,2.0,3.0,2.0,3.0,3.0,4.0,2.5,3.5,3.5,4.0,4.0,2.5,3.0,3.5,4.5,5.0,4.5,4.0,5.0,5.0,4.5,3.5,4.0,4.0,1.5,2.5,2.5,2.5,3.5,5.0,5.0,3.0,2.0,1.5,1.5,2.5,3.0,4.5,3.0,3.5,4.0,4.0,4.5,3.5,3.0,4.5,4.0,4.0,4.5,5.0,3.5,3.0,2.0,2.0,3.0,2.0,2.5,3.5,4.5,4.5,3.5,2.5,3.0,3.0,3.5,2.0,3.5,3.5,4.0,3.0,3.0,3.5,4.0,4.5,3.0,4.0,3.0,2.0,2.5,2.0,3.0,3.5,4.0,4.0,2.5,2.5,4.0,2.0,2.0,3.5,1.5,3.0,2.0,2.5,3.5,4.0,4.5,2.5,5.0,4.0,4.0,3.0,3.5,3.0,3.5,2.0,2.0,2.0,1.0,2.0,3.0,3.5,4.0,3.5,2.5,3.0,3.5,4.0,3.5,2.0,1.5,5.0,3.5,5.0,3.0,4.0,3.0,4.5,2.5,2.0,3.0,2.5,3.0,4.0,3.0,2.5,2.5,2.0,2.0,2.5,3.0,4.0,3.5,4.0,3.5,5.0,5.0,3.5,3.5,2.0,4.0,2.5,3.0,3.5,3.0,4.0,3.5,3.5,4.5,4.0,4.0],\"showscale\":true,\"size\":16,\"symbol\":\"circle\"},\"mode\":\"markers\",\"type\":\"scatter\",\"x\":[118,107,104,110,103,115,109,101,102,108,106,111,112,109,104,105,107,106,110,102,107,114,116,119,119,120,109,98,93,99,97,103,118,114,112,110,106,105,105,108,110,105,107,117,113,110,114,119,110,111,98,100,116,112,110,103,102,99,99,104,100,101,105,107,111,112,114,107,109,115,118,112,111,108,106,114,112,99,95,93,105,120,110,115,115,103,106,107,108,109,106,97,98,97,99,100,100,120,119,113,107,105,106,104,112,110,111,117,116,103,108,109,107,110,105,106,102,104,99,104,117,119,106,108,106,100,113,112,112,118,114,105,105,112,113,109,103,100,116,109,110,118,115,120,112,113,105,114,116,106,114,116,112,105,108,109,105,104,106,100,103,99,109,105,111,110,102,102,97,99,101,117,110,113,111,111,119,110,108,102,104,107,100,110,106,113,107,118,115,112,111,110,114,118,109,107,105,106,104,107,103,110,120,120,105,99,99,102,106,104,108,110,120,119,117,116,112,109,110,104,103,110,113,109,105,99,110,110,112,111,104,106,107,100,113,111,112,114,104,100,101,103,115,114,107,110,105,104,110,111,104,99,100,115,114,110,99,100,102,119,108,104,103,111,110,102,105,107,113,108,105,96,95,99,100,110,113,101,103,102,102,110,106,111,112,116,118,114,104,109,105,102,99,98,101,100,107,120,114,112,106,108,105,107,106,109,110,112,108,110,104,108,107,100,105,104,101,99,111,113,106,104,107,102,104,116,100,101,112,96,113,105,106,108,107,111,110,118,108,107,107,110,106,103,96,98,97,94,99,101,107,110,100,102,98,106,109,104,105,107,110,116,115,103,102,114,104,98,92,98,103,110,119,109,105,101,96,100,98,99,104,105,110,100,113,117,101,105,97,108,102,106,112,104,111,110,107,116,103,117],\"y\":[92.0,76.0,72.0,80.0,65.0,90.0,75.0,68.0,50.0,45.0,52.0,84.0,78.0,62.0,61.0,54.0,66.0,65.0,63.0,62.0,64.0,70.0,94.0,95.0,97.0,94.0,76.0,44.0,46.0,54.0,65.0,74.0,91.0,90.0,94.0,88.0,64.0,57.99999999999999,52.0,48.0,46.0,49.0,53.0,87.0,91.0,88.0,86.0,89.0,82.0,78.0,76.0,56.00000000000001,78.0,72.0,70.0,64.0,64.0,46.0,36.0,42.0,48.0,47.0,54.0,56.00000000000001,52.0,55.00000000000001,61.0,56.99999999999999,68.0,78.0,94.0,96.0,93.0,84.0,74.0,72.0,74.0,64.0,44.0,46.0,50.0,96.0,92.0,92.0,94.0,76.0,72.0,66.0,64.0,74.0,64.0,38.0,34.0,44.0,36.0,42.0,48.0,86.0,90.0,79.0,71.0,64.0,62.0,56.99999999999999,74.0,69.0,87.0,91.0,93.0,68.0,61.0,69.0,62.0,72.0,59.0,66.0,56.00000000000001,45.0,47.0,71.0,94.0,94.0,56.99999999999999,61.0,56.99999999999999,64.0,85.0,78.0,84.0,92.0,96.0,77.0,71.0,79.0,89.0,82.0,76.0,71.0,80.0,78.0,84.0,90.0,92.0,97.0,80.0,81.0,75.0,83.0,96.0,79.0,93.0,94.0,86.0,79.0,80.0,77.0,70.0,65.0,61.0,52.0,56.99999999999999,53.0,67.0,68.0,81.0,78.0,65.0,64.0,64.0,65.0,68.0,89.0,86.0,89.0,87.0,85.0,90.0,82.0,72.0,73.0,71.0,71.0,68.0,75.0,72.0,89.0,84.0,93.0,93.0,88.0,90.0,87.0,86.0,94.0,77.0,78.0,73.0,73.0,70.0,72.0,73.0,72.0,97.0,97.0,69.0,56.99999999999999,63.0,66.0,64.0,68.0,79.0,82.0,95.0,96.0,94.0,93.0,91.0,85.0,84.0,74.0,76.0,75.0,76.0,71.0,67.0,61.0,63.0,64.0,71.0,82.0,73.0,74.0,69.0,64.0,91.0,88.0,85.0,86.0,70.0,59.0,60.0,65.0,70.0,76.0,63.0,81.0,72.0,71.0,80.0,77.0,74.0,70.0,71.0,93.0,85.0,79.0,76.0,78.0,77.0,90.0,87.0,71.0,70.0,70.0,75.0,71.0,72.0,73.0,83.0,77.0,72.0,54.0,49.0,52.0,57.99999999999999,78.0,89.0,70.0,66.0,67.0,68.0,80.0,81.0,80.0,94.0,93.0,92.0,89.0,82.0,79.0,57.99999999999999,56.00000000000001,56.00000000000001,64.0,61.0,68.0,76.0,86.0,90.0,71.0,62.0,66.0,65.0,73.0,62.0,74.0,79.0,80.0,69.0,70.0,76.0,84.0,78.0,67.0,66.0,65.0,54.0,57.99999999999999,79.0,80.0,75.0,73.0,72.0,62.0,67.0,81.0,63.0,69.0,80.0,43.0,80.0,73.0,75.0,71.0,73.0,83.0,72.0,94.0,81.0,81.0,75.0,79.0,57.99999999999999,59.0,47.0,49.0,47.0,42.0,56.99999999999999,62.0,74.0,73.0,64.0,63.0,59.0,73.0,79.0,68.0,70.0,81.0,85.0,93.0,91.0,69.0,77.0,86.0,74.0,56.99999999999999,51.0,67.0,72.0,89.0,95.0,79.0,39.0,38.0,34.0,47.0,56.00000000000001,71.0,78.0,73.0,82.0,62.0,96.0,96.0,46.0,53.0,49.0,76.0,64.0,71.0,84.0,77.0,89.0,82.0,84.0,91.0,67.0,95.0]}],                        {\"template\":{\"data\":{\"bar\":[{\"error_x\":{\"color\":\"#f2f5fa\"},\"error_y\":{\"color\":\"#f2f5fa\"},\"marker\":{\"line\":{\"color\":\"rgb(17,17,17)\",\"width\":0.5},\"pattern\":{\"fillmode\":\"overlay\",\"size\":10,\"solidity\":0.2}},\"type\":\"bar\"}],\"barpolar\":[{\"marker\":{\"line\":{\"color\":\"rgb(17,17,17)\",\"width\":0.5},\"pattern\":{\"fillmode\":\"overlay\",\"size\":10,\"solidity\":0.2}},\"type\":\"barpolar\"}],\"carpet\":[{\"aaxis\":{\"endlinecolor\":\"#A2B1C6\",\"gridcolor\":\"#506784\",\"linecolor\":\"#506784\",\"minorgridcolor\":\"#506784\",\"startlinecolor\":\"#A2B1C6\"},\"baxis\":{\"endlinecolor\":\"#A2B1C6\",\"gridcolor\":\"#506784\",\"linecolor\":\"#506784\",\"minorgridcolor\":\"#506784\",\"startlinecolor\":\"#A2B1C6\"},\"type\":\"carpet\"}],\"choropleth\":[{\"colorbar\":{\"outlinewidth\":0,\"ticks\":\"\"},\"type\":\"choropleth\"}],\"contour\":[{\"colorbar\":{\"outlinewidth\":0,\"ticks\":\"\"},\"colorscale\":[[0.0,\"#0d0887\"],[0.1111111111111111,\"#46039f\"],[0.2222222222222222,\"#7201a8\"],[0.3333333333333333,\"#9c179e\"],[0.4444444444444444,\"#bd3786\"],[0.5555555555555556,\"#d8576b\"],[0.6666666666666666,\"#ed7953\"],[0.7777777777777778,\"#fb9f3a\"],[0.8888888888888888,\"#fdca26\"],[1.0,\"#f0f921\"]],\"type\":\"contour\"}],\"contourcarpet\":[{\"colorbar\":{\"outlinewidth\":0,\"ticks\":\"\"},\"type\":\"contourcarpet\"}],\"heatmap\":[{\"colorbar\":{\"outlinewidth\":0,\"ticks\":\"\"},\"colorscale\":[[0.0,\"#0d0887\"],[0.1111111111111111,\"#46039f\"],[0.2222222222222222,\"#7201a8\"],[0.3333333333333333,\"#9c179e\"],[0.4444444444444444,\"#bd3786\"],[0.5555555555555556,\"#d8576b\"],[0.6666666666666666,\"#ed7953\"],[0.7777777777777778,\"#fb9f3a\"],[0.8888888888888888,\"#fdca26\"],[1.0,\"#f0f921\"]],\"type\":\"heatmap\"}],\"heatmapgl\":[{\"colorbar\":{\"outlinewidth\":0,\"ticks\":\"\"},\"colorscale\":[[0.0,\"#0d0887\"],[0.1111111111111111,\"#46039f\"],[0.2222222222222222,\"#7201a8\"],[0.3333333333333333,\"#9c179e\"],[0.4444444444444444,\"#bd3786\"],[0.5555555555555556,\"#d8576b\"],[0.6666666666666666,\"#ed7953\"],[0.7777777777777778,\"#fb9f3a\"],[0.8888888888888888,\"#fdca26\"],[1.0,\"#f0f921\"]],\"type\":\"heatmapgl\"}],\"histogram\":[{\"marker\":{\"pattern\":{\"fillmode\":\"overlay\",\"size\":10,\"solidity\":0.2}},\"type\":\"histogram\"}],\"histogram2d\":[{\"colorbar\":{\"outlinewidth\":0,\"ticks\":\"\"},\"colorscale\":[[0.0,\"#0d0887\"],[0.1111111111111111,\"#46039f\"],[0.2222222222222222,\"#7201a8\"],[0.3333333333333333,\"#9c179e\"],[0.4444444444444444,\"#bd3786\"],[0.5555555555555556,\"#d8576b\"],[0.6666666666666666,\"#ed7953\"],[0.7777777777777778,\"#fb9f3a\"],[0.8888888888888888,\"#fdca26\"],[1.0,\"#f0f921\"]],\"type\":\"histogram2d\"}],\"histogram2dcontour\":[{\"colorbar\":{\"outlinewidth\":0,\"ticks\":\"\"},\"colorscale\":[[0.0,\"#0d0887\"],[0.1111111111111111,\"#46039f\"],[0.2222222222222222,\"#7201a8\"],[0.3333333333333333,\"#9c179e\"],[0.4444444444444444,\"#bd3786\"],[0.5555555555555556,\"#d8576b\"],[0.6666666666666666,\"#ed7953\"],[0.7777777777777778,\"#fb9f3a\"],[0.8888888888888888,\"#fdca26\"],[1.0,\"#f0f921\"]],\"type\":\"histogram2dcontour\"}],\"mesh3d\":[{\"colorbar\":{\"outlinewidth\":0,\"ticks\":\"\"},\"type\":\"mesh3d\"}],\"parcoords\":[{\"line\":{\"colorbar\":{\"outlinewidth\":0,\"ticks\":\"\"}},\"type\":\"parcoords\"}],\"pie\":[{\"automargin\":true,\"type\":\"pie\"}],\"scatter\":[{\"marker\":{\"line\":{\"color\":\"#283442\"}},\"type\":\"scatter\"}],\"scatter3d\":[{\"line\":{\"colorbar\":{\"outlinewidth\":0,\"ticks\":\"\"}},\"marker\":{\"colorbar\":{\"outlinewidth\":0,\"ticks\":\"\"}},\"type\":\"scatter3d\"}],\"scattercarpet\":[{\"marker\":{\"colorbar\":{\"outlinewidth\":0,\"ticks\":\"\"}},\"type\":\"scattercarpet\"}],\"scattergeo\":[{\"marker\":{\"colorbar\":{\"outlinewidth\":0,\"ticks\":\"\"}},\"type\":\"scattergeo\"}],\"scattergl\":[{\"marker\":{\"line\":{\"color\":\"#283442\"}},\"type\":\"scattergl\"}],\"scattermapbox\":[{\"marker\":{\"colorbar\":{\"outlinewidth\":0,\"ticks\":\"\"}},\"type\":\"scattermapbox\"}],\"scatterpolar\":[{\"marker\":{\"colorbar\":{\"outlinewidth\":0,\"ticks\":\"\"}},\"type\":\"scatterpolar\"}],\"scatterpolargl\":[{\"marker\":{\"colorbar\":{\"outlinewidth\":0,\"ticks\":\"\"}},\"type\":\"scatterpolargl\"}],\"scatterternary\":[{\"marker\":{\"colorbar\":{\"outlinewidth\":0,\"ticks\":\"\"}},\"type\":\"scatterternary\"}],\"surface\":[{\"colorbar\":{\"outlinewidth\":0,\"ticks\":\"\"},\"colorscale\":[[0.0,\"#0d0887\"],[0.1111111111111111,\"#46039f\"],[0.2222222222222222,\"#7201a8\"],[0.3333333333333333,\"#9c179e\"],[0.4444444444444444,\"#bd3786\"],[0.5555555555555556,\"#d8576b\"],[0.6666666666666666,\"#ed7953\"],[0.7777777777777778,\"#fb9f3a\"],[0.8888888888888888,\"#fdca26\"],[1.0,\"#f0f921\"]],\"type\":\"surface\"}],\"table\":[{\"cells\":{\"fill\":{\"color\":\"#506784\"},\"line\":{\"color\":\"rgb(17,17,17)\"}},\"header\":{\"fill\":{\"color\":\"#2a3f5f\"},\"line\":{\"color\":\"rgb(17,17,17)\"}},\"type\":\"table\"}]},\"layout\":{\"annotationdefaults\":{\"arrowcolor\":\"#f2f5fa\",\"arrowhead\":0,\"arrowwidth\":1},\"autotypenumbers\":\"strict\",\"coloraxis\":{\"colorbar\":{\"outlinewidth\":0,\"ticks\":\"\"}},\"colorscale\":{\"diverging\":[[0,\"#8e0152\"],[0.1,\"#c51b7d\"],[0.2,\"#de77ae\"],[0.3,\"#f1b6da\"],[0.4,\"#fde0ef\"],[0.5,\"#f7f7f7\"],[0.6,\"#e6f5d0\"],[0.7,\"#b8e186\"],[0.8,\"#7fbc41\"],[0.9,\"#4d9221\"],[1,\"#276419\"]],\"sequential\":[[0.0,\"#0d0887\"],[0.1111111111111111,\"#46039f\"],[0.2222222222222222,\"#7201a8\"],[0.3333333333333333,\"#9c179e\"],[0.4444444444444444,\"#bd3786\"],[0.5555555555555556,\"#d8576b\"],[0.6666666666666666,\"#ed7953\"],[0.7777777777777778,\"#fb9f3a\"],[0.8888888888888888,\"#fdca26\"],[1.0,\"#f0f921\"]],\"sequentialminus\":[[0.0,\"#0d0887\"],[0.1111111111111111,\"#46039f\"],[0.2222222222222222,\"#7201a8\"],[0.3333333333333333,\"#9c179e\"],[0.4444444444444444,\"#bd3786\"],[0.5555555555555556,\"#d8576b\"],[0.6666666666666666,\"#ed7953\"],[0.7777777777777778,\"#fb9f3a\"],[0.8888888888888888,\"#fdca26\"],[1.0,\"#f0f921\"]]},\"colorway\":[\"#636efa\",\"#EF553B\",\"#00cc96\",\"#ab63fa\",\"#FFA15A\",\"#19d3f3\",\"#FF6692\",\"#B6E880\",\"#FF97FF\",\"#FECB52\"],\"font\":{\"color\":\"#f2f5fa\"},\"geo\":{\"bgcolor\":\"rgb(17,17,17)\",\"lakecolor\":\"rgb(17,17,17)\",\"landcolor\":\"rgb(17,17,17)\",\"showlakes\":true,\"showland\":true,\"subunitcolor\":\"#506784\"},\"hoverlabel\":{\"align\":\"left\"},\"hovermode\":\"closest\",\"mapbox\":{\"style\":\"dark\"},\"paper_bgcolor\":\"rgb(17,17,17)\",\"plot_bgcolor\":\"rgb(17,17,17)\",\"polar\":{\"angularaxis\":{\"gridcolor\":\"#506784\",\"linecolor\":\"#506784\",\"ticks\":\"\"},\"bgcolor\":\"rgb(17,17,17)\",\"radialaxis\":{\"gridcolor\":\"#506784\",\"linecolor\":\"#506784\",\"ticks\":\"\"}},\"scene\":{\"xaxis\":{\"backgroundcolor\":\"rgb(17,17,17)\",\"gridcolor\":\"#506784\",\"gridwidth\":2,\"linecolor\":\"#506784\",\"showbackground\":true,\"ticks\":\"\",\"zerolinecolor\":\"#C8D4E3\"},\"yaxis\":{\"backgroundcolor\":\"rgb(17,17,17)\",\"gridcolor\":\"#506784\",\"gridwidth\":2,\"linecolor\":\"#506784\",\"showbackground\":true,\"ticks\":\"\",\"zerolinecolor\":\"#C8D4E3\"},\"zaxis\":{\"backgroundcolor\":\"rgb(17,17,17)\",\"gridcolor\":\"#506784\",\"gridwidth\":2,\"linecolor\":\"#506784\",\"showbackground\":true,\"ticks\":\"\",\"zerolinecolor\":\"#C8D4E3\"}},\"shapedefaults\":{\"line\":{\"color\":\"#f2f5fa\"}},\"sliderdefaults\":{\"bgcolor\":\"#C8D4E3\",\"bordercolor\":\"rgb(17,17,17)\",\"borderwidth\":1,\"tickwidth\":0},\"ternary\":{\"aaxis\":{\"gridcolor\":\"#506784\",\"linecolor\":\"#506784\",\"ticks\":\"\"},\"baxis\":{\"gridcolor\":\"#506784\",\"linecolor\":\"#506784\",\"ticks\":\"\"},\"bgcolor\":\"rgb(17,17,17)\",\"caxis\":{\"gridcolor\":\"#506784\",\"linecolor\":\"#506784\",\"ticks\":\"\"}},\"title\":{\"x\":0.05},\"updatemenudefaults\":{\"bgcolor\":\"#506784\",\"borderwidth\":0},\"xaxis\":{\"automargin\":true,\"gridcolor\":\"#283442\",\"linecolor\":\"#506784\",\"ticks\":\"\",\"title\":{\"standoff\":15},\"zerolinecolor\":\"#283442\",\"zerolinewidth\":2},\"yaxis\":{\"automargin\":true,\"gridcolor\":\"#283442\",\"linecolor\":\"#506784\",\"ticks\":\"\",\"title\":{\"standoff\":15},\"zerolinecolor\":\"#283442\",\"zerolinewidth\":2}}},\"title\":{\"font\":{\"size\":20},\"text\":\"TOEFL Vs Chance Of Admit - LOR\",\"x\":0.5,\"y\":0.88},\"xaxis\":{\"title\":{\"font\":{\"size\":16},\"text\":\"TOEFL\"}},\"yaxis\":{\"title\":{\"font\":{\"size\":16},\"text\":\"Chance Of Admit\"}}},                        {\"responsive\": true}                    ).then(function(){\n",
       "                            \n",
       "var gd = document.getElementById('71d47832-b673-4583-a04d-efc6e4cb7f32');\n",
       "var x = new MutationObserver(function (mutations, observer) {{\n",
       "        var display = window.getComputedStyle(gd).display;\n",
       "        if (!display || display === 'none') {{\n",
       "            console.log([gd, 'removed!']);\n",
       "            Plotly.purge(gd);\n",
       "            observer.disconnect();\n",
       "        }}\n",
       "}});\n",
       "\n",
       "// Listen for the removal of the full notebook cells\n",
       "var notebookContainer = gd.closest('#notebook-container');\n",
       "if (notebookContainer) {{\n",
       "    x.observe(notebookContainer, {childList: true});\n",
       "}}\n",
       "\n",
       "// Listen for the clearing of the current output cell\n",
       "var outputEl = gd.closest('.output');\n",
       "if (outputEl) {{\n",
       "    x.observe(outputEl, {childList: true});\n",
       "}}\n",
       "\n",
       "                        })                };                });            </script>        </div>"
      ]
     },
     "metadata": {},
     "output_type": "display_data"
    }
   ],
   "source": [
    "data = [go.Scatter(x = data_col_chng['TOEFL Score'], \n",
    "                   y = data_col_chng['Chance of Admit']*100, \n",
    "                   mode = 'markers', \n",
    "                   marker = dict(symbol = 'circle', \n",
    "                                 size = 16, \n",
    "                                 color = data_col_chng['LOR'], \n",
    "                                 showscale = True))]\n",
    "\n",
    "layout = go.Layout(title = dict(text = 'TOEFL Vs Chance Of Admit - LOR', \n",
    "                                x = 0.5, \n",
    "                                y = 0.88, \n",
    "                                font = {'size': 20}),\n",
    "                   xaxis = dict(title = 'TOEFL', \n",
    "                                titlefont = {'size': 16}),\n",
    "                   yaxis = dict(title = 'Chance Of Admit', \n",
    "                                titlefont = {'size': 16}),\n",
    "                   template = 'plotly_dark')\n",
    "\n",
    "fig = go.Figure(data = data, \n",
    "                layout = layout)\n",
    "\n",
    "iplot(fig)"
   ]
  },
  {
   "cell_type": "code",
   "execution_count": 17,
   "id": "bbb596d1",
   "metadata": {},
   "outputs": [
    {
     "data": {
      "application/vnd.plotly.v1+json": {
       "config": {
        "linkText": "Export to plot.ly",
        "plotlyServerURL": "https://plot.ly",
        "showLink": false
       },
       "data": [
        {
         "boxpoints": "outliers",
         "marker": {
          "line": {
           "color": "black",
           "width": 0.5
          },
          "opacity": 0.5
         },
         "name": "GRE Score",
         "notched": true,
         "type": "box",
         "y": [
          337,
          324,
          316,
          322,
          314,
          330,
          321,
          308,
          302,
          323,
          325,
          327,
          328,
          307,
          311,
          314,
          317,
          319,
          318,
          303,
          312,
          325,
          328,
          334,
          336,
          340,
          322,
          298,
          295,
          310,
          300,
          327,
          338,
          340,
          331,
          320,
          299,
          300,
          304,
          307,
          308,
          316,
          313,
          332,
          326,
          322,
          329,
          339,
          321,
          327,
          313,
          312,
          334,
          324,
          322,
          320,
          316,
          298,
          300,
          311,
          309,
          307,
          304,
          315,
          325,
          325,
          327,
          316,
          318,
          328,
          332,
          336,
          321,
          314,
          314,
          329,
          327,
          301,
          296,
          294,
          312,
          340,
          320,
          322,
          340,
          319,
          315,
          317,
          314,
          316,
          318,
          299,
          298,
          301,
          303,
          304,
          306,
          331,
          332,
          323,
          322,
          312,
          314,
          317,
          326,
          316,
          329,
          338,
          331,
          304,
          305,
          321,
          301,
          320,
          311,
          310,
          299,
          290,
          296,
          327,
          335,
          334,
          310,
          308,
          301,
          300,
          323,
          319,
          326,
          333,
          339,
          303,
          309,
          323,
          333,
          314,
          312,
          316,
          326,
          318,
          329,
          332,
          331,
          340,
          325,
          320,
          315,
          326,
          339,
          311,
          334,
          332,
          321,
          324,
          326,
          312,
          315,
          309,
          306,
          297,
          315,
          298,
          318,
          317,
          329,
          322,
          302,
          313,
          293,
          311,
          312,
          334,
          322,
          323,
          321,
          320,
          329,
          319,
          309,
          307,
          300,
          305,
          299,
          314,
          316,
          327,
          317,
          335,
          331,
          324,
          324,
          323,
          322,
          336,
          316,
          307,
          306,
          310,
          311,
          313,
          317,
          315,
          340,
          334,
          298,
          295,
          315,
          310,
          305,
          301,
          325,
          328,
          338,
          333,
          331,
          330,
          322,
          321,
          324,
          312,
          313,
          316,
          324,
          308,
          305,
          296,
          306,
          312,
          318,
          324,
          313,
          319,
          312,
          304,
          330,
          326,
          325,
          329,
          310,
          299,
          296,
          317,
          324,
          325,
          314,
          328,
          316,
          311,
          324,
          321,
          320,
          316,
          318,
          335,
          321,
          307,
          309,
          324,
          326,
          331,
          327,
          312,
          308,
          324,
          325,
          313,
          312,
          314,
          327,
          308,
          306,
          299,
          294,
          312,
          315,
          322,
          329,
          320,
          308,
          304,
          311,
          317,
          312,
          321,
          340,
          331,
          336,
          324,
          314,
          313,
          307,
          300,
          302,
          312,
          316,
          317,
          310,
          320,
          330,
          305,
          309,
          319,
          322,
          323,
          313,
          321,
          323,
          325,
          312,
          308,
          320,
          328,
          311,
          301,
          305,
          308,
          298,
          300,
          324,
          327,
          317,
          323,
          314,
          305,
          315,
          326,
          299,
          295,
          324,
          297,
          327,
          311,
          308,
          319,
          312,
          325,
          319,
          332,
          323,
          324,
          312,
          326,
          308,
          305,
          295,
          316,
          304,
          299,
          302,
          313,
          318,
          325,
          303,
          300,
          297,
          317,
          327,
          301,
          314,
          321,
          322,
          334,
          338,
          306,
          313,
          330,
          320,
          311,
          298,
          301,
          310,
          324,
          336,
          321,
          315,
          304,
          297,
          290,
          303,
          311,
          322,
          319,
          324,
          300,
          340,
          335,
          302,
          307,
          296,
          320,
          314,
          318,
          326,
          317,
          329,
          324,
          325,
          330,
          312,
          333
         ]
        },
        {
         "boxpoints": "outliers",
         "marker": {
          "line": {
           "color": "black",
           "width": 0.5
          },
          "opacity": 0.5
         },
         "name": "TOEFL Score",
         "notched": true,
         "type": "box",
         "y": [
          118,
          107,
          104,
          110,
          103,
          115,
          109,
          101,
          102,
          108,
          106,
          111,
          112,
          109,
          104,
          105,
          107,
          106,
          110,
          102,
          107,
          114,
          116,
          119,
          119,
          120,
          109,
          98,
          93,
          99,
          97,
          103,
          118,
          114,
          112,
          110,
          106,
          105,
          105,
          108,
          110,
          105,
          107,
          117,
          113,
          110,
          114,
          119,
          110,
          111,
          98,
          100,
          116,
          112,
          110,
          103,
          102,
          99,
          99,
          104,
          100,
          101,
          105,
          107,
          111,
          112,
          114,
          107,
          109,
          115,
          118,
          112,
          111,
          108,
          106,
          114,
          112,
          99,
          95,
          93,
          105,
          120,
          110,
          115,
          115,
          103,
          106,
          107,
          108,
          109,
          106,
          97,
          98,
          97,
          99,
          100,
          100,
          120,
          119,
          113,
          107,
          105,
          106,
          104,
          112,
          110,
          111,
          117,
          116,
          103,
          108,
          109,
          107,
          110,
          105,
          106,
          102,
          104,
          99,
          104,
          117,
          119,
          106,
          108,
          106,
          100,
          113,
          112,
          112,
          118,
          114,
          105,
          105,
          112,
          113,
          109,
          103,
          100,
          116,
          109,
          110,
          118,
          115,
          120,
          112,
          113,
          105,
          114,
          116,
          106,
          114,
          116,
          112,
          105,
          108,
          109,
          105,
          104,
          106,
          100,
          103,
          99,
          109,
          105,
          111,
          110,
          102,
          102,
          97,
          99,
          101,
          117,
          110,
          113,
          111,
          111,
          119,
          110,
          108,
          102,
          104,
          107,
          100,
          110,
          106,
          113,
          107,
          118,
          115,
          112,
          111,
          110,
          114,
          118,
          109,
          107,
          105,
          106,
          104,
          107,
          103,
          110,
          120,
          120,
          105,
          99,
          99,
          102,
          106,
          104,
          108,
          110,
          120,
          119,
          117,
          116,
          112,
          109,
          110,
          104,
          103,
          110,
          113,
          109,
          105,
          99,
          110,
          110,
          112,
          111,
          104,
          106,
          107,
          100,
          113,
          111,
          112,
          114,
          104,
          100,
          101,
          103,
          115,
          114,
          107,
          110,
          105,
          104,
          110,
          111,
          104,
          99,
          100,
          115,
          114,
          110,
          99,
          100,
          102,
          119,
          108,
          104,
          103,
          111,
          110,
          102,
          105,
          107,
          113,
          108,
          105,
          96,
          95,
          99,
          100,
          110,
          113,
          101,
          103,
          102,
          102,
          110,
          106,
          111,
          112,
          116,
          118,
          114,
          104,
          109,
          105,
          102,
          99,
          98,
          101,
          100,
          107,
          120,
          114,
          112,
          106,
          108,
          105,
          107,
          106,
          109,
          110,
          112,
          108,
          110,
          104,
          108,
          107,
          100,
          105,
          104,
          101,
          99,
          111,
          113,
          106,
          104,
          107,
          102,
          104,
          116,
          100,
          101,
          112,
          96,
          113,
          105,
          106,
          108,
          107,
          111,
          110,
          118,
          108,
          107,
          107,
          110,
          106,
          103,
          96,
          98,
          97,
          94,
          99,
          101,
          107,
          110,
          100,
          102,
          98,
          106,
          109,
          104,
          105,
          107,
          110,
          116,
          115,
          103,
          102,
          114,
          104,
          98,
          92,
          98,
          103,
          110,
          119,
          109,
          105,
          101,
          96,
          100,
          98,
          99,
          104,
          105,
          110,
          100,
          113,
          117,
          101,
          105,
          97,
          108,
          102,
          106,
          112,
          104,
          111,
          110,
          107,
          116,
          103,
          117
         ]
        },
        {
         "boxpoints": "outliers",
         "marker": {
          "line": {
           "color": "black",
           "width": 0.5
          },
          "opacity": 0.5
         },
         "name": "University Rating",
         "notched": true,
         "type": "box",
         "y": [
          4,
          4,
          3,
          3,
          2,
          5,
          3,
          2,
          1,
          3,
          3,
          4,
          4,
          3,
          3,
          3,
          3,
          3,
          3,
          3,
          3,
          4,
          5,
          5,
          5,
          5,
          5,
          2,
          1,
          2,
          2,
          3,
          4,
          5,
          5,
          5,
          2,
          1,
          1,
          2,
          3,
          2,
          2,
          4,
          5,
          5,
          5,
          5,
          3,
          4,
          3,
          2,
          4,
          4,
          3,
          3,
          3,
          2,
          1,
          2,
          2,
          3,
          2,
          2,
          3,
          4,
          3,
          2,
          3,
          4,
          5,
          5,
          5,
          4,
          3,
          2,
          3,
          2,
          2,
          1,
          3,
          4,
          5,
          5,
          5,
          4,
          3,
          2,
          3,
          4,
          2,
          3,
          2,
          2,
          3,
          4,
          2,
          3,
          4,
          3,
          3,
          2,
          2,
          2,
          3,
          3,
          4,
          4,
          5,
          5,
          5,
          4,
          3,
          2,
          3,
          4,
          3,
          4,
          2,
          5,
          5,
          5,
          4,
          3,
          4,
          3,
          3,
          3,
          3,
          5,
          5,
          5,
          5,
          5,
          5,
          4,
          3,
          2,
          2,
          1,
          2,
          2,
          5,
          4,
          2,
          2,
          3,
          3,
          4,
          2,
          4,
          5,
          5,
          3,
          3,
          3,
          3,
          2,
          2,
          1,
          1,
          1,
          3,
          3,
          4,
          5,
          3,
          3,
          2,
          2,
          2,
          5,
          4,
          4,
          4,
          4,
          4,
          3,
          3,
          3,
          3,
          2,
          2,
          3,
          2,
          4,
          3,
          5,
          5,
          5,
          5,
          5,
          5,
          5,
          3,
          2,
          2,
          2,
          3,
          3,
          3,
          2,
          5,
          5,
          3,
          2,
          2,
          3,
          2,
          3,
          4,
          4,
          4,
          5,
          4,
          5,
          4,
          4,
          4,
          3,
          3,
          3,
          4,
          2,
          2,
          2,
          2,
          2,
          3,
          4,
          3,
          3,
          2,
          2,
          5,
          5,
          4,
          5,
          3,
          1,
          1,
          2,
          3,
          3,
          2,
          4,
          3,
          2,
          3,
          3,
          3,
          2,
          2,
          4,
          4,
          4,
          3,
          3,
          4,
          4,
          5,
          3,
          2,
          3,
          2,
          3,
          2,
          3,
          4,
          4,
          2,
          2,
          1,
          1,
          1,
          3,
          5,
          2,
          2,
          2,
          3,
          3,
          3,
          3,
          4,
          5,
          5,
          5,
          4,
          3,
          2,
          2,
          2,
          1,
          2,
          2,
          3,
          3,
          3,
          3,
          2,
          2,
          2,
          3,
          2,
          3,
          3,
          4,
          3,
          4,
          3,
          4,
          4,
          3,
          2,
          2,
          2,
          1,
          3,
          4,
          3,
          3,
          2,
          2,
          3,
          3,
          3,
          2,
          4,
          2,
          3,
          2,
          3,
          3,
          4,
          4,
          3,
          5,
          5,
          5,
          3,
          3,
          3,
          2,
          2,
          1,
          2,
          1,
          1,
          3,
          3,
          4,
          2,
          3,
          2,
          2,
          3,
          2,
          2,
          2,
          3,
          4,
          5,
          2,
          3,
          4,
          3,
          1,
          1,
          1,
          2,
          3,
          4,
          3,
          2,
          2,
          2,
          1,
          1,
          1,
          3,
          3,
          4,
          3,
          4,
          5,
          2,
          2,
          2,
          3,
          2,
          3,
          4,
          2,
          4,
          3,
          3,
          4,
          3,
          4
         ]
        },
        {
         "boxpoints": "outliers",
         "marker": {
          "line": {
           "color": "black",
           "width": 0.5
          },
          "opacity": 0.5
         },
         "name": "SOP",
         "notched": true,
         "type": "box",
         "y": [
          4.5,
          4,
          3,
          3.5,
          2,
          4.5,
          3,
          3,
          2,
          3.5,
          3.5,
          4,
          4,
          4,
          3.5,
          3.5,
          4,
          4,
          4,
          3.5,
          3,
          3,
          5,
          5,
          4,
          4.5,
          4.5,
          1.5,
          2,
          1.5,
          3,
          4,
          3,
          4,
          4,
          5,
          4,
          1,
          3,
          4,
          3.5,
          2.5,
          2.5,
          4.5,
          4.5,
          5,
          4,
          4.5,
          3.5,
          3,
          2.5,
          1.5,
          4,
          4,
          3,
          3,
          2,
          4,
          3,
          2,
          3,
          4,
          3,
          4,
          3,
          3.5,
          3,
          3.5,
          3.5,
          4.5,
          5,
          5,
          5,
          4.5,
          3,
          2,
          3,
          3,
          3,
          1.5,
          2,
          5,
          5,
          4,
          4.5,
          4.5,
          4.5,
          3.5,
          4.5,
          4.5,
          4,
          5,
          4,
          3,
          2,
          1.5,
          3,
          4,
          5,
          4,
          3.5,
          2.5,
          4,
          4.5,
          3.5,
          4,
          4.5,
          3.5,
          5,
          5,
          3,
          4,
          3.5,
          4,
          3.5,
          4.5,
          4,
          2,
          3,
          3,
          5,
          4.5,
          1.5,
          3.5,
          2.5,
          2,
          4,
          2.5,
          3.5,
          5,
          4,
          5,
          3.5,
          4,
          4,
          3.5,
          5,
          1.5,
          4.5,
          3.5,
          4,
          4.5,
          4,
          4.5,
          3,
          2,
          2,
          3,
          4,
          3.5,
          4,
          5,
          5,
          3,
          3,
          3,
          2,
          2,
          2,
          1.5,
          1.5,
          1.5,
          3,
          3.5,
          4.5,
          4.5,
          3.5,
          2,
          2,
          2.5,
          2.5,
          4,
          4,
          4,
          4,
          4.5,
          4.5,
          3.5,
          2.5,
          3,
          3.5,
          2.5,
          3,
          4,
          2.5,
          4.5,
          3.5,
          4.5,
          4.5,
          5,
          4.5,
          4,
          4.5,
          4.5,
          3.5,
          3,
          3,
          3.5,
          4.5,
          4,
          2.5,
          3.5,
          4.5,
          4,
          3.5,
          2.5,
          3.5,
          3.5,
          3,
          3.5,
          4.5,
          5,
          5,
          5,
          4.5,
          5,
          4.5,
          4,
          3,
          3.5,
          4,
          3.5,
          4.5,
          3,
          3,
          2.5,
          3.5,
          3.5,
          4,
          3,
          4,
          3.5,
          2.5,
          2.5,
          5,
          4.5,
          4,
          4.5,
          2,
          1.5,
          2.5,
          2.5,
          3.5,
          3.5,
          2.5,
          4,
          3,
          2.5,
          3.5,
          3.5,
          3,
          2.5,
          2.5,
          4.5,
          4,
          4,
          4,
          4,
          5,
          5,
          5,
          3.5,
          2.5,
          2.5,
          3,
          2.5,
          2,
          3,
          4.5,
          4.5,
          2.5,
          1.5,
          1.5,
          1,
          2,
          3.5,
          5,
          2.5,
          3,
          3,
          4.5,
          4,
          4,
          2.5,
          5,
          4,
          4.5,
          5,
          5,
          4,
          2.5,
          1.5,
          1,
          3.5,
          2.5,
          3,
          3.5,
          4,
          4.5,
          3,
          2.5,
          2.5,
          3,
          3.5,
          2.5,
          3.5,
          4,
          4,
          3.5,
          3.5,
          3,
          4.5,
          4.5,
          3.5,
          3,
          2.5,
          1.5,
          1,
          2.5,
          3.5,
          4,
          4,
          2.5,
          2,
          3,
          3.5,
          2,
          2.5,
          4,
          2.5,
          3.5,
          3,
          3.5,
          3,
          4.5,
          4,
          3,
          5,
          4,
          3.5,
          3,
          3.5,
          3,
          2.5,
          1.5,
          1.5,
          1.5,
          1,
          2,
          2.5,
          3,
          3.5,
          3,
          3.5,
          2.5,
          2,
          3.5,
          3.5,
          2.5,
          2,
          4,
          4,
          4.5,
          2.5,
          3.5,
          4.5,
          3.5,
          1,
          2,
          2,
          2.5,
          3.5,
          4.5,
          3,
          2,
          2,
          2.5,
          1.5,
          2,
          2.5,
          3.5,
          3,
          4.5,
          3,
          5,
          5,
          2.5,
          2,
          1.5,
          3.5,
          2,
          2,
          4,
          3,
          4.5,
          3.5,
          3,
          5,
          3.5,
          5
         ]
        },
        {
         "boxpoints": "outliers",
         "marker": {
          "line": {
           "color": "black",
           "width": 0.5
          },
          "opacity": 0.5
         },
         "name": "LOR",
         "notched": true,
         "type": "box",
         "y": [
          4.5,
          4.5,
          3.5,
          2.5,
          3,
          3,
          4,
          4,
          1.5,
          3,
          4,
          4.5,
          4.5,
          3,
          2,
          2.5,
          3,
          3,
          3,
          3,
          2,
          2,
          5,
          4.5,
          3.5,
          4.5,
          3.5,
          2.5,
          2,
          2,
          3,
          4,
          4.5,
          4,
          5,
          5,
          4,
          2,
          1.5,
          3.5,
          3,
          2.5,
          2,
          4,
          4,
          4,
          5,
          4,
          5,
          4,
          4.5,
          3.5,
          3,
          2.5,
          3.5,
          3,
          3,
          2,
          2,
          2,
          3,
          3,
          3,
          3,
          3.5,
          3.5,
          3,
          3.5,
          4,
          4,
          5,
          5,
          5,
          4,
          5,
          4,
          3,
          2,
          2,
          2,
          3,
          5,
          4.5,
          4.5,
          4.5,
          3.5,
          3.5,
          3,
          3.5,
          3.5,
          4,
          3.5,
          3,
          3,
          2.5,
          2.5,
          3,
          4,
          4.5,
          4,
          3.5,
          3,
          3.5,
          4,
          3,
          4.5,
          4.5,
          4.5,
          5,
          4,
          3,
          4,
          3.5,
          3.5,
          3,
          4.5,
          3.5,
          2.5,
          3.5,
          3.5,
          5,
          4.5,
          2.5,
          3.5,
          3,
          3,
          3,
          2,
          3,
          5,
          4.5,
          4.5,
          3.5,
          4.5,
          4,
          4,
          4,
          3,
          3,
          3.5,
          3,
          3.5,
          3.5,
          4,
          3.5,
          2.5,
          2.5,
          3,
          3.5,
          3,
          4,
          5,
          5,
          4,
          3.5,
          3,
          2.5,
          2.5,
          2.5,
          2,
          2,
          3,
          3,
          3,
          4,
          4,
          5,
          3,
          4,
          3,
          3.5,
          4.5,
          5,
          4.5,
          4,
          3.5,
          4.5,
          3.5,
          3,
          3,
          3,
          2.5,
          3.5,
          4,
          4,
          4.5,
          3,
          3.5,
          3.5,
          5,
          4,
          5,
          4,
          5,
          3,
          3.5,
          2.5,
          2.5,
          4.5,
          4.5,
          3,
          3,
          4.5,
          5,
          4,
          3,
          3,
          4,
          3,
          4,
          4,
          4,
          5,
          4.5,
          5,
          4.5,
          4.5,
          4,
          3.5,
          3.5,
          4,
          4,
          4,
          4,
          2,
          2.5,
          4,
          3,
          3.5,
          3,
          4.5,
          2.5,
          3.5,
          3.5,
          4,
          4,
          4.5,
          5,
          3.5,
          2,
          3,
          2,
          3,
          3,
          4,
          2.5,
          3.5,
          3.5,
          4,
          4,
          2.5,
          3,
          3.5,
          4.5,
          5,
          4.5,
          4,
          5,
          5,
          4.5,
          3.5,
          4,
          4,
          1.5,
          2.5,
          2.5,
          2.5,
          3.5,
          5,
          5,
          3,
          2,
          1.5,
          1.5,
          2.5,
          3,
          4.5,
          3,
          3.5,
          4,
          4,
          4.5,
          3.5,
          3,
          4.5,
          4,
          4,
          4.5,
          5,
          3.5,
          3,
          2,
          2,
          3,
          2,
          2.5,
          3.5,
          4.5,
          4.5,
          3.5,
          2.5,
          3,
          3,
          3.5,
          2,
          3.5,
          3.5,
          4,
          3,
          3,
          3.5,
          4,
          4.5,
          3,
          4,
          3,
          2,
          2.5,
          2,
          3,
          3.5,
          4,
          4,
          2.5,
          2.5,
          4,
          2,
          2,
          3.5,
          1.5,
          3,
          2,
          2.5,
          3.5,
          4,
          4.5,
          2.5,
          5,
          4,
          4,
          3,
          3.5,
          3,
          3.5,
          2,
          2,
          2,
          1,
          2,
          3,
          3.5,
          4,
          3.5,
          2.5,
          3,
          3.5,
          4,
          3.5,
          2,
          1.5,
          5,
          3.5,
          5,
          3,
          4,
          3,
          4.5,
          2.5,
          2,
          3,
          2.5,
          3,
          4,
          3,
          2.5,
          2.5,
          2,
          2,
          2.5,
          3,
          4,
          3.5,
          4,
          3.5,
          5,
          5,
          3.5,
          3.5,
          2,
          4,
          2.5,
          3,
          3.5,
          3,
          4,
          3.5,
          3.5,
          4.5,
          4,
          4
         ]
        },
        {
         "boxpoints": "outliers",
         "marker": {
          "line": {
           "color": "black",
           "width": 0.5
          },
          "opacity": 0.5
         },
         "name": "CGPA",
         "notched": true,
         "type": "box",
         "y": [
          9.65,
          8.87,
          8,
          8.67,
          8.21,
          9.34,
          8.2,
          7.9,
          8,
          8.6,
          8.4,
          9,
          9.1,
          8,
          8.2,
          8.3,
          8.7,
          8,
          8.8,
          8.5,
          7.9,
          8.4,
          9.5,
          9.7,
          9.8,
          9.6,
          8.8,
          7.5,
          7.2,
          7.3,
          8.1,
          8.3,
          9.4,
          9.6,
          9.8,
          9.2,
          8.4,
          7.8,
          7.5,
          7.7,
          8,
          8.2,
          8.5,
          9.1,
          9.4,
          9.1,
          9.3,
          9.7,
          8.85,
          8.4,
          8.3,
          7.9,
          8,
          8.1,
          8,
          7.7,
          7.4,
          7.6,
          6.8,
          8.3,
          8.1,
          8.2,
          8.2,
          8.5,
          8.7,
          8.92,
          9.02,
          8.64,
          9.22,
          9.16,
          9.64,
          9.76,
          9.45,
          9.04,
          8.9,
          8.56,
          8.72,
          8.22,
          7.54,
          7.36,
          8.02,
          9.5,
          9.22,
          9.36,
          9.45,
          8.66,
          8.42,
          8.28,
          8.14,
          8.76,
          7.92,
          7.66,
          8.03,
          7.88,
          7.66,
          7.84,
          8,
          8.96,
          9.24,
          8.88,
          8.46,
          8.12,
          8.25,
          8.47,
          9.05,
          8.78,
          9.18,
          9.46,
          9.38,
          8.64,
          8.48,
          8.68,
          8.34,
          8.56,
          8.45,
          9.04,
          8.62,
          7.46,
          7.28,
          8.84,
          9.56,
          9.48,
          8.36,
          8.22,
          8.47,
          8.66,
          9.32,
          8.71,
          9.1,
          9.35,
          9.76,
          8.65,
          8.56,
          8.78,
          9.28,
          8.77,
          8.45,
          8.16,
          9.08,
          9.12,
          9.15,
          9.36,
          9.44,
          9.92,
          8.96,
          8.64,
          8.48,
          9.11,
          9.8,
          8.26,
          9.43,
          9.28,
          9.06,
          8.75,
          8.89,
          8.69,
          8.34,
          8.26,
          8.14,
          7.9,
          7.86,
          7.46,
          8.5,
          8.56,
          9.01,
          8.97,
          8.33,
          8.27,
          7.8,
          7.98,
          8.04,
          9.07,
          9.13,
          9.23,
          8.97,
          8.87,
          9.16,
          9.04,
          8.12,
          8.27,
          8.16,
          8.42,
          7.88,
          8.8,
          8.32,
          9.11,
          8.68,
          9.44,
          9.36,
          9.08,
          9.16,
          8.98,
          8.94,
          9.53,
          8.76,
          8.52,
          8.26,
          8.33,
          8.43,
          8.69,
          8.54,
          8.46,
          9.91,
          9.87,
          8.54,
          7.65,
          7.89,
          8.02,
          8.16,
          8.12,
          9.06,
          9.14,
          9.66,
          9.78,
          9.42,
          9.36,
          9.26,
          9.13,
          8.97,
          8.42,
          8.75,
          8.56,
          8.79,
          8.45,
          8.23,
          8.03,
          8.45,
          8.53,
          8.67,
          9.01,
          8.65,
          8.33,
          8.27,
          8.07,
          9.31,
          9.23,
          9.17,
          9.19,
          8.37,
          7.89,
          7.68,
          8.15,
          8.76,
          9.04,
          8.56,
          9.02,
          8.73,
          8.48,
          8.87,
          8.83,
          8.57,
          9,
          8.54,
          9.68,
          9.12,
          8.37,
          8.56,
          8.64,
          8.76,
          9.34,
          9.13,
          8.09,
          8.36,
          8.79,
          8.76,
          8.68,
          8.45,
          8.17,
          9.14,
          8.34,
          8.22,
          7.86,
          7.64,
          8.01,
          7.95,
          8.96,
          9.45,
          8.62,
          8.49,
          8.73,
          8.64,
          9.11,
          8.79,
          8.9,
          9.66,
          9.26,
          9.19,
          9.08,
          9.02,
          9,
          7.65,
          7.87,
          7.97,
          8.18,
          8.32,
          8.57,
          8.67,
          9.11,
          9.24,
          8.65,
          8,
          8.76,
          8.45,
          8.55,
          8.43,
          8.8,
          9.1,
          9,
          8.53,
          8.6,
          8.74,
          9.18,
          9,
          8.04,
          8.13,
          8.07,
          7.86,
          8.01,
          8.8,
          8.69,
          8.5,
          8.44,
          8.27,
          8.18,
          8.33,
          9.14,
          8.02,
          7.86,
          8.77,
          7.89,
          8.66,
          8.12,
          8.21,
          8.54,
          8.65,
          9.11,
          8.79,
          9.47,
          8.74,
          8.66,
          8.46,
          8.76,
          8.24,
          8.13,
          7.34,
          7.43,
          7.64,
          7.34,
          7.25,
          8.04,
          8.27,
          8.67,
          8.06,
          8.17,
          7.67,
          8.12,
          8.77,
          7.89,
          7.64,
          8.44,
          8.64,
          9.54,
          9.23,
          8.36,
          8.9,
          9.17,
          8.34,
          7.46,
          7.88,
          8.03,
          8.24,
          9.22,
          9.62,
          8.54,
          7.65,
          7.66,
          7.43,
          7.56,
          7.65,
          8.43,
          8.84,
          8.67,
          9.15,
          8.26,
          9.74,
          9.82,
          7.96,
          8.1,
          7.8,
          8.44,
          8.24,
          8.65,
          9.12,
          8.76,
          9.23,
          9.04,
          9.11,
          9.45,
          8.78,
          9.66
         ]
        },
        {
         "boxpoints": "outliers",
         "marker": {
          "line": {
           "color": "black",
           "width": 0.5
          },
          "opacity": 0.5
         },
         "name": "Research",
         "notched": true,
         "type": "box",
         "y": [
          1,
          1,
          1,
          1,
          0,
          1,
          1,
          0,
          0,
          0,
          1,
          1,
          1,
          1,
          1,
          0,
          0,
          1,
          0,
          0,
          1,
          0,
          1,
          1,
          1,
          1,
          0,
          1,
          0,
          0,
          1,
          1,
          1,
          1,
          1,
          1,
          0,
          0,
          0,
          0,
          1,
          1,
          1,
          0,
          1,
          1,
          1,
          0,
          1,
          1,
          1,
          1,
          1,
          1,
          0,
          0,
          0,
          0,
          1,
          0,
          0,
          0,
          1,
          1,
          0,
          0,
          0,
          1,
          1,
          1,
          1,
          1,
          1,
          1,
          0,
          1,
          1,
          0,
          1,
          0,
          1,
          1,
          1,
          1,
          1,
          0,
          0,
          0,
          0,
          1,
          1,
          0,
          0,
          1,
          0,
          0,
          0,
          1,
          1,
          1,
          1,
          0,
          0,
          0,
          1,
          1,
          1,
          1,
          1,
          0,
          0,
          1,
          1,
          0,
          1,
          1,
          0,
          0,
          0,
          1,
          1,
          1,
          0,
          0,
          0,
          1,
          1,
          1,
          1,
          1,
          1,
          0,
          0,
          0,
          1,
          1,
          0,
          1,
          1,
          0,
          1,
          1,
          1,
          1,
          1,
          1,
          0,
          1,
          1,
          1,
          1,
          1,
          1,
          0,
          0,
          0,
          0,
          0,
          0,
          0,
          0,
          0,
          0,
          0,
          1,
          0,
          0,
          0,
          1,
          0,
          1,
          1,
          1,
          1,
          1,
          1,
          1,
          0,
          0,
          0,
          0,
          0,
          0,
          0,
          0,
          1,
          1,
          1,
          1,
          1,
          1,
          1,
          1,
          1,
          0,
          1,
          0,
          0,
          0,
          0,
          1,
          1,
          1,
          1,
          0,
          0,
          0,
          1,
          0,
          1,
          1,
          1,
          1,
          1,
          1,
          1,
          1,
          1,
          1,
          0,
          0,
          0,
          0,
          0,
          0,
          0,
          0,
          0,
          0,
          1,
          0,
          1,
          0,
          0,
          1,
          1,
          1,
          1,
          0,
          0,
          0,
          0,
          1,
          1,
          0,
          1,
          0,
          0,
          1,
          1,
          1,
          0,
          1,
          1,
          0,
          0,
          0,
          1,
          1,
          1,
          1,
          0,
          1,
          1,
          1,
          0,
          0,
          1,
          0,
          0,
          1,
          0,
          0,
          1,
          0,
          1,
          1,
          0,
          0,
          0,
          1,
          1,
          1,
          1,
          1,
          1,
          1,
          1,
          0,
          0,
          0,
          0,
          0,
          1,
          1,
          0,
          0,
          0,
          1,
          0,
          0,
          0,
          1,
          1,
          0,
          1,
          1,
          1,
          0,
          0,
          1,
          1,
          1,
          0,
          0,
          0,
          0,
          0,
          1,
          1,
          1,
          1,
          0,
          0,
          0,
          1,
          0,
          0,
          1,
          0,
          1,
          1,
          1,
          1,
          1,
          1,
          0,
          1,
          1,
          1,
          1,
          1,
          0,
          0,
          0,
          0,
          0,
          0,
          0,
          0,
          1,
          1,
          1,
          0,
          0,
          0,
          1,
          1,
          0,
          0,
          1,
          1,
          1,
          0,
          1,
          1,
          1,
          0,
          0,
          1,
          0,
          1,
          1,
          1,
          0,
          0,
          0,
          0,
          0,
          1,
          1,
          1,
          1,
          0,
          1,
          1,
          0,
          0,
          0,
          1,
          0,
          0,
          1,
          0,
          1,
          1,
          1,
          1,
          0,
          1
         ]
        }
       ],
       "layout": {
        "template": {
         "data": {
          "bar": [
           {
            "error_x": {
             "color": "#2a3f5f"
            },
            "error_y": {
             "color": "#2a3f5f"
            },
            "marker": {
             "line": {
              "color": "#E5ECF6",
              "width": 0.5
             },
             "pattern": {
              "fillmode": "overlay",
              "size": 10,
              "solidity": 0.2
             }
            },
            "type": "bar"
           }
          ],
          "barpolar": [
           {
            "marker": {
             "line": {
              "color": "#E5ECF6",
              "width": 0.5
             },
             "pattern": {
              "fillmode": "overlay",
              "size": 10,
              "solidity": 0.2
             }
            },
            "type": "barpolar"
           }
          ],
          "carpet": [
           {
            "aaxis": {
             "endlinecolor": "#2a3f5f",
             "gridcolor": "white",
             "linecolor": "white",
             "minorgridcolor": "white",
             "startlinecolor": "#2a3f5f"
            },
            "baxis": {
             "endlinecolor": "#2a3f5f",
             "gridcolor": "white",
             "linecolor": "white",
             "minorgridcolor": "white",
             "startlinecolor": "#2a3f5f"
            },
            "type": "carpet"
           }
          ],
          "choropleth": [
           {
            "colorbar": {
             "outlinewidth": 0,
             "ticks": ""
            },
            "type": "choropleth"
           }
          ],
          "contour": [
           {
            "colorbar": {
             "outlinewidth": 0,
             "ticks": ""
            },
            "colorscale": [
             [
              0,
              "#0d0887"
             ],
             [
              0.1111111111111111,
              "#46039f"
             ],
             [
              0.2222222222222222,
              "#7201a8"
             ],
             [
              0.3333333333333333,
              "#9c179e"
             ],
             [
              0.4444444444444444,
              "#bd3786"
             ],
             [
              0.5555555555555556,
              "#d8576b"
             ],
             [
              0.6666666666666666,
              "#ed7953"
             ],
             [
              0.7777777777777778,
              "#fb9f3a"
             ],
             [
              0.8888888888888888,
              "#fdca26"
             ],
             [
              1,
              "#f0f921"
             ]
            ],
            "type": "contour"
           }
          ],
          "contourcarpet": [
           {
            "colorbar": {
             "outlinewidth": 0,
             "ticks": ""
            },
            "type": "contourcarpet"
           }
          ],
          "heatmap": [
           {
            "colorbar": {
             "outlinewidth": 0,
             "ticks": ""
            },
            "colorscale": [
             [
              0,
              "#0d0887"
             ],
             [
              0.1111111111111111,
              "#46039f"
             ],
             [
              0.2222222222222222,
              "#7201a8"
             ],
             [
              0.3333333333333333,
              "#9c179e"
             ],
             [
              0.4444444444444444,
              "#bd3786"
             ],
             [
              0.5555555555555556,
              "#d8576b"
             ],
             [
              0.6666666666666666,
              "#ed7953"
             ],
             [
              0.7777777777777778,
              "#fb9f3a"
             ],
             [
              0.8888888888888888,
              "#fdca26"
             ],
             [
              1,
              "#f0f921"
             ]
            ],
            "type": "heatmap"
           }
          ],
          "heatmapgl": [
           {
            "colorbar": {
             "outlinewidth": 0,
             "ticks": ""
            },
            "colorscale": [
             [
              0,
              "#0d0887"
             ],
             [
              0.1111111111111111,
              "#46039f"
             ],
             [
              0.2222222222222222,
              "#7201a8"
             ],
             [
              0.3333333333333333,
              "#9c179e"
             ],
             [
              0.4444444444444444,
              "#bd3786"
             ],
             [
              0.5555555555555556,
              "#d8576b"
             ],
             [
              0.6666666666666666,
              "#ed7953"
             ],
             [
              0.7777777777777778,
              "#fb9f3a"
             ],
             [
              0.8888888888888888,
              "#fdca26"
             ],
             [
              1,
              "#f0f921"
             ]
            ],
            "type": "heatmapgl"
           }
          ],
          "histogram": [
           {
            "marker": {
             "pattern": {
              "fillmode": "overlay",
              "size": 10,
              "solidity": 0.2
             }
            },
            "type": "histogram"
           }
          ],
          "histogram2d": [
           {
            "colorbar": {
             "outlinewidth": 0,
             "ticks": ""
            },
            "colorscale": [
             [
              0,
              "#0d0887"
             ],
             [
              0.1111111111111111,
              "#46039f"
             ],
             [
              0.2222222222222222,
              "#7201a8"
             ],
             [
              0.3333333333333333,
              "#9c179e"
             ],
             [
              0.4444444444444444,
              "#bd3786"
             ],
             [
              0.5555555555555556,
              "#d8576b"
             ],
             [
              0.6666666666666666,
              "#ed7953"
             ],
             [
              0.7777777777777778,
              "#fb9f3a"
             ],
             [
              0.8888888888888888,
              "#fdca26"
             ],
             [
              1,
              "#f0f921"
             ]
            ],
            "type": "histogram2d"
           }
          ],
          "histogram2dcontour": [
           {
            "colorbar": {
             "outlinewidth": 0,
             "ticks": ""
            },
            "colorscale": [
             [
              0,
              "#0d0887"
             ],
             [
              0.1111111111111111,
              "#46039f"
             ],
             [
              0.2222222222222222,
              "#7201a8"
             ],
             [
              0.3333333333333333,
              "#9c179e"
             ],
             [
              0.4444444444444444,
              "#bd3786"
             ],
             [
              0.5555555555555556,
              "#d8576b"
             ],
             [
              0.6666666666666666,
              "#ed7953"
             ],
             [
              0.7777777777777778,
              "#fb9f3a"
             ],
             [
              0.8888888888888888,
              "#fdca26"
             ],
             [
              1,
              "#f0f921"
             ]
            ],
            "type": "histogram2dcontour"
           }
          ],
          "mesh3d": [
           {
            "colorbar": {
             "outlinewidth": 0,
             "ticks": ""
            },
            "type": "mesh3d"
           }
          ],
          "parcoords": [
           {
            "line": {
             "colorbar": {
              "outlinewidth": 0,
              "ticks": ""
             }
            },
            "type": "parcoords"
           }
          ],
          "pie": [
           {
            "automargin": true,
            "type": "pie"
           }
          ],
          "scatter": [
           {
            "marker": {
             "colorbar": {
              "outlinewidth": 0,
              "ticks": ""
             }
            },
            "type": "scatter"
           }
          ],
          "scatter3d": [
           {
            "line": {
             "colorbar": {
              "outlinewidth": 0,
              "ticks": ""
             }
            },
            "marker": {
             "colorbar": {
              "outlinewidth": 0,
              "ticks": ""
             }
            },
            "type": "scatter3d"
           }
          ],
          "scattercarpet": [
           {
            "marker": {
             "colorbar": {
              "outlinewidth": 0,
              "ticks": ""
             }
            },
            "type": "scattercarpet"
           }
          ],
          "scattergeo": [
           {
            "marker": {
             "colorbar": {
              "outlinewidth": 0,
              "ticks": ""
             }
            },
            "type": "scattergeo"
           }
          ],
          "scattergl": [
           {
            "marker": {
             "colorbar": {
              "outlinewidth": 0,
              "ticks": ""
             }
            },
            "type": "scattergl"
           }
          ],
          "scattermapbox": [
           {
            "marker": {
             "colorbar": {
              "outlinewidth": 0,
              "ticks": ""
             }
            },
            "type": "scattermapbox"
           }
          ],
          "scatterpolar": [
           {
            "marker": {
             "colorbar": {
              "outlinewidth": 0,
              "ticks": ""
             }
            },
            "type": "scatterpolar"
           }
          ],
          "scatterpolargl": [
           {
            "marker": {
             "colorbar": {
              "outlinewidth": 0,
              "ticks": ""
             }
            },
            "type": "scatterpolargl"
           }
          ],
          "scatterternary": [
           {
            "marker": {
             "colorbar": {
              "outlinewidth": 0,
              "ticks": ""
             }
            },
            "type": "scatterternary"
           }
          ],
          "surface": [
           {
            "colorbar": {
             "outlinewidth": 0,
             "ticks": ""
            },
            "colorscale": [
             [
              0,
              "#0d0887"
             ],
             [
              0.1111111111111111,
              "#46039f"
             ],
             [
              0.2222222222222222,
              "#7201a8"
             ],
             [
              0.3333333333333333,
              "#9c179e"
             ],
             [
              0.4444444444444444,
              "#bd3786"
             ],
             [
              0.5555555555555556,
              "#d8576b"
             ],
             [
              0.6666666666666666,
              "#ed7953"
             ],
             [
              0.7777777777777778,
              "#fb9f3a"
             ],
             [
              0.8888888888888888,
              "#fdca26"
             ],
             [
              1,
              "#f0f921"
             ]
            ],
            "type": "surface"
           }
          ],
          "table": [
           {
            "cells": {
             "fill": {
              "color": "#EBF0F8"
             },
             "line": {
              "color": "white"
             }
            },
            "header": {
             "fill": {
              "color": "#C8D4E3"
             },
             "line": {
              "color": "white"
             }
            },
            "type": "table"
           }
          ]
         },
         "layout": {
          "annotationdefaults": {
           "arrowcolor": "#2a3f5f",
           "arrowhead": 0,
           "arrowwidth": 1
          },
          "autotypenumbers": "strict",
          "coloraxis": {
           "colorbar": {
            "outlinewidth": 0,
            "ticks": ""
           }
          },
          "colorscale": {
           "diverging": [
            [
             0,
             "#8e0152"
            ],
            [
             0.1,
             "#c51b7d"
            ],
            [
             0.2,
             "#de77ae"
            ],
            [
             0.3,
             "#f1b6da"
            ],
            [
             0.4,
             "#fde0ef"
            ],
            [
             0.5,
             "#f7f7f7"
            ],
            [
             0.6,
             "#e6f5d0"
            ],
            [
             0.7,
             "#b8e186"
            ],
            [
             0.8,
             "#7fbc41"
            ],
            [
             0.9,
             "#4d9221"
            ],
            [
             1,
             "#276419"
            ]
           ],
           "sequential": [
            [
             0,
             "#0d0887"
            ],
            [
             0.1111111111111111,
             "#46039f"
            ],
            [
             0.2222222222222222,
             "#7201a8"
            ],
            [
             0.3333333333333333,
             "#9c179e"
            ],
            [
             0.4444444444444444,
             "#bd3786"
            ],
            [
             0.5555555555555556,
             "#d8576b"
            ],
            [
             0.6666666666666666,
             "#ed7953"
            ],
            [
             0.7777777777777778,
             "#fb9f3a"
            ],
            [
             0.8888888888888888,
             "#fdca26"
            ],
            [
             1,
             "#f0f921"
            ]
           ],
           "sequentialminus": [
            [
             0,
             "#0d0887"
            ],
            [
             0.1111111111111111,
             "#46039f"
            ],
            [
             0.2222222222222222,
             "#7201a8"
            ],
            [
             0.3333333333333333,
             "#9c179e"
            ],
            [
             0.4444444444444444,
             "#bd3786"
            ],
            [
             0.5555555555555556,
             "#d8576b"
            ],
            [
             0.6666666666666666,
             "#ed7953"
            ],
            [
             0.7777777777777778,
             "#fb9f3a"
            ],
            [
             0.8888888888888888,
             "#fdca26"
            ],
            [
             1,
             "#f0f921"
            ]
           ]
          },
          "colorway": [
           "#636efa",
           "#EF553B",
           "#00cc96",
           "#ab63fa",
           "#FFA15A",
           "#19d3f3",
           "#FF6692",
           "#B6E880",
           "#FF97FF",
           "#FECB52"
          ],
          "font": {
           "color": "#2a3f5f"
          },
          "geo": {
           "bgcolor": "white",
           "lakecolor": "white",
           "landcolor": "#E5ECF6",
           "showlakes": true,
           "showland": true,
           "subunitcolor": "white"
          },
          "hoverlabel": {
           "align": "left"
          },
          "hovermode": "closest",
          "mapbox": {
           "style": "light"
          },
          "paper_bgcolor": "white",
          "plot_bgcolor": "#E5ECF6",
          "polar": {
           "angularaxis": {
            "gridcolor": "white",
            "linecolor": "white",
            "ticks": ""
           },
           "bgcolor": "#E5ECF6",
           "radialaxis": {
            "gridcolor": "white",
            "linecolor": "white",
            "ticks": ""
           }
          },
          "scene": {
           "xaxis": {
            "backgroundcolor": "#E5ECF6",
            "gridcolor": "white",
            "gridwidth": 2,
            "linecolor": "white",
            "showbackground": true,
            "ticks": "",
            "zerolinecolor": "white"
           },
           "yaxis": {
            "backgroundcolor": "#E5ECF6",
            "gridcolor": "white",
            "gridwidth": 2,
            "linecolor": "white",
            "showbackground": true,
            "ticks": "",
            "zerolinecolor": "white"
           },
           "zaxis": {
            "backgroundcolor": "#E5ECF6",
            "gridcolor": "white",
            "gridwidth": 2,
            "linecolor": "white",
            "showbackground": true,
            "ticks": "",
            "zerolinecolor": "white"
           }
          },
          "shapedefaults": {
           "line": {
            "color": "#2a3f5f"
           }
          },
          "ternary": {
           "aaxis": {
            "gridcolor": "white",
            "linecolor": "white",
            "ticks": ""
           },
           "baxis": {
            "gridcolor": "white",
            "linecolor": "white",
            "ticks": ""
           },
           "bgcolor": "#E5ECF6",
           "caxis": {
            "gridcolor": "white",
            "linecolor": "white",
            "ticks": ""
           }
          },
          "title": {
           "x": 0.05
          },
          "xaxis": {
           "automargin": true,
           "gridcolor": "white",
           "linecolor": "white",
           "ticks": "",
           "title": {
            "standoff": 15
           },
           "zerolinecolor": "white",
           "zerolinewidth": 2
          },
          "yaxis": {
           "automargin": true,
           "gridcolor": "white",
           "linecolor": "white",
           "ticks": "",
           "title": {
            "standoff": 15
           },
           "zerolinecolor": "white",
           "zerolinewidth": 2
          }
         }
        },
        "title": {
         "text": "Checking the range and scale of all the features.",
         "x": 0.5,
         "y": 0.88
        }
       }
      },
      "text/html": [
       "<div>                            <div id=\"f8f67657-a277-4fae-a2f1-5f378844c246\" class=\"plotly-graph-div\" style=\"height:525px; width:100%;\"></div>            <script type=\"text/javascript\">                require([\"plotly\"], function(Plotly) {                    window.PLOTLYENV=window.PLOTLYENV || {};                                    if (document.getElementById(\"f8f67657-a277-4fae-a2f1-5f378844c246\")) {                    Plotly.newPlot(                        \"f8f67657-a277-4fae-a2f1-5f378844c246\",                        [{\"boxpoints\":\"outliers\",\"marker\":{\"line\":{\"color\":\"black\",\"width\":0.5},\"opacity\":0.5},\"name\":\"GRE Score\",\"notched\":true,\"type\":\"box\",\"y\":[337,324,316,322,314,330,321,308,302,323,325,327,328,307,311,314,317,319,318,303,312,325,328,334,336,340,322,298,295,310,300,327,338,340,331,320,299,300,304,307,308,316,313,332,326,322,329,339,321,327,313,312,334,324,322,320,316,298,300,311,309,307,304,315,325,325,327,316,318,328,332,336,321,314,314,329,327,301,296,294,312,340,320,322,340,319,315,317,314,316,318,299,298,301,303,304,306,331,332,323,322,312,314,317,326,316,329,338,331,304,305,321,301,320,311,310,299,290,296,327,335,334,310,308,301,300,323,319,326,333,339,303,309,323,333,314,312,316,326,318,329,332,331,340,325,320,315,326,339,311,334,332,321,324,326,312,315,309,306,297,315,298,318,317,329,322,302,313,293,311,312,334,322,323,321,320,329,319,309,307,300,305,299,314,316,327,317,335,331,324,324,323,322,336,316,307,306,310,311,313,317,315,340,334,298,295,315,310,305,301,325,328,338,333,331,330,322,321,324,312,313,316,324,308,305,296,306,312,318,324,313,319,312,304,330,326,325,329,310,299,296,317,324,325,314,328,316,311,324,321,320,316,318,335,321,307,309,324,326,331,327,312,308,324,325,313,312,314,327,308,306,299,294,312,315,322,329,320,308,304,311,317,312,321,340,331,336,324,314,313,307,300,302,312,316,317,310,320,330,305,309,319,322,323,313,321,323,325,312,308,320,328,311,301,305,308,298,300,324,327,317,323,314,305,315,326,299,295,324,297,327,311,308,319,312,325,319,332,323,324,312,326,308,305,295,316,304,299,302,313,318,325,303,300,297,317,327,301,314,321,322,334,338,306,313,330,320,311,298,301,310,324,336,321,315,304,297,290,303,311,322,319,324,300,340,335,302,307,296,320,314,318,326,317,329,324,325,330,312,333]},{\"boxpoints\":\"outliers\",\"marker\":{\"line\":{\"color\":\"black\",\"width\":0.5},\"opacity\":0.5},\"name\":\"TOEFL Score\",\"notched\":true,\"type\":\"box\",\"y\":[118,107,104,110,103,115,109,101,102,108,106,111,112,109,104,105,107,106,110,102,107,114,116,119,119,120,109,98,93,99,97,103,118,114,112,110,106,105,105,108,110,105,107,117,113,110,114,119,110,111,98,100,116,112,110,103,102,99,99,104,100,101,105,107,111,112,114,107,109,115,118,112,111,108,106,114,112,99,95,93,105,120,110,115,115,103,106,107,108,109,106,97,98,97,99,100,100,120,119,113,107,105,106,104,112,110,111,117,116,103,108,109,107,110,105,106,102,104,99,104,117,119,106,108,106,100,113,112,112,118,114,105,105,112,113,109,103,100,116,109,110,118,115,120,112,113,105,114,116,106,114,116,112,105,108,109,105,104,106,100,103,99,109,105,111,110,102,102,97,99,101,117,110,113,111,111,119,110,108,102,104,107,100,110,106,113,107,118,115,112,111,110,114,118,109,107,105,106,104,107,103,110,120,120,105,99,99,102,106,104,108,110,120,119,117,116,112,109,110,104,103,110,113,109,105,99,110,110,112,111,104,106,107,100,113,111,112,114,104,100,101,103,115,114,107,110,105,104,110,111,104,99,100,115,114,110,99,100,102,119,108,104,103,111,110,102,105,107,113,108,105,96,95,99,100,110,113,101,103,102,102,110,106,111,112,116,118,114,104,109,105,102,99,98,101,100,107,120,114,112,106,108,105,107,106,109,110,112,108,110,104,108,107,100,105,104,101,99,111,113,106,104,107,102,104,116,100,101,112,96,113,105,106,108,107,111,110,118,108,107,107,110,106,103,96,98,97,94,99,101,107,110,100,102,98,106,109,104,105,107,110,116,115,103,102,114,104,98,92,98,103,110,119,109,105,101,96,100,98,99,104,105,110,100,113,117,101,105,97,108,102,106,112,104,111,110,107,116,103,117]},{\"boxpoints\":\"outliers\",\"marker\":{\"line\":{\"color\":\"black\",\"width\":0.5},\"opacity\":0.5},\"name\":\"University Rating\",\"notched\":true,\"type\":\"box\",\"y\":[4,4,3,3,2,5,3,2,1,3,3,4,4,3,3,3,3,3,3,3,3,4,5,5,5,5,5,2,1,2,2,3,4,5,5,5,2,1,1,2,3,2,2,4,5,5,5,5,3,4,3,2,4,4,3,3,3,2,1,2,2,3,2,2,3,4,3,2,3,4,5,5,5,4,3,2,3,2,2,1,3,4,5,5,5,4,3,2,3,4,2,3,2,2,3,4,2,3,4,3,3,2,2,2,3,3,4,4,5,5,5,4,3,2,3,4,3,4,2,5,5,5,4,3,4,3,3,3,3,5,5,5,5,5,5,4,3,2,2,1,2,2,5,4,2,2,3,3,4,2,4,5,5,3,3,3,3,2,2,1,1,1,3,3,4,5,3,3,2,2,2,5,4,4,4,4,4,3,3,3,3,2,2,3,2,4,3,5,5,5,5,5,5,5,3,2,2,2,3,3,3,2,5,5,3,2,2,3,2,3,4,4,4,5,4,5,4,4,4,3,3,3,4,2,2,2,2,2,3,4,3,3,2,2,5,5,4,5,3,1,1,2,3,3,2,4,3,2,3,3,3,2,2,4,4,4,3,3,4,4,5,3,2,3,2,3,2,3,4,4,2,2,1,1,1,3,5,2,2,2,3,3,3,3,4,5,5,5,4,3,2,2,2,1,2,2,3,3,3,3,2,2,2,3,2,3,3,4,3,4,3,4,4,3,2,2,2,1,3,4,3,3,2,2,3,3,3,2,4,2,3,2,3,3,4,4,3,5,5,5,3,3,3,2,2,1,2,1,1,3,3,4,2,3,2,2,3,2,2,2,3,4,5,2,3,4,3,1,1,1,2,3,4,3,2,2,2,1,1,1,3,3,4,3,4,5,2,2,2,3,2,3,4,2,4,3,3,4,3,4]},{\"boxpoints\":\"outliers\",\"marker\":{\"line\":{\"color\":\"black\",\"width\":0.5},\"opacity\":0.5},\"name\":\"SOP\",\"notched\":true,\"type\":\"box\",\"y\":[4.5,4.0,3.0,3.5,2.0,4.5,3.0,3.0,2.0,3.5,3.5,4.0,4.0,4.0,3.5,3.5,4.0,4.0,4.0,3.5,3.0,3.0,5.0,5.0,4.0,4.5,4.5,1.5,2.0,1.5,3.0,4.0,3.0,4.0,4.0,5.0,4.0,1.0,3.0,4.0,3.5,2.5,2.5,4.5,4.5,5.0,4.0,4.5,3.5,3.0,2.5,1.5,4.0,4.0,3.0,3.0,2.0,4.0,3.0,2.0,3.0,4.0,3.0,4.0,3.0,3.5,3.0,3.5,3.5,4.5,5.0,5.0,5.0,4.5,3.0,2.0,3.0,3.0,3.0,1.5,2.0,5.0,5.0,4.0,4.5,4.5,4.5,3.5,4.5,4.5,4.0,5.0,4.0,3.0,2.0,1.5,3.0,4.0,5.0,4.0,3.5,2.5,4.0,4.5,3.5,4.0,4.5,3.5,5.0,5.0,3.0,4.0,3.5,4.0,3.5,4.5,4.0,2.0,3.0,3.0,5.0,4.5,1.5,3.5,2.5,2.0,4.0,2.5,3.5,5.0,4.0,5.0,3.5,4.0,4.0,3.5,5.0,1.5,4.5,3.5,4.0,4.5,4.0,4.5,3.0,2.0,2.0,3.0,4.0,3.5,4.0,5.0,5.0,3.0,3.0,3.0,2.0,2.0,2.0,1.5,1.5,1.5,3.0,3.5,4.5,4.5,3.5,2.0,2.0,2.5,2.5,4.0,4.0,4.0,4.0,4.5,4.5,3.5,2.5,3.0,3.5,2.5,3.0,4.0,2.5,4.5,3.5,4.5,4.5,5.0,4.5,4.0,4.5,4.5,3.5,3.0,3.0,3.5,4.5,4.0,2.5,3.5,4.5,4.0,3.5,2.5,3.5,3.5,3.0,3.5,4.5,5.0,5.0,5.0,4.5,5.0,4.5,4.0,3.0,3.5,4.0,3.5,4.5,3.0,3.0,2.5,3.5,3.5,4.0,3.0,4.0,3.5,2.5,2.5,5.0,4.5,4.0,4.5,2.0,1.5,2.5,2.5,3.5,3.5,2.5,4.0,3.0,2.5,3.5,3.5,3.0,2.5,2.5,4.5,4.0,4.0,4.0,4.0,5.0,5.0,5.0,3.5,2.5,2.5,3.0,2.5,2.0,3.0,4.5,4.5,2.5,1.5,1.5,1.0,2.0,3.5,5.0,2.5,3.0,3.0,4.5,4.0,4.0,2.5,5.0,4.0,4.5,5.0,5.0,4.0,2.5,1.5,1.0,3.5,2.5,3.0,3.5,4.0,4.5,3.0,2.5,2.5,3.0,3.5,2.5,3.5,4.0,4.0,3.5,3.5,3.0,4.5,4.5,3.5,3.0,2.5,1.5,1.0,2.5,3.5,4.0,4.0,2.5,2.0,3.0,3.5,2.0,2.5,4.0,2.5,3.5,3.0,3.5,3.0,4.5,4.0,3.0,5.0,4.0,3.5,3.0,3.5,3.0,2.5,1.5,1.5,1.5,1.0,2.0,2.5,3.0,3.5,3.0,3.5,2.5,2.0,3.5,3.5,2.5,2.0,4.0,4.0,4.5,2.5,3.5,4.5,3.5,1.0,2.0,2.0,2.5,3.5,4.5,3.0,2.0,2.0,2.5,1.5,2.0,2.5,3.5,3.0,4.5,3.0,5.0,5.0,2.5,2.0,1.5,3.5,2.0,2.0,4.0,3.0,4.5,3.5,3.0,5.0,3.5,5.0]},{\"boxpoints\":\"outliers\",\"marker\":{\"line\":{\"color\":\"black\",\"width\":0.5},\"opacity\":0.5},\"name\":\"LOR\",\"notched\":true,\"type\":\"box\",\"y\":[4.5,4.5,3.5,2.5,3.0,3.0,4.0,4.0,1.5,3.0,4.0,4.5,4.5,3.0,2.0,2.5,3.0,3.0,3.0,3.0,2.0,2.0,5.0,4.5,3.5,4.5,3.5,2.5,2.0,2.0,3.0,4.0,4.5,4.0,5.0,5.0,4.0,2.0,1.5,3.5,3.0,2.5,2.0,4.0,4.0,4.0,5.0,4.0,5.0,4.0,4.5,3.5,3.0,2.5,3.5,3.0,3.0,2.0,2.0,2.0,3.0,3.0,3.0,3.0,3.5,3.5,3.0,3.5,4.0,4.0,5.0,5.0,5.0,4.0,5.0,4.0,3.0,2.0,2.0,2.0,3.0,5.0,4.5,4.5,4.5,3.5,3.5,3.0,3.5,3.5,4.0,3.5,3.0,3.0,2.5,2.5,3.0,4.0,4.5,4.0,3.5,3.0,3.5,4.0,3.0,4.5,4.5,4.5,5.0,4.0,3.0,4.0,3.5,3.5,3.0,4.5,3.5,2.5,3.5,3.5,5.0,4.5,2.5,3.5,3.0,3.0,3.0,2.0,3.0,5.0,4.5,4.5,3.5,4.5,4.0,4.0,4.0,3.0,3.0,3.5,3.0,3.5,3.5,4.0,3.5,2.5,2.5,3.0,3.5,3.0,4.0,5.0,5.0,4.0,3.5,3.0,2.5,2.5,2.5,2.0,2.0,3.0,3.0,3.0,4.0,4.0,5.0,3.0,4.0,3.0,3.5,4.5,5.0,4.5,4.0,3.5,4.5,3.5,3.0,3.0,3.0,2.5,3.5,4.0,4.0,4.5,3.0,3.5,3.5,5.0,4.0,5.0,4.0,5.0,3.0,3.5,2.5,2.5,4.5,4.5,3.0,3.0,4.5,5.0,4.0,3.0,3.0,4.0,3.0,4.0,4.0,4.0,5.0,4.5,5.0,4.5,4.5,4.0,3.5,3.5,4.0,4.0,4.0,4.0,2.0,2.5,4.0,3.0,3.5,3.0,4.5,2.5,3.5,3.5,4.0,4.0,4.5,5.0,3.5,2.0,3.0,2.0,3.0,3.0,4.0,2.5,3.5,3.5,4.0,4.0,2.5,3.0,3.5,4.5,5.0,4.5,4.0,5.0,5.0,4.5,3.5,4.0,4.0,1.5,2.5,2.5,2.5,3.5,5.0,5.0,3.0,2.0,1.5,1.5,2.5,3.0,4.5,3.0,3.5,4.0,4.0,4.5,3.5,3.0,4.5,4.0,4.0,4.5,5.0,3.5,3.0,2.0,2.0,3.0,2.0,2.5,3.5,4.5,4.5,3.5,2.5,3.0,3.0,3.5,2.0,3.5,3.5,4.0,3.0,3.0,3.5,4.0,4.5,3.0,4.0,3.0,2.0,2.5,2.0,3.0,3.5,4.0,4.0,2.5,2.5,4.0,2.0,2.0,3.5,1.5,3.0,2.0,2.5,3.5,4.0,4.5,2.5,5.0,4.0,4.0,3.0,3.5,3.0,3.5,2.0,2.0,2.0,1.0,2.0,3.0,3.5,4.0,3.5,2.5,3.0,3.5,4.0,3.5,2.0,1.5,5.0,3.5,5.0,3.0,4.0,3.0,4.5,2.5,2.0,3.0,2.5,3.0,4.0,3.0,2.5,2.5,2.0,2.0,2.5,3.0,4.0,3.5,4.0,3.5,5.0,5.0,3.5,3.5,2.0,4.0,2.5,3.0,3.5,3.0,4.0,3.5,3.5,4.5,4.0,4.0]},{\"boxpoints\":\"outliers\",\"marker\":{\"line\":{\"color\":\"black\",\"width\":0.5},\"opacity\":0.5},\"name\":\"CGPA\",\"notched\":true,\"type\":\"box\",\"y\":[9.65,8.87,8.0,8.67,8.21,9.34,8.2,7.9,8.0,8.6,8.4,9.0,9.1,8.0,8.2,8.3,8.7,8.0,8.8,8.5,7.9,8.4,9.5,9.7,9.8,9.6,8.8,7.5,7.2,7.3,8.1,8.3,9.4,9.6,9.8,9.2,8.4,7.8,7.5,7.7,8.0,8.2,8.5,9.1,9.4,9.1,9.3,9.7,8.85,8.4,8.3,7.9,8.0,8.1,8.0,7.7,7.4,7.6,6.8,8.3,8.1,8.2,8.2,8.5,8.7,8.92,9.02,8.64,9.22,9.16,9.64,9.76,9.45,9.04,8.9,8.56,8.72,8.22,7.54,7.36,8.02,9.5,9.22,9.36,9.45,8.66,8.42,8.28,8.14,8.76,7.92,7.66,8.03,7.88,7.66,7.84,8.0,8.96,9.24,8.88,8.46,8.12,8.25,8.47,9.05,8.78,9.18,9.46,9.38,8.64,8.48,8.68,8.34,8.56,8.45,9.04,8.62,7.46,7.28,8.84,9.56,9.48,8.36,8.22,8.47,8.66,9.32,8.71,9.1,9.35,9.76,8.65,8.56,8.78,9.28,8.77,8.45,8.16,9.08,9.12,9.15,9.36,9.44,9.92,8.96,8.64,8.48,9.11,9.8,8.26,9.43,9.28,9.06,8.75,8.89,8.69,8.34,8.26,8.14,7.9,7.86,7.46,8.5,8.56,9.01,8.97,8.33,8.27,7.8,7.98,8.04,9.07,9.13,9.23,8.97,8.87,9.16,9.04,8.12,8.27,8.16,8.42,7.88,8.8,8.32,9.11,8.68,9.44,9.36,9.08,9.16,8.98,8.94,9.53,8.76,8.52,8.26,8.33,8.43,8.69,8.54,8.46,9.91,9.87,8.54,7.65,7.89,8.02,8.16,8.12,9.06,9.14,9.66,9.78,9.42,9.36,9.26,9.13,8.97,8.42,8.75,8.56,8.79,8.45,8.23,8.03,8.45,8.53,8.67,9.01,8.65,8.33,8.27,8.07,9.31,9.23,9.17,9.19,8.37,7.89,7.68,8.15,8.76,9.04,8.56,9.02,8.73,8.48,8.87,8.83,8.57,9.0,8.54,9.68,9.12,8.37,8.56,8.64,8.76,9.34,9.13,8.09,8.36,8.79,8.76,8.68,8.45,8.17,9.14,8.34,8.22,7.86,7.64,8.01,7.95,8.96,9.45,8.62,8.49,8.73,8.64,9.11,8.79,8.9,9.66,9.26,9.19,9.08,9.02,9.0,7.65,7.87,7.97,8.18,8.32,8.57,8.67,9.11,9.24,8.65,8.0,8.76,8.45,8.55,8.43,8.8,9.1,9.0,8.53,8.6,8.74,9.18,9.0,8.04,8.13,8.07,7.86,8.01,8.8,8.69,8.5,8.44,8.27,8.18,8.33,9.14,8.02,7.86,8.77,7.89,8.66,8.12,8.21,8.54,8.65,9.11,8.79,9.47,8.74,8.66,8.46,8.76,8.24,8.13,7.34,7.43,7.64,7.34,7.25,8.04,8.27,8.67,8.06,8.17,7.67,8.12,8.77,7.89,7.64,8.44,8.64,9.54,9.23,8.36,8.9,9.17,8.34,7.46,7.88,8.03,8.24,9.22,9.62,8.54,7.65,7.66,7.43,7.56,7.65,8.43,8.84,8.67,9.15,8.26,9.74,9.82,7.96,8.1,7.8,8.44,8.24,8.65,9.12,8.76,9.23,9.04,9.11,9.45,8.78,9.66]},{\"boxpoints\":\"outliers\",\"marker\":{\"line\":{\"color\":\"black\",\"width\":0.5},\"opacity\":0.5},\"name\":\"Research\",\"notched\":true,\"type\":\"box\",\"y\":[1,1,1,1,0,1,1,0,0,0,1,1,1,1,1,0,0,1,0,0,1,0,1,1,1,1,0,1,0,0,1,1,1,1,1,1,0,0,0,0,1,1,1,0,1,1,1,0,1,1,1,1,1,1,0,0,0,0,1,0,0,0,1,1,0,0,0,1,1,1,1,1,1,1,0,1,1,0,1,0,1,1,1,1,1,0,0,0,0,1,1,0,0,1,0,0,0,1,1,1,1,0,0,0,1,1,1,1,1,0,0,1,1,0,1,1,0,0,0,1,1,1,0,0,0,1,1,1,1,1,1,0,0,0,1,1,0,1,1,0,1,1,1,1,1,1,0,1,1,1,1,1,1,0,0,0,0,0,0,0,0,0,0,0,1,0,0,0,1,0,1,1,1,1,1,1,1,0,0,0,0,0,0,0,0,1,1,1,1,1,1,1,1,1,0,1,0,0,0,0,1,1,1,1,0,0,0,1,0,1,1,1,1,1,1,1,1,1,1,0,0,0,0,0,0,0,0,0,0,1,0,1,0,0,1,1,1,1,0,0,0,0,1,1,0,1,0,0,1,1,1,0,1,1,0,0,0,1,1,1,1,0,1,1,1,0,0,1,0,0,1,0,0,1,0,1,1,0,0,0,1,1,1,1,1,1,1,1,0,0,0,0,0,1,1,0,0,0,1,0,0,0,1,1,0,1,1,1,0,0,1,1,1,0,0,0,0,0,1,1,1,1,0,0,0,1,0,0,1,0,1,1,1,1,1,1,0,1,1,1,1,1,0,0,0,0,0,0,0,0,1,1,1,0,0,0,1,1,0,0,1,1,1,0,1,1,1,0,0,1,0,1,1,1,0,0,0,0,0,1,1,1,1,0,1,1,0,0,0,1,0,0,1,0,1,1,1,1,0,1]}],                        {\"template\":{\"data\":{\"bar\":[{\"error_x\":{\"color\":\"#2a3f5f\"},\"error_y\":{\"color\":\"#2a3f5f\"},\"marker\":{\"line\":{\"color\":\"#E5ECF6\",\"width\":0.5},\"pattern\":{\"fillmode\":\"overlay\",\"size\":10,\"solidity\":0.2}},\"type\":\"bar\"}],\"barpolar\":[{\"marker\":{\"line\":{\"color\":\"#E5ECF6\",\"width\":0.5},\"pattern\":{\"fillmode\":\"overlay\",\"size\":10,\"solidity\":0.2}},\"type\":\"barpolar\"}],\"carpet\":[{\"aaxis\":{\"endlinecolor\":\"#2a3f5f\",\"gridcolor\":\"white\",\"linecolor\":\"white\",\"minorgridcolor\":\"white\",\"startlinecolor\":\"#2a3f5f\"},\"baxis\":{\"endlinecolor\":\"#2a3f5f\",\"gridcolor\":\"white\",\"linecolor\":\"white\",\"minorgridcolor\":\"white\",\"startlinecolor\":\"#2a3f5f\"},\"type\":\"carpet\"}],\"choropleth\":[{\"colorbar\":{\"outlinewidth\":0,\"ticks\":\"\"},\"type\":\"choropleth\"}],\"contour\":[{\"colorbar\":{\"outlinewidth\":0,\"ticks\":\"\"},\"colorscale\":[[0.0,\"#0d0887\"],[0.1111111111111111,\"#46039f\"],[0.2222222222222222,\"#7201a8\"],[0.3333333333333333,\"#9c179e\"],[0.4444444444444444,\"#bd3786\"],[0.5555555555555556,\"#d8576b\"],[0.6666666666666666,\"#ed7953\"],[0.7777777777777778,\"#fb9f3a\"],[0.8888888888888888,\"#fdca26\"],[1.0,\"#f0f921\"]],\"type\":\"contour\"}],\"contourcarpet\":[{\"colorbar\":{\"outlinewidth\":0,\"ticks\":\"\"},\"type\":\"contourcarpet\"}],\"heatmap\":[{\"colorbar\":{\"outlinewidth\":0,\"ticks\":\"\"},\"colorscale\":[[0.0,\"#0d0887\"],[0.1111111111111111,\"#46039f\"],[0.2222222222222222,\"#7201a8\"],[0.3333333333333333,\"#9c179e\"],[0.4444444444444444,\"#bd3786\"],[0.5555555555555556,\"#d8576b\"],[0.6666666666666666,\"#ed7953\"],[0.7777777777777778,\"#fb9f3a\"],[0.8888888888888888,\"#fdca26\"],[1.0,\"#f0f921\"]],\"type\":\"heatmap\"}],\"heatmapgl\":[{\"colorbar\":{\"outlinewidth\":0,\"ticks\":\"\"},\"colorscale\":[[0.0,\"#0d0887\"],[0.1111111111111111,\"#46039f\"],[0.2222222222222222,\"#7201a8\"],[0.3333333333333333,\"#9c179e\"],[0.4444444444444444,\"#bd3786\"],[0.5555555555555556,\"#d8576b\"],[0.6666666666666666,\"#ed7953\"],[0.7777777777777778,\"#fb9f3a\"],[0.8888888888888888,\"#fdca26\"],[1.0,\"#f0f921\"]],\"type\":\"heatmapgl\"}],\"histogram\":[{\"marker\":{\"pattern\":{\"fillmode\":\"overlay\",\"size\":10,\"solidity\":0.2}},\"type\":\"histogram\"}],\"histogram2d\":[{\"colorbar\":{\"outlinewidth\":0,\"ticks\":\"\"},\"colorscale\":[[0.0,\"#0d0887\"],[0.1111111111111111,\"#46039f\"],[0.2222222222222222,\"#7201a8\"],[0.3333333333333333,\"#9c179e\"],[0.4444444444444444,\"#bd3786\"],[0.5555555555555556,\"#d8576b\"],[0.6666666666666666,\"#ed7953\"],[0.7777777777777778,\"#fb9f3a\"],[0.8888888888888888,\"#fdca26\"],[1.0,\"#f0f921\"]],\"type\":\"histogram2d\"}],\"histogram2dcontour\":[{\"colorbar\":{\"outlinewidth\":0,\"ticks\":\"\"},\"colorscale\":[[0.0,\"#0d0887\"],[0.1111111111111111,\"#46039f\"],[0.2222222222222222,\"#7201a8\"],[0.3333333333333333,\"#9c179e\"],[0.4444444444444444,\"#bd3786\"],[0.5555555555555556,\"#d8576b\"],[0.6666666666666666,\"#ed7953\"],[0.7777777777777778,\"#fb9f3a\"],[0.8888888888888888,\"#fdca26\"],[1.0,\"#f0f921\"]],\"type\":\"histogram2dcontour\"}],\"mesh3d\":[{\"colorbar\":{\"outlinewidth\":0,\"ticks\":\"\"},\"type\":\"mesh3d\"}],\"parcoords\":[{\"line\":{\"colorbar\":{\"outlinewidth\":0,\"ticks\":\"\"}},\"type\":\"parcoords\"}],\"pie\":[{\"automargin\":true,\"type\":\"pie\"}],\"scatter\":[{\"marker\":{\"colorbar\":{\"outlinewidth\":0,\"ticks\":\"\"}},\"type\":\"scatter\"}],\"scatter3d\":[{\"line\":{\"colorbar\":{\"outlinewidth\":0,\"ticks\":\"\"}},\"marker\":{\"colorbar\":{\"outlinewidth\":0,\"ticks\":\"\"}},\"type\":\"scatter3d\"}],\"scattercarpet\":[{\"marker\":{\"colorbar\":{\"outlinewidth\":0,\"ticks\":\"\"}},\"type\":\"scattercarpet\"}],\"scattergeo\":[{\"marker\":{\"colorbar\":{\"outlinewidth\":0,\"ticks\":\"\"}},\"type\":\"scattergeo\"}],\"scattergl\":[{\"marker\":{\"colorbar\":{\"outlinewidth\":0,\"ticks\":\"\"}},\"type\":\"scattergl\"}],\"scattermapbox\":[{\"marker\":{\"colorbar\":{\"outlinewidth\":0,\"ticks\":\"\"}},\"type\":\"scattermapbox\"}],\"scatterpolar\":[{\"marker\":{\"colorbar\":{\"outlinewidth\":0,\"ticks\":\"\"}},\"type\":\"scatterpolar\"}],\"scatterpolargl\":[{\"marker\":{\"colorbar\":{\"outlinewidth\":0,\"ticks\":\"\"}},\"type\":\"scatterpolargl\"}],\"scatterternary\":[{\"marker\":{\"colorbar\":{\"outlinewidth\":0,\"ticks\":\"\"}},\"type\":\"scatterternary\"}],\"surface\":[{\"colorbar\":{\"outlinewidth\":0,\"ticks\":\"\"},\"colorscale\":[[0.0,\"#0d0887\"],[0.1111111111111111,\"#46039f\"],[0.2222222222222222,\"#7201a8\"],[0.3333333333333333,\"#9c179e\"],[0.4444444444444444,\"#bd3786\"],[0.5555555555555556,\"#d8576b\"],[0.6666666666666666,\"#ed7953\"],[0.7777777777777778,\"#fb9f3a\"],[0.8888888888888888,\"#fdca26\"],[1.0,\"#f0f921\"]],\"type\":\"surface\"}],\"table\":[{\"cells\":{\"fill\":{\"color\":\"#EBF0F8\"},\"line\":{\"color\":\"white\"}},\"header\":{\"fill\":{\"color\":\"#C8D4E3\"},\"line\":{\"color\":\"white\"}},\"type\":\"table\"}]},\"layout\":{\"annotationdefaults\":{\"arrowcolor\":\"#2a3f5f\",\"arrowhead\":0,\"arrowwidth\":1},\"autotypenumbers\":\"strict\",\"coloraxis\":{\"colorbar\":{\"outlinewidth\":0,\"ticks\":\"\"}},\"colorscale\":{\"diverging\":[[0,\"#8e0152\"],[0.1,\"#c51b7d\"],[0.2,\"#de77ae\"],[0.3,\"#f1b6da\"],[0.4,\"#fde0ef\"],[0.5,\"#f7f7f7\"],[0.6,\"#e6f5d0\"],[0.7,\"#b8e186\"],[0.8,\"#7fbc41\"],[0.9,\"#4d9221\"],[1,\"#276419\"]],\"sequential\":[[0.0,\"#0d0887\"],[0.1111111111111111,\"#46039f\"],[0.2222222222222222,\"#7201a8\"],[0.3333333333333333,\"#9c179e\"],[0.4444444444444444,\"#bd3786\"],[0.5555555555555556,\"#d8576b\"],[0.6666666666666666,\"#ed7953\"],[0.7777777777777778,\"#fb9f3a\"],[0.8888888888888888,\"#fdca26\"],[1.0,\"#f0f921\"]],\"sequentialminus\":[[0.0,\"#0d0887\"],[0.1111111111111111,\"#46039f\"],[0.2222222222222222,\"#7201a8\"],[0.3333333333333333,\"#9c179e\"],[0.4444444444444444,\"#bd3786\"],[0.5555555555555556,\"#d8576b\"],[0.6666666666666666,\"#ed7953\"],[0.7777777777777778,\"#fb9f3a\"],[0.8888888888888888,\"#fdca26\"],[1.0,\"#f0f921\"]]},\"colorway\":[\"#636efa\",\"#EF553B\",\"#00cc96\",\"#ab63fa\",\"#FFA15A\",\"#19d3f3\",\"#FF6692\",\"#B6E880\",\"#FF97FF\",\"#FECB52\"],\"font\":{\"color\":\"#2a3f5f\"},\"geo\":{\"bgcolor\":\"white\",\"lakecolor\":\"white\",\"landcolor\":\"#E5ECF6\",\"showlakes\":true,\"showland\":true,\"subunitcolor\":\"white\"},\"hoverlabel\":{\"align\":\"left\"},\"hovermode\":\"closest\",\"mapbox\":{\"style\":\"light\"},\"paper_bgcolor\":\"white\",\"plot_bgcolor\":\"#E5ECF6\",\"polar\":{\"angularaxis\":{\"gridcolor\":\"white\",\"linecolor\":\"white\",\"ticks\":\"\"},\"bgcolor\":\"#E5ECF6\",\"radialaxis\":{\"gridcolor\":\"white\",\"linecolor\":\"white\",\"ticks\":\"\"}},\"scene\":{\"xaxis\":{\"backgroundcolor\":\"#E5ECF6\",\"gridcolor\":\"white\",\"gridwidth\":2,\"linecolor\":\"white\",\"showbackground\":true,\"ticks\":\"\",\"zerolinecolor\":\"white\"},\"yaxis\":{\"backgroundcolor\":\"#E5ECF6\",\"gridcolor\":\"white\",\"gridwidth\":2,\"linecolor\":\"white\",\"showbackground\":true,\"ticks\":\"\",\"zerolinecolor\":\"white\"},\"zaxis\":{\"backgroundcolor\":\"#E5ECF6\",\"gridcolor\":\"white\",\"gridwidth\":2,\"linecolor\":\"white\",\"showbackground\":true,\"ticks\":\"\",\"zerolinecolor\":\"white\"}},\"shapedefaults\":{\"line\":{\"color\":\"#2a3f5f\"}},\"ternary\":{\"aaxis\":{\"gridcolor\":\"white\",\"linecolor\":\"white\",\"ticks\":\"\"},\"baxis\":{\"gridcolor\":\"white\",\"linecolor\":\"white\",\"ticks\":\"\"},\"bgcolor\":\"#E5ECF6\",\"caxis\":{\"gridcolor\":\"white\",\"linecolor\":\"white\",\"ticks\":\"\"}},\"title\":{\"x\":0.05},\"xaxis\":{\"automargin\":true,\"gridcolor\":\"white\",\"linecolor\":\"white\",\"ticks\":\"\",\"title\":{\"standoff\":15},\"zerolinecolor\":\"white\",\"zerolinewidth\":2},\"yaxis\":{\"automargin\":true,\"gridcolor\":\"white\",\"linecolor\":\"white\",\"ticks\":\"\",\"title\":{\"standoff\":15},\"zerolinecolor\":\"white\",\"zerolinewidth\":2}}},\"title\":{\"text\":\"Checking the range and scale of all the features.\",\"x\":0.5,\"y\":0.88}},                        {\"responsive\": true}                    ).then(function(){\n",
       "                            \n",
       "var gd = document.getElementById('f8f67657-a277-4fae-a2f1-5f378844c246');\n",
       "var x = new MutationObserver(function (mutations, observer) {{\n",
       "        var display = window.getComputedStyle(gd).display;\n",
       "        if (!display || display === 'none') {{\n",
       "            console.log([gd, 'removed!']);\n",
       "            Plotly.purge(gd);\n",
       "            observer.disconnect();\n",
       "        }}\n",
       "}});\n",
       "\n",
       "// Listen for the removal of the full notebook cells\n",
       "var notebookContainer = gd.closest('#notebook-container');\n",
       "if (notebookContainer) {{\n",
       "    x.observe(notebookContainer, {childList: true});\n",
       "}}\n",
       "\n",
       "// Listen for the clearing of the current output cell\n",
       "var outputEl = gd.closest('.output');\n",
       "if (outputEl) {{\n",
       "    x.observe(outputEl, {childList: true});\n",
       "}}\n",
       "\n",
       "                        })                };                });            </script>        </div>"
      ]
     },
     "metadata": {},
     "output_type": "display_data"
    }
   ],
   "source": [
    "# Checking for outliers and the scale of values of variables.\n",
    "data = []\n",
    "for i in data_col_chng.columns[:-1]:\n",
    "    data .append(go.Box(y = data_col_chng[i], \n",
    "                        marker = dict(line = {'color': 'black', 'width': 0.5}, \n",
    "                                      opacity = 0.5), \n",
    "                        name = str(i), \n",
    "                        boxpoints = 'outliers', \n",
    "                        notched = True))\n",
    "\n",
    "layout = go.Layout(title = dict(text = 'Checking the range and scale of all the features.', \n",
    "                                x = 0.5, \n",
    "                                y = 0.88))\n",
    "\n",
    "fig = go.Figure(data = data, \n",
    "                layout = layout)\n",
    "\n",
    "iplot(fig)"
   ]
  },
  {
   "cell_type": "code",
   "execution_count": 18,
   "id": "6ccaefb1",
   "metadata": {},
   "outputs": [],
   "source": [
    "from sklearn.preprocessing import StandardScaler\n",
    "data_scaled_using_ss = data_col_chng.copy()\n",
    "ss_for_df = StandardScaler()\n",
    "data_scaled_using_ss[['GRE Score', 'TOEFL Score']] = ss_for_df.fit_transform(data_col_chng[['GRE Score', 'TOEFL Score']])"
   ]
  },
  {
   "cell_type": "code",
   "execution_count": 19,
   "id": "83516cd6",
   "metadata": {},
   "outputs": [
    {
     "data": {
      "application/vnd.plotly.v1+json": {
       "config": {
        "linkText": "Export to plot.ly",
        "plotlyServerURL": "https://plot.ly",
        "showLink": false
       },
       "data": [
        {
         "boxpoints": "outliers",
         "marker": {
          "line": {
           "color": "black",
           "width": 0.5
          },
          "opacity": 0.5
         },
         "name": "GRE Score",
         "notched": true,
         "type": "box",
         "y": [
          1.76210664421617,
          0.6276564089897139,
          -0.07046681268810527,
          0.4531256035702591,
          -0.24499761810756004,
          1.1512488252480781,
          0.36586020086053167,
          -0.7685900343659244,
          -1.2921824506242887,
          0.5403910062799865,
          0.7149218116994412,
          0.889452617118896,
          0.9767180198286235,
          -0.8558554370756518,
          -0.5067938262367422,
          -0.24499761810756004,
          0.016798590021622126,
          0.1913293954410769,
          0.10406399273134952,
          -1.2049170479145614,
          -0.41952842352701486,
          0.7149218116994412,
          0.9767180198286235,
          1.5003104360869879,
          1.6748412415064426,
          2.023902852345352,
          0.4531256035702591,
          -1.6412440614631982,
          -1.9030402695923805,
          -0.5940592289464697,
          -1.4667132560437435,
          0.889452617118896,
          1.8493720469258974,
          2.023902852345352,
          1.2385142279578056,
          0.2785947981508043,
          -1.553978658753471,
          -1.4667132560437435,
          -1.117651645204834,
          -0.8558554370756518,
          -0.7685900343659244,
          -0.07046681268810527,
          -0.3322630208172874,
          1.3257796306675331,
          0.8021872144091686,
          0.4531256035702591,
          1.0639834225383509,
          1.9366374496356247,
          0.36586020086053167,
          0.889452617118896,
          -0.3322630208172874,
          -0.41952842352701486,
          1.5003104360869879,
          0.6276564089897139,
          0.4531256035702591,
          0.2785947981508043,
          -0.07046681268810527,
          -1.6412440614631982,
          -1.4667132560437435,
          -0.5067938262367422,
          -0.681324631656197,
          -0.8558554370756518,
          -1.117651645204834,
          -0.15773221539783266,
          0.7149218116994412,
          0.7149218116994412,
          0.889452617118896,
          -0.07046681268810527,
          0.10406399273134952,
          0.9767180198286235,
          1.3257796306675331,
          1.6748412415064426,
          0.36586020086053167,
          -0.24499761810756004,
          -0.24499761810756004,
          1.0639834225383509,
          0.889452617118896,
          -1.3794478533340162,
          -1.8157748668826532,
          -1.990305672302108,
          -0.41952842352701486,
          2.023902852345352,
          0.2785947981508043,
          0.4531256035702591,
          2.023902852345352,
          0.1913293954410769,
          -0.15773221539783266,
          0.016798590021622126,
          -0.24499761810756004,
          -0.07046681268810527,
          0.10406399273134952,
          -1.553978658753471,
          -1.6412440614631982,
          -1.3794478533340162,
          -1.2049170479145614,
          -1.117651645204834,
          -0.9431208397853792,
          1.2385142279578056,
          1.3257796306675331,
          0.5403910062799865,
          0.4531256035702591,
          -0.41952842352701486,
          -0.24499761810756004,
          0.016798590021622126,
          0.8021872144091686,
          -0.07046681268810527,
          1.0639834225383509,
          1.8493720469258974,
          1.2385142279578056,
          -1.117651645204834,
          -1.0303862424951067,
          0.36586020086053167,
          -1.3794478533340162,
          0.2785947981508043,
          -0.5067938262367422,
          -0.5940592289464697,
          -1.553978658753471,
          -2.3393672831410175,
          -1.8157748668826532,
          0.889452617118896,
          1.5875758387967152,
          1.5003104360869879,
          -0.5940592289464697,
          -0.7685900343659244,
          -1.3794478533340162,
          -1.4667132560437435,
          0.5403910062799865,
          0.1913293954410769,
          0.8021872144091686,
          1.4130450333772604,
          1.9366374496356247,
          -1.2049170479145614,
          -0.681324631656197,
          0.5403910062799865,
          1.4130450333772604,
          -0.24499761810756004,
          -0.41952842352701486,
          -0.07046681268810527,
          0.8021872144091686,
          0.10406399273134952,
          1.0639834225383509,
          1.3257796306675331,
          1.2385142279578056,
          2.023902852345352,
          0.7149218116994412,
          0.2785947981508043,
          -0.15773221539783266,
          0.8021872144091686,
          1.9366374496356247,
          -0.5067938262367422,
          1.5003104360869879,
          1.3257796306675331,
          0.36586020086053167,
          0.6276564089897139,
          0.8021872144091686,
          -0.41952842352701486,
          -0.15773221539783266,
          -0.681324631656197,
          -0.9431208397853792,
          -1.7285094641729257,
          -0.15773221539783266,
          -1.6412440614631982,
          0.10406399273134952,
          0.016798590021622126,
          1.0639834225383509,
          0.4531256035702591,
          -1.2921824506242887,
          -0.3322630208172874,
          -2.0775710750118352,
          -0.5067938262367422,
          -0.41952842352701486,
          1.5003104360869879,
          0.4531256035702591,
          0.5403910062799865,
          0.36586020086053167,
          0.2785947981508043,
          1.0639834225383509,
          0.1913293954410769,
          -0.681324631656197,
          -0.8558554370756518,
          -1.4667132560437435,
          -1.0303862424951067,
          -1.553978658753471,
          -0.24499761810756004,
          -0.07046681268810527,
          0.889452617118896,
          0.016798590021622126,
          1.5875758387967152,
          1.2385142279578056,
          0.6276564089897139,
          0.6276564089897139,
          0.5403910062799865,
          0.4531256035702591,
          1.6748412415064426,
          -0.07046681268810527,
          -0.8558554370756518,
          -0.9431208397853792,
          -0.5940592289464697,
          -0.5067938262367422,
          -0.3322630208172874,
          0.016798590021622126,
          -0.15773221539783266,
          2.023902852345352,
          1.5003104360869879,
          -1.6412440614631982,
          -1.9030402695923805,
          -0.15773221539783266,
          -0.5940592289464697,
          -1.0303862424951067,
          -1.3794478533340162,
          0.7149218116994412,
          0.9767180198286235,
          1.8493720469258974,
          1.4130450333772604,
          1.2385142279578056,
          1.1512488252480781,
          0.4531256035702591,
          0.36586020086053167,
          0.6276564089897139,
          -0.41952842352701486,
          -0.3322630208172874,
          -0.07046681268810527,
          0.6276564089897139,
          -0.7685900343659244,
          -1.0303862424951067,
          -1.8157748668826532,
          -0.9431208397853792,
          -0.41952842352701486,
          0.10406399273134952,
          0.6276564089897139,
          -0.3322630208172874,
          0.1913293954410769,
          -0.41952842352701486,
          -1.117651645204834,
          1.1512488252480781,
          0.8021872144091686,
          0.7149218116994412,
          1.0639834225383509,
          -0.5940592289464697,
          -1.553978658753471,
          -1.8157748668826532,
          0.016798590021622126,
          0.6276564089897139,
          0.7149218116994412,
          -0.24499761810756004,
          0.9767180198286235,
          -0.07046681268810527,
          -0.5067938262367422,
          0.6276564089897139,
          0.36586020086053167,
          0.2785947981508043,
          -0.07046681268810527,
          0.10406399273134952,
          1.5875758387967152,
          0.36586020086053167,
          -0.8558554370756518,
          -0.681324631656197,
          0.6276564089897139,
          0.8021872144091686,
          1.2385142279578056,
          0.889452617118896,
          -0.41952842352701486,
          -0.7685900343659244,
          0.6276564089897139,
          0.7149218116994412,
          -0.3322630208172874,
          -0.41952842352701486,
          -0.24499761810756004,
          0.889452617118896,
          -0.7685900343659244,
          -0.9431208397853792,
          -1.553978658753471,
          -1.990305672302108,
          -0.41952842352701486,
          -0.15773221539783266,
          0.4531256035702591,
          1.0639834225383509,
          0.2785947981508043,
          -0.7685900343659244,
          -1.117651645204834,
          -0.5067938262367422,
          0.016798590021622126,
          -0.41952842352701486,
          0.36586020086053167,
          2.023902852345352,
          1.2385142279578056,
          1.6748412415064426,
          0.6276564089897139,
          -0.24499761810756004,
          -0.3322630208172874,
          -0.8558554370756518,
          -1.4667132560437435,
          -1.2921824506242887,
          -0.41952842352701486,
          -0.07046681268810527,
          0.016798590021622126,
          -0.5940592289464697,
          0.2785947981508043,
          1.1512488252480781,
          -1.0303862424951067,
          -0.681324631656197,
          0.1913293954410769,
          0.4531256035702591,
          0.5403910062799865,
          -0.3322630208172874,
          0.36586020086053167,
          0.5403910062799865,
          0.7149218116994412,
          -0.41952842352701486,
          -0.7685900343659244,
          0.2785947981508043,
          0.9767180198286235,
          -0.5067938262367422,
          -1.3794478533340162,
          -1.0303862424951067,
          -0.7685900343659244,
          -1.6412440614631982,
          -1.4667132560437435,
          0.6276564089897139,
          0.889452617118896,
          0.016798590021622126,
          0.5403910062799865,
          -0.24499761810756004,
          -1.0303862424951067,
          -0.15773221539783266,
          0.8021872144091686,
          -1.553978658753471,
          -1.9030402695923805,
          0.6276564089897139,
          -1.7285094641729257,
          0.889452617118896,
          -0.5067938262367422,
          -0.7685900343659244,
          0.1913293954410769,
          -0.41952842352701486,
          0.7149218116994412,
          0.1913293954410769,
          1.3257796306675331,
          0.5403910062799865,
          0.6276564089897139,
          -0.41952842352701486,
          0.8021872144091686,
          -0.7685900343659244,
          -1.0303862424951067,
          -1.9030402695923805,
          -0.07046681268810527,
          -1.117651645204834,
          -1.553978658753471,
          -1.2921824506242887,
          -0.3322630208172874,
          0.10406399273134952,
          0.7149218116994412,
          -1.2049170479145614,
          -1.4667132560437435,
          -1.7285094641729257,
          0.016798590021622126,
          0.889452617118896,
          -1.3794478533340162,
          -0.24499761810756004,
          0.36586020086053167,
          0.4531256035702591,
          1.5003104360869879,
          1.8493720469258974,
          -0.9431208397853792,
          -0.3322630208172874,
          1.1512488252480781,
          0.2785947981508043,
          -0.5067938262367422,
          -1.6412440614631982,
          -1.3794478533340162,
          -0.5940592289464697,
          0.6276564089897139,
          1.6748412415064426,
          0.36586020086053167,
          -0.15773221539783266,
          -1.117651645204834,
          -1.7285094641729257,
          -2.3393672831410175,
          -1.2049170479145614,
          -0.5067938262367422,
          0.4531256035702591,
          0.1913293954410769,
          0.6276564089897139,
          -1.4667132560437435,
          2.023902852345352,
          1.5875758387967152,
          -1.2921824506242887,
          -0.8558554370756518,
          -1.8157748668826532,
          0.2785947981508043,
          -0.24499761810756004,
          0.10406399273134952,
          0.8021872144091686,
          0.016798590021622126,
          1.0639834225383509,
          0.6276564089897139,
          0.7149218116994412,
          1.1512488252480781,
          -0.41952842352701486,
          1.4130450333772604
         ]
        },
        {
         "boxpoints": "outliers",
         "marker": {
          "line": {
           "color": "black",
           "width": 0.5
          },
          "opacity": 0.5
         },
         "name": "TOEFL Score",
         "notched": true,
         "type": "box",
         "y": [
          1.7469706406568504,
          -0.06763531281107672,
          -0.5625278455750569,
          0.4272572199529034,
          -0.7274920231630502,
          1.2520781078928702,
          0.26229304236491,
          -1.057420378339037,
          -0.8924562007510436,
          0.09732886477691666,
          -0.2325994903990701,
          0.5922213975408968,
          0.7571855751288902,
          0.26229304236491,
          -0.5625278455750569,
          -0.39756366798706344,
          -0.06763531281107672,
          -0.2325994903990701,
          0.4272572199529034,
          -0.8924562007510436,
          -0.06763531281107672,
          1.087113930304877,
          1.4170422854808635,
          1.9119348182448437,
          1.9119348182448437,
          2.076898995832837,
          0.26229304236491,
          -1.5523129111030172,
          -2.377133799042984,
          -1.3873487335150236,
          -1.7172770886910105,
          -0.7274920231630502,
          1.7469706406568504,
          1.087113930304877,
          0.7571855751288902,
          0.4272572199529034,
          -0.2325994903990701,
          -0.39756366798706344,
          -0.39756366798706344,
          0.09732886477691666,
          0.4272572199529034,
          -0.39756366798706344,
          -0.06763531281107672,
          1.582006463068857,
          0.9221497527168835,
          0.4272572199529034,
          1.087113930304877,
          1.9119348182448437,
          0.4272572199529034,
          0.5922213975408968,
          -1.5523129111030172,
          -1.2223845559270303,
          1.4170422854808635,
          0.7571855751288902,
          0.4272572199529034,
          -0.7274920231630502,
          -0.8924562007510436,
          -1.3873487335150236,
          -1.3873487335150236,
          -0.5625278455750569,
          -1.2223845559270303,
          -1.057420378339037,
          -0.39756366798706344,
          -0.06763531281107672,
          0.5922213975408968,
          0.7571855751288902,
          1.087113930304877,
          -0.06763531281107672,
          0.26229304236491,
          1.2520781078928702,
          1.7469706406568504,
          0.7571855751288902,
          0.5922213975408968,
          0.09732886477691666,
          -0.2325994903990701,
          1.087113930304877,
          0.7571855751288902,
          -1.3873487335150236,
          -2.0472054438669973,
          -2.377133799042984,
          -0.39756366798706344,
          2.076898995832837,
          0.4272572199529034,
          1.2520781078928702,
          1.2520781078928702,
          -0.7274920231630502,
          -0.2325994903990701,
          -0.06763531281107672,
          0.09732886477691666,
          0.26229304236491,
          -0.2325994903990701,
          -1.7172770886910105,
          -1.5523129111030172,
          -1.7172770886910105,
          -1.3873487335150236,
          -1.2223845559270303,
          -1.2223845559270303,
          2.076898995832837,
          1.9119348182448437,
          0.9221497527168835,
          -0.06763531281107672,
          -0.39756366798706344,
          -0.2325994903990701,
          -0.5625278455750569,
          0.7571855751288902,
          0.4272572199529034,
          0.5922213975408968,
          1.582006463068857,
          1.4170422854808635,
          -0.7274920231630502,
          0.09732886477691666,
          0.26229304236491,
          -0.06763531281107672,
          0.4272572199529034,
          -0.39756366798706344,
          -0.2325994903990701,
          -0.8924562007510436,
          -0.5625278455750569,
          -1.3873487335150236,
          -0.5625278455750569,
          1.582006463068857,
          1.9119348182448437,
          -0.2325994903990701,
          0.09732886477691666,
          -0.2325994903990701,
          -1.2223845559270303,
          0.9221497527168835,
          0.7571855751288902,
          0.7571855751288902,
          1.7469706406568504,
          1.087113930304877,
          -0.39756366798706344,
          -0.39756366798706344,
          0.7571855751288902,
          0.9221497527168835,
          0.26229304236491,
          -0.7274920231630502,
          -1.2223845559270303,
          1.4170422854808635,
          0.26229304236491,
          0.4272572199529034,
          1.7469706406568504,
          1.2520781078928702,
          2.076898995832837,
          0.7571855751288902,
          0.9221497527168835,
          -0.39756366798706344,
          1.087113930304877,
          1.4170422854808635,
          -0.2325994903990701,
          1.087113930304877,
          1.4170422854808635,
          0.7571855751288902,
          -0.39756366798706344,
          0.09732886477691666,
          0.26229304236491,
          -0.39756366798706344,
          -0.5625278455750569,
          -0.2325994903990701,
          -1.2223845559270303,
          -0.7274920231630502,
          -1.3873487335150236,
          0.26229304236491,
          -0.39756366798706344,
          0.5922213975408968,
          0.4272572199529034,
          -0.8924562007510436,
          -0.8924562007510436,
          -1.7172770886910105,
          -1.3873487335150236,
          -1.057420378339037,
          1.582006463068857,
          0.4272572199529034,
          0.9221497527168835,
          0.5922213975408968,
          0.5922213975408968,
          1.9119348182448437,
          0.4272572199529034,
          0.09732886477691666,
          -0.8924562007510436,
          -0.5625278455750569,
          -0.06763531281107672,
          -1.2223845559270303,
          0.4272572199529034,
          -0.2325994903990701,
          0.9221497527168835,
          -0.06763531281107672,
          1.7469706406568504,
          1.2520781078928702,
          0.7571855751288902,
          0.5922213975408968,
          0.4272572199529034,
          1.087113930304877,
          1.7469706406568504,
          0.26229304236491,
          -0.06763531281107672,
          -0.39756366798706344,
          -0.2325994903990701,
          -0.5625278455750569,
          -0.06763531281107672,
          -0.7274920231630502,
          0.4272572199529034,
          2.076898995832837,
          2.076898995832837,
          -0.39756366798706344,
          -1.3873487335150236,
          -1.3873487335150236,
          -0.8924562007510436,
          -0.2325994903990701,
          -0.5625278455750569,
          0.09732886477691666,
          0.4272572199529034,
          2.076898995832837,
          1.9119348182448437,
          1.582006463068857,
          1.4170422854808635,
          0.7571855751288902,
          0.26229304236491,
          0.4272572199529034,
          -0.5625278455750569,
          -0.7274920231630502,
          0.4272572199529034,
          0.9221497527168835,
          0.26229304236491,
          -0.39756366798706344,
          -1.3873487335150236,
          0.4272572199529034,
          0.4272572199529034,
          0.7571855751288902,
          0.5922213975408968,
          -0.5625278455750569,
          -0.2325994903990701,
          -0.06763531281107672,
          -1.2223845559270303,
          0.9221497527168835,
          0.5922213975408968,
          0.7571855751288902,
          1.087113930304877,
          -0.5625278455750569,
          -1.2223845559270303,
          -1.057420378339037,
          -0.7274920231630502,
          1.2520781078928702,
          1.087113930304877,
          -0.06763531281107672,
          0.4272572199529034,
          -0.39756366798706344,
          -0.5625278455750569,
          0.4272572199529034,
          0.5922213975408968,
          -0.5625278455750569,
          -1.3873487335150236,
          -1.2223845559270303,
          1.2520781078928702,
          1.087113930304877,
          0.4272572199529034,
          -1.3873487335150236,
          -1.2223845559270303,
          -0.8924562007510436,
          1.9119348182448437,
          0.09732886477691666,
          -0.5625278455750569,
          -0.7274920231630502,
          0.5922213975408968,
          0.4272572199529034,
          -0.8924562007510436,
          -0.39756366798706344,
          -0.06763531281107672,
          0.9221497527168835,
          0.09732886477691666,
          -0.39756366798706344,
          -1.8822412662790038,
          -2.0472054438669973,
          -1.3873487335150236,
          -1.2223845559270303,
          0.4272572199529034,
          0.9221497527168835,
          -1.057420378339037,
          -0.7274920231630502,
          -0.8924562007510436,
          -0.8924562007510436,
          0.4272572199529034,
          -0.2325994903990701,
          0.5922213975408968,
          0.7571855751288902,
          1.4170422854808635,
          1.7469706406568504,
          1.087113930304877,
          -0.5625278455750569,
          0.26229304236491,
          -0.39756366798706344,
          -0.8924562007510436,
          -1.3873487335150236,
          -1.5523129111030172,
          -1.057420378339037,
          -1.2223845559270303,
          -0.06763531281107672,
          2.076898995832837,
          1.087113930304877,
          0.7571855751288902,
          -0.2325994903990701,
          0.09732886477691666,
          -0.39756366798706344,
          -0.06763531281107672,
          -0.2325994903990701,
          0.26229304236491,
          0.4272572199529034,
          0.7571855751288902,
          0.09732886477691666,
          0.4272572199529034,
          -0.5625278455750569,
          0.09732886477691666,
          -0.06763531281107672,
          -1.2223845559270303,
          -0.39756366798706344,
          -0.5625278455750569,
          -1.057420378339037,
          -1.3873487335150236,
          0.5922213975408968,
          0.9221497527168835,
          -0.2325994903990701,
          -0.5625278455750569,
          -0.06763531281107672,
          -0.8924562007510436,
          -0.5625278455750569,
          1.4170422854808635,
          -1.2223845559270303,
          -1.057420378339037,
          0.7571855751288902,
          -1.8822412662790038,
          0.9221497527168835,
          -0.39756366798706344,
          -0.2325994903990701,
          0.09732886477691666,
          -0.06763531281107672,
          0.5922213975408968,
          0.4272572199529034,
          1.7469706406568504,
          0.09732886477691666,
          -0.06763531281107672,
          -0.06763531281107672,
          0.4272572199529034,
          -0.2325994903990701,
          -0.7274920231630502,
          -1.8822412662790038,
          -1.5523129111030172,
          -1.7172770886910105,
          -2.2121696214549904,
          -1.3873487335150236,
          -1.057420378339037,
          -0.06763531281107672,
          0.4272572199529034,
          -1.2223845559270303,
          -0.8924562007510436,
          -1.5523129111030172,
          -0.2325994903990701,
          0.26229304236491,
          -0.5625278455750569,
          -0.39756366798706344,
          -0.06763531281107672,
          0.4272572199529034,
          1.4170422854808635,
          1.2520781078928702,
          -0.7274920231630502,
          -0.8924562007510436,
          1.087113930304877,
          -0.5625278455750569,
          -1.5523129111030172,
          -2.5420979766309775,
          -1.5523129111030172,
          -0.7274920231630502,
          0.4272572199529034,
          1.9119348182448437,
          0.26229304236491,
          -0.39756366798706344,
          -1.057420378339037,
          -1.8822412662790038,
          -1.2223845559270303,
          -1.5523129111030172,
          -1.3873487335150236,
          -0.5625278455750569,
          -0.39756366798706344,
          0.4272572199529034,
          -1.2223845559270303,
          0.9221497527168835,
          1.582006463068857,
          -1.057420378339037,
          -0.39756366798706344,
          -1.7172770886910105,
          0.09732886477691666,
          -0.8924562007510436,
          -0.2325994903990701,
          0.7571855751288902,
          -0.5625278455750569,
          0.5922213975408968,
          0.4272572199529034,
          -0.06763531281107672,
          1.4170422854808635,
          -0.7274920231630502,
          1.582006463068857
         ]
        },
        {
         "boxpoints": "outliers",
         "marker": {
          "line": {
           "color": "black",
           "width": 0.5
          },
          "opacity": 0.5
         },
         "name": "University Rating",
         "notched": true,
         "type": "box",
         "y": [
          4,
          4,
          3,
          3,
          2,
          5,
          3,
          2,
          1,
          3,
          3,
          4,
          4,
          3,
          3,
          3,
          3,
          3,
          3,
          3,
          3,
          4,
          5,
          5,
          5,
          5,
          5,
          2,
          1,
          2,
          2,
          3,
          4,
          5,
          5,
          5,
          2,
          1,
          1,
          2,
          3,
          2,
          2,
          4,
          5,
          5,
          5,
          5,
          3,
          4,
          3,
          2,
          4,
          4,
          3,
          3,
          3,
          2,
          1,
          2,
          2,
          3,
          2,
          2,
          3,
          4,
          3,
          2,
          3,
          4,
          5,
          5,
          5,
          4,
          3,
          2,
          3,
          2,
          2,
          1,
          3,
          4,
          5,
          5,
          5,
          4,
          3,
          2,
          3,
          4,
          2,
          3,
          2,
          2,
          3,
          4,
          2,
          3,
          4,
          3,
          3,
          2,
          2,
          2,
          3,
          3,
          4,
          4,
          5,
          5,
          5,
          4,
          3,
          2,
          3,
          4,
          3,
          4,
          2,
          5,
          5,
          5,
          4,
          3,
          4,
          3,
          3,
          3,
          3,
          5,
          5,
          5,
          5,
          5,
          5,
          4,
          3,
          2,
          2,
          1,
          2,
          2,
          5,
          4,
          2,
          2,
          3,
          3,
          4,
          2,
          4,
          5,
          5,
          3,
          3,
          3,
          3,
          2,
          2,
          1,
          1,
          1,
          3,
          3,
          4,
          5,
          3,
          3,
          2,
          2,
          2,
          5,
          4,
          4,
          4,
          4,
          4,
          3,
          3,
          3,
          3,
          2,
          2,
          3,
          2,
          4,
          3,
          5,
          5,
          5,
          5,
          5,
          5,
          5,
          3,
          2,
          2,
          2,
          3,
          3,
          3,
          2,
          5,
          5,
          3,
          2,
          2,
          3,
          2,
          3,
          4,
          4,
          4,
          5,
          4,
          5,
          4,
          4,
          4,
          3,
          3,
          3,
          4,
          2,
          2,
          2,
          2,
          2,
          3,
          4,
          3,
          3,
          2,
          2,
          5,
          5,
          4,
          5,
          3,
          1,
          1,
          2,
          3,
          3,
          2,
          4,
          3,
          2,
          3,
          3,
          3,
          2,
          2,
          4,
          4,
          4,
          3,
          3,
          4,
          4,
          5,
          3,
          2,
          3,
          2,
          3,
          2,
          3,
          4,
          4,
          2,
          2,
          1,
          1,
          1,
          3,
          5,
          2,
          2,
          2,
          3,
          3,
          3,
          3,
          4,
          5,
          5,
          5,
          4,
          3,
          2,
          2,
          2,
          1,
          2,
          2,
          3,
          3,
          3,
          3,
          2,
          2,
          2,
          3,
          2,
          3,
          3,
          4,
          3,
          4,
          3,
          4,
          4,
          3,
          2,
          2,
          2,
          1,
          3,
          4,
          3,
          3,
          2,
          2,
          3,
          3,
          3,
          2,
          4,
          2,
          3,
          2,
          3,
          3,
          4,
          4,
          3,
          5,
          5,
          5,
          3,
          3,
          3,
          2,
          2,
          1,
          2,
          1,
          1,
          3,
          3,
          4,
          2,
          3,
          2,
          2,
          3,
          2,
          2,
          2,
          3,
          4,
          5,
          2,
          3,
          4,
          3,
          1,
          1,
          1,
          2,
          3,
          4,
          3,
          2,
          2,
          2,
          1,
          1,
          1,
          3,
          3,
          4,
          3,
          4,
          5,
          2,
          2,
          2,
          3,
          2,
          3,
          4,
          2,
          4,
          3,
          3,
          4,
          3,
          4
         ]
        },
        {
         "boxpoints": "outliers",
         "marker": {
          "line": {
           "color": "black",
           "width": 0.5
          },
          "opacity": 0.5
         },
         "name": "SOP",
         "notched": true,
         "type": "box",
         "y": [
          4.5,
          4,
          3,
          3.5,
          2,
          4.5,
          3,
          3,
          2,
          3.5,
          3.5,
          4,
          4,
          4,
          3.5,
          3.5,
          4,
          4,
          4,
          3.5,
          3,
          3,
          5,
          5,
          4,
          4.5,
          4.5,
          1.5,
          2,
          1.5,
          3,
          4,
          3,
          4,
          4,
          5,
          4,
          1,
          3,
          4,
          3.5,
          2.5,
          2.5,
          4.5,
          4.5,
          5,
          4,
          4.5,
          3.5,
          3,
          2.5,
          1.5,
          4,
          4,
          3,
          3,
          2,
          4,
          3,
          2,
          3,
          4,
          3,
          4,
          3,
          3.5,
          3,
          3.5,
          3.5,
          4.5,
          5,
          5,
          5,
          4.5,
          3,
          2,
          3,
          3,
          3,
          1.5,
          2,
          5,
          5,
          4,
          4.5,
          4.5,
          4.5,
          3.5,
          4.5,
          4.5,
          4,
          5,
          4,
          3,
          2,
          1.5,
          3,
          4,
          5,
          4,
          3.5,
          2.5,
          4,
          4.5,
          3.5,
          4,
          4.5,
          3.5,
          5,
          5,
          3,
          4,
          3.5,
          4,
          3.5,
          4.5,
          4,
          2,
          3,
          3,
          5,
          4.5,
          1.5,
          3.5,
          2.5,
          2,
          4,
          2.5,
          3.5,
          5,
          4,
          5,
          3.5,
          4,
          4,
          3.5,
          5,
          1.5,
          4.5,
          3.5,
          4,
          4.5,
          4,
          4.5,
          3,
          2,
          2,
          3,
          4,
          3.5,
          4,
          5,
          5,
          3,
          3,
          3,
          2,
          2,
          2,
          1.5,
          1.5,
          1.5,
          3,
          3.5,
          4.5,
          4.5,
          3.5,
          2,
          2,
          2.5,
          2.5,
          4,
          4,
          4,
          4,
          4.5,
          4.5,
          3.5,
          2.5,
          3,
          3.5,
          2.5,
          3,
          4,
          2.5,
          4.5,
          3.5,
          4.5,
          4.5,
          5,
          4.5,
          4,
          4.5,
          4.5,
          3.5,
          3,
          3,
          3.5,
          4.5,
          4,
          2.5,
          3.5,
          4.5,
          4,
          3.5,
          2.5,
          3.5,
          3.5,
          3,
          3.5,
          4.5,
          5,
          5,
          5,
          4.5,
          5,
          4.5,
          4,
          3,
          3.5,
          4,
          3.5,
          4.5,
          3,
          3,
          2.5,
          3.5,
          3.5,
          4,
          3,
          4,
          3.5,
          2.5,
          2.5,
          5,
          4.5,
          4,
          4.5,
          2,
          1.5,
          2.5,
          2.5,
          3.5,
          3.5,
          2.5,
          4,
          3,
          2.5,
          3.5,
          3.5,
          3,
          2.5,
          2.5,
          4.5,
          4,
          4,
          4,
          4,
          5,
          5,
          5,
          3.5,
          2.5,
          2.5,
          3,
          2.5,
          2,
          3,
          4.5,
          4.5,
          2.5,
          1.5,
          1.5,
          1,
          2,
          3.5,
          5,
          2.5,
          3,
          3,
          4.5,
          4,
          4,
          2.5,
          5,
          4,
          4.5,
          5,
          5,
          4,
          2.5,
          1.5,
          1,
          3.5,
          2.5,
          3,
          3.5,
          4,
          4.5,
          3,
          2.5,
          2.5,
          3,
          3.5,
          2.5,
          3.5,
          4,
          4,
          3.5,
          3.5,
          3,
          4.5,
          4.5,
          3.5,
          3,
          2.5,
          1.5,
          1,
          2.5,
          3.5,
          4,
          4,
          2.5,
          2,
          3,
          3.5,
          2,
          2.5,
          4,
          2.5,
          3.5,
          3,
          3.5,
          3,
          4.5,
          4,
          3,
          5,
          4,
          3.5,
          3,
          3.5,
          3,
          2.5,
          1.5,
          1.5,
          1.5,
          1,
          2,
          2.5,
          3,
          3.5,
          3,
          3.5,
          2.5,
          2,
          3.5,
          3.5,
          2.5,
          2,
          4,
          4,
          4.5,
          2.5,
          3.5,
          4.5,
          3.5,
          1,
          2,
          2,
          2.5,
          3.5,
          4.5,
          3,
          2,
          2,
          2.5,
          1.5,
          2,
          2.5,
          3.5,
          3,
          4.5,
          3,
          5,
          5,
          2.5,
          2,
          1.5,
          3.5,
          2,
          2,
          4,
          3,
          4.5,
          3.5,
          3,
          5,
          3.5,
          5
         ]
        },
        {
         "boxpoints": "outliers",
         "marker": {
          "line": {
           "color": "black",
           "width": 0.5
          },
          "opacity": 0.5
         },
         "name": "LOR",
         "notched": true,
         "type": "box",
         "y": [
          4.5,
          4.5,
          3.5,
          2.5,
          3,
          3,
          4,
          4,
          1.5,
          3,
          4,
          4.5,
          4.5,
          3,
          2,
          2.5,
          3,
          3,
          3,
          3,
          2,
          2,
          5,
          4.5,
          3.5,
          4.5,
          3.5,
          2.5,
          2,
          2,
          3,
          4,
          4.5,
          4,
          5,
          5,
          4,
          2,
          1.5,
          3.5,
          3,
          2.5,
          2,
          4,
          4,
          4,
          5,
          4,
          5,
          4,
          4.5,
          3.5,
          3,
          2.5,
          3.5,
          3,
          3,
          2,
          2,
          2,
          3,
          3,
          3,
          3,
          3.5,
          3.5,
          3,
          3.5,
          4,
          4,
          5,
          5,
          5,
          4,
          5,
          4,
          3,
          2,
          2,
          2,
          3,
          5,
          4.5,
          4.5,
          4.5,
          3.5,
          3.5,
          3,
          3.5,
          3.5,
          4,
          3.5,
          3,
          3,
          2.5,
          2.5,
          3,
          4,
          4.5,
          4,
          3.5,
          3,
          3.5,
          4,
          3,
          4.5,
          4.5,
          4.5,
          5,
          4,
          3,
          4,
          3.5,
          3.5,
          3,
          4.5,
          3.5,
          2.5,
          3.5,
          3.5,
          5,
          4.5,
          2.5,
          3.5,
          3,
          3,
          3,
          2,
          3,
          5,
          4.5,
          4.5,
          3.5,
          4.5,
          4,
          4,
          4,
          3,
          3,
          3.5,
          3,
          3.5,
          3.5,
          4,
          3.5,
          2.5,
          2.5,
          3,
          3.5,
          3,
          4,
          5,
          5,
          4,
          3.5,
          3,
          2.5,
          2.5,
          2.5,
          2,
          2,
          3,
          3,
          3,
          4,
          4,
          5,
          3,
          4,
          3,
          3.5,
          4.5,
          5,
          4.5,
          4,
          3.5,
          4.5,
          3.5,
          3,
          3,
          3,
          2.5,
          3.5,
          4,
          4,
          4.5,
          3,
          3.5,
          3.5,
          5,
          4,
          5,
          4,
          5,
          3,
          3.5,
          2.5,
          2.5,
          4.5,
          4.5,
          3,
          3,
          4.5,
          5,
          4,
          3,
          3,
          4,
          3,
          4,
          4,
          4,
          5,
          4.5,
          5,
          4.5,
          4.5,
          4,
          3.5,
          3.5,
          4,
          4,
          4,
          4,
          2,
          2.5,
          4,
          3,
          3.5,
          3,
          4.5,
          2.5,
          3.5,
          3.5,
          4,
          4,
          4.5,
          5,
          3.5,
          2,
          3,
          2,
          3,
          3,
          4,
          2.5,
          3.5,
          3.5,
          4,
          4,
          2.5,
          3,
          3.5,
          4.5,
          5,
          4.5,
          4,
          5,
          5,
          4.5,
          3.5,
          4,
          4,
          1.5,
          2.5,
          2.5,
          2.5,
          3.5,
          5,
          5,
          3,
          2,
          1.5,
          1.5,
          2.5,
          3,
          4.5,
          3,
          3.5,
          4,
          4,
          4.5,
          3.5,
          3,
          4.5,
          4,
          4,
          4.5,
          5,
          3.5,
          3,
          2,
          2,
          3,
          2,
          2.5,
          3.5,
          4.5,
          4.5,
          3.5,
          2.5,
          3,
          3,
          3.5,
          2,
          3.5,
          3.5,
          4,
          3,
          3,
          3.5,
          4,
          4.5,
          3,
          4,
          3,
          2,
          2.5,
          2,
          3,
          3.5,
          4,
          4,
          2.5,
          2.5,
          4,
          2,
          2,
          3.5,
          1.5,
          3,
          2,
          2.5,
          3.5,
          4,
          4.5,
          2.5,
          5,
          4,
          4,
          3,
          3.5,
          3,
          3.5,
          2,
          2,
          2,
          1,
          2,
          3,
          3.5,
          4,
          3.5,
          2.5,
          3,
          3.5,
          4,
          3.5,
          2,
          1.5,
          5,
          3.5,
          5,
          3,
          4,
          3,
          4.5,
          2.5,
          2,
          3,
          2.5,
          3,
          4,
          3,
          2.5,
          2.5,
          2,
          2,
          2.5,
          3,
          4,
          3.5,
          4,
          3.5,
          5,
          5,
          3.5,
          3.5,
          2,
          4,
          2.5,
          3,
          3.5,
          3,
          4,
          3.5,
          3.5,
          4.5,
          4,
          4
         ]
        },
        {
         "boxpoints": "outliers",
         "marker": {
          "line": {
           "color": "black",
           "width": 0.5
          },
          "opacity": 0.5
         },
         "name": "CGPA",
         "notched": true,
         "type": "box",
         "y": [
          9.65,
          8.87,
          8,
          8.67,
          8.21,
          9.34,
          8.2,
          7.9,
          8,
          8.6,
          8.4,
          9,
          9.1,
          8,
          8.2,
          8.3,
          8.7,
          8,
          8.8,
          8.5,
          7.9,
          8.4,
          9.5,
          9.7,
          9.8,
          9.6,
          8.8,
          7.5,
          7.2,
          7.3,
          8.1,
          8.3,
          9.4,
          9.6,
          9.8,
          9.2,
          8.4,
          7.8,
          7.5,
          7.7,
          8,
          8.2,
          8.5,
          9.1,
          9.4,
          9.1,
          9.3,
          9.7,
          8.85,
          8.4,
          8.3,
          7.9,
          8,
          8.1,
          8,
          7.7,
          7.4,
          7.6,
          6.8,
          8.3,
          8.1,
          8.2,
          8.2,
          8.5,
          8.7,
          8.92,
          9.02,
          8.64,
          9.22,
          9.16,
          9.64,
          9.76,
          9.45,
          9.04,
          8.9,
          8.56,
          8.72,
          8.22,
          7.54,
          7.36,
          8.02,
          9.5,
          9.22,
          9.36,
          9.45,
          8.66,
          8.42,
          8.28,
          8.14,
          8.76,
          7.92,
          7.66,
          8.03,
          7.88,
          7.66,
          7.84,
          8,
          8.96,
          9.24,
          8.88,
          8.46,
          8.12,
          8.25,
          8.47,
          9.05,
          8.78,
          9.18,
          9.46,
          9.38,
          8.64,
          8.48,
          8.68,
          8.34,
          8.56,
          8.45,
          9.04,
          8.62,
          7.46,
          7.28,
          8.84,
          9.56,
          9.48,
          8.36,
          8.22,
          8.47,
          8.66,
          9.32,
          8.71,
          9.1,
          9.35,
          9.76,
          8.65,
          8.56,
          8.78,
          9.28,
          8.77,
          8.45,
          8.16,
          9.08,
          9.12,
          9.15,
          9.36,
          9.44,
          9.92,
          8.96,
          8.64,
          8.48,
          9.11,
          9.8,
          8.26,
          9.43,
          9.28,
          9.06,
          8.75,
          8.89,
          8.69,
          8.34,
          8.26,
          8.14,
          7.9,
          7.86,
          7.46,
          8.5,
          8.56,
          9.01,
          8.97,
          8.33,
          8.27,
          7.8,
          7.98,
          8.04,
          9.07,
          9.13,
          9.23,
          8.97,
          8.87,
          9.16,
          9.04,
          8.12,
          8.27,
          8.16,
          8.42,
          7.88,
          8.8,
          8.32,
          9.11,
          8.68,
          9.44,
          9.36,
          9.08,
          9.16,
          8.98,
          8.94,
          9.53,
          8.76,
          8.52,
          8.26,
          8.33,
          8.43,
          8.69,
          8.54,
          8.46,
          9.91,
          9.87,
          8.54,
          7.65,
          7.89,
          8.02,
          8.16,
          8.12,
          9.06,
          9.14,
          9.66,
          9.78,
          9.42,
          9.36,
          9.26,
          9.13,
          8.97,
          8.42,
          8.75,
          8.56,
          8.79,
          8.45,
          8.23,
          8.03,
          8.45,
          8.53,
          8.67,
          9.01,
          8.65,
          8.33,
          8.27,
          8.07,
          9.31,
          9.23,
          9.17,
          9.19,
          8.37,
          7.89,
          7.68,
          8.15,
          8.76,
          9.04,
          8.56,
          9.02,
          8.73,
          8.48,
          8.87,
          8.83,
          8.57,
          9,
          8.54,
          9.68,
          9.12,
          8.37,
          8.56,
          8.64,
          8.76,
          9.34,
          9.13,
          8.09,
          8.36,
          8.79,
          8.76,
          8.68,
          8.45,
          8.17,
          9.14,
          8.34,
          8.22,
          7.86,
          7.64,
          8.01,
          7.95,
          8.96,
          9.45,
          8.62,
          8.49,
          8.73,
          8.64,
          9.11,
          8.79,
          8.9,
          9.66,
          9.26,
          9.19,
          9.08,
          9.02,
          9,
          7.65,
          7.87,
          7.97,
          8.18,
          8.32,
          8.57,
          8.67,
          9.11,
          9.24,
          8.65,
          8,
          8.76,
          8.45,
          8.55,
          8.43,
          8.8,
          9.1,
          9,
          8.53,
          8.6,
          8.74,
          9.18,
          9,
          8.04,
          8.13,
          8.07,
          7.86,
          8.01,
          8.8,
          8.69,
          8.5,
          8.44,
          8.27,
          8.18,
          8.33,
          9.14,
          8.02,
          7.86,
          8.77,
          7.89,
          8.66,
          8.12,
          8.21,
          8.54,
          8.65,
          9.11,
          8.79,
          9.47,
          8.74,
          8.66,
          8.46,
          8.76,
          8.24,
          8.13,
          7.34,
          7.43,
          7.64,
          7.34,
          7.25,
          8.04,
          8.27,
          8.67,
          8.06,
          8.17,
          7.67,
          8.12,
          8.77,
          7.89,
          7.64,
          8.44,
          8.64,
          9.54,
          9.23,
          8.36,
          8.9,
          9.17,
          8.34,
          7.46,
          7.88,
          8.03,
          8.24,
          9.22,
          9.62,
          8.54,
          7.65,
          7.66,
          7.43,
          7.56,
          7.65,
          8.43,
          8.84,
          8.67,
          9.15,
          8.26,
          9.74,
          9.82,
          7.96,
          8.1,
          7.8,
          8.44,
          8.24,
          8.65,
          9.12,
          8.76,
          9.23,
          9.04,
          9.11,
          9.45,
          8.78,
          9.66
         ]
        },
        {
         "boxpoints": "outliers",
         "marker": {
          "line": {
           "color": "black",
           "width": 0.5
          },
          "opacity": 0.5
         },
         "name": "Research",
         "notched": true,
         "type": "box",
         "y": [
          1,
          1,
          1,
          1,
          0,
          1,
          1,
          0,
          0,
          0,
          1,
          1,
          1,
          1,
          1,
          0,
          0,
          1,
          0,
          0,
          1,
          0,
          1,
          1,
          1,
          1,
          0,
          1,
          0,
          0,
          1,
          1,
          1,
          1,
          1,
          1,
          0,
          0,
          0,
          0,
          1,
          1,
          1,
          0,
          1,
          1,
          1,
          0,
          1,
          1,
          1,
          1,
          1,
          1,
          0,
          0,
          0,
          0,
          1,
          0,
          0,
          0,
          1,
          1,
          0,
          0,
          0,
          1,
          1,
          1,
          1,
          1,
          1,
          1,
          0,
          1,
          1,
          0,
          1,
          0,
          1,
          1,
          1,
          1,
          1,
          0,
          0,
          0,
          0,
          1,
          1,
          0,
          0,
          1,
          0,
          0,
          0,
          1,
          1,
          1,
          1,
          0,
          0,
          0,
          1,
          1,
          1,
          1,
          1,
          0,
          0,
          1,
          1,
          0,
          1,
          1,
          0,
          0,
          0,
          1,
          1,
          1,
          0,
          0,
          0,
          1,
          1,
          1,
          1,
          1,
          1,
          0,
          0,
          0,
          1,
          1,
          0,
          1,
          1,
          0,
          1,
          1,
          1,
          1,
          1,
          1,
          0,
          1,
          1,
          1,
          1,
          1,
          1,
          0,
          0,
          0,
          0,
          0,
          0,
          0,
          0,
          0,
          0,
          0,
          1,
          0,
          0,
          0,
          1,
          0,
          1,
          1,
          1,
          1,
          1,
          1,
          1,
          0,
          0,
          0,
          0,
          0,
          0,
          0,
          0,
          1,
          1,
          1,
          1,
          1,
          1,
          1,
          1,
          1,
          0,
          1,
          0,
          0,
          0,
          0,
          1,
          1,
          1,
          1,
          0,
          0,
          0,
          1,
          0,
          1,
          1,
          1,
          1,
          1,
          1,
          1,
          1,
          1,
          1,
          0,
          0,
          0,
          0,
          0,
          0,
          0,
          0,
          0,
          0,
          1,
          0,
          1,
          0,
          0,
          1,
          1,
          1,
          1,
          0,
          0,
          0,
          0,
          1,
          1,
          0,
          1,
          0,
          0,
          1,
          1,
          1,
          0,
          1,
          1,
          0,
          0,
          0,
          1,
          1,
          1,
          1,
          0,
          1,
          1,
          1,
          0,
          0,
          1,
          0,
          0,
          1,
          0,
          0,
          1,
          0,
          1,
          1,
          0,
          0,
          0,
          1,
          1,
          1,
          1,
          1,
          1,
          1,
          1,
          0,
          0,
          0,
          0,
          0,
          1,
          1,
          0,
          0,
          0,
          1,
          0,
          0,
          0,
          1,
          1,
          0,
          1,
          1,
          1,
          0,
          0,
          1,
          1,
          1,
          0,
          0,
          0,
          0,
          0,
          1,
          1,
          1,
          1,
          0,
          0,
          0,
          1,
          0,
          0,
          1,
          0,
          1,
          1,
          1,
          1,
          1,
          1,
          0,
          1,
          1,
          1,
          1,
          1,
          0,
          0,
          0,
          0,
          0,
          0,
          0,
          0,
          1,
          1,
          1,
          0,
          0,
          0,
          1,
          1,
          0,
          0,
          1,
          1,
          1,
          0,
          1,
          1,
          1,
          0,
          0,
          1,
          0,
          1,
          1,
          1,
          0,
          0,
          0,
          0,
          0,
          1,
          1,
          1,
          1,
          0,
          1,
          1,
          0,
          0,
          0,
          1,
          0,
          0,
          1,
          0,
          1,
          1,
          1,
          1,
          0,
          1
         ]
        }
       ],
       "layout": {
        "template": {
         "data": {
          "bar": [
           {
            "error_x": {
             "color": "#2a3f5f"
            },
            "error_y": {
             "color": "#2a3f5f"
            },
            "marker": {
             "line": {
              "color": "#E5ECF6",
              "width": 0.5
             },
             "pattern": {
              "fillmode": "overlay",
              "size": 10,
              "solidity": 0.2
             }
            },
            "type": "bar"
           }
          ],
          "barpolar": [
           {
            "marker": {
             "line": {
              "color": "#E5ECF6",
              "width": 0.5
             },
             "pattern": {
              "fillmode": "overlay",
              "size": 10,
              "solidity": 0.2
             }
            },
            "type": "barpolar"
           }
          ],
          "carpet": [
           {
            "aaxis": {
             "endlinecolor": "#2a3f5f",
             "gridcolor": "white",
             "linecolor": "white",
             "minorgridcolor": "white",
             "startlinecolor": "#2a3f5f"
            },
            "baxis": {
             "endlinecolor": "#2a3f5f",
             "gridcolor": "white",
             "linecolor": "white",
             "minorgridcolor": "white",
             "startlinecolor": "#2a3f5f"
            },
            "type": "carpet"
           }
          ],
          "choropleth": [
           {
            "colorbar": {
             "outlinewidth": 0,
             "ticks": ""
            },
            "type": "choropleth"
           }
          ],
          "contour": [
           {
            "colorbar": {
             "outlinewidth": 0,
             "ticks": ""
            },
            "colorscale": [
             [
              0,
              "#0d0887"
             ],
             [
              0.1111111111111111,
              "#46039f"
             ],
             [
              0.2222222222222222,
              "#7201a8"
             ],
             [
              0.3333333333333333,
              "#9c179e"
             ],
             [
              0.4444444444444444,
              "#bd3786"
             ],
             [
              0.5555555555555556,
              "#d8576b"
             ],
             [
              0.6666666666666666,
              "#ed7953"
             ],
             [
              0.7777777777777778,
              "#fb9f3a"
             ],
             [
              0.8888888888888888,
              "#fdca26"
             ],
             [
              1,
              "#f0f921"
             ]
            ],
            "type": "contour"
           }
          ],
          "contourcarpet": [
           {
            "colorbar": {
             "outlinewidth": 0,
             "ticks": ""
            },
            "type": "contourcarpet"
           }
          ],
          "heatmap": [
           {
            "colorbar": {
             "outlinewidth": 0,
             "ticks": ""
            },
            "colorscale": [
             [
              0,
              "#0d0887"
             ],
             [
              0.1111111111111111,
              "#46039f"
             ],
             [
              0.2222222222222222,
              "#7201a8"
             ],
             [
              0.3333333333333333,
              "#9c179e"
             ],
             [
              0.4444444444444444,
              "#bd3786"
             ],
             [
              0.5555555555555556,
              "#d8576b"
             ],
             [
              0.6666666666666666,
              "#ed7953"
             ],
             [
              0.7777777777777778,
              "#fb9f3a"
             ],
             [
              0.8888888888888888,
              "#fdca26"
             ],
             [
              1,
              "#f0f921"
             ]
            ],
            "type": "heatmap"
           }
          ],
          "heatmapgl": [
           {
            "colorbar": {
             "outlinewidth": 0,
             "ticks": ""
            },
            "colorscale": [
             [
              0,
              "#0d0887"
             ],
             [
              0.1111111111111111,
              "#46039f"
             ],
             [
              0.2222222222222222,
              "#7201a8"
             ],
             [
              0.3333333333333333,
              "#9c179e"
             ],
             [
              0.4444444444444444,
              "#bd3786"
             ],
             [
              0.5555555555555556,
              "#d8576b"
             ],
             [
              0.6666666666666666,
              "#ed7953"
             ],
             [
              0.7777777777777778,
              "#fb9f3a"
             ],
             [
              0.8888888888888888,
              "#fdca26"
             ],
             [
              1,
              "#f0f921"
             ]
            ],
            "type": "heatmapgl"
           }
          ],
          "histogram": [
           {
            "marker": {
             "pattern": {
              "fillmode": "overlay",
              "size": 10,
              "solidity": 0.2
             }
            },
            "type": "histogram"
           }
          ],
          "histogram2d": [
           {
            "colorbar": {
             "outlinewidth": 0,
             "ticks": ""
            },
            "colorscale": [
             [
              0,
              "#0d0887"
             ],
             [
              0.1111111111111111,
              "#46039f"
             ],
             [
              0.2222222222222222,
              "#7201a8"
             ],
             [
              0.3333333333333333,
              "#9c179e"
             ],
             [
              0.4444444444444444,
              "#bd3786"
             ],
             [
              0.5555555555555556,
              "#d8576b"
             ],
             [
              0.6666666666666666,
              "#ed7953"
             ],
             [
              0.7777777777777778,
              "#fb9f3a"
             ],
             [
              0.8888888888888888,
              "#fdca26"
             ],
             [
              1,
              "#f0f921"
             ]
            ],
            "type": "histogram2d"
           }
          ],
          "histogram2dcontour": [
           {
            "colorbar": {
             "outlinewidth": 0,
             "ticks": ""
            },
            "colorscale": [
             [
              0,
              "#0d0887"
             ],
             [
              0.1111111111111111,
              "#46039f"
             ],
             [
              0.2222222222222222,
              "#7201a8"
             ],
             [
              0.3333333333333333,
              "#9c179e"
             ],
             [
              0.4444444444444444,
              "#bd3786"
             ],
             [
              0.5555555555555556,
              "#d8576b"
             ],
             [
              0.6666666666666666,
              "#ed7953"
             ],
             [
              0.7777777777777778,
              "#fb9f3a"
             ],
             [
              0.8888888888888888,
              "#fdca26"
             ],
             [
              1,
              "#f0f921"
             ]
            ],
            "type": "histogram2dcontour"
           }
          ],
          "mesh3d": [
           {
            "colorbar": {
             "outlinewidth": 0,
             "ticks": ""
            },
            "type": "mesh3d"
           }
          ],
          "parcoords": [
           {
            "line": {
             "colorbar": {
              "outlinewidth": 0,
              "ticks": ""
             }
            },
            "type": "parcoords"
           }
          ],
          "pie": [
           {
            "automargin": true,
            "type": "pie"
           }
          ],
          "scatter": [
           {
            "marker": {
             "colorbar": {
              "outlinewidth": 0,
              "ticks": ""
             }
            },
            "type": "scatter"
           }
          ],
          "scatter3d": [
           {
            "line": {
             "colorbar": {
              "outlinewidth": 0,
              "ticks": ""
             }
            },
            "marker": {
             "colorbar": {
              "outlinewidth": 0,
              "ticks": ""
             }
            },
            "type": "scatter3d"
           }
          ],
          "scattercarpet": [
           {
            "marker": {
             "colorbar": {
              "outlinewidth": 0,
              "ticks": ""
             }
            },
            "type": "scattercarpet"
           }
          ],
          "scattergeo": [
           {
            "marker": {
             "colorbar": {
              "outlinewidth": 0,
              "ticks": ""
             }
            },
            "type": "scattergeo"
           }
          ],
          "scattergl": [
           {
            "marker": {
             "colorbar": {
              "outlinewidth": 0,
              "ticks": ""
             }
            },
            "type": "scattergl"
           }
          ],
          "scattermapbox": [
           {
            "marker": {
             "colorbar": {
              "outlinewidth": 0,
              "ticks": ""
             }
            },
            "type": "scattermapbox"
           }
          ],
          "scatterpolar": [
           {
            "marker": {
             "colorbar": {
              "outlinewidth": 0,
              "ticks": ""
             }
            },
            "type": "scatterpolar"
           }
          ],
          "scatterpolargl": [
           {
            "marker": {
             "colorbar": {
              "outlinewidth": 0,
              "ticks": ""
             }
            },
            "type": "scatterpolargl"
           }
          ],
          "scatterternary": [
           {
            "marker": {
             "colorbar": {
              "outlinewidth": 0,
              "ticks": ""
             }
            },
            "type": "scatterternary"
           }
          ],
          "surface": [
           {
            "colorbar": {
             "outlinewidth": 0,
             "ticks": ""
            },
            "colorscale": [
             [
              0,
              "#0d0887"
             ],
             [
              0.1111111111111111,
              "#46039f"
             ],
             [
              0.2222222222222222,
              "#7201a8"
             ],
             [
              0.3333333333333333,
              "#9c179e"
             ],
             [
              0.4444444444444444,
              "#bd3786"
             ],
             [
              0.5555555555555556,
              "#d8576b"
             ],
             [
              0.6666666666666666,
              "#ed7953"
             ],
             [
              0.7777777777777778,
              "#fb9f3a"
             ],
             [
              0.8888888888888888,
              "#fdca26"
             ],
             [
              1,
              "#f0f921"
             ]
            ],
            "type": "surface"
           }
          ],
          "table": [
           {
            "cells": {
             "fill": {
              "color": "#EBF0F8"
             },
             "line": {
              "color": "white"
             }
            },
            "header": {
             "fill": {
              "color": "#C8D4E3"
             },
             "line": {
              "color": "white"
             }
            },
            "type": "table"
           }
          ]
         },
         "layout": {
          "annotationdefaults": {
           "arrowcolor": "#2a3f5f",
           "arrowhead": 0,
           "arrowwidth": 1
          },
          "autotypenumbers": "strict",
          "coloraxis": {
           "colorbar": {
            "outlinewidth": 0,
            "ticks": ""
           }
          },
          "colorscale": {
           "diverging": [
            [
             0,
             "#8e0152"
            ],
            [
             0.1,
             "#c51b7d"
            ],
            [
             0.2,
             "#de77ae"
            ],
            [
             0.3,
             "#f1b6da"
            ],
            [
             0.4,
             "#fde0ef"
            ],
            [
             0.5,
             "#f7f7f7"
            ],
            [
             0.6,
             "#e6f5d0"
            ],
            [
             0.7,
             "#b8e186"
            ],
            [
             0.8,
             "#7fbc41"
            ],
            [
             0.9,
             "#4d9221"
            ],
            [
             1,
             "#276419"
            ]
           ],
           "sequential": [
            [
             0,
             "#0d0887"
            ],
            [
             0.1111111111111111,
             "#46039f"
            ],
            [
             0.2222222222222222,
             "#7201a8"
            ],
            [
             0.3333333333333333,
             "#9c179e"
            ],
            [
             0.4444444444444444,
             "#bd3786"
            ],
            [
             0.5555555555555556,
             "#d8576b"
            ],
            [
             0.6666666666666666,
             "#ed7953"
            ],
            [
             0.7777777777777778,
             "#fb9f3a"
            ],
            [
             0.8888888888888888,
             "#fdca26"
            ],
            [
             1,
             "#f0f921"
            ]
           ],
           "sequentialminus": [
            [
             0,
             "#0d0887"
            ],
            [
             0.1111111111111111,
             "#46039f"
            ],
            [
             0.2222222222222222,
             "#7201a8"
            ],
            [
             0.3333333333333333,
             "#9c179e"
            ],
            [
             0.4444444444444444,
             "#bd3786"
            ],
            [
             0.5555555555555556,
             "#d8576b"
            ],
            [
             0.6666666666666666,
             "#ed7953"
            ],
            [
             0.7777777777777778,
             "#fb9f3a"
            ],
            [
             0.8888888888888888,
             "#fdca26"
            ],
            [
             1,
             "#f0f921"
            ]
           ]
          },
          "colorway": [
           "#636efa",
           "#EF553B",
           "#00cc96",
           "#ab63fa",
           "#FFA15A",
           "#19d3f3",
           "#FF6692",
           "#B6E880",
           "#FF97FF",
           "#FECB52"
          ],
          "font": {
           "color": "#2a3f5f"
          },
          "geo": {
           "bgcolor": "white",
           "lakecolor": "white",
           "landcolor": "#E5ECF6",
           "showlakes": true,
           "showland": true,
           "subunitcolor": "white"
          },
          "hoverlabel": {
           "align": "left"
          },
          "hovermode": "closest",
          "mapbox": {
           "style": "light"
          },
          "paper_bgcolor": "white",
          "plot_bgcolor": "#E5ECF6",
          "polar": {
           "angularaxis": {
            "gridcolor": "white",
            "linecolor": "white",
            "ticks": ""
           },
           "bgcolor": "#E5ECF6",
           "radialaxis": {
            "gridcolor": "white",
            "linecolor": "white",
            "ticks": ""
           }
          },
          "scene": {
           "xaxis": {
            "backgroundcolor": "#E5ECF6",
            "gridcolor": "white",
            "gridwidth": 2,
            "linecolor": "white",
            "showbackground": true,
            "ticks": "",
            "zerolinecolor": "white"
           },
           "yaxis": {
            "backgroundcolor": "#E5ECF6",
            "gridcolor": "white",
            "gridwidth": 2,
            "linecolor": "white",
            "showbackground": true,
            "ticks": "",
            "zerolinecolor": "white"
           },
           "zaxis": {
            "backgroundcolor": "#E5ECF6",
            "gridcolor": "white",
            "gridwidth": 2,
            "linecolor": "white",
            "showbackground": true,
            "ticks": "",
            "zerolinecolor": "white"
           }
          },
          "shapedefaults": {
           "line": {
            "color": "#2a3f5f"
           }
          },
          "ternary": {
           "aaxis": {
            "gridcolor": "white",
            "linecolor": "white",
            "ticks": ""
           },
           "baxis": {
            "gridcolor": "white",
            "linecolor": "white",
            "ticks": ""
           },
           "bgcolor": "#E5ECF6",
           "caxis": {
            "gridcolor": "white",
            "linecolor": "white",
            "ticks": ""
           }
          },
          "title": {
           "x": 0.05
          },
          "xaxis": {
           "automargin": true,
           "gridcolor": "white",
           "linecolor": "white",
           "ticks": "",
           "title": {
            "standoff": 15
           },
           "zerolinecolor": "white",
           "zerolinewidth": 2
          },
          "yaxis": {
           "automargin": true,
           "gridcolor": "white",
           "linecolor": "white",
           "ticks": "",
           "title": {
            "standoff": 15
           },
           "zerolinecolor": "white",
           "zerolinewidth": 2
          }
         }
        },
        "title": {
         "text": "Checking the range and scale of all the features.",
         "x": 0.5,
         "y": 0.88
        }
       }
      },
      "text/html": [
       "<div>                            <div id=\"920ce942-535b-4da6-9644-6b7a0fe71825\" class=\"plotly-graph-div\" style=\"height:525px; width:100%;\"></div>            <script type=\"text/javascript\">                require([\"plotly\"], function(Plotly) {                    window.PLOTLYENV=window.PLOTLYENV || {};                                    if (document.getElementById(\"920ce942-535b-4da6-9644-6b7a0fe71825\")) {                    Plotly.newPlot(                        \"920ce942-535b-4da6-9644-6b7a0fe71825\",                        [{\"boxpoints\":\"outliers\",\"marker\":{\"line\":{\"color\":\"black\",\"width\":0.5},\"opacity\":0.5},\"name\":\"GRE Score\",\"notched\":true,\"type\":\"box\",\"y\":[1.76210664421617,0.6276564089897139,-0.07046681268810527,0.4531256035702591,-0.24499761810756004,1.1512488252480781,0.36586020086053167,-0.7685900343659244,-1.2921824506242887,0.5403910062799865,0.7149218116994412,0.889452617118896,0.9767180198286235,-0.8558554370756518,-0.5067938262367422,-0.24499761810756004,0.016798590021622126,0.1913293954410769,0.10406399273134952,-1.2049170479145614,-0.41952842352701486,0.7149218116994412,0.9767180198286235,1.5003104360869879,1.6748412415064426,2.023902852345352,0.4531256035702591,-1.6412440614631982,-1.9030402695923805,-0.5940592289464697,-1.4667132560437435,0.889452617118896,1.8493720469258974,2.023902852345352,1.2385142279578056,0.2785947981508043,-1.553978658753471,-1.4667132560437435,-1.117651645204834,-0.8558554370756518,-0.7685900343659244,-0.07046681268810527,-0.3322630208172874,1.3257796306675331,0.8021872144091686,0.4531256035702591,1.0639834225383509,1.9366374496356247,0.36586020086053167,0.889452617118896,-0.3322630208172874,-0.41952842352701486,1.5003104360869879,0.6276564089897139,0.4531256035702591,0.2785947981508043,-0.07046681268810527,-1.6412440614631982,-1.4667132560437435,-0.5067938262367422,-0.681324631656197,-0.8558554370756518,-1.117651645204834,-0.15773221539783266,0.7149218116994412,0.7149218116994412,0.889452617118896,-0.07046681268810527,0.10406399273134952,0.9767180198286235,1.3257796306675331,1.6748412415064426,0.36586020086053167,-0.24499761810756004,-0.24499761810756004,1.0639834225383509,0.889452617118896,-1.3794478533340162,-1.8157748668826532,-1.990305672302108,-0.41952842352701486,2.023902852345352,0.2785947981508043,0.4531256035702591,2.023902852345352,0.1913293954410769,-0.15773221539783266,0.016798590021622126,-0.24499761810756004,-0.07046681268810527,0.10406399273134952,-1.553978658753471,-1.6412440614631982,-1.3794478533340162,-1.2049170479145614,-1.117651645204834,-0.9431208397853792,1.2385142279578056,1.3257796306675331,0.5403910062799865,0.4531256035702591,-0.41952842352701486,-0.24499761810756004,0.016798590021622126,0.8021872144091686,-0.07046681268810527,1.0639834225383509,1.8493720469258974,1.2385142279578056,-1.117651645204834,-1.0303862424951067,0.36586020086053167,-1.3794478533340162,0.2785947981508043,-0.5067938262367422,-0.5940592289464697,-1.553978658753471,-2.3393672831410175,-1.8157748668826532,0.889452617118896,1.5875758387967152,1.5003104360869879,-0.5940592289464697,-0.7685900343659244,-1.3794478533340162,-1.4667132560437435,0.5403910062799865,0.1913293954410769,0.8021872144091686,1.4130450333772604,1.9366374496356247,-1.2049170479145614,-0.681324631656197,0.5403910062799865,1.4130450333772604,-0.24499761810756004,-0.41952842352701486,-0.07046681268810527,0.8021872144091686,0.10406399273134952,1.0639834225383509,1.3257796306675331,1.2385142279578056,2.023902852345352,0.7149218116994412,0.2785947981508043,-0.15773221539783266,0.8021872144091686,1.9366374496356247,-0.5067938262367422,1.5003104360869879,1.3257796306675331,0.36586020086053167,0.6276564089897139,0.8021872144091686,-0.41952842352701486,-0.15773221539783266,-0.681324631656197,-0.9431208397853792,-1.7285094641729257,-0.15773221539783266,-1.6412440614631982,0.10406399273134952,0.016798590021622126,1.0639834225383509,0.4531256035702591,-1.2921824506242887,-0.3322630208172874,-2.0775710750118352,-0.5067938262367422,-0.41952842352701486,1.5003104360869879,0.4531256035702591,0.5403910062799865,0.36586020086053167,0.2785947981508043,1.0639834225383509,0.1913293954410769,-0.681324631656197,-0.8558554370756518,-1.4667132560437435,-1.0303862424951067,-1.553978658753471,-0.24499761810756004,-0.07046681268810527,0.889452617118896,0.016798590021622126,1.5875758387967152,1.2385142279578056,0.6276564089897139,0.6276564089897139,0.5403910062799865,0.4531256035702591,1.6748412415064426,-0.07046681268810527,-0.8558554370756518,-0.9431208397853792,-0.5940592289464697,-0.5067938262367422,-0.3322630208172874,0.016798590021622126,-0.15773221539783266,2.023902852345352,1.5003104360869879,-1.6412440614631982,-1.9030402695923805,-0.15773221539783266,-0.5940592289464697,-1.0303862424951067,-1.3794478533340162,0.7149218116994412,0.9767180198286235,1.8493720469258974,1.4130450333772604,1.2385142279578056,1.1512488252480781,0.4531256035702591,0.36586020086053167,0.6276564089897139,-0.41952842352701486,-0.3322630208172874,-0.07046681268810527,0.6276564089897139,-0.7685900343659244,-1.0303862424951067,-1.8157748668826532,-0.9431208397853792,-0.41952842352701486,0.10406399273134952,0.6276564089897139,-0.3322630208172874,0.1913293954410769,-0.41952842352701486,-1.117651645204834,1.1512488252480781,0.8021872144091686,0.7149218116994412,1.0639834225383509,-0.5940592289464697,-1.553978658753471,-1.8157748668826532,0.016798590021622126,0.6276564089897139,0.7149218116994412,-0.24499761810756004,0.9767180198286235,-0.07046681268810527,-0.5067938262367422,0.6276564089897139,0.36586020086053167,0.2785947981508043,-0.07046681268810527,0.10406399273134952,1.5875758387967152,0.36586020086053167,-0.8558554370756518,-0.681324631656197,0.6276564089897139,0.8021872144091686,1.2385142279578056,0.889452617118896,-0.41952842352701486,-0.7685900343659244,0.6276564089897139,0.7149218116994412,-0.3322630208172874,-0.41952842352701486,-0.24499761810756004,0.889452617118896,-0.7685900343659244,-0.9431208397853792,-1.553978658753471,-1.990305672302108,-0.41952842352701486,-0.15773221539783266,0.4531256035702591,1.0639834225383509,0.2785947981508043,-0.7685900343659244,-1.117651645204834,-0.5067938262367422,0.016798590021622126,-0.41952842352701486,0.36586020086053167,2.023902852345352,1.2385142279578056,1.6748412415064426,0.6276564089897139,-0.24499761810756004,-0.3322630208172874,-0.8558554370756518,-1.4667132560437435,-1.2921824506242887,-0.41952842352701486,-0.07046681268810527,0.016798590021622126,-0.5940592289464697,0.2785947981508043,1.1512488252480781,-1.0303862424951067,-0.681324631656197,0.1913293954410769,0.4531256035702591,0.5403910062799865,-0.3322630208172874,0.36586020086053167,0.5403910062799865,0.7149218116994412,-0.41952842352701486,-0.7685900343659244,0.2785947981508043,0.9767180198286235,-0.5067938262367422,-1.3794478533340162,-1.0303862424951067,-0.7685900343659244,-1.6412440614631982,-1.4667132560437435,0.6276564089897139,0.889452617118896,0.016798590021622126,0.5403910062799865,-0.24499761810756004,-1.0303862424951067,-0.15773221539783266,0.8021872144091686,-1.553978658753471,-1.9030402695923805,0.6276564089897139,-1.7285094641729257,0.889452617118896,-0.5067938262367422,-0.7685900343659244,0.1913293954410769,-0.41952842352701486,0.7149218116994412,0.1913293954410769,1.3257796306675331,0.5403910062799865,0.6276564089897139,-0.41952842352701486,0.8021872144091686,-0.7685900343659244,-1.0303862424951067,-1.9030402695923805,-0.07046681268810527,-1.117651645204834,-1.553978658753471,-1.2921824506242887,-0.3322630208172874,0.10406399273134952,0.7149218116994412,-1.2049170479145614,-1.4667132560437435,-1.7285094641729257,0.016798590021622126,0.889452617118896,-1.3794478533340162,-0.24499761810756004,0.36586020086053167,0.4531256035702591,1.5003104360869879,1.8493720469258974,-0.9431208397853792,-0.3322630208172874,1.1512488252480781,0.2785947981508043,-0.5067938262367422,-1.6412440614631982,-1.3794478533340162,-0.5940592289464697,0.6276564089897139,1.6748412415064426,0.36586020086053167,-0.15773221539783266,-1.117651645204834,-1.7285094641729257,-2.3393672831410175,-1.2049170479145614,-0.5067938262367422,0.4531256035702591,0.1913293954410769,0.6276564089897139,-1.4667132560437435,2.023902852345352,1.5875758387967152,-1.2921824506242887,-0.8558554370756518,-1.8157748668826532,0.2785947981508043,-0.24499761810756004,0.10406399273134952,0.8021872144091686,0.016798590021622126,1.0639834225383509,0.6276564089897139,0.7149218116994412,1.1512488252480781,-0.41952842352701486,1.4130450333772604]},{\"boxpoints\":\"outliers\",\"marker\":{\"line\":{\"color\":\"black\",\"width\":0.5},\"opacity\":0.5},\"name\":\"TOEFL Score\",\"notched\":true,\"type\":\"box\",\"y\":[1.7469706406568504,-0.06763531281107672,-0.5625278455750569,0.4272572199529034,-0.7274920231630502,1.2520781078928702,0.26229304236491,-1.057420378339037,-0.8924562007510436,0.09732886477691666,-0.2325994903990701,0.5922213975408968,0.7571855751288902,0.26229304236491,-0.5625278455750569,-0.39756366798706344,-0.06763531281107672,-0.2325994903990701,0.4272572199529034,-0.8924562007510436,-0.06763531281107672,1.087113930304877,1.4170422854808635,1.9119348182448437,1.9119348182448437,2.076898995832837,0.26229304236491,-1.5523129111030172,-2.377133799042984,-1.3873487335150236,-1.7172770886910105,-0.7274920231630502,1.7469706406568504,1.087113930304877,0.7571855751288902,0.4272572199529034,-0.2325994903990701,-0.39756366798706344,-0.39756366798706344,0.09732886477691666,0.4272572199529034,-0.39756366798706344,-0.06763531281107672,1.582006463068857,0.9221497527168835,0.4272572199529034,1.087113930304877,1.9119348182448437,0.4272572199529034,0.5922213975408968,-1.5523129111030172,-1.2223845559270303,1.4170422854808635,0.7571855751288902,0.4272572199529034,-0.7274920231630502,-0.8924562007510436,-1.3873487335150236,-1.3873487335150236,-0.5625278455750569,-1.2223845559270303,-1.057420378339037,-0.39756366798706344,-0.06763531281107672,0.5922213975408968,0.7571855751288902,1.087113930304877,-0.06763531281107672,0.26229304236491,1.2520781078928702,1.7469706406568504,0.7571855751288902,0.5922213975408968,0.09732886477691666,-0.2325994903990701,1.087113930304877,0.7571855751288902,-1.3873487335150236,-2.0472054438669973,-2.377133799042984,-0.39756366798706344,2.076898995832837,0.4272572199529034,1.2520781078928702,1.2520781078928702,-0.7274920231630502,-0.2325994903990701,-0.06763531281107672,0.09732886477691666,0.26229304236491,-0.2325994903990701,-1.7172770886910105,-1.5523129111030172,-1.7172770886910105,-1.3873487335150236,-1.2223845559270303,-1.2223845559270303,2.076898995832837,1.9119348182448437,0.9221497527168835,-0.06763531281107672,-0.39756366798706344,-0.2325994903990701,-0.5625278455750569,0.7571855751288902,0.4272572199529034,0.5922213975408968,1.582006463068857,1.4170422854808635,-0.7274920231630502,0.09732886477691666,0.26229304236491,-0.06763531281107672,0.4272572199529034,-0.39756366798706344,-0.2325994903990701,-0.8924562007510436,-0.5625278455750569,-1.3873487335150236,-0.5625278455750569,1.582006463068857,1.9119348182448437,-0.2325994903990701,0.09732886477691666,-0.2325994903990701,-1.2223845559270303,0.9221497527168835,0.7571855751288902,0.7571855751288902,1.7469706406568504,1.087113930304877,-0.39756366798706344,-0.39756366798706344,0.7571855751288902,0.9221497527168835,0.26229304236491,-0.7274920231630502,-1.2223845559270303,1.4170422854808635,0.26229304236491,0.4272572199529034,1.7469706406568504,1.2520781078928702,2.076898995832837,0.7571855751288902,0.9221497527168835,-0.39756366798706344,1.087113930304877,1.4170422854808635,-0.2325994903990701,1.087113930304877,1.4170422854808635,0.7571855751288902,-0.39756366798706344,0.09732886477691666,0.26229304236491,-0.39756366798706344,-0.5625278455750569,-0.2325994903990701,-1.2223845559270303,-0.7274920231630502,-1.3873487335150236,0.26229304236491,-0.39756366798706344,0.5922213975408968,0.4272572199529034,-0.8924562007510436,-0.8924562007510436,-1.7172770886910105,-1.3873487335150236,-1.057420378339037,1.582006463068857,0.4272572199529034,0.9221497527168835,0.5922213975408968,0.5922213975408968,1.9119348182448437,0.4272572199529034,0.09732886477691666,-0.8924562007510436,-0.5625278455750569,-0.06763531281107672,-1.2223845559270303,0.4272572199529034,-0.2325994903990701,0.9221497527168835,-0.06763531281107672,1.7469706406568504,1.2520781078928702,0.7571855751288902,0.5922213975408968,0.4272572199529034,1.087113930304877,1.7469706406568504,0.26229304236491,-0.06763531281107672,-0.39756366798706344,-0.2325994903990701,-0.5625278455750569,-0.06763531281107672,-0.7274920231630502,0.4272572199529034,2.076898995832837,2.076898995832837,-0.39756366798706344,-1.3873487335150236,-1.3873487335150236,-0.8924562007510436,-0.2325994903990701,-0.5625278455750569,0.09732886477691666,0.4272572199529034,2.076898995832837,1.9119348182448437,1.582006463068857,1.4170422854808635,0.7571855751288902,0.26229304236491,0.4272572199529034,-0.5625278455750569,-0.7274920231630502,0.4272572199529034,0.9221497527168835,0.26229304236491,-0.39756366798706344,-1.3873487335150236,0.4272572199529034,0.4272572199529034,0.7571855751288902,0.5922213975408968,-0.5625278455750569,-0.2325994903990701,-0.06763531281107672,-1.2223845559270303,0.9221497527168835,0.5922213975408968,0.7571855751288902,1.087113930304877,-0.5625278455750569,-1.2223845559270303,-1.057420378339037,-0.7274920231630502,1.2520781078928702,1.087113930304877,-0.06763531281107672,0.4272572199529034,-0.39756366798706344,-0.5625278455750569,0.4272572199529034,0.5922213975408968,-0.5625278455750569,-1.3873487335150236,-1.2223845559270303,1.2520781078928702,1.087113930304877,0.4272572199529034,-1.3873487335150236,-1.2223845559270303,-0.8924562007510436,1.9119348182448437,0.09732886477691666,-0.5625278455750569,-0.7274920231630502,0.5922213975408968,0.4272572199529034,-0.8924562007510436,-0.39756366798706344,-0.06763531281107672,0.9221497527168835,0.09732886477691666,-0.39756366798706344,-1.8822412662790038,-2.0472054438669973,-1.3873487335150236,-1.2223845559270303,0.4272572199529034,0.9221497527168835,-1.057420378339037,-0.7274920231630502,-0.8924562007510436,-0.8924562007510436,0.4272572199529034,-0.2325994903990701,0.5922213975408968,0.7571855751288902,1.4170422854808635,1.7469706406568504,1.087113930304877,-0.5625278455750569,0.26229304236491,-0.39756366798706344,-0.8924562007510436,-1.3873487335150236,-1.5523129111030172,-1.057420378339037,-1.2223845559270303,-0.06763531281107672,2.076898995832837,1.087113930304877,0.7571855751288902,-0.2325994903990701,0.09732886477691666,-0.39756366798706344,-0.06763531281107672,-0.2325994903990701,0.26229304236491,0.4272572199529034,0.7571855751288902,0.09732886477691666,0.4272572199529034,-0.5625278455750569,0.09732886477691666,-0.06763531281107672,-1.2223845559270303,-0.39756366798706344,-0.5625278455750569,-1.057420378339037,-1.3873487335150236,0.5922213975408968,0.9221497527168835,-0.2325994903990701,-0.5625278455750569,-0.06763531281107672,-0.8924562007510436,-0.5625278455750569,1.4170422854808635,-1.2223845559270303,-1.057420378339037,0.7571855751288902,-1.8822412662790038,0.9221497527168835,-0.39756366798706344,-0.2325994903990701,0.09732886477691666,-0.06763531281107672,0.5922213975408968,0.4272572199529034,1.7469706406568504,0.09732886477691666,-0.06763531281107672,-0.06763531281107672,0.4272572199529034,-0.2325994903990701,-0.7274920231630502,-1.8822412662790038,-1.5523129111030172,-1.7172770886910105,-2.2121696214549904,-1.3873487335150236,-1.057420378339037,-0.06763531281107672,0.4272572199529034,-1.2223845559270303,-0.8924562007510436,-1.5523129111030172,-0.2325994903990701,0.26229304236491,-0.5625278455750569,-0.39756366798706344,-0.06763531281107672,0.4272572199529034,1.4170422854808635,1.2520781078928702,-0.7274920231630502,-0.8924562007510436,1.087113930304877,-0.5625278455750569,-1.5523129111030172,-2.5420979766309775,-1.5523129111030172,-0.7274920231630502,0.4272572199529034,1.9119348182448437,0.26229304236491,-0.39756366798706344,-1.057420378339037,-1.8822412662790038,-1.2223845559270303,-1.5523129111030172,-1.3873487335150236,-0.5625278455750569,-0.39756366798706344,0.4272572199529034,-1.2223845559270303,0.9221497527168835,1.582006463068857,-1.057420378339037,-0.39756366798706344,-1.7172770886910105,0.09732886477691666,-0.8924562007510436,-0.2325994903990701,0.7571855751288902,-0.5625278455750569,0.5922213975408968,0.4272572199529034,-0.06763531281107672,1.4170422854808635,-0.7274920231630502,1.582006463068857]},{\"boxpoints\":\"outliers\",\"marker\":{\"line\":{\"color\":\"black\",\"width\":0.5},\"opacity\":0.5},\"name\":\"University Rating\",\"notched\":true,\"type\":\"box\",\"y\":[4,4,3,3,2,5,3,2,1,3,3,4,4,3,3,3,3,3,3,3,3,4,5,5,5,5,5,2,1,2,2,3,4,5,5,5,2,1,1,2,3,2,2,4,5,5,5,5,3,4,3,2,4,4,3,3,3,2,1,2,2,3,2,2,3,4,3,2,3,4,5,5,5,4,3,2,3,2,2,1,3,4,5,5,5,4,3,2,3,4,2,3,2,2,3,4,2,3,4,3,3,2,2,2,3,3,4,4,5,5,5,4,3,2,3,4,3,4,2,5,5,5,4,3,4,3,3,3,3,5,5,5,5,5,5,4,3,2,2,1,2,2,5,4,2,2,3,3,4,2,4,5,5,3,3,3,3,2,2,1,1,1,3,3,4,5,3,3,2,2,2,5,4,4,4,4,4,3,3,3,3,2,2,3,2,4,3,5,5,5,5,5,5,5,3,2,2,2,3,3,3,2,5,5,3,2,2,3,2,3,4,4,4,5,4,5,4,4,4,3,3,3,4,2,2,2,2,2,3,4,3,3,2,2,5,5,4,5,3,1,1,2,3,3,2,4,3,2,3,3,3,2,2,4,4,4,3,3,4,4,5,3,2,3,2,3,2,3,4,4,2,2,1,1,1,3,5,2,2,2,3,3,3,3,4,5,5,5,4,3,2,2,2,1,2,2,3,3,3,3,2,2,2,3,2,3,3,4,3,4,3,4,4,3,2,2,2,1,3,4,3,3,2,2,3,3,3,2,4,2,3,2,3,3,4,4,3,5,5,5,3,3,3,2,2,1,2,1,1,3,3,4,2,3,2,2,3,2,2,2,3,4,5,2,3,4,3,1,1,1,2,3,4,3,2,2,2,1,1,1,3,3,4,3,4,5,2,2,2,3,2,3,4,2,4,3,3,4,3,4]},{\"boxpoints\":\"outliers\",\"marker\":{\"line\":{\"color\":\"black\",\"width\":0.5},\"opacity\":0.5},\"name\":\"SOP\",\"notched\":true,\"type\":\"box\",\"y\":[4.5,4.0,3.0,3.5,2.0,4.5,3.0,3.0,2.0,3.5,3.5,4.0,4.0,4.0,3.5,3.5,4.0,4.0,4.0,3.5,3.0,3.0,5.0,5.0,4.0,4.5,4.5,1.5,2.0,1.5,3.0,4.0,3.0,4.0,4.0,5.0,4.0,1.0,3.0,4.0,3.5,2.5,2.5,4.5,4.5,5.0,4.0,4.5,3.5,3.0,2.5,1.5,4.0,4.0,3.0,3.0,2.0,4.0,3.0,2.0,3.0,4.0,3.0,4.0,3.0,3.5,3.0,3.5,3.5,4.5,5.0,5.0,5.0,4.5,3.0,2.0,3.0,3.0,3.0,1.5,2.0,5.0,5.0,4.0,4.5,4.5,4.5,3.5,4.5,4.5,4.0,5.0,4.0,3.0,2.0,1.5,3.0,4.0,5.0,4.0,3.5,2.5,4.0,4.5,3.5,4.0,4.5,3.5,5.0,5.0,3.0,4.0,3.5,4.0,3.5,4.5,4.0,2.0,3.0,3.0,5.0,4.5,1.5,3.5,2.5,2.0,4.0,2.5,3.5,5.0,4.0,5.0,3.5,4.0,4.0,3.5,5.0,1.5,4.5,3.5,4.0,4.5,4.0,4.5,3.0,2.0,2.0,3.0,4.0,3.5,4.0,5.0,5.0,3.0,3.0,3.0,2.0,2.0,2.0,1.5,1.5,1.5,3.0,3.5,4.5,4.5,3.5,2.0,2.0,2.5,2.5,4.0,4.0,4.0,4.0,4.5,4.5,3.5,2.5,3.0,3.5,2.5,3.0,4.0,2.5,4.5,3.5,4.5,4.5,5.0,4.5,4.0,4.5,4.5,3.5,3.0,3.0,3.5,4.5,4.0,2.5,3.5,4.5,4.0,3.5,2.5,3.5,3.5,3.0,3.5,4.5,5.0,5.0,5.0,4.5,5.0,4.5,4.0,3.0,3.5,4.0,3.5,4.5,3.0,3.0,2.5,3.5,3.5,4.0,3.0,4.0,3.5,2.5,2.5,5.0,4.5,4.0,4.5,2.0,1.5,2.5,2.5,3.5,3.5,2.5,4.0,3.0,2.5,3.5,3.5,3.0,2.5,2.5,4.5,4.0,4.0,4.0,4.0,5.0,5.0,5.0,3.5,2.5,2.5,3.0,2.5,2.0,3.0,4.5,4.5,2.5,1.5,1.5,1.0,2.0,3.5,5.0,2.5,3.0,3.0,4.5,4.0,4.0,2.5,5.0,4.0,4.5,5.0,5.0,4.0,2.5,1.5,1.0,3.5,2.5,3.0,3.5,4.0,4.5,3.0,2.5,2.5,3.0,3.5,2.5,3.5,4.0,4.0,3.5,3.5,3.0,4.5,4.5,3.5,3.0,2.5,1.5,1.0,2.5,3.5,4.0,4.0,2.5,2.0,3.0,3.5,2.0,2.5,4.0,2.5,3.5,3.0,3.5,3.0,4.5,4.0,3.0,5.0,4.0,3.5,3.0,3.5,3.0,2.5,1.5,1.5,1.5,1.0,2.0,2.5,3.0,3.5,3.0,3.5,2.5,2.0,3.5,3.5,2.5,2.0,4.0,4.0,4.5,2.5,3.5,4.5,3.5,1.0,2.0,2.0,2.5,3.5,4.5,3.0,2.0,2.0,2.5,1.5,2.0,2.5,3.5,3.0,4.5,3.0,5.0,5.0,2.5,2.0,1.5,3.5,2.0,2.0,4.0,3.0,4.5,3.5,3.0,5.0,3.5,5.0]},{\"boxpoints\":\"outliers\",\"marker\":{\"line\":{\"color\":\"black\",\"width\":0.5},\"opacity\":0.5},\"name\":\"LOR\",\"notched\":true,\"type\":\"box\",\"y\":[4.5,4.5,3.5,2.5,3.0,3.0,4.0,4.0,1.5,3.0,4.0,4.5,4.5,3.0,2.0,2.5,3.0,3.0,3.0,3.0,2.0,2.0,5.0,4.5,3.5,4.5,3.5,2.5,2.0,2.0,3.0,4.0,4.5,4.0,5.0,5.0,4.0,2.0,1.5,3.5,3.0,2.5,2.0,4.0,4.0,4.0,5.0,4.0,5.0,4.0,4.5,3.5,3.0,2.5,3.5,3.0,3.0,2.0,2.0,2.0,3.0,3.0,3.0,3.0,3.5,3.5,3.0,3.5,4.0,4.0,5.0,5.0,5.0,4.0,5.0,4.0,3.0,2.0,2.0,2.0,3.0,5.0,4.5,4.5,4.5,3.5,3.5,3.0,3.5,3.5,4.0,3.5,3.0,3.0,2.5,2.5,3.0,4.0,4.5,4.0,3.5,3.0,3.5,4.0,3.0,4.5,4.5,4.5,5.0,4.0,3.0,4.0,3.5,3.5,3.0,4.5,3.5,2.5,3.5,3.5,5.0,4.5,2.5,3.5,3.0,3.0,3.0,2.0,3.0,5.0,4.5,4.5,3.5,4.5,4.0,4.0,4.0,3.0,3.0,3.5,3.0,3.5,3.5,4.0,3.5,2.5,2.5,3.0,3.5,3.0,4.0,5.0,5.0,4.0,3.5,3.0,2.5,2.5,2.5,2.0,2.0,3.0,3.0,3.0,4.0,4.0,5.0,3.0,4.0,3.0,3.5,4.5,5.0,4.5,4.0,3.5,4.5,3.5,3.0,3.0,3.0,2.5,3.5,4.0,4.0,4.5,3.0,3.5,3.5,5.0,4.0,5.0,4.0,5.0,3.0,3.5,2.5,2.5,4.5,4.5,3.0,3.0,4.5,5.0,4.0,3.0,3.0,4.0,3.0,4.0,4.0,4.0,5.0,4.5,5.0,4.5,4.5,4.0,3.5,3.5,4.0,4.0,4.0,4.0,2.0,2.5,4.0,3.0,3.5,3.0,4.5,2.5,3.5,3.5,4.0,4.0,4.5,5.0,3.5,2.0,3.0,2.0,3.0,3.0,4.0,2.5,3.5,3.5,4.0,4.0,2.5,3.0,3.5,4.5,5.0,4.5,4.0,5.0,5.0,4.5,3.5,4.0,4.0,1.5,2.5,2.5,2.5,3.5,5.0,5.0,3.0,2.0,1.5,1.5,2.5,3.0,4.5,3.0,3.5,4.0,4.0,4.5,3.5,3.0,4.5,4.0,4.0,4.5,5.0,3.5,3.0,2.0,2.0,3.0,2.0,2.5,3.5,4.5,4.5,3.5,2.5,3.0,3.0,3.5,2.0,3.5,3.5,4.0,3.0,3.0,3.5,4.0,4.5,3.0,4.0,3.0,2.0,2.5,2.0,3.0,3.5,4.0,4.0,2.5,2.5,4.0,2.0,2.0,3.5,1.5,3.0,2.0,2.5,3.5,4.0,4.5,2.5,5.0,4.0,4.0,3.0,3.5,3.0,3.5,2.0,2.0,2.0,1.0,2.0,3.0,3.5,4.0,3.5,2.5,3.0,3.5,4.0,3.5,2.0,1.5,5.0,3.5,5.0,3.0,4.0,3.0,4.5,2.5,2.0,3.0,2.5,3.0,4.0,3.0,2.5,2.5,2.0,2.0,2.5,3.0,4.0,3.5,4.0,3.5,5.0,5.0,3.5,3.5,2.0,4.0,2.5,3.0,3.5,3.0,4.0,3.5,3.5,4.5,4.0,4.0]},{\"boxpoints\":\"outliers\",\"marker\":{\"line\":{\"color\":\"black\",\"width\":0.5},\"opacity\":0.5},\"name\":\"CGPA\",\"notched\":true,\"type\":\"box\",\"y\":[9.65,8.87,8.0,8.67,8.21,9.34,8.2,7.9,8.0,8.6,8.4,9.0,9.1,8.0,8.2,8.3,8.7,8.0,8.8,8.5,7.9,8.4,9.5,9.7,9.8,9.6,8.8,7.5,7.2,7.3,8.1,8.3,9.4,9.6,9.8,9.2,8.4,7.8,7.5,7.7,8.0,8.2,8.5,9.1,9.4,9.1,9.3,9.7,8.85,8.4,8.3,7.9,8.0,8.1,8.0,7.7,7.4,7.6,6.8,8.3,8.1,8.2,8.2,8.5,8.7,8.92,9.02,8.64,9.22,9.16,9.64,9.76,9.45,9.04,8.9,8.56,8.72,8.22,7.54,7.36,8.02,9.5,9.22,9.36,9.45,8.66,8.42,8.28,8.14,8.76,7.92,7.66,8.03,7.88,7.66,7.84,8.0,8.96,9.24,8.88,8.46,8.12,8.25,8.47,9.05,8.78,9.18,9.46,9.38,8.64,8.48,8.68,8.34,8.56,8.45,9.04,8.62,7.46,7.28,8.84,9.56,9.48,8.36,8.22,8.47,8.66,9.32,8.71,9.1,9.35,9.76,8.65,8.56,8.78,9.28,8.77,8.45,8.16,9.08,9.12,9.15,9.36,9.44,9.92,8.96,8.64,8.48,9.11,9.8,8.26,9.43,9.28,9.06,8.75,8.89,8.69,8.34,8.26,8.14,7.9,7.86,7.46,8.5,8.56,9.01,8.97,8.33,8.27,7.8,7.98,8.04,9.07,9.13,9.23,8.97,8.87,9.16,9.04,8.12,8.27,8.16,8.42,7.88,8.8,8.32,9.11,8.68,9.44,9.36,9.08,9.16,8.98,8.94,9.53,8.76,8.52,8.26,8.33,8.43,8.69,8.54,8.46,9.91,9.87,8.54,7.65,7.89,8.02,8.16,8.12,9.06,9.14,9.66,9.78,9.42,9.36,9.26,9.13,8.97,8.42,8.75,8.56,8.79,8.45,8.23,8.03,8.45,8.53,8.67,9.01,8.65,8.33,8.27,8.07,9.31,9.23,9.17,9.19,8.37,7.89,7.68,8.15,8.76,9.04,8.56,9.02,8.73,8.48,8.87,8.83,8.57,9.0,8.54,9.68,9.12,8.37,8.56,8.64,8.76,9.34,9.13,8.09,8.36,8.79,8.76,8.68,8.45,8.17,9.14,8.34,8.22,7.86,7.64,8.01,7.95,8.96,9.45,8.62,8.49,8.73,8.64,9.11,8.79,8.9,9.66,9.26,9.19,9.08,9.02,9.0,7.65,7.87,7.97,8.18,8.32,8.57,8.67,9.11,9.24,8.65,8.0,8.76,8.45,8.55,8.43,8.8,9.1,9.0,8.53,8.6,8.74,9.18,9.0,8.04,8.13,8.07,7.86,8.01,8.8,8.69,8.5,8.44,8.27,8.18,8.33,9.14,8.02,7.86,8.77,7.89,8.66,8.12,8.21,8.54,8.65,9.11,8.79,9.47,8.74,8.66,8.46,8.76,8.24,8.13,7.34,7.43,7.64,7.34,7.25,8.04,8.27,8.67,8.06,8.17,7.67,8.12,8.77,7.89,7.64,8.44,8.64,9.54,9.23,8.36,8.9,9.17,8.34,7.46,7.88,8.03,8.24,9.22,9.62,8.54,7.65,7.66,7.43,7.56,7.65,8.43,8.84,8.67,9.15,8.26,9.74,9.82,7.96,8.1,7.8,8.44,8.24,8.65,9.12,8.76,9.23,9.04,9.11,9.45,8.78,9.66]},{\"boxpoints\":\"outliers\",\"marker\":{\"line\":{\"color\":\"black\",\"width\":0.5},\"opacity\":0.5},\"name\":\"Research\",\"notched\":true,\"type\":\"box\",\"y\":[1,1,1,1,0,1,1,0,0,0,1,1,1,1,1,0,0,1,0,0,1,0,1,1,1,1,0,1,0,0,1,1,1,1,1,1,0,0,0,0,1,1,1,0,1,1,1,0,1,1,1,1,1,1,0,0,0,0,1,0,0,0,1,1,0,0,0,1,1,1,1,1,1,1,0,1,1,0,1,0,1,1,1,1,1,0,0,0,0,1,1,0,0,1,0,0,0,1,1,1,1,0,0,0,1,1,1,1,1,0,0,1,1,0,1,1,0,0,0,1,1,1,0,0,0,1,1,1,1,1,1,0,0,0,1,1,0,1,1,0,1,1,1,1,1,1,0,1,1,1,1,1,1,0,0,0,0,0,0,0,0,0,0,0,1,0,0,0,1,0,1,1,1,1,1,1,1,0,0,0,0,0,0,0,0,1,1,1,1,1,1,1,1,1,0,1,0,0,0,0,1,1,1,1,0,0,0,1,0,1,1,1,1,1,1,1,1,1,1,0,0,0,0,0,0,0,0,0,0,1,0,1,0,0,1,1,1,1,0,0,0,0,1,1,0,1,0,0,1,1,1,0,1,1,0,0,0,1,1,1,1,0,1,1,1,0,0,1,0,0,1,0,0,1,0,1,1,0,0,0,1,1,1,1,1,1,1,1,0,0,0,0,0,1,1,0,0,0,1,0,0,0,1,1,0,1,1,1,0,0,1,1,1,0,0,0,0,0,1,1,1,1,0,0,0,1,0,0,1,0,1,1,1,1,1,1,0,1,1,1,1,1,0,0,0,0,0,0,0,0,1,1,1,0,0,0,1,1,0,0,1,1,1,0,1,1,1,0,0,1,0,1,1,1,0,0,0,0,0,1,1,1,1,0,1,1,0,0,0,1,0,0,1,0,1,1,1,1,0,1]}],                        {\"template\":{\"data\":{\"bar\":[{\"error_x\":{\"color\":\"#2a3f5f\"},\"error_y\":{\"color\":\"#2a3f5f\"},\"marker\":{\"line\":{\"color\":\"#E5ECF6\",\"width\":0.5},\"pattern\":{\"fillmode\":\"overlay\",\"size\":10,\"solidity\":0.2}},\"type\":\"bar\"}],\"barpolar\":[{\"marker\":{\"line\":{\"color\":\"#E5ECF6\",\"width\":0.5},\"pattern\":{\"fillmode\":\"overlay\",\"size\":10,\"solidity\":0.2}},\"type\":\"barpolar\"}],\"carpet\":[{\"aaxis\":{\"endlinecolor\":\"#2a3f5f\",\"gridcolor\":\"white\",\"linecolor\":\"white\",\"minorgridcolor\":\"white\",\"startlinecolor\":\"#2a3f5f\"},\"baxis\":{\"endlinecolor\":\"#2a3f5f\",\"gridcolor\":\"white\",\"linecolor\":\"white\",\"minorgridcolor\":\"white\",\"startlinecolor\":\"#2a3f5f\"},\"type\":\"carpet\"}],\"choropleth\":[{\"colorbar\":{\"outlinewidth\":0,\"ticks\":\"\"},\"type\":\"choropleth\"}],\"contour\":[{\"colorbar\":{\"outlinewidth\":0,\"ticks\":\"\"},\"colorscale\":[[0.0,\"#0d0887\"],[0.1111111111111111,\"#46039f\"],[0.2222222222222222,\"#7201a8\"],[0.3333333333333333,\"#9c179e\"],[0.4444444444444444,\"#bd3786\"],[0.5555555555555556,\"#d8576b\"],[0.6666666666666666,\"#ed7953\"],[0.7777777777777778,\"#fb9f3a\"],[0.8888888888888888,\"#fdca26\"],[1.0,\"#f0f921\"]],\"type\":\"contour\"}],\"contourcarpet\":[{\"colorbar\":{\"outlinewidth\":0,\"ticks\":\"\"},\"type\":\"contourcarpet\"}],\"heatmap\":[{\"colorbar\":{\"outlinewidth\":0,\"ticks\":\"\"},\"colorscale\":[[0.0,\"#0d0887\"],[0.1111111111111111,\"#46039f\"],[0.2222222222222222,\"#7201a8\"],[0.3333333333333333,\"#9c179e\"],[0.4444444444444444,\"#bd3786\"],[0.5555555555555556,\"#d8576b\"],[0.6666666666666666,\"#ed7953\"],[0.7777777777777778,\"#fb9f3a\"],[0.8888888888888888,\"#fdca26\"],[1.0,\"#f0f921\"]],\"type\":\"heatmap\"}],\"heatmapgl\":[{\"colorbar\":{\"outlinewidth\":0,\"ticks\":\"\"},\"colorscale\":[[0.0,\"#0d0887\"],[0.1111111111111111,\"#46039f\"],[0.2222222222222222,\"#7201a8\"],[0.3333333333333333,\"#9c179e\"],[0.4444444444444444,\"#bd3786\"],[0.5555555555555556,\"#d8576b\"],[0.6666666666666666,\"#ed7953\"],[0.7777777777777778,\"#fb9f3a\"],[0.8888888888888888,\"#fdca26\"],[1.0,\"#f0f921\"]],\"type\":\"heatmapgl\"}],\"histogram\":[{\"marker\":{\"pattern\":{\"fillmode\":\"overlay\",\"size\":10,\"solidity\":0.2}},\"type\":\"histogram\"}],\"histogram2d\":[{\"colorbar\":{\"outlinewidth\":0,\"ticks\":\"\"},\"colorscale\":[[0.0,\"#0d0887\"],[0.1111111111111111,\"#46039f\"],[0.2222222222222222,\"#7201a8\"],[0.3333333333333333,\"#9c179e\"],[0.4444444444444444,\"#bd3786\"],[0.5555555555555556,\"#d8576b\"],[0.6666666666666666,\"#ed7953\"],[0.7777777777777778,\"#fb9f3a\"],[0.8888888888888888,\"#fdca26\"],[1.0,\"#f0f921\"]],\"type\":\"histogram2d\"}],\"histogram2dcontour\":[{\"colorbar\":{\"outlinewidth\":0,\"ticks\":\"\"},\"colorscale\":[[0.0,\"#0d0887\"],[0.1111111111111111,\"#46039f\"],[0.2222222222222222,\"#7201a8\"],[0.3333333333333333,\"#9c179e\"],[0.4444444444444444,\"#bd3786\"],[0.5555555555555556,\"#d8576b\"],[0.6666666666666666,\"#ed7953\"],[0.7777777777777778,\"#fb9f3a\"],[0.8888888888888888,\"#fdca26\"],[1.0,\"#f0f921\"]],\"type\":\"histogram2dcontour\"}],\"mesh3d\":[{\"colorbar\":{\"outlinewidth\":0,\"ticks\":\"\"},\"type\":\"mesh3d\"}],\"parcoords\":[{\"line\":{\"colorbar\":{\"outlinewidth\":0,\"ticks\":\"\"}},\"type\":\"parcoords\"}],\"pie\":[{\"automargin\":true,\"type\":\"pie\"}],\"scatter\":[{\"marker\":{\"colorbar\":{\"outlinewidth\":0,\"ticks\":\"\"}},\"type\":\"scatter\"}],\"scatter3d\":[{\"line\":{\"colorbar\":{\"outlinewidth\":0,\"ticks\":\"\"}},\"marker\":{\"colorbar\":{\"outlinewidth\":0,\"ticks\":\"\"}},\"type\":\"scatter3d\"}],\"scattercarpet\":[{\"marker\":{\"colorbar\":{\"outlinewidth\":0,\"ticks\":\"\"}},\"type\":\"scattercarpet\"}],\"scattergeo\":[{\"marker\":{\"colorbar\":{\"outlinewidth\":0,\"ticks\":\"\"}},\"type\":\"scattergeo\"}],\"scattergl\":[{\"marker\":{\"colorbar\":{\"outlinewidth\":0,\"ticks\":\"\"}},\"type\":\"scattergl\"}],\"scattermapbox\":[{\"marker\":{\"colorbar\":{\"outlinewidth\":0,\"ticks\":\"\"}},\"type\":\"scattermapbox\"}],\"scatterpolar\":[{\"marker\":{\"colorbar\":{\"outlinewidth\":0,\"ticks\":\"\"}},\"type\":\"scatterpolar\"}],\"scatterpolargl\":[{\"marker\":{\"colorbar\":{\"outlinewidth\":0,\"ticks\":\"\"}},\"type\":\"scatterpolargl\"}],\"scatterternary\":[{\"marker\":{\"colorbar\":{\"outlinewidth\":0,\"ticks\":\"\"}},\"type\":\"scatterternary\"}],\"surface\":[{\"colorbar\":{\"outlinewidth\":0,\"ticks\":\"\"},\"colorscale\":[[0.0,\"#0d0887\"],[0.1111111111111111,\"#46039f\"],[0.2222222222222222,\"#7201a8\"],[0.3333333333333333,\"#9c179e\"],[0.4444444444444444,\"#bd3786\"],[0.5555555555555556,\"#d8576b\"],[0.6666666666666666,\"#ed7953\"],[0.7777777777777778,\"#fb9f3a\"],[0.8888888888888888,\"#fdca26\"],[1.0,\"#f0f921\"]],\"type\":\"surface\"}],\"table\":[{\"cells\":{\"fill\":{\"color\":\"#EBF0F8\"},\"line\":{\"color\":\"white\"}},\"header\":{\"fill\":{\"color\":\"#C8D4E3\"},\"line\":{\"color\":\"white\"}},\"type\":\"table\"}]},\"layout\":{\"annotationdefaults\":{\"arrowcolor\":\"#2a3f5f\",\"arrowhead\":0,\"arrowwidth\":1},\"autotypenumbers\":\"strict\",\"coloraxis\":{\"colorbar\":{\"outlinewidth\":0,\"ticks\":\"\"}},\"colorscale\":{\"diverging\":[[0,\"#8e0152\"],[0.1,\"#c51b7d\"],[0.2,\"#de77ae\"],[0.3,\"#f1b6da\"],[0.4,\"#fde0ef\"],[0.5,\"#f7f7f7\"],[0.6,\"#e6f5d0\"],[0.7,\"#b8e186\"],[0.8,\"#7fbc41\"],[0.9,\"#4d9221\"],[1,\"#276419\"]],\"sequential\":[[0.0,\"#0d0887\"],[0.1111111111111111,\"#46039f\"],[0.2222222222222222,\"#7201a8\"],[0.3333333333333333,\"#9c179e\"],[0.4444444444444444,\"#bd3786\"],[0.5555555555555556,\"#d8576b\"],[0.6666666666666666,\"#ed7953\"],[0.7777777777777778,\"#fb9f3a\"],[0.8888888888888888,\"#fdca26\"],[1.0,\"#f0f921\"]],\"sequentialminus\":[[0.0,\"#0d0887\"],[0.1111111111111111,\"#46039f\"],[0.2222222222222222,\"#7201a8\"],[0.3333333333333333,\"#9c179e\"],[0.4444444444444444,\"#bd3786\"],[0.5555555555555556,\"#d8576b\"],[0.6666666666666666,\"#ed7953\"],[0.7777777777777778,\"#fb9f3a\"],[0.8888888888888888,\"#fdca26\"],[1.0,\"#f0f921\"]]},\"colorway\":[\"#636efa\",\"#EF553B\",\"#00cc96\",\"#ab63fa\",\"#FFA15A\",\"#19d3f3\",\"#FF6692\",\"#B6E880\",\"#FF97FF\",\"#FECB52\"],\"font\":{\"color\":\"#2a3f5f\"},\"geo\":{\"bgcolor\":\"white\",\"lakecolor\":\"white\",\"landcolor\":\"#E5ECF6\",\"showlakes\":true,\"showland\":true,\"subunitcolor\":\"white\"},\"hoverlabel\":{\"align\":\"left\"},\"hovermode\":\"closest\",\"mapbox\":{\"style\":\"light\"},\"paper_bgcolor\":\"white\",\"plot_bgcolor\":\"#E5ECF6\",\"polar\":{\"angularaxis\":{\"gridcolor\":\"white\",\"linecolor\":\"white\",\"ticks\":\"\"},\"bgcolor\":\"#E5ECF6\",\"radialaxis\":{\"gridcolor\":\"white\",\"linecolor\":\"white\",\"ticks\":\"\"}},\"scene\":{\"xaxis\":{\"backgroundcolor\":\"#E5ECF6\",\"gridcolor\":\"white\",\"gridwidth\":2,\"linecolor\":\"white\",\"showbackground\":true,\"ticks\":\"\",\"zerolinecolor\":\"white\"},\"yaxis\":{\"backgroundcolor\":\"#E5ECF6\",\"gridcolor\":\"white\",\"gridwidth\":2,\"linecolor\":\"white\",\"showbackground\":true,\"ticks\":\"\",\"zerolinecolor\":\"white\"},\"zaxis\":{\"backgroundcolor\":\"#E5ECF6\",\"gridcolor\":\"white\",\"gridwidth\":2,\"linecolor\":\"white\",\"showbackground\":true,\"ticks\":\"\",\"zerolinecolor\":\"white\"}},\"shapedefaults\":{\"line\":{\"color\":\"#2a3f5f\"}},\"ternary\":{\"aaxis\":{\"gridcolor\":\"white\",\"linecolor\":\"white\",\"ticks\":\"\"},\"baxis\":{\"gridcolor\":\"white\",\"linecolor\":\"white\",\"ticks\":\"\"},\"bgcolor\":\"#E5ECF6\",\"caxis\":{\"gridcolor\":\"white\",\"linecolor\":\"white\",\"ticks\":\"\"}},\"title\":{\"x\":0.05},\"xaxis\":{\"automargin\":true,\"gridcolor\":\"white\",\"linecolor\":\"white\",\"ticks\":\"\",\"title\":{\"standoff\":15},\"zerolinecolor\":\"white\",\"zerolinewidth\":2},\"yaxis\":{\"automargin\":true,\"gridcolor\":\"white\",\"linecolor\":\"white\",\"ticks\":\"\",\"title\":{\"standoff\":15},\"zerolinecolor\":\"white\",\"zerolinewidth\":2}}},\"title\":{\"text\":\"Checking the range and scale of all the features.\",\"x\":0.5,\"y\":0.88}},                        {\"responsive\": true}                    ).then(function(){\n",
       "                            \n",
       "var gd = document.getElementById('920ce942-535b-4da6-9644-6b7a0fe71825');\n",
       "var x = new MutationObserver(function (mutations, observer) {{\n",
       "        var display = window.getComputedStyle(gd).display;\n",
       "        if (!display || display === 'none') {{\n",
       "            console.log([gd, 'removed!']);\n",
       "            Plotly.purge(gd);\n",
       "            observer.disconnect();\n",
       "        }}\n",
       "}});\n",
       "\n",
       "// Listen for the removal of the full notebook cells\n",
       "var notebookContainer = gd.closest('#notebook-container');\n",
       "if (notebookContainer) {{\n",
       "    x.observe(notebookContainer, {childList: true});\n",
       "}}\n",
       "\n",
       "// Listen for the clearing of the current output cell\n",
       "var outputEl = gd.closest('.output');\n",
       "if (outputEl) {{\n",
       "    x.observe(outputEl, {childList: true});\n",
       "}}\n",
       "\n",
       "                        })                };                });            </script>        </div>"
      ]
     },
     "metadata": {},
     "output_type": "display_data"
    }
   ],
   "source": [
    "data = []\n",
    "for i in data_scaled_using_ss.columns[:-1]:\n",
    "    data .append(go.Box(y = data_scaled_using_ss[i], \n",
    "                        marker = dict(line = {'color': 'black', 'width': 0.5}, \n",
    "                                      opacity = 0.5), \n",
    "                        name = str(i), \n",
    "                        boxpoints = 'outliers', \n",
    "                        notched = True))\n",
    "\n",
    "layout = go.Layout(title = dict(text = 'Checking the range and scale of all the features.', \n",
    "                                x = 0.5, \n",
    "                                y = 0.88))\n",
    "\n",
    "fig = go.Figure(data = data, \n",
    "                layout = layout)\n",
    "\n",
    "iplot(fig)"
   ]
  },
  {
   "cell_type": "code",
   "execution_count": 20,
   "id": "14194851",
   "metadata": {},
   "outputs": [
    {
     "data": {
      "text/plain": [
       "Index(['GRE Score', 'TOEFL Score', 'University Rating', 'SOP', 'LOR', 'CGPA',\n",
       "       'Research'],\n",
       "      dtype='object')"
      ]
     },
     "execution_count": 20,
     "metadata": {},
     "output_type": "execute_result"
    }
   ],
   "source": [
    "data_col_chng.columns[:-1]"
   ]
  },
  {
   "cell_type": "code",
   "execution_count": 21,
   "id": "32a848e7",
   "metadata": {},
   "outputs": [],
   "source": [
    "from sklearn.preprocessing import MinMaxScaler\n",
    "data_scaled_using_mms = data_col_chng.copy()\n",
    "mms_for_df = MinMaxScaler()\n",
    "data_scaled_using_mms[data_scaled_using_mms.columns[:-1]] = mms_for_df.fit_transform(data_col_chng[data_scaled_using_mms.columns[:-1]]) "
   ]
  },
  {
   "cell_type": "code",
   "execution_count": 22,
   "id": "b6835b03",
   "metadata": {},
   "outputs": [
    {
     "data": {
      "application/vnd.plotly.v1+json": {
       "config": {
        "linkText": "Export to plot.ly",
        "plotlyServerURL": "https://plot.ly",
        "showLink": false
       },
       "data": [
        {
         "boxpoints": "outliers",
         "marker": {
          "line": {
           "color": "black",
           "width": 0.5
          },
          "opacity": 0.5
         },
         "name": "GRE Score",
         "notched": true,
         "type": "box",
         "y": [
          0.9400000000000004,
          0.6800000000000006,
          0.5200000000000005,
          0.6400000000000006,
          0.4800000000000004,
          0.8000000000000007,
          0.6200000000000001,
          0.3600000000000003,
          0.2400000000000002,
          0.6600000000000001,
          0.7000000000000002,
          0.7400000000000002,
          0.7600000000000007,
          0.34000000000000075,
          0.41999999999999993,
          0.4800000000000004,
          0.54,
          0.5800000000000001,
          0.5600000000000005,
          0.2600000000000007,
          0.4400000000000004,
          0.7000000000000002,
          0.7600000000000007,
          0.8799999999999999,
          0.9199999999999999,
          1,
          0.6400000000000006,
          0.16000000000000014,
          0.10000000000000053,
          0.40000000000000036,
          0.20000000000000018,
          0.7400000000000002,
          0.96,
          1,
          0.8200000000000003,
          0.6000000000000005,
          0.1800000000000006,
          0.20000000000000018,
          0.28000000000000025,
          0.34000000000000075,
          0.3600000000000003,
          0.5200000000000005,
          0.45999999999999996,
          0.8400000000000007,
          0.7200000000000006,
          0.6400000000000006,
          0.7800000000000002,
          0.9800000000000004,
          0.6200000000000001,
          0.7400000000000002,
          0.45999999999999996,
          0.4400000000000004,
          0.8799999999999999,
          0.6800000000000006,
          0.6400000000000006,
          0.6000000000000005,
          0.5200000000000005,
          0.16000000000000014,
          0.20000000000000018,
          0.41999999999999993,
          0.3799999999999999,
          0.34000000000000075,
          0.28000000000000025,
          0.5,
          0.7000000000000002,
          0.7000000000000002,
          0.7400000000000002,
          0.5200000000000005,
          0.5600000000000005,
          0.7600000000000007,
          0.8400000000000007,
          0.9199999999999999,
          0.6200000000000001,
          0.4800000000000004,
          0.4800000000000004,
          0.7800000000000002,
          0.7400000000000002,
          0.22000000000000064,
          0.1200000000000001,
          0.08000000000000007,
          0.4400000000000004,
          1,
          0.6000000000000005,
          0.6400000000000006,
          1,
          0.5800000000000001,
          0.5,
          0.54,
          0.4800000000000004,
          0.5200000000000005,
          0.5600000000000005,
          0.1800000000000006,
          0.16000000000000014,
          0.22000000000000064,
          0.2600000000000007,
          0.28000000000000025,
          0.3200000000000003,
          0.8200000000000003,
          0.8400000000000007,
          0.6600000000000001,
          0.6400000000000006,
          0.4400000000000004,
          0.4800000000000004,
          0.54,
          0.7200000000000006,
          0.5200000000000005,
          0.7800000000000002,
          0.96,
          0.8200000000000003,
          0.28000000000000025,
          0.3000000000000007,
          0.6200000000000001,
          0.22000000000000064,
          0.6000000000000005,
          0.41999999999999993,
          0.40000000000000036,
          0.1800000000000006,
          0,
          0.1200000000000001,
          0.7400000000000002,
          0.9000000000000004,
          0.8799999999999999,
          0.40000000000000036,
          0.3600000000000003,
          0.22000000000000064,
          0.20000000000000018,
          0.6600000000000001,
          0.5800000000000001,
          0.7200000000000006,
          0.8600000000000003,
          0.9800000000000004,
          0.2600000000000007,
          0.3799999999999999,
          0.6600000000000001,
          0.8600000000000003,
          0.4800000000000004,
          0.4400000000000004,
          0.5200000000000005,
          0.7200000000000006,
          0.5600000000000005,
          0.7800000000000002,
          0.8400000000000007,
          0.8200000000000003,
          1,
          0.7000000000000002,
          0.6000000000000005,
          0.5,
          0.7200000000000006,
          0.9800000000000004,
          0.41999999999999993,
          0.8799999999999999,
          0.8400000000000007,
          0.6200000000000001,
          0.6800000000000006,
          0.7200000000000006,
          0.4400000000000004,
          0.5,
          0.3799999999999999,
          0.3200000000000003,
          0.14000000000000057,
          0.5,
          0.16000000000000014,
          0.5600000000000005,
          0.54,
          0.7800000000000002,
          0.6400000000000006,
          0.2400000000000002,
          0.45999999999999996,
          0.0600000000000005,
          0.41999999999999993,
          0.4400000000000004,
          0.8799999999999999,
          0.6400000000000006,
          0.6600000000000001,
          0.6200000000000001,
          0.6000000000000005,
          0.7800000000000002,
          0.5800000000000001,
          0.3799999999999999,
          0.34000000000000075,
          0.20000000000000018,
          0.3000000000000007,
          0.1800000000000006,
          0.4800000000000004,
          0.5200000000000005,
          0.7400000000000002,
          0.54,
          0.9000000000000004,
          0.8200000000000003,
          0.6800000000000006,
          0.6800000000000006,
          0.6600000000000001,
          0.6400000000000006,
          0.9199999999999999,
          0.5200000000000005,
          0.34000000000000075,
          0.3200000000000003,
          0.40000000000000036,
          0.41999999999999993,
          0.45999999999999996,
          0.54,
          0.5,
          1,
          0.8799999999999999,
          0.16000000000000014,
          0.10000000000000053,
          0.5,
          0.40000000000000036,
          0.3000000000000007,
          0.22000000000000064,
          0.7000000000000002,
          0.7600000000000007,
          0.96,
          0.8600000000000003,
          0.8200000000000003,
          0.8000000000000007,
          0.6400000000000006,
          0.6200000000000001,
          0.6800000000000006,
          0.4400000000000004,
          0.45999999999999996,
          0.5200000000000005,
          0.6800000000000006,
          0.3600000000000003,
          0.3000000000000007,
          0.1200000000000001,
          0.3200000000000003,
          0.4400000000000004,
          0.5600000000000005,
          0.6800000000000006,
          0.45999999999999996,
          0.5800000000000001,
          0.4400000000000004,
          0.28000000000000025,
          0.8000000000000007,
          0.7200000000000006,
          0.7000000000000002,
          0.7800000000000002,
          0.40000000000000036,
          0.1800000000000006,
          0.1200000000000001,
          0.54,
          0.6800000000000006,
          0.7000000000000002,
          0.4800000000000004,
          0.7600000000000007,
          0.5200000000000005,
          0.41999999999999993,
          0.6800000000000006,
          0.6200000000000001,
          0.6000000000000005,
          0.5200000000000005,
          0.5600000000000005,
          0.9000000000000004,
          0.6200000000000001,
          0.34000000000000075,
          0.3799999999999999,
          0.6800000000000006,
          0.7200000000000006,
          0.8200000000000003,
          0.7400000000000002,
          0.4400000000000004,
          0.3600000000000003,
          0.6800000000000006,
          0.7000000000000002,
          0.45999999999999996,
          0.4400000000000004,
          0.4800000000000004,
          0.7400000000000002,
          0.3600000000000003,
          0.3200000000000003,
          0.1800000000000006,
          0.08000000000000007,
          0.4400000000000004,
          0.5,
          0.6400000000000006,
          0.7800000000000002,
          0.6000000000000005,
          0.3600000000000003,
          0.28000000000000025,
          0.41999999999999993,
          0.54,
          0.4400000000000004,
          0.6200000000000001,
          1,
          0.8200000000000003,
          0.9199999999999999,
          0.6800000000000006,
          0.4800000000000004,
          0.45999999999999996,
          0.34000000000000075,
          0.20000000000000018,
          0.2400000000000002,
          0.4400000000000004,
          0.5200000000000005,
          0.54,
          0.40000000000000036,
          0.6000000000000005,
          0.8000000000000007,
          0.3000000000000007,
          0.3799999999999999,
          0.5800000000000001,
          0.6400000000000006,
          0.6600000000000001,
          0.45999999999999996,
          0.6200000000000001,
          0.6600000000000001,
          0.7000000000000002,
          0.4400000000000004,
          0.3600000000000003,
          0.6000000000000005,
          0.7600000000000007,
          0.41999999999999993,
          0.22000000000000064,
          0.3000000000000007,
          0.3600000000000003,
          0.16000000000000014,
          0.20000000000000018,
          0.6800000000000006,
          0.7400000000000002,
          0.54,
          0.6600000000000001,
          0.4800000000000004,
          0.3000000000000007,
          0.5,
          0.7200000000000006,
          0.1800000000000006,
          0.10000000000000053,
          0.6800000000000006,
          0.14000000000000057,
          0.7400000000000002,
          0.41999999999999993,
          0.3600000000000003,
          0.5800000000000001,
          0.4400000000000004,
          0.7000000000000002,
          0.5800000000000001,
          0.8400000000000007,
          0.6600000000000001,
          0.6800000000000006,
          0.4400000000000004,
          0.7200000000000006,
          0.3600000000000003,
          0.3000000000000007,
          0.10000000000000053,
          0.5200000000000005,
          0.28000000000000025,
          0.1800000000000006,
          0.2400000000000002,
          0.45999999999999996,
          0.5600000000000005,
          0.7000000000000002,
          0.2600000000000007,
          0.20000000000000018,
          0.14000000000000057,
          0.54,
          0.7400000000000002,
          0.22000000000000064,
          0.4800000000000004,
          0.6200000000000001,
          0.6400000000000006,
          0.8799999999999999,
          0.96,
          0.3200000000000003,
          0.45999999999999996,
          0.8000000000000007,
          0.6000000000000005,
          0.41999999999999993,
          0.16000000000000014,
          0.22000000000000064,
          0.40000000000000036,
          0.6800000000000006,
          0.9199999999999999,
          0.6200000000000001,
          0.5,
          0.28000000000000025,
          0.14000000000000057,
          0,
          0.2600000000000007,
          0.41999999999999993,
          0.6400000000000006,
          0.5800000000000001,
          0.6800000000000006,
          0.20000000000000018,
          1,
          0.9000000000000004,
          0.2400000000000002,
          0.34000000000000075,
          0.1200000000000001,
          0.6000000000000005,
          0.4800000000000004,
          0.5600000000000005,
          0.7200000000000006,
          0.54,
          0.7800000000000002,
          0.6800000000000006,
          0.7000000000000002,
          0.8000000000000007,
          0.4400000000000004,
          0.8600000000000003
         ]
        },
        {
         "boxpoints": "outliers",
         "marker": {
          "line": {
           "color": "black",
           "width": 0.5
          },
          "opacity": 0.5
         },
         "name": "TOEFL Score",
         "notched": true,
         "type": "box",
         "y": [
          0.9285714285714288,
          0.5357142857142856,
          0.4285714285714284,
          0.6428571428571428,
          0.3928571428571428,
          0.8214285714285712,
          0.6071428571428572,
          0.3214285714285712,
          0.3571428571428572,
          0.5714285714285712,
          0.5,
          0.6785714285714284,
          0.7142857142857144,
          0.6071428571428572,
          0.4285714285714284,
          0.4642857142857144,
          0.5357142857142856,
          0.5,
          0.6428571428571428,
          0.3571428571428572,
          0.5357142857142856,
          0.7857142857142856,
          0.8571428571428568,
          0.9642857142857144,
          0.9642857142857144,
          1,
          0.6071428571428572,
          0.2142857142857144,
          0.03571428571428559,
          0.25,
          0.17857142857142838,
          0.3928571428571428,
          0.9285714285714288,
          0.7857142857142856,
          0.7142857142857144,
          0.6428571428571428,
          0.5,
          0.4642857142857144,
          0.4642857142857144,
          0.5714285714285712,
          0.6428571428571428,
          0.4642857142857144,
          0.5357142857142856,
          0.8928571428571423,
          0.75,
          0.6428571428571428,
          0.7857142857142856,
          0.9642857142857144,
          0.6428571428571428,
          0.6785714285714284,
          0.2142857142857144,
          0.2857142857142856,
          0.8571428571428568,
          0.7142857142857144,
          0.6428571428571428,
          0.3928571428571428,
          0.3571428571428572,
          0.25,
          0.25,
          0.4285714285714284,
          0.2857142857142856,
          0.3214285714285712,
          0.4642857142857144,
          0.5357142857142856,
          0.6785714285714284,
          0.7142857142857144,
          0.7857142857142856,
          0.5357142857142856,
          0.6071428571428572,
          0.8214285714285712,
          0.9285714285714288,
          0.7142857142857144,
          0.6785714285714284,
          0.5714285714285712,
          0.5,
          0.7857142857142856,
          0.7142857142857144,
          0.25,
          0.1071428571428572,
          0.03571428571428559,
          0.4642857142857144,
          1,
          0.6428571428571428,
          0.8214285714285712,
          0.8214285714285712,
          0.3928571428571428,
          0.5,
          0.5357142857142856,
          0.5714285714285712,
          0.6071428571428572,
          0.5,
          0.17857142857142838,
          0.2142857142857144,
          0.17857142857142838,
          0.25,
          0.2857142857142856,
          0.2857142857142856,
          1,
          0.9642857142857144,
          0.75,
          0.5357142857142856,
          0.4642857142857144,
          0.5,
          0.4285714285714284,
          0.7142857142857144,
          0.6428571428571428,
          0.6785714285714284,
          0.8928571428571423,
          0.8571428571428568,
          0.3928571428571428,
          0.5714285714285712,
          0.6071428571428572,
          0.5357142857142856,
          0.6428571428571428,
          0.4642857142857144,
          0.5,
          0.3571428571428572,
          0.4285714285714284,
          0.25,
          0.4285714285714284,
          0.8928571428571423,
          0.9642857142857144,
          0.5,
          0.5714285714285712,
          0.5,
          0.2857142857142856,
          0.75,
          0.7142857142857144,
          0.7142857142857144,
          0.9285714285714288,
          0.7857142857142856,
          0.4642857142857144,
          0.4642857142857144,
          0.7142857142857144,
          0.75,
          0.6071428571428572,
          0.3928571428571428,
          0.2857142857142856,
          0.8571428571428568,
          0.6071428571428572,
          0.6428571428571428,
          0.9285714285714288,
          0.8214285714285712,
          1,
          0.7142857142857144,
          0.75,
          0.4642857142857144,
          0.7857142857142856,
          0.8571428571428568,
          0.5,
          0.7857142857142856,
          0.8571428571428568,
          0.7142857142857144,
          0.4642857142857144,
          0.5714285714285712,
          0.6071428571428572,
          0.4642857142857144,
          0.4285714285714284,
          0.5,
          0.2857142857142856,
          0.3928571428571428,
          0.25,
          0.6071428571428572,
          0.4642857142857144,
          0.6785714285714284,
          0.6428571428571428,
          0.3571428571428572,
          0.3571428571428572,
          0.17857142857142838,
          0.25,
          0.3214285714285712,
          0.8928571428571423,
          0.6428571428571428,
          0.75,
          0.6785714285714284,
          0.6785714285714284,
          0.9642857142857144,
          0.6428571428571428,
          0.5714285714285712,
          0.3571428571428572,
          0.4285714285714284,
          0.5357142857142856,
          0.2857142857142856,
          0.6428571428571428,
          0.5,
          0.75,
          0.5357142857142856,
          0.9285714285714288,
          0.8214285714285712,
          0.7142857142857144,
          0.6785714285714284,
          0.6428571428571428,
          0.7857142857142856,
          0.9285714285714288,
          0.6071428571428572,
          0.5357142857142856,
          0.4642857142857144,
          0.5,
          0.4285714285714284,
          0.5357142857142856,
          0.3928571428571428,
          0.6428571428571428,
          1,
          1,
          0.4642857142857144,
          0.25,
          0.25,
          0.3571428571428572,
          0.5,
          0.4285714285714284,
          0.5714285714285712,
          0.6428571428571428,
          1,
          0.9642857142857144,
          0.8928571428571423,
          0.8571428571428568,
          0.7142857142857144,
          0.6071428571428572,
          0.6428571428571428,
          0.4285714285714284,
          0.3928571428571428,
          0.6428571428571428,
          0.75,
          0.6071428571428572,
          0.4642857142857144,
          0.25,
          0.6428571428571428,
          0.6428571428571428,
          0.7142857142857144,
          0.6785714285714284,
          0.4285714285714284,
          0.5,
          0.5357142857142856,
          0.2857142857142856,
          0.75,
          0.6785714285714284,
          0.7142857142857144,
          0.7857142857142856,
          0.4285714285714284,
          0.2857142857142856,
          0.3214285714285712,
          0.3928571428571428,
          0.8214285714285712,
          0.7857142857142856,
          0.5357142857142856,
          0.6428571428571428,
          0.4642857142857144,
          0.4285714285714284,
          0.6428571428571428,
          0.6785714285714284,
          0.4285714285714284,
          0.25,
          0.2857142857142856,
          0.8214285714285712,
          0.7857142857142856,
          0.6428571428571428,
          0.25,
          0.2857142857142856,
          0.3571428571428572,
          0.9642857142857144,
          0.5714285714285712,
          0.4285714285714284,
          0.3928571428571428,
          0.6785714285714284,
          0.6428571428571428,
          0.3571428571428572,
          0.4642857142857144,
          0.5357142857142856,
          0.75,
          0.5714285714285712,
          0.4642857142857144,
          0.1428571428571428,
          0.1071428571428572,
          0.25,
          0.2857142857142856,
          0.6428571428571428,
          0.75,
          0.3214285714285712,
          0.3928571428571428,
          0.3571428571428572,
          0.3571428571428572,
          0.6428571428571428,
          0.5,
          0.6785714285714284,
          0.7142857142857144,
          0.8571428571428568,
          0.9285714285714288,
          0.7857142857142856,
          0.4285714285714284,
          0.6071428571428572,
          0.4642857142857144,
          0.3571428571428572,
          0.25,
          0.2142857142857144,
          0.3214285714285712,
          0.2857142857142856,
          0.5357142857142856,
          1,
          0.7857142857142856,
          0.7142857142857144,
          0.5,
          0.5714285714285712,
          0.4642857142857144,
          0.5357142857142856,
          0.5,
          0.6071428571428572,
          0.6428571428571428,
          0.7142857142857144,
          0.5714285714285712,
          0.6428571428571428,
          0.4285714285714284,
          0.5714285714285712,
          0.5357142857142856,
          0.2857142857142856,
          0.4642857142857144,
          0.4285714285714284,
          0.3214285714285712,
          0.25,
          0.6785714285714284,
          0.75,
          0.5,
          0.4285714285714284,
          0.5357142857142856,
          0.3571428571428572,
          0.4285714285714284,
          0.8571428571428568,
          0.2857142857142856,
          0.3214285714285712,
          0.7142857142857144,
          0.1428571428571428,
          0.75,
          0.4642857142857144,
          0.5,
          0.5714285714285712,
          0.5357142857142856,
          0.6785714285714284,
          0.6428571428571428,
          0.9285714285714288,
          0.5714285714285712,
          0.5357142857142856,
          0.5357142857142856,
          0.6428571428571428,
          0.5,
          0.3928571428571428,
          0.1428571428571428,
          0.2142857142857144,
          0.17857142857142838,
          0.07142857142857117,
          0.25,
          0.3214285714285712,
          0.5357142857142856,
          0.6428571428571428,
          0.2857142857142856,
          0.3571428571428572,
          0.2142857142857144,
          0.5,
          0.6071428571428572,
          0.4285714285714284,
          0.4642857142857144,
          0.5357142857142856,
          0.6428571428571428,
          0.8571428571428568,
          0.8214285714285712,
          0.3928571428571428,
          0.3571428571428572,
          0.7857142857142856,
          0.4285714285714284,
          0.2142857142857144,
          0,
          0.2142857142857144,
          0.3928571428571428,
          0.6428571428571428,
          0.9642857142857144,
          0.6071428571428572,
          0.4642857142857144,
          0.3214285714285712,
          0.1428571428571428,
          0.2857142857142856,
          0.2142857142857144,
          0.25,
          0.4285714285714284,
          0.4642857142857144,
          0.6428571428571428,
          0.2857142857142856,
          0.75,
          0.8928571428571423,
          0.3214285714285712,
          0.4642857142857144,
          0.17857142857142838,
          0.5714285714285712,
          0.3571428571428572,
          0.5,
          0.7142857142857144,
          0.4285714285714284,
          0.6785714285714284,
          0.6428571428571428,
          0.5357142857142856,
          0.8571428571428568,
          0.3928571428571428,
          0.8928571428571423
         ]
        },
        {
         "boxpoints": "outliers",
         "marker": {
          "line": {
           "color": "black",
           "width": 0.5
          },
          "opacity": 0.5
         },
         "name": "University Rating",
         "notched": true,
         "type": "box",
         "y": [
          0.75,
          0.75,
          0.5,
          0.5,
          0.25,
          1,
          0.5,
          0.25,
          0,
          0.5,
          0.5,
          0.75,
          0.75,
          0.5,
          0.5,
          0.5,
          0.5,
          0.5,
          0.5,
          0.5,
          0.5,
          0.75,
          1,
          1,
          1,
          1,
          1,
          0.25,
          0,
          0.25,
          0.25,
          0.5,
          0.75,
          1,
          1,
          1,
          0.25,
          0,
          0,
          0.25,
          0.5,
          0.25,
          0.25,
          0.75,
          1,
          1,
          1,
          1,
          0.5,
          0.75,
          0.5,
          0.25,
          0.75,
          0.75,
          0.5,
          0.5,
          0.5,
          0.25,
          0,
          0.25,
          0.25,
          0.5,
          0.25,
          0.25,
          0.5,
          0.75,
          0.5,
          0.25,
          0.5,
          0.75,
          1,
          1,
          1,
          0.75,
          0.5,
          0.25,
          0.5,
          0.25,
          0.25,
          0,
          0.5,
          0.75,
          1,
          1,
          1,
          0.75,
          0.5,
          0.25,
          0.5,
          0.75,
          0.25,
          0.5,
          0.25,
          0.25,
          0.5,
          0.75,
          0.25,
          0.5,
          0.75,
          0.5,
          0.5,
          0.25,
          0.25,
          0.25,
          0.5,
          0.5,
          0.75,
          0.75,
          1,
          1,
          1,
          0.75,
          0.5,
          0.25,
          0.5,
          0.75,
          0.5,
          0.75,
          0.25,
          1,
          1,
          1,
          0.75,
          0.5,
          0.75,
          0.5,
          0.5,
          0.5,
          0.5,
          1,
          1,
          1,
          1,
          1,
          1,
          0.75,
          0.5,
          0.25,
          0.25,
          0,
          0.25,
          0.25,
          1,
          0.75,
          0.25,
          0.25,
          0.5,
          0.5,
          0.75,
          0.25,
          0.75,
          1,
          1,
          0.5,
          0.5,
          0.5,
          0.5,
          0.25,
          0.25,
          0,
          0,
          0,
          0.5,
          0.5,
          0.75,
          1,
          0.5,
          0.5,
          0.25,
          0.25,
          0.25,
          1,
          0.75,
          0.75,
          0.75,
          0.75,
          0.75,
          0.5,
          0.5,
          0.5,
          0.5,
          0.25,
          0.25,
          0.5,
          0.25,
          0.75,
          0.5,
          1,
          1,
          1,
          1,
          1,
          1,
          1,
          0.5,
          0.25,
          0.25,
          0.25,
          0.5,
          0.5,
          0.5,
          0.25,
          1,
          1,
          0.5,
          0.25,
          0.25,
          0.5,
          0.25,
          0.5,
          0.75,
          0.75,
          0.75,
          1,
          0.75,
          1,
          0.75,
          0.75,
          0.75,
          0.5,
          0.5,
          0.5,
          0.75,
          0.25,
          0.25,
          0.25,
          0.25,
          0.25,
          0.5,
          0.75,
          0.5,
          0.5,
          0.25,
          0.25,
          1,
          1,
          0.75,
          1,
          0.5,
          0,
          0,
          0.25,
          0.5,
          0.5,
          0.25,
          0.75,
          0.5,
          0.25,
          0.5,
          0.5,
          0.5,
          0.25,
          0.25,
          0.75,
          0.75,
          0.75,
          0.5,
          0.5,
          0.75,
          0.75,
          1,
          0.5,
          0.25,
          0.5,
          0.25,
          0.5,
          0.25,
          0.5,
          0.75,
          0.75,
          0.25,
          0.25,
          0,
          0,
          0,
          0.5,
          1,
          0.25,
          0.25,
          0.25,
          0.5,
          0.5,
          0.5,
          0.5,
          0.75,
          1,
          1,
          1,
          0.75,
          0.5,
          0.25,
          0.25,
          0.25,
          0,
          0.25,
          0.25,
          0.5,
          0.5,
          0.5,
          0.5,
          0.25,
          0.25,
          0.25,
          0.5,
          0.25,
          0.5,
          0.5,
          0.75,
          0.5,
          0.75,
          0.5,
          0.75,
          0.75,
          0.5,
          0.25,
          0.25,
          0.25,
          0,
          0.5,
          0.75,
          0.5,
          0.5,
          0.25,
          0.25,
          0.5,
          0.5,
          0.5,
          0.25,
          0.75,
          0.25,
          0.5,
          0.25,
          0.5,
          0.5,
          0.75,
          0.75,
          0.5,
          1,
          1,
          1,
          0.5,
          0.5,
          0.5,
          0.25,
          0.25,
          0,
          0.25,
          0,
          0,
          0.5,
          0.5,
          0.75,
          0.25,
          0.5,
          0.25,
          0.25,
          0.5,
          0.25,
          0.25,
          0.25,
          0.5,
          0.75,
          1,
          0.25,
          0.5,
          0.75,
          0.5,
          0,
          0,
          0,
          0.25,
          0.5,
          0.75,
          0.5,
          0.25,
          0.25,
          0.25,
          0,
          0,
          0,
          0.5,
          0.5,
          0.75,
          0.5,
          0.75,
          1,
          0.25,
          0.25,
          0.25,
          0.5,
          0.25,
          0.5,
          0.75,
          0.25,
          0.75,
          0.5,
          0.5,
          0.75,
          0.5,
          0.75
         ]
        },
        {
         "boxpoints": "outliers",
         "marker": {
          "line": {
           "color": "black",
           "width": 0.5
          },
          "opacity": 0.5
         },
         "name": "SOP",
         "notched": true,
         "type": "box",
         "y": [
          0.875,
          0.75,
          0.5,
          0.625,
          0.25,
          0.875,
          0.5,
          0.5,
          0.25,
          0.625,
          0.625,
          0.75,
          0.75,
          0.75,
          0.625,
          0.625,
          0.75,
          0.75,
          0.75,
          0.625,
          0.5,
          0.5,
          1,
          1,
          0.75,
          0.875,
          0.875,
          0.125,
          0.25,
          0.125,
          0.5,
          0.75,
          0.5,
          0.75,
          0.75,
          1,
          0.75,
          0,
          0.5,
          0.75,
          0.625,
          0.375,
          0.375,
          0.875,
          0.875,
          1,
          0.75,
          0.875,
          0.625,
          0.5,
          0.375,
          0.125,
          0.75,
          0.75,
          0.5,
          0.5,
          0.25,
          0.75,
          0.5,
          0.25,
          0.5,
          0.75,
          0.5,
          0.75,
          0.5,
          0.625,
          0.5,
          0.625,
          0.625,
          0.875,
          1,
          1,
          1,
          0.875,
          0.5,
          0.25,
          0.5,
          0.5,
          0.5,
          0.125,
          0.25,
          1,
          1,
          0.75,
          0.875,
          0.875,
          0.875,
          0.625,
          0.875,
          0.875,
          0.75,
          1,
          0.75,
          0.5,
          0.25,
          0.125,
          0.5,
          0.75,
          1,
          0.75,
          0.625,
          0.375,
          0.75,
          0.875,
          0.625,
          0.75,
          0.875,
          0.625,
          1,
          1,
          0.5,
          0.75,
          0.625,
          0.75,
          0.625,
          0.875,
          0.75,
          0.25,
          0.5,
          0.5,
          1,
          0.875,
          0.125,
          0.625,
          0.375,
          0.25,
          0.75,
          0.375,
          0.625,
          1,
          0.75,
          1,
          0.625,
          0.75,
          0.75,
          0.625,
          1,
          0.125,
          0.875,
          0.625,
          0.75,
          0.875,
          0.75,
          0.875,
          0.5,
          0.25,
          0.25,
          0.5,
          0.75,
          0.625,
          0.75,
          1,
          1,
          0.5,
          0.5,
          0.5,
          0.25,
          0.25,
          0.25,
          0.125,
          0.125,
          0.125,
          0.5,
          0.625,
          0.875,
          0.875,
          0.625,
          0.25,
          0.25,
          0.375,
          0.375,
          0.75,
          0.75,
          0.75,
          0.75,
          0.875,
          0.875,
          0.625,
          0.375,
          0.5,
          0.625,
          0.375,
          0.5,
          0.75,
          0.375,
          0.875,
          0.625,
          0.875,
          0.875,
          1,
          0.875,
          0.75,
          0.875,
          0.875,
          0.625,
          0.5,
          0.5,
          0.625,
          0.875,
          0.75,
          0.375,
          0.625,
          0.875,
          0.75,
          0.625,
          0.375,
          0.625,
          0.625,
          0.5,
          0.625,
          0.875,
          1,
          1,
          1,
          0.875,
          1,
          0.875,
          0.75,
          0.5,
          0.625,
          0.75,
          0.625,
          0.875,
          0.5,
          0.5,
          0.375,
          0.625,
          0.625,
          0.75,
          0.5,
          0.75,
          0.625,
          0.375,
          0.375,
          1,
          0.875,
          0.75,
          0.875,
          0.25,
          0.125,
          0.375,
          0.375,
          0.625,
          0.625,
          0.375,
          0.75,
          0.5,
          0.375,
          0.625,
          0.625,
          0.5,
          0.375,
          0.375,
          0.875,
          0.75,
          0.75,
          0.75,
          0.75,
          1,
          1,
          1,
          0.625,
          0.375,
          0.375,
          0.5,
          0.375,
          0.25,
          0.5,
          0.875,
          0.875,
          0.375,
          0.125,
          0.125,
          0,
          0.25,
          0.625,
          1,
          0.375,
          0.5,
          0.5,
          0.875,
          0.75,
          0.75,
          0.375,
          1,
          0.75,
          0.875,
          1,
          1,
          0.75,
          0.375,
          0.125,
          0,
          0.625,
          0.375,
          0.5,
          0.625,
          0.75,
          0.875,
          0.5,
          0.375,
          0.375,
          0.5,
          0.625,
          0.375,
          0.625,
          0.75,
          0.75,
          0.625,
          0.625,
          0.5,
          0.875,
          0.875,
          0.625,
          0.5,
          0.375,
          0.125,
          0,
          0.375,
          0.625,
          0.75,
          0.75,
          0.375,
          0.25,
          0.5,
          0.625,
          0.25,
          0.375,
          0.75,
          0.375,
          0.625,
          0.5,
          0.625,
          0.5,
          0.875,
          0.75,
          0.5,
          1,
          0.75,
          0.625,
          0.5,
          0.625,
          0.5,
          0.375,
          0.125,
          0.125,
          0.125,
          0,
          0.25,
          0.375,
          0.5,
          0.625,
          0.5,
          0.625,
          0.375,
          0.25,
          0.625,
          0.625,
          0.375,
          0.25,
          0.75,
          0.75,
          0.875,
          0.375,
          0.625,
          0.875,
          0.625,
          0,
          0.25,
          0.25,
          0.375,
          0.625,
          0.875,
          0.5,
          0.25,
          0.25,
          0.375,
          0.125,
          0.25,
          0.375,
          0.625,
          0.5,
          0.875,
          0.5,
          1,
          1,
          0.375,
          0.25,
          0.125,
          0.625,
          0.25,
          0.25,
          0.75,
          0.5,
          0.875,
          0.625,
          0.5,
          1,
          0.625,
          1
         ]
        },
        {
         "boxpoints": "outliers",
         "marker": {
          "line": {
           "color": "black",
           "width": 0.5
          },
          "opacity": 0.5
         },
         "name": "LOR",
         "notched": true,
         "type": "box",
         "y": [
          0.875,
          0.875,
          0.625,
          0.375,
          0.5,
          0.5,
          0.75,
          0.75,
          0.125,
          0.5,
          0.75,
          0.875,
          0.875,
          0.5,
          0.25,
          0.375,
          0.5,
          0.5,
          0.5,
          0.5,
          0.25,
          0.25,
          1,
          0.875,
          0.625,
          0.875,
          0.625,
          0.375,
          0.25,
          0.25,
          0.5,
          0.75,
          0.875,
          0.75,
          1,
          1,
          0.75,
          0.25,
          0.125,
          0.625,
          0.5,
          0.375,
          0.25,
          0.75,
          0.75,
          0.75,
          1,
          0.75,
          1,
          0.75,
          0.875,
          0.625,
          0.5,
          0.375,
          0.625,
          0.5,
          0.5,
          0.25,
          0.25,
          0.25,
          0.5,
          0.5,
          0.5,
          0.5,
          0.625,
          0.625,
          0.5,
          0.625,
          0.75,
          0.75,
          1,
          1,
          1,
          0.75,
          1,
          0.75,
          0.5,
          0.25,
          0.25,
          0.25,
          0.5,
          1,
          0.875,
          0.875,
          0.875,
          0.625,
          0.625,
          0.5,
          0.625,
          0.625,
          0.75,
          0.625,
          0.5,
          0.5,
          0.375,
          0.375,
          0.5,
          0.75,
          0.875,
          0.75,
          0.625,
          0.5,
          0.625,
          0.75,
          0.5,
          0.875,
          0.875,
          0.875,
          1,
          0.75,
          0.5,
          0.75,
          0.625,
          0.625,
          0.5,
          0.875,
          0.625,
          0.375,
          0.625,
          0.625,
          1,
          0.875,
          0.375,
          0.625,
          0.5,
          0.5,
          0.5,
          0.25,
          0.5,
          1,
          0.875,
          0.875,
          0.625,
          0.875,
          0.75,
          0.75,
          0.75,
          0.5,
          0.5,
          0.625,
          0.5,
          0.625,
          0.625,
          0.75,
          0.625,
          0.375,
          0.375,
          0.5,
          0.625,
          0.5,
          0.75,
          1,
          1,
          0.75,
          0.625,
          0.5,
          0.375,
          0.375,
          0.375,
          0.25,
          0.25,
          0.5,
          0.5,
          0.5,
          0.75,
          0.75,
          1,
          0.5,
          0.75,
          0.5,
          0.625,
          0.875,
          1,
          0.875,
          0.75,
          0.625,
          0.875,
          0.625,
          0.5,
          0.5,
          0.5,
          0.375,
          0.625,
          0.75,
          0.75,
          0.875,
          0.5,
          0.625,
          0.625,
          1,
          0.75,
          1,
          0.75,
          1,
          0.5,
          0.625,
          0.375,
          0.375,
          0.875,
          0.875,
          0.5,
          0.5,
          0.875,
          1,
          0.75,
          0.5,
          0.5,
          0.75,
          0.5,
          0.75,
          0.75,
          0.75,
          1,
          0.875,
          1,
          0.875,
          0.875,
          0.75,
          0.625,
          0.625,
          0.75,
          0.75,
          0.75,
          0.75,
          0.25,
          0.375,
          0.75,
          0.5,
          0.625,
          0.5,
          0.875,
          0.375,
          0.625,
          0.625,
          0.75,
          0.75,
          0.875,
          1,
          0.625,
          0.25,
          0.5,
          0.25,
          0.5,
          0.5,
          0.75,
          0.375,
          0.625,
          0.625,
          0.75,
          0.75,
          0.375,
          0.5,
          0.625,
          0.875,
          1,
          0.875,
          0.75,
          1,
          1,
          0.875,
          0.625,
          0.75,
          0.75,
          0.125,
          0.375,
          0.375,
          0.375,
          0.625,
          1,
          1,
          0.5,
          0.25,
          0.125,
          0.125,
          0.375,
          0.5,
          0.875,
          0.5,
          0.625,
          0.75,
          0.75,
          0.875,
          0.625,
          0.5,
          0.875,
          0.75,
          0.75,
          0.875,
          1,
          0.625,
          0.5,
          0.25,
          0.25,
          0.5,
          0.25,
          0.375,
          0.625,
          0.875,
          0.875,
          0.625,
          0.375,
          0.5,
          0.5,
          0.625,
          0.25,
          0.625,
          0.625,
          0.75,
          0.5,
          0.5,
          0.625,
          0.75,
          0.875,
          0.5,
          0.75,
          0.5,
          0.25,
          0.375,
          0.25,
          0.5,
          0.625,
          0.75,
          0.75,
          0.375,
          0.375,
          0.75,
          0.25,
          0.25,
          0.625,
          0.125,
          0.5,
          0.25,
          0.375,
          0.625,
          0.75,
          0.875,
          0.375,
          1,
          0.75,
          0.75,
          0.5,
          0.625,
          0.5,
          0.625,
          0.25,
          0.25,
          0.25,
          0,
          0.25,
          0.5,
          0.625,
          0.75,
          0.625,
          0.375,
          0.5,
          0.625,
          0.75,
          0.625,
          0.25,
          0.125,
          1,
          0.625,
          1,
          0.5,
          0.75,
          0.5,
          0.875,
          0.375,
          0.25,
          0.5,
          0.375,
          0.5,
          0.75,
          0.5,
          0.375,
          0.375,
          0.25,
          0.25,
          0.375,
          0.5,
          0.75,
          0.625,
          0.75,
          0.625,
          1,
          1,
          0.625,
          0.625,
          0.25,
          0.75,
          0.375,
          0.5,
          0.625,
          0.5,
          0.75,
          0.625,
          0.625,
          0.875,
          0.75,
          0.75
         ]
        },
        {
         "boxpoints": "outliers",
         "marker": {
          "line": {
           "color": "black",
           "width": 0.5
          },
          "opacity": 0.5
         },
         "name": "CGPA",
         "notched": true,
         "type": "box",
         "y": [
          0.9134615384615383,
          0.6634615384615383,
          0.3846153846153846,
          0.5993589743589745,
          0.4519230769230771,
          0.8141025641025639,
          0.44871794871794846,
          0.35256410256410264,
          0.3846153846153846,
          0.5769230769230766,
          0.5128205128205128,
          0.7051282051282048,
          0.7371794871794868,
          0.3846153846153846,
          0.44871794871794846,
          0.48076923076923084,
          0.6089743589743586,
          0.3846153846153846,
          0.6410256410256414,
          0.5448717948717947,
          0.35256410256410264,
          0.5128205128205128,
          0.8653846153846154,
          0.9294871794871793,
          0.9615384615384617,
          0.8974358974358974,
          0.6410256410256414,
          0.22435897435897445,
          0.1282051282051282,
          0.16025641025641013,
          0.4166666666666665,
          0.48076923076923084,
          0.8333333333333335,
          0.8974358974358974,
          0.9615384615384617,
          0.7692307692307687,
          0.5128205128205128,
          0.32051282051282026,
          0.22435897435897445,
          0.2884615384615383,
          0.3846153846153846,
          0.44871794871794846,
          0.5448717948717947,
          0.7371794871794868,
          0.8333333333333335,
          0.7371794871794868,
          0.8012820512820515,
          0.9294871794871793,
          0.6570512820512819,
          0.5128205128205128,
          0.48076923076923084,
          0.35256410256410264,
          0.3846153846153846,
          0.4166666666666665,
          0.3846153846153846,
          0.2884615384615383,
          0.1923076923076925,
          0.2564102564102564,
          0,
          0.48076923076923084,
          0.4166666666666665,
          0.44871794871794846,
          0.44871794871794846,
          0.5448717948717947,
          0.6089743589743586,
          0.6794871794871793,
          0.7115384615384612,
          0.5897435897435899,
          0.775641025641026,
          0.7564102564102564,
          0.9102564102564106,
          0.9487179487179485,
          0.849358974358974,
          0.7179487179487176,
          0.6730769230769234,
          0.5641025641025643,
          0.6153846153846154,
          0.4551282051282053,
          0.23717948717948723,
          0.17948717948717974,
          0.39102564102564097,
          0.8653846153846154,
          0.775641025641026,
          0.8205128205128203,
          0.849358974358974,
          0.5961538461538463,
          0.5192307692307692,
          0.474358974358974,
          0.42948717948717974,
          0.6282051282051282,
          0.35897435897435903,
          0.27564102564102555,
          0.39423076923076916,
          0.34615384615384626,
          0.27564102564102555,
          0.33333333333333304,
          0.3846153846153846,
          0.6923076923076925,
          0.7820512820512819,
          0.666666666666667,
          0.5320512820512824,
          0.4230769230769229,
          0.46474358974358987,
          0.5352564102564106,
          0.7211538461538463,
          0.6346153846153841,
          0.7628205128205128,
          0.8525641025641026,
          0.8269230769230771,
          0.5897435897435899,
          0.5384615384615388,
          0.6025641025641022,
          0.4935897435897436,
          0.5641025641025643,
          0.5288461538461537,
          0.7179487179487176,
          0.583333333333333,
          0.21153846153846168,
          0.15384615384615374,
          0.6538461538461537,
          0.8846153846153846,
          0.858974358974359,
          0.49999999999999956,
          0.4551282051282053,
          0.5352564102564106,
          0.5961538461538463,
          0.8076923076923079,
          0.6121794871794872,
          0.7371794871794868,
          0.8173076923076921,
          0.9487179487179485,
          0.5929487179487181,
          0.5641025641025643,
          0.6346153846153841,
          0.7948717948717947,
          0.6314102564102564,
          0.5288461538461537,
          0.4358974358974361,
          0.7307692307692308,
          0.7435897435897432,
          0.7532051282051282,
          0.8205128205128203,
          0.8461538461538458,
          1,
          0.6923076923076925,
          0.5897435897435899,
          0.5384615384615388,
          0.740384615384615,
          0.9615384615384617,
          0.4679487179487176,
          0.8429487179487176,
          0.7948717948717947,
          0.7243589743589745,
          0.625,
          0.6698717948717952,
          0.6057692307692304,
          0.4935897435897436,
          0.4679487179487176,
          0.42948717948717974,
          0.35256410256410264,
          0.33974358974358987,
          0.21153846153846168,
          0.5448717948717947,
          0.5641025641025643,
          0.708333333333333,
          0.6955128205128207,
          0.4903846153846154,
          0.4711538461538458,
          0.32051282051282026,
          0.3782051282051282,
          0.3974358974358969,
          0.7275641025641026,
          0.7467948717948718,
          0.7788461538461537,
          0.6955128205128207,
          0.6634615384615383,
          0.7564102564102564,
          0.7179487179487176,
          0.4230769230769229,
          0.4711538461538458,
          0.4358974358974361,
          0.5192307692307692,
          0.34615384615384626,
          0.6410256410256414,
          0.4871794871794872,
          0.740384615384615,
          0.6025641025641022,
          0.8461538461538458,
          0.8205128205128203,
          0.7307692307692308,
          0.7564102564102564,
          0.6987179487179489,
          0.6858974358974357,
          0.8749999999999996,
          0.6282051282051282,
          0.5512820512820511,
          0.4679487179487176,
          0.4903846153846154,
          0.5224358974358974,
          0.6057692307692304,
          0.5576923076923075,
          0.5320512820512824,
          0.9967948717948718,
          0.9839743589743586,
          0.5576923076923075,
          0.27243589743589736,
          0.349358974358974,
          0.39102564102564097,
          0.4358974358974361,
          0.4230769230769229,
          0.7243589743589745,
          0.75,
          0.9166666666666665,
          0.9551282051282048,
          0.8397435897435894,
          0.8205128205128203,
          0.7884615384615383,
          0.7467948717948718,
          0.6955128205128207,
          0.5192307692307692,
          0.625,
          0.5641025641025643,
          0.6378205128205123,
          0.5288461538461537,
          0.4583333333333335,
          0.39423076923076916,
          0.5288461538461537,
          0.5544871794871793,
          0.5993589743589745,
          0.708333333333333,
          0.5929487179487181,
          0.4903846153846154,
          0.4711538461538458,
          0.40705128205128194,
          0.8044871794871797,
          0.7788461538461537,
          0.7596153846153846,
          0.766025641025641,
          0.5032051282051277,
          0.349358974358974,
          0.28205128205128194,
          0.43269230769230793,
          0.6282051282051282,
          0.7179487179487176,
          0.5641025641025643,
          0.7115384615384612,
          0.6185897435897436,
          0.5384615384615388,
          0.6634615384615383,
          0.6506410256410255,
          0.5673076923076925,
          0.7051282051282048,
          0.5576923076923075,
          0.9230769230769229,
          0.7435897435897432,
          0.5032051282051277,
          0.5641025641025643,
          0.5897435897435899,
          0.6282051282051282,
          0.8141025641025639,
          0.7467948717948718,
          0.4134615384615383,
          0.49999999999999956,
          0.6378205128205123,
          0.6282051282051282,
          0.6025641025641022,
          0.5288461538461537,
          0.4391025641025639,
          0.75,
          0.4935897435897436,
          0.4551282051282053,
          0.33974358974358987,
          0.26923076923076916,
          0.3878205128205128,
          0.3685897435897436,
          0.6923076923076925,
          0.849358974358974,
          0.583333333333333,
          0.5416666666666665,
          0.6185897435897436,
          0.5897435897435899,
          0.740384615384615,
          0.6378205128205123,
          0.6730769230769234,
          0.9166666666666665,
          0.7884615384615383,
          0.766025641025641,
          0.7307692307692308,
          0.7115384615384612,
          0.7051282051282048,
          0.27243589743589736,
          0.34294871794871806,
          0.375,
          0.44230769230769207,
          0.4871794871794872,
          0.5673076923076925,
          0.5993589743589745,
          0.740384615384615,
          0.7820512820512819,
          0.5929487179487181,
          0.3846153846153846,
          0.6282051282051282,
          0.5288461538461537,
          0.5608974358974361,
          0.5224358974358974,
          0.6410256410256414,
          0.7371794871794868,
          0.7051282051282048,
          0.5544871794871793,
          0.5769230769230766,
          0.6217948717948718,
          0.7628205128205128,
          0.7051282051282048,
          0.3974358974358969,
          0.42628205128205154,
          0.40705128205128194,
          0.33974358974358987,
          0.3878205128205128,
          0.6410256410256414,
          0.6057692307692304,
          0.5448717948717947,
          0.5256410256410255,
          0.4711538461538458,
          0.44230769230769207,
          0.4903846153846154,
          0.75,
          0.39102564102564097,
          0.33974358974358987,
          0.6314102564102564,
          0.349358974358974,
          0.5961538461538463,
          0.4230769230769229,
          0.4519230769230771,
          0.5576923076923075,
          0.5929487179487181,
          0.740384615384615,
          0.6378205128205123,
          0.8557692307692308,
          0.6217948717948718,
          0.5961538461538463,
          0.5320512820512824,
          0.6282051282051282,
          0.4615384615384617,
          0.42628205128205154,
          0.1730769230769229,
          0.20192307692307665,
          0.26923076923076916,
          0.1730769230769229,
          0.14423076923076916,
          0.3974358974358969,
          0.4711538461538458,
          0.5993589743589745,
          0.4038461538461542,
          0.4391025641025639,
          0.27884615384615374,
          0.4230769230769229,
          0.6314102564102564,
          0.349358974358974,
          0.26923076923076916,
          0.5256410256410255,
          0.5897435897435899,
          0.8782051282051277,
          0.7788461538461537,
          0.49999999999999956,
          0.6730769230769234,
          0.7596153846153846,
          0.4935897435897436,
          0.21153846153846168,
          0.34615384615384626,
          0.39423076923076916,
          0.4615384615384617,
          0.775641025641026,
          0.9038461538461533,
          0.5576923076923075,
          0.27243589743589736,
          0.27564102564102555,
          0.20192307692307665,
          0.2435897435897436,
          0.27243589743589736,
          0.5224358974358974,
          0.6538461538461537,
          0.5993589743589745,
          0.7532051282051282,
          0.4679487179487176,
          0.9423076923076925,
          0.9679487179487181,
          0.3717948717948718,
          0.4166666666666665,
          0.32051282051282026,
          0.5256410256410255,
          0.4615384615384617,
          0.5929487179487181,
          0.7435897435897432,
          0.6282051282051282,
          0.7788461538461537,
          0.7179487179487176,
          0.740384615384615,
          0.849358974358974,
          0.6346153846153841,
          0.9166666666666665
         ]
        },
        {
         "boxpoints": "outliers",
         "marker": {
          "line": {
           "color": "black",
           "width": 0.5
          },
          "opacity": 0.5
         },
         "name": "Research",
         "notched": true,
         "type": "box",
         "y": [
          1,
          1,
          1,
          1,
          0,
          1,
          1,
          0,
          0,
          0,
          1,
          1,
          1,
          1,
          1,
          0,
          0,
          1,
          0,
          0,
          1,
          0,
          1,
          1,
          1,
          1,
          0,
          1,
          0,
          0,
          1,
          1,
          1,
          1,
          1,
          1,
          0,
          0,
          0,
          0,
          1,
          1,
          1,
          0,
          1,
          1,
          1,
          0,
          1,
          1,
          1,
          1,
          1,
          1,
          0,
          0,
          0,
          0,
          1,
          0,
          0,
          0,
          1,
          1,
          0,
          0,
          0,
          1,
          1,
          1,
          1,
          1,
          1,
          1,
          0,
          1,
          1,
          0,
          1,
          0,
          1,
          1,
          1,
          1,
          1,
          0,
          0,
          0,
          0,
          1,
          1,
          0,
          0,
          1,
          0,
          0,
          0,
          1,
          1,
          1,
          1,
          0,
          0,
          0,
          1,
          1,
          1,
          1,
          1,
          0,
          0,
          1,
          1,
          0,
          1,
          1,
          0,
          0,
          0,
          1,
          1,
          1,
          0,
          0,
          0,
          1,
          1,
          1,
          1,
          1,
          1,
          0,
          0,
          0,
          1,
          1,
          0,
          1,
          1,
          0,
          1,
          1,
          1,
          1,
          1,
          1,
          0,
          1,
          1,
          1,
          1,
          1,
          1,
          0,
          0,
          0,
          0,
          0,
          0,
          0,
          0,
          0,
          0,
          0,
          1,
          0,
          0,
          0,
          1,
          0,
          1,
          1,
          1,
          1,
          1,
          1,
          1,
          0,
          0,
          0,
          0,
          0,
          0,
          0,
          0,
          1,
          1,
          1,
          1,
          1,
          1,
          1,
          1,
          1,
          0,
          1,
          0,
          0,
          0,
          0,
          1,
          1,
          1,
          1,
          0,
          0,
          0,
          1,
          0,
          1,
          1,
          1,
          1,
          1,
          1,
          1,
          1,
          1,
          1,
          0,
          0,
          0,
          0,
          0,
          0,
          0,
          0,
          0,
          0,
          1,
          0,
          1,
          0,
          0,
          1,
          1,
          1,
          1,
          0,
          0,
          0,
          0,
          1,
          1,
          0,
          1,
          0,
          0,
          1,
          1,
          1,
          0,
          1,
          1,
          0,
          0,
          0,
          1,
          1,
          1,
          1,
          0,
          1,
          1,
          1,
          0,
          0,
          1,
          0,
          0,
          1,
          0,
          0,
          1,
          0,
          1,
          1,
          0,
          0,
          0,
          1,
          1,
          1,
          1,
          1,
          1,
          1,
          1,
          0,
          0,
          0,
          0,
          0,
          1,
          1,
          0,
          0,
          0,
          1,
          0,
          0,
          0,
          1,
          1,
          0,
          1,
          1,
          1,
          0,
          0,
          1,
          1,
          1,
          0,
          0,
          0,
          0,
          0,
          1,
          1,
          1,
          1,
          0,
          0,
          0,
          1,
          0,
          0,
          1,
          0,
          1,
          1,
          1,
          1,
          1,
          1,
          0,
          1,
          1,
          1,
          1,
          1,
          0,
          0,
          0,
          0,
          0,
          0,
          0,
          0,
          1,
          1,
          1,
          0,
          0,
          0,
          1,
          1,
          0,
          0,
          1,
          1,
          1,
          0,
          1,
          1,
          1,
          0,
          0,
          1,
          0,
          1,
          1,
          1,
          0,
          0,
          0,
          0,
          0,
          1,
          1,
          1,
          1,
          0,
          1,
          1,
          0,
          0,
          0,
          1,
          0,
          0,
          1,
          0,
          1,
          1,
          1,
          1,
          0,
          1
         ]
        }
       ],
       "layout": {
        "template": {
         "data": {
          "bar": [
           {
            "error_x": {
             "color": "#2a3f5f"
            },
            "error_y": {
             "color": "#2a3f5f"
            },
            "marker": {
             "line": {
              "color": "#E5ECF6",
              "width": 0.5
             },
             "pattern": {
              "fillmode": "overlay",
              "size": 10,
              "solidity": 0.2
             }
            },
            "type": "bar"
           }
          ],
          "barpolar": [
           {
            "marker": {
             "line": {
              "color": "#E5ECF6",
              "width": 0.5
             },
             "pattern": {
              "fillmode": "overlay",
              "size": 10,
              "solidity": 0.2
             }
            },
            "type": "barpolar"
           }
          ],
          "carpet": [
           {
            "aaxis": {
             "endlinecolor": "#2a3f5f",
             "gridcolor": "white",
             "linecolor": "white",
             "minorgridcolor": "white",
             "startlinecolor": "#2a3f5f"
            },
            "baxis": {
             "endlinecolor": "#2a3f5f",
             "gridcolor": "white",
             "linecolor": "white",
             "minorgridcolor": "white",
             "startlinecolor": "#2a3f5f"
            },
            "type": "carpet"
           }
          ],
          "choropleth": [
           {
            "colorbar": {
             "outlinewidth": 0,
             "ticks": ""
            },
            "type": "choropleth"
           }
          ],
          "contour": [
           {
            "colorbar": {
             "outlinewidth": 0,
             "ticks": ""
            },
            "colorscale": [
             [
              0,
              "#0d0887"
             ],
             [
              0.1111111111111111,
              "#46039f"
             ],
             [
              0.2222222222222222,
              "#7201a8"
             ],
             [
              0.3333333333333333,
              "#9c179e"
             ],
             [
              0.4444444444444444,
              "#bd3786"
             ],
             [
              0.5555555555555556,
              "#d8576b"
             ],
             [
              0.6666666666666666,
              "#ed7953"
             ],
             [
              0.7777777777777778,
              "#fb9f3a"
             ],
             [
              0.8888888888888888,
              "#fdca26"
             ],
             [
              1,
              "#f0f921"
             ]
            ],
            "type": "contour"
           }
          ],
          "contourcarpet": [
           {
            "colorbar": {
             "outlinewidth": 0,
             "ticks": ""
            },
            "type": "contourcarpet"
           }
          ],
          "heatmap": [
           {
            "colorbar": {
             "outlinewidth": 0,
             "ticks": ""
            },
            "colorscale": [
             [
              0,
              "#0d0887"
             ],
             [
              0.1111111111111111,
              "#46039f"
             ],
             [
              0.2222222222222222,
              "#7201a8"
             ],
             [
              0.3333333333333333,
              "#9c179e"
             ],
             [
              0.4444444444444444,
              "#bd3786"
             ],
             [
              0.5555555555555556,
              "#d8576b"
             ],
             [
              0.6666666666666666,
              "#ed7953"
             ],
             [
              0.7777777777777778,
              "#fb9f3a"
             ],
             [
              0.8888888888888888,
              "#fdca26"
             ],
             [
              1,
              "#f0f921"
             ]
            ],
            "type": "heatmap"
           }
          ],
          "heatmapgl": [
           {
            "colorbar": {
             "outlinewidth": 0,
             "ticks": ""
            },
            "colorscale": [
             [
              0,
              "#0d0887"
             ],
             [
              0.1111111111111111,
              "#46039f"
             ],
             [
              0.2222222222222222,
              "#7201a8"
             ],
             [
              0.3333333333333333,
              "#9c179e"
             ],
             [
              0.4444444444444444,
              "#bd3786"
             ],
             [
              0.5555555555555556,
              "#d8576b"
             ],
             [
              0.6666666666666666,
              "#ed7953"
             ],
             [
              0.7777777777777778,
              "#fb9f3a"
             ],
             [
              0.8888888888888888,
              "#fdca26"
             ],
             [
              1,
              "#f0f921"
             ]
            ],
            "type": "heatmapgl"
           }
          ],
          "histogram": [
           {
            "marker": {
             "pattern": {
              "fillmode": "overlay",
              "size": 10,
              "solidity": 0.2
             }
            },
            "type": "histogram"
           }
          ],
          "histogram2d": [
           {
            "colorbar": {
             "outlinewidth": 0,
             "ticks": ""
            },
            "colorscale": [
             [
              0,
              "#0d0887"
             ],
             [
              0.1111111111111111,
              "#46039f"
             ],
             [
              0.2222222222222222,
              "#7201a8"
             ],
             [
              0.3333333333333333,
              "#9c179e"
             ],
             [
              0.4444444444444444,
              "#bd3786"
             ],
             [
              0.5555555555555556,
              "#d8576b"
             ],
             [
              0.6666666666666666,
              "#ed7953"
             ],
             [
              0.7777777777777778,
              "#fb9f3a"
             ],
             [
              0.8888888888888888,
              "#fdca26"
             ],
             [
              1,
              "#f0f921"
             ]
            ],
            "type": "histogram2d"
           }
          ],
          "histogram2dcontour": [
           {
            "colorbar": {
             "outlinewidth": 0,
             "ticks": ""
            },
            "colorscale": [
             [
              0,
              "#0d0887"
             ],
             [
              0.1111111111111111,
              "#46039f"
             ],
             [
              0.2222222222222222,
              "#7201a8"
             ],
             [
              0.3333333333333333,
              "#9c179e"
             ],
             [
              0.4444444444444444,
              "#bd3786"
             ],
             [
              0.5555555555555556,
              "#d8576b"
             ],
             [
              0.6666666666666666,
              "#ed7953"
             ],
             [
              0.7777777777777778,
              "#fb9f3a"
             ],
             [
              0.8888888888888888,
              "#fdca26"
             ],
             [
              1,
              "#f0f921"
             ]
            ],
            "type": "histogram2dcontour"
           }
          ],
          "mesh3d": [
           {
            "colorbar": {
             "outlinewidth": 0,
             "ticks": ""
            },
            "type": "mesh3d"
           }
          ],
          "parcoords": [
           {
            "line": {
             "colorbar": {
              "outlinewidth": 0,
              "ticks": ""
             }
            },
            "type": "parcoords"
           }
          ],
          "pie": [
           {
            "automargin": true,
            "type": "pie"
           }
          ],
          "scatter": [
           {
            "marker": {
             "colorbar": {
              "outlinewidth": 0,
              "ticks": ""
             }
            },
            "type": "scatter"
           }
          ],
          "scatter3d": [
           {
            "line": {
             "colorbar": {
              "outlinewidth": 0,
              "ticks": ""
             }
            },
            "marker": {
             "colorbar": {
              "outlinewidth": 0,
              "ticks": ""
             }
            },
            "type": "scatter3d"
           }
          ],
          "scattercarpet": [
           {
            "marker": {
             "colorbar": {
              "outlinewidth": 0,
              "ticks": ""
             }
            },
            "type": "scattercarpet"
           }
          ],
          "scattergeo": [
           {
            "marker": {
             "colorbar": {
              "outlinewidth": 0,
              "ticks": ""
             }
            },
            "type": "scattergeo"
           }
          ],
          "scattergl": [
           {
            "marker": {
             "colorbar": {
              "outlinewidth": 0,
              "ticks": ""
             }
            },
            "type": "scattergl"
           }
          ],
          "scattermapbox": [
           {
            "marker": {
             "colorbar": {
              "outlinewidth": 0,
              "ticks": ""
             }
            },
            "type": "scattermapbox"
           }
          ],
          "scatterpolar": [
           {
            "marker": {
             "colorbar": {
              "outlinewidth": 0,
              "ticks": ""
             }
            },
            "type": "scatterpolar"
           }
          ],
          "scatterpolargl": [
           {
            "marker": {
             "colorbar": {
              "outlinewidth": 0,
              "ticks": ""
             }
            },
            "type": "scatterpolargl"
           }
          ],
          "scatterternary": [
           {
            "marker": {
             "colorbar": {
              "outlinewidth": 0,
              "ticks": ""
             }
            },
            "type": "scatterternary"
           }
          ],
          "surface": [
           {
            "colorbar": {
             "outlinewidth": 0,
             "ticks": ""
            },
            "colorscale": [
             [
              0,
              "#0d0887"
             ],
             [
              0.1111111111111111,
              "#46039f"
             ],
             [
              0.2222222222222222,
              "#7201a8"
             ],
             [
              0.3333333333333333,
              "#9c179e"
             ],
             [
              0.4444444444444444,
              "#bd3786"
             ],
             [
              0.5555555555555556,
              "#d8576b"
             ],
             [
              0.6666666666666666,
              "#ed7953"
             ],
             [
              0.7777777777777778,
              "#fb9f3a"
             ],
             [
              0.8888888888888888,
              "#fdca26"
             ],
             [
              1,
              "#f0f921"
             ]
            ],
            "type": "surface"
           }
          ],
          "table": [
           {
            "cells": {
             "fill": {
              "color": "#EBF0F8"
             },
             "line": {
              "color": "white"
             }
            },
            "header": {
             "fill": {
              "color": "#C8D4E3"
             },
             "line": {
              "color": "white"
             }
            },
            "type": "table"
           }
          ]
         },
         "layout": {
          "annotationdefaults": {
           "arrowcolor": "#2a3f5f",
           "arrowhead": 0,
           "arrowwidth": 1
          },
          "autotypenumbers": "strict",
          "coloraxis": {
           "colorbar": {
            "outlinewidth": 0,
            "ticks": ""
           }
          },
          "colorscale": {
           "diverging": [
            [
             0,
             "#8e0152"
            ],
            [
             0.1,
             "#c51b7d"
            ],
            [
             0.2,
             "#de77ae"
            ],
            [
             0.3,
             "#f1b6da"
            ],
            [
             0.4,
             "#fde0ef"
            ],
            [
             0.5,
             "#f7f7f7"
            ],
            [
             0.6,
             "#e6f5d0"
            ],
            [
             0.7,
             "#b8e186"
            ],
            [
             0.8,
             "#7fbc41"
            ],
            [
             0.9,
             "#4d9221"
            ],
            [
             1,
             "#276419"
            ]
           ],
           "sequential": [
            [
             0,
             "#0d0887"
            ],
            [
             0.1111111111111111,
             "#46039f"
            ],
            [
             0.2222222222222222,
             "#7201a8"
            ],
            [
             0.3333333333333333,
             "#9c179e"
            ],
            [
             0.4444444444444444,
             "#bd3786"
            ],
            [
             0.5555555555555556,
             "#d8576b"
            ],
            [
             0.6666666666666666,
             "#ed7953"
            ],
            [
             0.7777777777777778,
             "#fb9f3a"
            ],
            [
             0.8888888888888888,
             "#fdca26"
            ],
            [
             1,
             "#f0f921"
            ]
           ],
           "sequentialminus": [
            [
             0,
             "#0d0887"
            ],
            [
             0.1111111111111111,
             "#46039f"
            ],
            [
             0.2222222222222222,
             "#7201a8"
            ],
            [
             0.3333333333333333,
             "#9c179e"
            ],
            [
             0.4444444444444444,
             "#bd3786"
            ],
            [
             0.5555555555555556,
             "#d8576b"
            ],
            [
             0.6666666666666666,
             "#ed7953"
            ],
            [
             0.7777777777777778,
             "#fb9f3a"
            ],
            [
             0.8888888888888888,
             "#fdca26"
            ],
            [
             1,
             "#f0f921"
            ]
           ]
          },
          "colorway": [
           "#636efa",
           "#EF553B",
           "#00cc96",
           "#ab63fa",
           "#FFA15A",
           "#19d3f3",
           "#FF6692",
           "#B6E880",
           "#FF97FF",
           "#FECB52"
          ],
          "font": {
           "color": "#2a3f5f"
          },
          "geo": {
           "bgcolor": "white",
           "lakecolor": "white",
           "landcolor": "#E5ECF6",
           "showlakes": true,
           "showland": true,
           "subunitcolor": "white"
          },
          "hoverlabel": {
           "align": "left"
          },
          "hovermode": "closest",
          "mapbox": {
           "style": "light"
          },
          "paper_bgcolor": "white",
          "plot_bgcolor": "#E5ECF6",
          "polar": {
           "angularaxis": {
            "gridcolor": "white",
            "linecolor": "white",
            "ticks": ""
           },
           "bgcolor": "#E5ECF6",
           "radialaxis": {
            "gridcolor": "white",
            "linecolor": "white",
            "ticks": ""
           }
          },
          "scene": {
           "xaxis": {
            "backgroundcolor": "#E5ECF6",
            "gridcolor": "white",
            "gridwidth": 2,
            "linecolor": "white",
            "showbackground": true,
            "ticks": "",
            "zerolinecolor": "white"
           },
           "yaxis": {
            "backgroundcolor": "#E5ECF6",
            "gridcolor": "white",
            "gridwidth": 2,
            "linecolor": "white",
            "showbackground": true,
            "ticks": "",
            "zerolinecolor": "white"
           },
           "zaxis": {
            "backgroundcolor": "#E5ECF6",
            "gridcolor": "white",
            "gridwidth": 2,
            "linecolor": "white",
            "showbackground": true,
            "ticks": "",
            "zerolinecolor": "white"
           }
          },
          "shapedefaults": {
           "line": {
            "color": "#2a3f5f"
           }
          },
          "ternary": {
           "aaxis": {
            "gridcolor": "white",
            "linecolor": "white",
            "ticks": ""
           },
           "baxis": {
            "gridcolor": "white",
            "linecolor": "white",
            "ticks": ""
           },
           "bgcolor": "#E5ECF6",
           "caxis": {
            "gridcolor": "white",
            "linecolor": "white",
            "ticks": ""
           }
          },
          "title": {
           "x": 0.05
          },
          "xaxis": {
           "automargin": true,
           "gridcolor": "white",
           "linecolor": "white",
           "ticks": "",
           "title": {
            "standoff": 15
           },
           "zerolinecolor": "white",
           "zerolinewidth": 2
          },
          "yaxis": {
           "automargin": true,
           "gridcolor": "white",
           "linecolor": "white",
           "ticks": "",
           "title": {
            "standoff": 15
           },
           "zerolinecolor": "white",
           "zerolinewidth": 2
          }
         }
        },
        "title": {
         "text": "Checking the range and scale of all the features.",
         "x": 0.5,
         "y": 0.88
        }
       }
      },
      "text/html": [
       "<div>                            <div id=\"74becd20-e790-4597-b6a2-c308dc5be409\" class=\"plotly-graph-div\" style=\"height:525px; width:100%;\"></div>            <script type=\"text/javascript\">                require([\"plotly\"], function(Plotly) {                    window.PLOTLYENV=window.PLOTLYENV || {};                                    if (document.getElementById(\"74becd20-e790-4597-b6a2-c308dc5be409\")) {                    Plotly.newPlot(                        \"74becd20-e790-4597-b6a2-c308dc5be409\",                        [{\"boxpoints\":\"outliers\",\"marker\":{\"line\":{\"color\":\"black\",\"width\":0.5},\"opacity\":0.5},\"name\":\"GRE Score\",\"notched\":true,\"type\":\"box\",\"y\":[0.9400000000000004,0.6800000000000006,0.5200000000000005,0.6400000000000006,0.4800000000000004,0.8000000000000007,0.6200000000000001,0.3600000000000003,0.2400000000000002,0.6600000000000001,0.7000000000000002,0.7400000000000002,0.7600000000000007,0.34000000000000075,0.41999999999999993,0.4800000000000004,0.54,0.5800000000000001,0.5600000000000005,0.2600000000000007,0.4400000000000004,0.7000000000000002,0.7600000000000007,0.8799999999999999,0.9199999999999999,1.0,0.6400000000000006,0.16000000000000014,0.10000000000000053,0.40000000000000036,0.20000000000000018,0.7400000000000002,0.96,1.0,0.8200000000000003,0.6000000000000005,0.1800000000000006,0.20000000000000018,0.28000000000000025,0.34000000000000075,0.3600000000000003,0.5200000000000005,0.45999999999999996,0.8400000000000007,0.7200000000000006,0.6400000000000006,0.7800000000000002,0.9800000000000004,0.6200000000000001,0.7400000000000002,0.45999999999999996,0.4400000000000004,0.8799999999999999,0.6800000000000006,0.6400000000000006,0.6000000000000005,0.5200000000000005,0.16000000000000014,0.20000000000000018,0.41999999999999993,0.3799999999999999,0.34000000000000075,0.28000000000000025,0.5,0.7000000000000002,0.7000000000000002,0.7400000000000002,0.5200000000000005,0.5600000000000005,0.7600000000000007,0.8400000000000007,0.9199999999999999,0.6200000000000001,0.4800000000000004,0.4800000000000004,0.7800000000000002,0.7400000000000002,0.22000000000000064,0.1200000000000001,0.08000000000000007,0.4400000000000004,1.0,0.6000000000000005,0.6400000000000006,1.0,0.5800000000000001,0.5,0.54,0.4800000000000004,0.5200000000000005,0.5600000000000005,0.1800000000000006,0.16000000000000014,0.22000000000000064,0.2600000000000007,0.28000000000000025,0.3200000000000003,0.8200000000000003,0.8400000000000007,0.6600000000000001,0.6400000000000006,0.4400000000000004,0.4800000000000004,0.54,0.7200000000000006,0.5200000000000005,0.7800000000000002,0.96,0.8200000000000003,0.28000000000000025,0.3000000000000007,0.6200000000000001,0.22000000000000064,0.6000000000000005,0.41999999999999993,0.40000000000000036,0.1800000000000006,0.0,0.1200000000000001,0.7400000000000002,0.9000000000000004,0.8799999999999999,0.40000000000000036,0.3600000000000003,0.22000000000000064,0.20000000000000018,0.6600000000000001,0.5800000000000001,0.7200000000000006,0.8600000000000003,0.9800000000000004,0.2600000000000007,0.3799999999999999,0.6600000000000001,0.8600000000000003,0.4800000000000004,0.4400000000000004,0.5200000000000005,0.7200000000000006,0.5600000000000005,0.7800000000000002,0.8400000000000007,0.8200000000000003,1.0,0.7000000000000002,0.6000000000000005,0.5,0.7200000000000006,0.9800000000000004,0.41999999999999993,0.8799999999999999,0.8400000000000007,0.6200000000000001,0.6800000000000006,0.7200000000000006,0.4400000000000004,0.5,0.3799999999999999,0.3200000000000003,0.14000000000000057,0.5,0.16000000000000014,0.5600000000000005,0.54,0.7800000000000002,0.6400000000000006,0.2400000000000002,0.45999999999999996,0.0600000000000005,0.41999999999999993,0.4400000000000004,0.8799999999999999,0.6400000000000006,0.6600000000000001,0.6200000000000001,0.6000000000000005,0.7800000000000002,0.5800000000000001,0.3799999999999999,0.34000000000000075,0.20000000000000018,0.3000000000000007,0.1800000000000006,0.4800000000000004,0.5200000000000005,0.7400000000000002,0.54,0.9000000000000004,0.8200000000000003,0.6800000000000006,0.6800000000000006,0.6600000000000001,0.6400000000000006,0.9199999999999999,0.5200000000000005,0.34000000000000075,0.3200000000000003,0.40000000000000036,0.41999999999999993,0.45999999999999996,0.54,0.5,1.0,0.8799999999999999,0.16000000000000014,0.10000000000000053,0.5,0.40000000000000036,0.3000000000000007,0.22000000000000064,0.7000000000000002,0.7600000000000007,0.96,0.8600000000000003,0.8200000000000003,0.8000000000000007,0.6400000000000006,0.6200000000000001,0.6800000000000006,0.4400000000000004,0.45999999999999996,0.5200000000000005,0.6800000000000006,0.3600000000000003,0.3000000000000007,0.1200000000000001,0.3200000000000003,0.4400000000000004,0.5600000000000005,0.6800000000000006,0.45999999999999996,0.5800000000000001,0.4400000000000004,0.28000000000000025,0.8000000000000007,0.7200000000000006,0.7000000000000002,0.7800000000000002,0.40000000000000036,0.1800000000000006,0.1200000000000001,0.54,0.6800000000000006,0.7000000000000002,0.4800000000000004,0.7600000000000007,0.5200000000000005,0.41999999999999993,0.6800000000000006,0.6200000000000001,0.6000000000000005,0.5200000000000005,0.5600000000000005,0.9000000000000004,0.6200000000000001,0.34000000000000075,0.3799999999999999,0.6800000000000006,0.7200000000000006,0.8200000000000003,0.7400000000000002,0.4400000000000004,0.3600000000000003,0.6800000000000006,0.7000000000000002,0.45999999999999996,0.4400000000000004,0.4800000000000004,0.7400000000000002,0.3600000000000003,0.3200000000000003,0.1800000000000006,0.08000000000000007,0.4400000000000004,0.5,0.6400000000000006,0.7800000000000002,0.6000000000000005,0.3600000000000003,0.28000000000000025,0.41999999999999993,0.54,0.4400000000000004,0.6200000000000001,1.0,0.8200000000000003,0.9199999999999999,0.6800000000000006,0.4800000000000004,0.45999999999999996,0.34000000000000075,0.20000000000000018,0.2400000000000002,0.4400000000000004,0.5200000000000005,0.54,0.40000000000000036,0.6000000000000005,0.8000000000000007,0.3000000000000007,0.3799999999999999,0.5800000000000001,0.6400000000000006,0.6600000000000001,0.45999999999999996,0.6200000000000001,0.6600000000000001,0.7000000000000002,0.4400000000000004,0.3600000000000003,0.6000000000000005,0.7600000000000007,0.41999999999999993,0.22000000000000064,0.3000000000000007,0.3600000000000003,0.16000000000000014,0.20000000000000018,0.6800000000000006,0.7400000000000002,0.54,0.6600000000000001,0.4800000000000004,0.3000000000000007,0.5,0.7200000000000006,0.1800000000000006,0.10000000000000053,0.6800000000000006,0.14000000000000057,0.7400000000000002,0.41999999999999993,0.3600000000000003,0.5800000000000001,0.4400000000000004,0.7000000000000002,0.5800000000000001,0.8400000000000007,0.6600000000000001,0.6800000000000006,0.4400000000000004,0.7200000000000006,0.3600000000000003,0.3000000000000007,0.10000000000000053,0.5200000000000005,0.28000000000000025,0.1800000000000006,0.2400000000000002,0.45999999999999996,0.5600000000000005,0.7000000000000002,0.2600000000000007,0.20000000000000018,0.14000000000000057,0.54,0.7400000000000002,0.22000000000000064,0.4800000000000004,0.6200000000000001,0.6400000000000006,0.8799999999999999,0.96,0.3200000000000003,0.45999999999999996,0.8000000000000007,0.6000000000000005,0.41999999999999993,0.16000000000000014,0.22000000000000064,0.40000000000000036,0.6800000000000006,0.9199999999999999,0.6200000000000001,0.5,0.28000000000000025,0.14000000000000057,0.0,0.2600000000000007,0.41999999999999993,0.6400000000000006,0.5800000000000001,0.6800000000000006,0.20000000000000018,1.0,0.9000000000000004,0.2400000000000002,0.34000000000000075,0.1200000000000001,0.6000000000000005,0.4800000000000004,0.5600000000000005,0.7200000000000006,0.54,0.7800000000000002,0.6800000000000006,0.7000000000000002,0.8000000000000007,0.4400000000000004,0.8600000000000003]},{\"boxpoints\":\"outliers\",\"marker\":{\"line\":{\"color\":\"black\",\"width\":0.5},\"opacity\":0.5},\"name\":\"TOEFL Score\",\"notched\":true,\"type\":\"box\",\"y\":[0.9285714285714288,0.5357142857142856,0.4285714285714284,0.6428571428571428,0.3928571428571428,0.8214285714285712,0.6071428571428572,0.3214285714285712,0.3571428571428572,0.5714285714285712,0.5,0.6785714285714284,0.7142857142857144,0.6071428571428572,0.4285714285714284,0.4642857142857144,0.5357142857142856,0.5,0.6428571428571428,0.3571428571428572,0.5357142857142856,0.7857142857142856,0.8571428571428568,0.9642857142857144,0.9642857142857144,1.0,0.6071428571428572,0.2142857142857144,0.03571428571428559,0.25,0.17857142857142838,0.3928571428571428,0.9285714285714288,0.7857142857142856,0.7142857142857144,0.6428571428571428,0.5,0.4642857142857144,0.4642857142857144,0.5714285714285712,0.6428571428571428,0.4642857142857144,0.5357142857142856,0.8928571428571423,0.75,0.6428571428571428,0.7857142857142856,0.9642857142857144,0.6428571428571428,0.6785714285714284,0.2142857142857144,0.2857142857142856,0.8571428571428568,0.7142857142857144,0.6428571428571428,0.3928571428571428,0.3571428571428572,0.25,0.25,0.4285714285714284,0.2857142857142856,0.3214285714285712,0.4642857142857144,0.5357142857142856,0.6785714285714284,0.7142857142857144,0.7857142857142856,0.5357142857142856,0.6071428571428572,0.8214285714285712,0.9285714285714288,0.7142857142857144,0.6785714285714284,0.5714285714285712,0.5,0.7857142857142856,0.7142857142857144,0.25,0.1071428571428572,0.03571428571428559,0.4642857142857144,1.0,0.6428571428571428,0.8214285714285712,0.8214285714285712,0.3928571428571428,0.5,0.5357142857142856,0.5714285714285712,0.6071428571428572,0.5,0.17857142857142838,0.2142857142857144,0.17857142857142838,0.25,0.2857142857142856,0.2857142857142856,1.0,0.9642857142857144,0.75,0.5357142857142856,0.4642857142857144,0.5,0.4285714285714284,0.7142857142857144,0.6428571428571428,0.6785714285714284,0.8928571428571423,0.8571428571428568,0.3928571428571428,0.5714285714285712,0.6071428571428572,0.5357142857142856,0.6428571428571428,0.4642857142857144,0.5,0.3571428571428572,0.4285714285714284,0.25,0.4285714285714284,0.8928571428571423,0.9642857142857144,0.5,0.5714285714285712,0.5,0.2857142857142856,0.75,0.7142857142857144,0.7142857142857144,0.9285714285714288,0.7857142857142856,0.4642857142857144,0.4642857142857144,0.7142857142857144,0.75,0.6071428571428572,0.3928571428571428,0.2857142857142856,0.8571428571428568,0.6071428571428572,0.6428571428571428,0.9285714285714288,0.8214285714285712,1.0,0.7142857142857144,0.75,0.4642857142857144,0.7857142857142856,0.8571428571428568,0.5,0.7857142857142856,0.8571428571428568,0.7142857142857144,0.4642857142857144,0.5714285714285712,0.6071428571428572,0.4642857142857144,0.4285714285714284,0.5,0.2857142857142856,0.3928571428571428,0.25,0.6071428571428572,0.4642857142857144,0.6785714285714284,0.6428571428571428,0.3571428571428572,0.3571428571428572,0.17857142857142838,0.25,0.3214285714285712,0.8928571428571423,0.6428571428571428,0.75,0.6785714285714284,0.6785714285714284,0.9642857142857144,0.6428571428571428,0.5714285714285712,0.3571428571428572,0.4285714285714284,0.5357142857142856,0.2857142857142856,0.6428571428571428,0.5,0.75,0.5357142857142856,0.9285714285714288,0.8214285714285712,0.7142857142857144,0.6785714285714284,0.6428571428571428,0.7857142857142856,0.9285714285714288,0.6071428571428572,0.5357142857142856,0.4642857142857144,0.5,0.4285714285714284,0.5357142857142856,0.3928571428571428,0.6428571428571428,1.0,1.0,0.4642857142857144,0.25,0.25,0.3571428571428572,0.5,0.4285714285714284,0.5714285714285712,0.6428571428571428,1.0,0.9642857142857144,0.8928571428571423,0.8571428571428568,0.7142857142857144,0.6071428571428572,0.6428571428571428,0.4285714285714284,0.3928571428571428,0.6428571428571428,0.75,0.6071428571428572,0.4642857142857144,0.25,0.6428571428571428,0.6428571428571428,0.7142857142857144,0.6785714285714284,0.4285714285714284,0.5,0.5357142857142856,0.2857142857142856,0.75,0.6785714285714284,0.7142857142857144,0.7857142857142856,0.4285714285714284,0.2857142857142856,0.3214285714285712,0.3928571428571428,0.8214285714285712,0.7857142857142856,0.5357142857142856,0.6428571428571428,0.4642857142857144,0.4285714285714284,0.6428571428571428,0.6785714285714284,0.4285714285714284,0.25,0.2857142857142856,0.8214285714285712,0.7857142857142856,0.6428571428571428,0.25,0.2857142857142856,0.3571428571428572,0.9642857142857144,0.5714285714285712,0.4285714285714284,0.3928571428571428,0.6785714285714284,0.6428571428571428,0.3571428571428572,0.4642857142857144,0.5357142857142856,0.75,0.5714285714285712,0.4642857142857144,0.1428571428571428,0.1071428571428572,0.25,0.2857142857142856,0.6428571428571428,0.75,0.3214285714285712,0.3928571428571428,0.3571428571428572,0.3571428571428572,0.6428571428571428,0.5,0.6785714285714284,0.7142857142857144,0.8571428571428568,0.9285714285714288,0.7857142857142856,0.4285714285714284,0.6071428571428572,0.4642857142857144,0.3571428571428572,0.25,0.2142857142857144,0.3214285714285712,0.2857142857142856,0.5357142857142856,1.0,0.7857142857142856,0.7142857142857144,0.5,0.5714285714285712,0.4642857142857144,0.5357142857142856,0.5,0.6071428571428572,0.6428571428571428,0.7142857142857144,0.5714285714285712,0.6428571428571428,0.4285714285714284,0.5714285714285712,0.5357142857142856,0.2857142857142856,0.4642857142857144,0.4285714285714284,0.3214285714285712,0.25,0.6785714285714284,0.75,0.5,0.4285714285714284,0.5357142857142856,0.3571428571428572,0.4285714285714284,0.8571428571428568,0.2857142857142856,0.3214285714285712,0.7142857142857144,0.1428571428571428,0.75,0.4642857142857144,0.5,0.5714285714285712,0.5357142857142856,0.6785714285714284,0.6428571428571428,0.9285714285714288,0.5714285714285712,0.5357142857142856,0.5357142857142856,0.6428571428571428,0.5,0.3928571428571428,0.1428571428571428,0.2142857142857144,0.17857142857142838,0.07142857142857117,0.25,0.3214285714285712,0.5357142857142856,0.6428571428571428,0.2857142857142856,0.3571428571428572,0.2142857142857144,0.5,0.6071428571428572,0.4285714285714284,0.4642857142857144,0.5357142857142856,0.6428571428571428,0.8571428571428568,0.8214285714285712,0.3928571428571428,0.3571428571428572,0.7857142857142856,0.4285714285714284,0.2142857142857144,0.0,0.2142857142857144,0.3928571428571428,0.6428571428571428,0.9642857142857144,0.6071428571428572,0.4642857142857144,0.3214285714285712,0.1428571428571428,0.2857142857142856,0.2142857142857144,0.25,0.4285714285714284,0.4642857142857144,0.6428571428571428,0.2857142857142856,0.75,0.8928571428571423,0.3214285714285712,0.4642857142857144,0.17857142857142838,0.5714285714285712,0.3571428571428572,0.5,0.7142857142857144,0.4285714285714284,0.6785714285714284,0.6428571428571428,0.5357142857142856,0.8571428571428568,0.3928571428571428,0.8928571428571423]},{\"boxpoints\":\"outliers\",\"marker\":{\"line\":{\"color\":\"black\",\"width\":0.5},\"opacity\":0.5},\"name\":\"University Rating\",\"notched\":true,\"type\":\"box\",\"y\":[0.75,0.75,0.5,0.5,0.25,1.0,0.5,0.25,0.0,0.5,0.5,0.75,0.75,0.5,0.5,0.5,0.5,0.5,0.5,0.5,0.5,0.75,1.0,1.0,1.0,1.0,1.0,0.25,0.0,0.25,0.25,0.5,0.75,1.0,1.0,1.0,0.25,0.0,0.0,0.25,0.5,0.25,0.25,0.75,1.0,1.0,1.0,1.0,0.5,0.75,0.5,0.25,0.75,0.75,0.5,0.5,0.5,0.25,0.0,0.25,0.25,0.5,0.25,0.25,0.5,0.75,0.5,0.25,0.5,0.75,1.0,1.0,1.0,0.75,0.5,0.25,0.5,0.25,0.25,0.0,0.5,0.75,1.0,1.0,1.0,0.75,0.5,0.25,0.5,0.75,0.25,0.5,0.25,0.25,0.5,0.75,0.25,0.5,0.75,0.5,0.5,0.25,0.25,0.25,0.5,0.5,0.75,0.75,1.0,1.0,1.0,0.75,0.5,0.25,0.5,0.75,0.5,0.75,0.25,1.0,1.0,1.0,0.75,0.5,0.75,0.5,0.5,0.5,0.5,1.0,1.0,1.0,1.0,1.0,1.0,0.75,0.5,0.25,0.25,0.0,0.25,0.25,1.0,0.75,0.25,0.25,0.5,0.5,0.75,0.25,0.75,1.0,1.0,0.5,0.5,0.5,0.5,0.25,0.25,0.0,0.0,0.0,0.5,0.5,0.75,1.0,0.5,0.5,0.25,0.25,0.25,1.0,0.75,0.75,0.75,0.75,0.75,0.5,0.5,0.5,0.5,0.25,0.25,0.5,0.25,0.75,0.5,1.0,1.0,1.0,1.0,1.0,1.0,1.0,0.5,0.25,0.25,0.25,0.5,0.5,0.5,0.25,1.0,1.0,0.5,0.25,0.25,0.5,0.25,0.5,0.75,0.75,0.75,1.0,0.75,1.0,0.75,0.75,0.75,0.5,0.5,0.5,0.75,0.25,0.25,0.25,0.25,0.25,0.5,0.75,0.5,0.5,0.25,0.25,1.0,1.0,0.75,1.0,0.5,0.0,0.0,0.25,0.5,0.5,0.25,0.75,0.5,0.25,0.5,0.5,0.5,0.25,0.25,0.75,0.75,0.75,0.5,0.5,0.75,0.75,1.0,0.5,0.25,0.5,0.25,0.5,0.25,0.5,0.75,0.75,0.25,0.25,0.0,0.0,0.0,0.5,1.0,0.25,0.25,0.25,0.5,0.5,0.5,0.5,0.75,1.0,1.0,1.0,0.75,0.5,0.25,0.25,0.25,0.0,0.25,0.25,0.5,0.5,0.5,0.5,0.25,0.25,0.25,0.5,0.25,0.5,0.5,0.75,0.5,0.75,0.5,0.75,0.75,0.5,0.25,0.25,0.25,0.0,0.5,0.75,0.5,0.5,0.25,0.25,0.5,0.5,0.5,0.25,0.75,0.25,0.5,0.25,0.5,0.5,0.75,0.75,0.5,1.0,1.0,1.0,0.5,0.5,0.5,0.25,0.25,0.0,0.25,0.0,0.0,0.5,0.5,0.75,0.25,0.5,0.25,0.25,0.5,0.25,0.25,0.25,0.5,0.75,1.0,0.25,0.5,0.75,0.5,0.0,0.0,0.0,0.25,0.5,0.75,0.5,0.25,0.25,0.25,0.0,0.0,0.0,0.5,0.5,0.75,0.5,0.75,1.0,0.25,0.25,0.25,0.5,0.25,0.5,0.75,0.25,0.75,0.5,0.5,0.75,0.5,0.75]},{\"boxpoints\":\"outliers\",\"marker\":{\"line\":{\"color\":\"black\",\"width\":0.5},\"opacity\":0.5},\"name\":\"SOP\",\"notched\":true,\"type\":\"box\",\"y\":[0.875,0.75,0.5,0.625,0.25,0.875,0.5,0.5,0.25,0.625,0.625,0.75,0.75,0.75,0.625,0.625,0.75,0.75,0.75,0.625,0.5,0.5,1.0,1.0,0.75,0.875,0.875,0.125,0.25,0.125,0.5,0.75,0.5,0.75,0.75,1.0,0.75,0.0,0.5,0.75,0.625,0.375,0.375,0.875,0.875,1.0,0.75,0.875,0.625,0.5,0.375,0.125,0.75,0.75,0.5,0.5,0.25,0.75,0.5,0.25,0.5,0.75,0.5,0.75,0.5,0.625,0.5,0.625,0.625,0.875,1.0,1.0,1.0,0.875,0.5,0.25,0.5,0.5,0.5,0.125,0.25,1.0,1.0,0.75,0.875,0.875,0.875,0.625,0.875,0.875,0.75,1.0,0.75,0.5,0.25,0.125,0.5,0.75,1.0,0.75,0.625,0.375,0.75,0.875,0.625,0.75,0.875,0.625,1.0,1.0,0.5,0.75,0.625,0.75,0.625,0.875,0.75,0.25,0.5,0.5,1.0,0.875,0.125,0.625,0.375,0.25,0.75,0.375,0.625,1.0,0.75,1.0,0.625,0.75,0.75,0.625,1.0,0.125,0.875,0.625,0.75,0.875,0.75,0.875,0.5,0.25,0.25,0.5,0.75,0.625,0.75,1.0,1.0,0.5,0.5,0.5,0.25,0.25,0.25,0.125,0.125,0.125,0.5,0.625,0.875,0.875,0.625,0.25,0.25,0.375,0.375,0.75,0.75,0.75,0.75,0.875,0.875,0.625,0.375,0.5,0.625,0.375,0.5,0.75,0.375,0.875,0.625,0.875,0.875,1.0,0.875,0.75,0.875,0.875,0.625,0.5,0.5,0.625,0.875,0.75,0.375,0.625,0.875,0.75,0.625,0.375,0.625,0.625,0.5,0.625,0.875,1.0,1.0,1.0,0.875,1.0,0.875,0.75,0.5,0.625,0.75,0.625,0.875,0.5,0.5,0.375,0.625,0.625,0.75,0.5,0.75,0.625,0.375,0.375,1.0,0.875,0.75,0.875,0.25,0.125,0.375,0.375,0.625,0.625,0.375,0.75,0.5,0.375,0.625,0.625,0.5,0.375,0.375,0.875,0.75,0.75,0.75,0.75,1.0,1.0,1.0,0.625,0.375,0.375,0.5,0.375,0.25,0.5,0.875,0.875,0.375,0.125,0.125,0.0,0.25,0.625,1.0,0.375,0.5,0.5,0.875,0.75,0.75,0.375,1.0,0.75,0.875,1.0,1.0,0.75,0.375,0.125,0.0,0.625,0.375,0.5,0.625,0.75,0.875,0.5,0.375,0.375,0.5,0.625,0.375,0.625,0.75,0.75,0.625,0.625,0.5,0.875,0.875,0.625,0.5,0.375,0.125,0.0,0.375,0.625,0.75,0.75,0.375,0.25,0.5,0.625,0.25,0.375,0.75,0.375,0.625,0.5,0.625,0.5,0.875,0.75,0.5,1.0,0.75,0.625,0.5,0.625,0.5,0.375,0.125,0.125,0.125,0.0,0.25,0.375,0.5,0.625,0.5,0.625,0.375,0.25,0.625,0.625,0.375,0.25,0.75,0.75,0.875,0.375,0.625,0.875,0.625,0.0,0.25,0.25,0.375,0.625,0.875,0.5,0.25,0.25,0.375,0.125,0.25,0.375,0.625,0.5,0.875,0.5,1.0,1.0,0.375,0.25,0.125,0.625,0.25,0.25,0.75,0.5,0.875,0.625,0.5,1.0,0.625,1.0]},{\"boxpoints\":\"outliers\",\"marker\":{\"line\":{\"color\":\"black\",\"width\":0.5},\"opacity\":0.5},\"name\":\"LOR\",\"notched\":true,\"type\":\"box\",\"y\":[0.875,0.875,0.625,0.375,0.5,0.5,0.75,0.75,0.125,0.5,0.75,0.875,0.875,0.5,0.25,0.375,0.5,0.5,0.5,0.5,0.25,0.25,1.0,0.875,0.625,0.875,0.625,0.375,0.25,0.25,0.5,0.75,0.875,0.75,1.0,1.0,0.75,0.25,0.125,0.625,0.5,0.375,0.25,0.75,0.75,0.75,1.0,0.75,1.0,0.75,0.875,0.625,0.5,0.375,0.625,0.5,0.5,0.25,0.25,0.25,0.5,0.5,0.5,0.5,0.625,0.625,0.5,0.625,0.75,0.75,1.0,1.0,1.0,0.75,1.0,0.75,0.5,0.25,0.25,0.25,0.5,1.0,0.875,0.875,0.875,0.625,0.625,0.5,0.625,0.625,0.75,0.625,0.5,0.5,0.375,0.375,0.5,0.75,0.875,0.75,0.625,0.5,0.625,0.75,0.5,0.875,0.875,0.875,1.0,0.75,0.5,0.75,0.625,0.625,0.5,0.875,0.625,0.375,0.625,0.625,1.0,0.875,0.375,0.625,0.5,0.5,0.5,0.25,0.5,1.0,0.875,0.875,0.625,0.875,0.75,0.75,0.75,0.5,0.5,0.625,0.5,0.625,0.625,0.75,0.625,0.375,0.375,0.5,0.625,0.5,0.75,1.0,1.0,0.75,0.625,0.5,0.375,0.375,0.375,0.25,0.25,0.5,0.5,0.5,0.75,0.75,1.0,0.5,0.75,0.5,0.625,0.875,1.0,0.875,0.75,0.625,0.875,0.625,0.5,0.5,0.5,0.375,0.625,0.75,0.75,0.875,0.5,0.625,0.625,1.0,0.75,1.0,0.75,1.0,0.5,0.625,0.375,0.375,0.875,0.875,0.5,0.5,0.875,1.0,0.75,0.5,0.5,0.75,0.5,0.75,0.75,0.75,1.0,0.875,1.0,0.875,0.875,0.75,0.625,0.625,0.75,0.75,0.75,0.75,0.25,0.375,0.75,0.5,0.625,0.5,0.875,0.375,0.625,0.625,0.75,0.75,0.875,1.0,0.625,0.25,0.5,0.25,0.5,0.5,0.75,0.375,0.625,0.625,0.75,0.75,0.375,0.5,0.625,0.875,1.0,0.875,0.75,1.0,1.0,0.875,0.625,0.75,0.75,0.125,0.375,0.375,0.375,0.625,1.0,1.0,0.5,0.25,0.125,0.125,0.375,0.5,0.875,0.5,0.625,0.75,0.75,0.875,0.625,0.5,0.875,0.75,0.75,0.875,1.0,0.625,0.5,0.25,0.25,0.5,0.25,0.375,0.625,0.875,0.875,0.625,0.375,0.5,0.5,0.625,0.25,0.625,0.625,0.75,0.5,0.5,0.625,0.75,0.875,0.5,0.75,0.5,0.25,0.375,0.25,0.5,0.625,0.75,0.75,0.375,0.375,0.75,0.25,0.25,0.625,0.125,0.5,0.25,0.375,0.625,0.75,0.875,0.375,1.0,0.75,0.75,0.5,0.625,0.5,0.625,0.25,0.25,0.25,0.0,0.25,0.5,0.625,0.75,0.625,0.375,0.5,0.625,0.75,0.625,0.25,0.125,1.0,0.625,1.0,0.5,0.75,0.5,0.875,0.375,0.25,0.5,0.375,0.5,0.75,0.5,0.375,0.375,0.25,0.25,0.375,0.5,0.75,0.625,0.75,0.625,1.0,1.0,0.625,0.625,0.25,0.75,0.375,0.5,0.625,0.5,0.75,0.625,0.625,0.875,0.75,0.75]},{\"boxpoints\":\"outliers\",\"marker\":{\"line\":{\"color\":\"black\",\"width\":0.5},\"opacity\":0.5},\"name\":\"CGPA\",\"notched\":true,\"type\":\"box\",\"y\":[0.9134615384615383,0.6634615384615383,0.3846153846153846,0.5993589743589745,0.4519230769230771,0.8141025641025639,0.44871794871794846,0.35256410256410264,0.3846153846153846,0.5769230769230766,0.5128205128205128,0.7051282051282048,0.7371794871794868,0.3846153846153846,0.44871794871794846,0.48076923076923084,0.6089743589743586,0.3846153846153846,0.6410256410256414,0.5448717948717947,0.35256410256410264,0.5128205128205128,0.8653846153846154,0.9294871794871793,0.9615384615384617,0.8974358974358974,0.6410256410256414,0.22435897435897445,0.1282051282051282,0.16025641025641013,0.4166666666666665,0.48076923076923084,0.8333333333333335,0.8974358974358974,0.9615384615384617,0.7692307692307687,0.5128205128205128,0.32051282051282026,0.22435897435897445,0.2884615384615383,0.3846153846153846,0.44871794871794846,0.5448717948717947,0.7371794871794868,0.8333333333333335,0.7371794871794868,0.8012820512820515,0.9294871794871793,0.6570512820512819,0.5128205128205128,0.48076923076923084,0.35256410256410264,0.3846153846153846,0.4166666666666665,0.3846153846153846,0.2884615384615383,0.1923076923076925,0.2564102564102564,0.0,0.48076923076923084,0.4166666666666665,0.44871794871794846,0.44871794871794846,0.5448717948717947,0.6089743589743586,0.6794871794871793,0.7115384615384612,0.5897435897435899,0.775641025641026,0.7564102564102564,0.9102564102564106,0.9487179487179485,0.849358974358974,0.7179487179487176,0.6730769230769234,0.5641025641025643,0.6153846153846154,0.4551282051282053,0.23717948717948723,0.17948717948717974,0.39102564102564097,0.8653846153846154,0.775641025641026,0.8205128205128203,0.849358974358974,0.5961538461538463,0.5192307692307692,0.474358974358974,0.42948717948717974,0.6282051282051282,0.35897435897435903,0.27564102564102555,0.39423076923076916,0.34615384615384626,0.27564102564102555,0.33333333333333304,0.3846153846153846,0.6923076923076925,0.7820512820512819,0.666666666666667,0.5320512820512824,0.4230769230769229,0.46474358974358987,0.5352564102564106,0.7211538461538463,0.6346153846153841,0.7628205128205128,0.8525641025641026,0.8269230769230771,0.5897435897435899,0.5384615384615388,0.6025641025641022,0.4935897435897436,0.5641025641025643,0.5288461538461537,0.7179487179487176,0.583333333333333,0.21153846153846168,0.15384615384615374,0.6538461538461537,0.8846153846153846,0.858974358974359,0.49999999999999956,0.4551282051282053,0.5352564102564106,0.5961538461538463,0.8076923076923079,0.6121794871794872,0.7371794871794868,0.8173076923076921,0.9487179487179485,0.5929487179487181,0.5641025641025643,0.6346153846153841,0.7948717948717947,0.6314102564102564,0.5288461538461537,0.4358974358974361,0.7307692307692308,0.7435897435897432,0.7532051282051282,0.8205128205128203,0.8461538461538458,1.0,0.6923076923076925,0.5897435897435899,0.5384615384615388,0.740384615384615,0.9615384615384617,0.4679487179487176,0.8429487179487176,0.7948717948717947,0.7243589743589745,0.625,0.6698717948717952,0.6057692307692304,0.4935897435897436,0.4679487179487176,0.42948717948717974,0.35256410256410264,0.33974358974358987,0.21153846153846168,0.5448717948717947,0.5641025641025643,0.708333333333333,0.6955128205128207,0.4903846153846154,0.4711538461538458,0.32051282051282026,0.3782051282051282,0.3974358974358969,0.7275641025641026,0.7467948717948718,0.7788461538461537,0.6955128205128207,0.6634615384615383,0.7564102564102564,0.7179487179487176,0.4230769230769229,0.4711538461538458,0.4358974358974361,0.5192307692307692,0.34615384615384626,0.6410256410256414,0.4871794871794872,0.740384615384615,0.6025641025641022,0.8461538461538458,0.8205128205128203,0.7307692307692308,0.7564102564102564,0.6987179487179489,0.6858974358974357,0.8749999999999996,0.6282051282051282,0.5512820512820511,0.4679487179487176,0.4903846153846154,0.5224358974358974,0.6057692307692304,0.5576923076923075,0.5320512820512824,0.9967948717948718,0.9839743589743586,0.5576923076923075,0.27243589743589736,0.349358974358974,0.39102564102564097,0.4358974358974361,0.4230769230769229,0.7243589743589745,0.75,0.9166666666666665,0.9551282051282048,0.8397435897435894,0.8205128205128203,0.7884615384615383,0.7467948717948718,0.6955128205128207,0.5192307692307692,0.625,0.5641025641025643,0.6378205128205123,0.5288461538461537,0.4583333333333335,0.39423076923076916,0.5288461538461537,0.5544871794871793,0.5993589743589745,0.708333333333333,0.5929487179487181,0.4903846153846154,0.4711538461538458,0.40705128205128194,0.8044871794871797,0.7788461538461537,0.7596153846153846,0.766025641025641,0.5032051282051277,0.349358974358974,0.28205128205128194,0.43269230769230793,0.6282051282051282,0.7179487179487176,0.5641025641025643,0.7115384615384612,0.6185897435897436,0.5384615384615388,0.6634615384615383,0.6506410256410255,0.5673076923076925,0.7051282051282048,0.5576923076923075,0.9230769230769229,0.7435897435897432,0.5032051282051277,0.5641025641025643,0.5897435897435899,0.6282051282051282,0.8141025641025639,0.7467948717948718,0.4134615384615383,0.49999999999999956,0.6378205128205123,0.6282051282051282,0.6025641025641022,0.5288461538461537,0.4391025641025639,0.75,0.4935897435897436,0.4551282051282053,0.33974358974358987,0.26923076923076916,0.3878205128205128,0.3685897435897436,0.6923076923076925,0.849358974358974,0.583333333333333,0.5416666666666665,0.6185897435897436,0.5897435897435899,0.740384615384615,0.6378205128205123,0.6730769230769234,0.9166666666666665,0.7884615384615383,0.766025641025641,0.7307692307692308,0.7115384615384612,0.7051282051282048,0.27243589743589736,0.34294871794871806,0.375,0.44230769230769207,0.4871794871794872,0.5673076923076925,0.5993589743589745,0.740384615384615,0.7820512820512819,0.5929487179487181,0.3846153846153846,0.6282051282051282,0.5288461538461537,0.5608974358974361,0.5224358974358974,0.6410256410256414,0.7371794871794868,0.7051282051282048,0.5544871794871793,0.5769230769230766,0.6217948717948718,0.7628205128205128,0.7051282051282048,0.3974358974358969,0.42628205128205154,0.40705128205128194,0.33974358974358987,0.3878205128205128,0.6410256410256414,0.6057692307692304,0.5448717948717947,0.5256410256410255,0.4711538461538458,0.44230769230769207,0.4903846153846154,0.75,0.39102564102564097,0.33974358974358987,0.6314102564102564,0.349358974358974,0.5961538461538463,0.4230769230769229,0.4519230769230771,0.5576923076923075,0.5929487179487181,0.740384615384615,0.6378205128205123,0.8557692307692308,0.6217948717948718,0.5961538461538463,0.5320512820512824,0.6282051282051282,0.4615384615384617,0.42628205128205154,0.1730769230769229,0.20192307692307665,0.26923076923076916,0.1730769230769229,0.14423076923076916,0.3974358974358969,0.4711538461538458,0.5993589743589745,0.4038461538461542,0.4391025641025639,0.27884615384615374,0.4230769230769229,0.6314102564102564,0.349358974358974,0.26923076923076916,0.5256410256410255,0.5897435897435899,0.8782051282051277,0.7788461538461537,0.49999999999999956,0.6730769230769234,0.7596153846153846,0.4935897435897436,0.21153846153846168,0.34615384615384626,0.39423076923076916,0.4615384615384617,0.775641025641026,0.9038461538461533,0.5576923076923075,0.27243589743589736,0.27564102564102555,0.20192307692307665,0.2435897435897436,0.27243589743589736,0.5224358974358974,0.6538461538461537,0.5993589743589745,0.7532051282051282,0.4679487179487176,0.9423076923076925,0.9679487179487181,0.3717948717948718,0.4166666666666665,0.32051282051282026,0.5256410256410255,0.4615384615384617,0.5929487179487181,0.7435897435897432,0.6282051282051282,0.7788461538461537,0.7179487179487176,0.740384615384615,0.849358974358974,0.6346153846153841,0.9166666666666665]},{\"boxpoints\":\"outliers\",\"marker\":{\"line\":{\"color\":\"black\",\"width\":0.5},\"opacity\":0.5},\"name\":\"Research\",\"notched\":true,\"type\":\"box\",\"y\":[1.0,1.0,1.0,1.0,0.0,1.0,1.0,0.0,0.0,0.0,1.0,1.0,1.0,1.0,1.0,0.0,0.0,1.0,0.0,0.0,1.0,0.0,1.0,1.0,1.0,1.0,0.0,1.0,0.0,0.0,1.0,1.0,1.0,1.0,1.0,1.0,0.0,0.0,0.0,0.0,1.0,1.0,1.0,0.0,1.0,1.0,1.0,0.0,1.0,1.0,1.0,1.0,1.0,1.0,0.0,0.0,0.0,0.0,1.0,0.0,0.0,0.0,1.0,1.0,0.0,0.0,0.0,1.0,1.0,1.0,1.0,1.0,1.0,1.0,0.0,1.0,1.0,0.0,1.0,0.0,1.0,1.0,1.0,1.0,1.0,0.0,0.0,0.0,0.0,1.0,1.0,0.0,0.0,1.0,0.0,0.0,0.0,1.0,1.0,1.0,1.0,0.0,0.0,0.0,1.0,1.0,1.0,1.0,1.0,0.0,0.0,1.0,1.0,0.0,1.0,1.0,0.0,0.0,0.0,1.0,1.0,1.0,0.0,0.0,0.0,1.0,1.0,1.0,1.0,1.0,1.0,0.0,0.0,0.0,1.0,1.0,0.0,1.0,1.0,0.0,1.0,1.0,1.0,1.0,1.0,1.0,0.0,1.0,1.0,1.0,1.0,1.0,1.0,0.0,0.0,0.0,0.0,0.0,0.0,0.0,0.0,0.0,0.0,0.0,1.0,0.0,0.0,0.0,1.0,0.0,1.0,1.0,1.0,1.0,1.0,1.0,1.0,0.0,0.0,0.0,0.0,0.0,0.0,0.0,0.0,1.0,1.0,1.0,1.0,1.0,1.0,1.0,1.0,1.0,0.0,1.0,0.0,0.0,0.0,0.0,1.0,1.0,1.0,1.0,0.0,0.0,0.0,1.0,0.0,1.0,1.0,1.0,1.0,1.0,1.0,1.0,1.0,1.0,1.0,0.0,0.0,0.0,0.0,0.0,0.0,0.0,0.0,0.0,0.0,1.0,0.0,1.0,0.0,0.0,1.0,1.0,1.0,1.0,0.0,0.0,0.0,0.0,1.0,1.0,0.0,1.0,0.0,0.0,1.0,1.0,1.0,0.0,1.0,1.0,0.0,0.0,0.0,1.0,1.0,1.0,1.0,0.0,1.0,1.0,1.0,0.0,0.0,1.0,0.0,0.0,1.0,0.0,0.0,1.0,0.0,1.0,1.0,0.0,0.0,0.0,1.0,1.0,1.0,1.0,1.0,1.0,1.0,1.0,0.0,0.0,0.0,0.0,0.0,1.0,1.0,0.0,0.0,0.0,1.0,0.0,0.0,0.0,1.0,1.0,0.0,1.0,1.0,1.0,0.0,0.0,1.0,1.0,1.0,0.0,0.0,0.0,0.0,0.0,1.0,1.0,1.0,1.0,0.0,0.0,0.0,1.0,0.0,0.0,1.0,0.0,1.0,1.0,1.0,1.0,1.0,1.0,0.0,1.0,1.0,1.0,1.0,1.0,0.0,0.0,0.0,0.0,0.0,0.0,0.0,0.0,1.0,1.0,1.0,0.0,0.0,0.0,1.0,1.0,0.0,0.0,1.0,1.0,1.0,0.0,1.0,1.0,1.0,0.0,0.0,1.0,0.0,1.0,1.0,1.0,0.0,0.0,0.0,0.0,0.0,1.0,1.0,1.0,1.0,0.0,1.0,1.0,0.0,0.0,0.0,1.0,0.0,0.0,1.0,0.0,1.0,1.0,1.0,1.0,0.0,1.0]}],                        {\"template\":{\"data\":{\"bar\":[{\"error_x\":{\"color\":\"#2a3f5f\"},\"error_y\":{\"color\":\"#2a3f5f\"},\"marker\":{\"line\":{\"color\":\"#E5ECF6\",\"width\":0.5},\"pattern\":{\"fillmode\":\"overlay\",\"size\":10,\"solidity\":0.2}},\"type\":\"bar\"}],\"barpolar\":[{\"marker\":{\"line\":{\"color\":\"#E5ECF6\",\"width\":0.5},\"pattern\":{\"fillmode\":\"overlay\",\"size\":10,\"solidity\":0.2}},\"type\":\"barpolar\"}],\"carpet\":[{\"aaxis\":{\"endlinecolor\":\"#2a3f5f\",\"gridcolor\":\"white\",\"linecolor\":\"white\",\"minorgridcolor\":\"white\",\"startlinecolor\":\"#2a3f5f\"},\"baxis\":{\"endlinecolor\":\"#2a3f5f\",\"gridcolor\":\"white\",\"linecolor\":\"white\",\"minorgridcolor\":\"white\",\"startlinecolor\":\"#2a3f5f\"},\"type\":\"carpet\"}],\"choropleth\":[{\"colorbar\":{\"outlinewidth\":0,\"ticks\":\"\"},\"type\":\"choropleth\"}],\"contour\":[{\"colorbar\":{\"outlinewidth\":0,\"ticks\":\"\"},\"colorscale\":[[0.0,\"#0d0887\"],[0.1111111111111111,\"#46039f\"],[0.2222222222222222,\"#7201a8\"],[0.3333333333333333,\"#9c179e\"],[0.4444444444444444,\"#bd3786\"],[0.5555555555555556,\"#d8576b\"],[0.6666666666666666,\"#ed7953\"],[0.7777777777777778,\"#fb9f3a\"],[0.8888888888888888,\"#fdca26\"],[1.0,\"#f0f921\"]],\"type\":\"contour\"}],\"contourcarpet\":[{\"colorbar\":{\"outlinewidth\":0,\"ticks\":\"\"},\"type\":\"contourcarpet\"}],\"heatmap\":[{\"colorbar\":{\"outlinewidth\":0,\"ticks\":\"\"},\"colorscale\":[[0.0,\"#0d0887\"],[0.1111111111111111,\"#46039f\"],[0.2222222222222222,\"#7201a8\"],[0.3333333333333333,\"#9c179e\"],[0.4444444444444444,\"#bd3786\"],[0.5555555555555556,\"#d8576b\"],[0.6666666666666666,\"#ed7953\"],[0.7777777777777778,\"#fb9f3a\"],[0.8888888888888888,\"#fdca26\"],[1.0,\"#f0f921\"]],\"type\":\"heatmap\"}],\"heatmapgl\":[{\"colorbar\":{\"outlinewidth\":0,\"ticks\":\"\"},\"colorscale\":[[0.0,\"#0d0887\"],[0.1111111111111111,\"#46039f\"],[0.2222222222222222,\"#7201a8\"],[0.3333333333333333,\"#9c179e\"],[0.4444444444444444,\"#bd3786\"],[0.5555555555555556,\"#d8576b\"],[0.6666666666666666,\"#ed7953\"],[0.7777777777777778,\"#fb9f3a\"],[0.8888888888888888,\"#fdca26\"],[1.0,\"#f0f921\"]],\"type\":\"heatmapgl\"}],\"histogram\":[{\"marker\":{\"pattern\":{\"fillmode\":\"overlay\",\"size\":10,\"solidity\":0.2}},\"type\":\"histogram\"}],\"histogram2d\":[{\"colorbar\":{\"outlinewidth\":0,\"ticks\":\"\"},\"colorscale\":[[0.0,\"#0d0887\"],[0.1111111111111111,\"#46039f\"],[0.2222222222222222,\"#7201a8\"],[0.3333333333333333,\"#9c179e\"],[0.4444444444444444,\"#bd3786\"],[0.5555555555555556,\"#d8576b\"],[0.6666666666666666,\"#ed7953\"],[0.7777777777777778,\"#fb9f3a\"],[0.8888888888888888,\"#fdca26\"],[1.0,\"#f0f921\"]],\"type\":\"histogram2d\"}],\"histogram2dcontour\":[{\"colorbar\":{\"outlinewidth\":0,\"ticks\":\"\"},\"colorscale\":[[0.0,\"#0d0887\"],[0.1111111111111111,\"#46039f\"],[0.2222222222222222,\"#7201a8\"],[0.3333333333333333,\"#9c179e\"],[0.4444444444444444,\"#bd3786\"],[0.5555555555555556,\"#d8576b\"],[0.6666666666666666,\"#ed7953\"],[0.7777777777777778,\"#fb9f3a\"],[0.8888888888888888,\"#fdca26\"],[1.0,\"#f0f921\"]],\"type\":\"histogram2dcontour\"}],\"mesh3d\":[{\"colorbar\":{\"outlinewidth\":0,\"ticks\":\"\"},\"type\":\"mesh3d\"}],\"parcoords\":[{\"line\":{\"colorbar\":{\"outlinewidth\":0,\"ticks\":\"\"}},\"type\":\"parcoords\"}],\"pie\":[{\"automargin\":true,\"type\":\"pie\"}],\"scatter\":[{\"marker\":{\"colorbar\":{\"outlinewidth\":0,\"ticks\":\"\"}},\"type\":\"scatter\"}],\"scatter3d\":[{\"line\":{\"colorbar\":{\"outlinewidth\":0,\"ticks\":\"\"}},\"marker\":{\"colorbar\":{\"outlinewidth\":0,\"ticks\":\"\"}},\"type\":\"scatter3d\"}],\"scattercarpet\":[{\"marker\":{\"colorbar\":{\"outlinewidth\":0,\"ticks\":\"\"}},\"type\":\"scattercarpet\"}],\"scattergeo\":[{\"marker\":{\"colorbar\":{\"outlinewidth\":0,\"ticks\":\"\"}},\"type\":\"scattergeo\"}],\"scattergl\":[{\"marker\":{\"colorbar\":{\"outlinewidth\":0,\"ticks\":\"\"}},\"type\":\"scattergl\"}],\"scattermapbox\":[{\"marker\":{\"colorbar\":{\"outlinewidth\":0,\"ticks\":\"\"}},\"type\":\"scattermapbox\"}],\"scatterpolar\":[{\"marker\":{\"colorbar\":{\"outlinewidth\":0,\"ticks\":\"\"}},\"type\":\"scatterpolar\"}],\"scatterpolargl\":[{\"marker\":{\"colorbar\":{\"outlinewidth\":0,\"ticks\":\"\"}},\"type\":\"scatterpolargl\"}],\"scatterternary\":[{\"marker\":{\"colorbar\":{\"outlinewidth\":0,\"ticks\":\"\"}},\"type\":\"scatterternary\"}],\"surface\":[{\"colorbar\":{\"outlinewidth\":0,\"ticks\":\"\"},\"colorscale\":[[0.0,\"#0d0887\"],[0.1111111111111111,\"#46039f\"],[0.2222222222222222,\"#7201a8\"],[0.3333333333333333,\"#9c179e\"],[0.4444444444444444,\"#bd3786\"],[0.5555555555555556,\"#d8576b\"],[0.6666666666666666,\"#ed7953\"],[0.7777777777777778,\"#fb9f3a\"],[0.8888888888888888,\"#fdca26\"],[1.0,\"#f0f921\"]],\"type\":\"surface\"}],\"table\":[{\"cells\":{\"fill\":{\"color\":\"#EBF0F8\"},\"line\":{\"color\":\"white\"}},\"header\":{\"fill\":{\"color\":\"#C8D4E3\"},\"line\":{\"color\":\"white\"}},\"type\":\"table\"}]},\"layout\":{\"annotationdefaults\":{\"arrowcolor\":\"#2a3f5f\",\"arrowhead\":0,\"arrowwidth\":1},\"autotypenumbers\":\"strict\",\"coloraxis\":{\"colorbar\":{\"outlinewidth\":0,\"ticks\":\"\"}},\"colorscale\":{\"diverging\":[[0,\"#8e0152\"],[0.1,\"#c51b7d\"],[0.2,\"#de77ae\"],[0.3,\"#f1b6da\"],[0.4,\"#fde0ef\"],[0.5,\"#f7f7f7\"],[0.6,\"#e6f5d0\"],[0.7,\"#b8e186\"],[0.8,\"#7fbc41\"],[0.9,\"#4d9221\"],[1,\"#276419\"]],\"sequential\":[[0.0,\"#0d0887\"],[0.1111111111111111,\"#46039f\"],[0.2222222222222222,\"#7201a8\"],[0.3333333333333333,\"#9c179e\"],[0.4444444444444444,\"#bd3786\"],[0.5555555555555556,\"#d8576b\"],[0.6666666666666666,\"#ed7953\"],[0.7777777777777778,\"#fb9f3a\"],[0.8888888888888888,\"#fdca26\"],[1.0,\"#f0f921\"]],\"sequentialminus\":[[0.0,\"#0d0887\"],[0.1111111111111111,\"#46039f\"],[0.2222222222222222,\"#7201a8\"],[0.3333333333333333,\"#9c179e\"],[0.4444444444444444,\"#bd3786\"],[0.5555555555555556,\"#d8576b\"],[0.6666666666666666,\"#ed7953\"],[0.7777777777777778,\"#fb9f3a\"],[0.8888888888888888,\"#fdca26\"],[1.0,\"#f0f921\"]]},\"colorway\":[\"#636efa\",\"#EF553B\",\"#00cc96\",\"#ab63fa\",\"#FFA15A\",\"#19d3f3\",\"#FF6692\",\"#B6E880\",\"#FF97FF\",\"#FECB52\"],\"font\":{\"color\":\"#2a3f5f\"},\"geo\":{\"bgcolor\":\"white\",\"lakecolor\":\"white\",\"landcolor\":\"#E5ECF6\",\"showlakes\":true,\"showland\":true,\"subunitcolor\":\"white\"},\"hoverlabel\":{\"align\":\"left\"},\"hovermode\":\"closest\",\"mapbox\":{\"style\":\"light\"},\"paper_bgcolor\":\"white\",\"plot_bgcolor\":\"#E5ECF6\",\"polar\":{\"angularaxis\":{\"gridcolor\":\"white\",\"linecolor\":\"white\",\"ticks\":\"\"},\"bgcolor\":\"#E5ECF6\",\"radialaxis\":{\"gridcolor\":\"white\",\"linecolor\":\"white\",\"ticks\":\"\"}},\"scene\":{\"xaxis\":{\"backgroundcolor\":\"#E5ECF6\",\"gridcolor\":\"white\",\"gridwidth\":2,\"linecolor\":\"white\",\"showbackground\":true,\"ticks\":\"\",\"zerolinecolor\":\"white\"},\"yaxis\":{\"backgroundcolor\":\"#E5ECF6\",\"gridcolor\":\"white\",\"gridwidth\":2,\"linecolor\":\"white\",\"showbackground\":true,\"ticks\":\"\",\"zerolinecolor\":\"white\"},\"zaxis\":{\"backgroundcolor\":\"#E5ECF6\",\"gridcolor\":\"white\",\"gridwidth\":2,\"linecolor\":\"white\",\"showbackground\":true,\"ticks\":\"\",\"zerolinecolor\":\"white\"}},\"shapedefaults\":{\"line\":{\"color\":\"#2a3f5f\"}},\"ternary\":{\"aaxis\":{\"gridcolor\":\"white\",\"linecolor\":\"white\",\"ticks\":\"\"},\"baxis\":{\"gridcolor\":\"white\",\"linecolor\":\"white\",\"ticks\":\"\"},\"bgcolor\":\"#E5ECF6\",\"caxis\":{\"gridcolor\":\"white\",\"linecolor\":\"white\",\"ticks\":\"\"}},\"title\":{\"x\":0.05},\"xaxis\":{\"automargin\":true,\"gridcolor\":\"white\",\"linecolor\":\"white\",\"ticks\":\"\",\"title\":{\"standoff\":15},\"zerolinecolor\":\"white\",\"zerolinewidth\":2},\"yaxis\":{\"automargin\":true,\"gridcolor\":\"white\",\"linecolor\":\"white\",\"ticks\":\"\",\"title\":{\"standoff\":15},\"zerolinecolor\":\"white\",\"zerolinewidth\":2}}},\"title\":{\"text\":\"Checking the range and scale of all the features.\",\"x\":0.5,\"y\":0.88}},                        {\"responsive\": true}                    ).then(function(){\n",
       "                            \n",
       "var gd = document.getElementById('74becd20-e790-4597-b6a2-c308dc5be409');\n",
       "var x = new MutationObserver(function (mutations, observer) {{\n",
       "        var display = window.getComputedStyle(gd).display;\n",
       "        if (!display || display === 'none') {{\n",
       "            console.log([gd, 'removed!']);\n",
       "            Plotly.purge(gd);\n",
       "            observer.disconnect();\n",
       "        }}\n",
       "}});\n",
       "\n",
       "// Listen for the removal of the full notebook cells\n",
       "var notebookContainer = gd.closest('#notebook-container');\n",
       "if (notebookContainer) {{\n",
       "    x.observe(notebookContainer, {childList: true});\n",
       "}}\n",
       "\n",
       "// Listen for the clearing of the current output cell\n",
       "var outputEl = gd.closest('.output');\n",
       "if (outputEl) {{\n",
       "    x.observe(outputEl, {childList: true});\n",
       "}}\n",
       "\n",
       "                        })                };                });            </script>        </div>"
      ]
     },
     "metadata": {},
     "output_type": "display_data"
    }
   ],
   "source": [
    "data = []\n",
    "for i in data_scaled_using_mms.columns[:-1]:\n",
    "    data .append(go.Box(y = data_scaled_using_mms[i], \n",
    "                        marker = dict(line = {'color': 'black', 'width': 0.5}, \n",
    "                                      opacity = 0.5), \n",
    "                        name = str(i), \n",
    "                        boxpoints = 'outliers', \n",
    "                        notched = True))\n",
    "\n",
    "layout = go.Layout(title = dict(text = 'Checking the range and scale of all the features.', \n",
    "                                x = 0.5, \n",
    "                                y = 0.88))\n",
    "\n",
    "fig = go.Figure(data = data, \n",
    "                layout = layout)\n",
    "\n",
    "iplot(fig)"
   ]
  },
  {
   "cell_type": "code",
   "execution_count": 23,
   "id": "af2010f4",
   "metadata": {},
   "outputs": [
    {
     "name": "stdout",
     "output_type": "stream",
     "text": [
      "Shape of X:  (400, 7)\n",
      "Shape of y:  (400,)\n"
     ]
    }
   ],
   "source": [
    "# Lets split out dependent and independent variables.\n",
    "X = data_col_chng.iloc[:, :-1].values\n",
    "y = data_col_chng.iloc[:, -1].values\n",
    "print('Shape of X: ', X.shape)\n",
    "print('Shape of y: ', y.shape)"
   ]
  },
  {
   "cell_type": "code",
   "execution_count": 24,
   "id": "a21971c9",
   "metadata": {},
   "outputs": [
    {
     "name": "stdout",
     "output_type": "stream",
     "text": [
      "Shape of X_train:  (320, 7)\n",
      "Shape of X_test:  (80, 7)\n",
      "Shape of y_train:  (320,)\n",
      "Shape of y_test:  (80,)\n"
     ]
    }
   ],
   "source": [
    "# Lets split our dataset into train & test data.\n",
    "from sklearn.model_selection import train_test_split\n",
    "X_train, X_test, y_train, y_test = train_test_split(X, y, test_size = 0.2, random_state = 42)\n",
    "print('Shape of X_train: ', X_train.shape)\n",
    "print('Shape of X_test: ', X_test.shape)\n",
    "print('Shape of y_train: ', y_train.shape)\n",
    "print('Shape of y_test: ', y_test.shape)"
   ]
  },
  {
   "cell_type": "code",
   "execution_count": 25,
   "id": "c8d9c734",
   "metadata": {},
   "outputs": [],
   "source": [
    "X_train_ss_scaled = X_train\n",
    "X_test_ss_scaled = X_test\n",
    "X_train_mms_scaled = X_train\n",
    "X_test_mms_scaled = X_test\n",
    "\n",
    "y_train_ss_scaled = y_train\n",
    "y_test_ss_scaled = y_test\n",
    "y_train_mms_scaled = y_train\n",
    "y_test_mms_scaled = y_test"
   ]
  },
  {
   "cell_type": "code",
   "execution_count": 26,
   "id": "1da84cfa",
   "metadata": {},
   "outputs": [],
   "source": [
    "# Lets scale our data using MinMaxScaler.\n",
    "mms_train_test = MinMaxScaler()\n",
    "X_train_mms_scaled[:, :-1] = mms_train_test.fit_transform(X_train[:, :-1])\n",
    "X_test_mms_scaled[:, :-1] = mms_train_test.transform(X_test[:, :-1])"
   ]
  },
  {
   "cell_type": "code",
   "execution_count": 27,
   "id": "bcb4ec88",
   "metadata": {},
   "outputs": [],
   "source": [
    "ss_train_test = StandardScaler()\n",
    "X_train_ss_scaled[:, :-1] = ss_train_test.fit_transform(X_train[:, :-1])\n",
    "X_test_ss_scaled[:, :-1] = ss_train_test.transform(X_test[:, :-1])"
   ]
  },
  {
   "cell_type": "code",
   "execution_count": 28,
   "id": "3ca32a8d",
   "metadata": {},
   "outputs": [
    {
     "name": "stdout",
     "output_type": "stream",
     "text": [
      "0.8212082591486991\n"
     ]
    }
   ],
   "source": [
    "# Creating a Multi-Linear Regression Model with MinMaxScaler\n",
    "from sklearn.linear_model import LinearRegression\n",
    "from sklearn.metrics import r2_score\n",
    "l_regressor = LinearRegression()\n",
    "l_regressor.fit(X_train_mms_scaled, y_train)\n",
    "y_pred_l_reg = l_regressor.predict(X_test_mms_scaled)\n",
    "print(r2_score(y_test, y_pred_l_reg))"
   ]
  },
  {
   "cell_type": "code",
   "execution_count": 29,
   "id": "1b1628b3",
   "metadata": {},
   "outputs": [
    {
     "name": "stdout",
     "output_type": "stream",
     "text": [
      "0.8212082591486991\n"
     ]
    }
   ],
   "source": [
    "# Creating a Multi-Linear Regression Model with StandardScaler\n",
    "from sklearn.linear_model import LinearRegression\n",
    "from sklearn.metrics import r2_score\n",
    "l_regressor_ss = LinearRegression()\n",
    "l_regressor_ss.fit(X_train_ss_scaled, y_train)\n",
    "y_pred_l_reg_ss = l_regressor_ss.predict(X_test_ss_scaled)\n",
    "print(r2_score(y_test, y_pred_l_reg_ss))"
   ]
  },
  {
   "cell_type": "code",
   "execution_count": 30,
   "id": "2b7f33e4",
   "metadata": {},
   "outputs": [
    {
     "data": {
      "application/vnd.plotly.v1+json": {
       "config": {
        "linkText": "Export to plot.ly",
        "plotlyServerURL": "https://plot.ly",
        "showLink": false
       },
       "data": [
        {
         "marker": {
          "color": "skyblue",
          "size": 16,
          "symbol": "circle"
         },
         "mode": "markers",
         "type": "scatter",
         "x": [
          0.68,
          0.68,
          0.9,
          0.79,
          0.44,
          0.94,
          0.43,
          0.36,
          0.72,
          0.85,
          0.45,
          0.93,
          0.64,
          0.93,
          0.71,
          0.53,
          0.66,
          0.34,
          0.74,
          0.96,
          0.64,
          0.54,
          0.71,
          0.54,
          0.92,
          0.84,
          0.59,
          0.61,
          0.7,
          0.74,
          0.82,
          0.94,
          0.71,
          0.46,
          0.69,
          0.56,
          0.72,
          0.58,
          0.61,
          0.9,
          0.73,
          0.64,
          0.74,
          0.94,
          0.92,
          0.82,
          0.96,
          0.71,
          0.94,
          0.89,
          0.86,
          0.73,
          0.81,
          0.94,
          0.39,
          0.48,
          0.71,
          0.86,
          0.65,
          0.86,
          0.57,
          0.61,
          0.79,
          0.44,
          0.64,
          0.74,
          0.64,
          0.83,
          0.89,
          0.84,
          0.75,
          0.84,
          0.9,
          0.88,
          0.49,
          0.72,
          0.64,
          0.67,
          0.9,
          0.79
         ],
         "y": [
          0.6511744621562404,
          0.7236874052880304,
          0.9353680948898283,
          0.8216431599284456,
          0.5815867330167597,
          0.9286301577067622,
          0.526823656711132,
          0.5430899321465714,
          0.6594058290894163,
          0.838349237347249,
          0.720088327216307,
          0.9074976908253315,
          0.5535447579005408,
          0.890086476343807,
          0.703895385196583,
          0.6866447283039697,
          0.666572682622483,
          0.4819609638185237,
          0.6905721696870097,
          0.9749313233182751,
          0.5880243295896874,
          0.6528688096986128,
          0.7115009770229238,
          0.5352864650837769,
          0.9467700727682588,
          0.8098294740994076,
          0.6945938261856712,
          0.564956133452637,
          0.6819242342076034,
          0.8103987769555776,
          0.8079648131416688,
          0.9464098346588325,
          0.6459949432472323,
          0.5110491780774973,
          0.6598366254206328,
          0.6690781067557909,
          0.7157227063859817,
          0.6455687819922271,
          0.615407018484829,
          0.8736783261988391,
          0.7427526112375632,
          0.5978264891364993,
          0.7745668347476338,
          0.9594489673905005,
          0.8512412513003127,
          0.8355482490135828,
          0.9466242208490192,
          0.6482291897354917,
          0.9224759372753416,
          0.8590618261928153,
          0.8962499831735263,
          0.7286974340956645,
          0.7887478300685781,
          0.9514270325373412,
          0.5732580290199862,
          0.5874472284651544,
          0.6862131600324466,
          0.8454464603952565,
          0.6049514388517195,
          0.8480891905869044,
          0.6664289426607124,
          0.6552496855543406,
          0.7002480823660896,
          0.5120690533999568,
          0.6293037557932989,
          0.717370102924103,
          0.6220083838280792,
          0.8417033401397045,
          0.8567580171271927,
          0.7988621708451308,
          0.72196477897939,
          0.8144820267775112,
          0.8737360899971147,
          0.8333208499584507,
          0.5255424736438854,
          0.7218181821036731,
          0.6896438046700191,
          0.5944260873999823,
          0.8784057939048693,
          0.7577933324434994
         ]
        }
       ],
       "layout": {
        "template": {
         "data": {
          "bar": [
           {
            "error_x": {
             "color": "#f2f5fa"
            },
            "error_y": {
             "color": "#f2f5fa"
            },
            "marker": {
             "line": {
              "color": "rgb(17,17,17)",
              "width": 0.5
             },
             "pattern": {
              "fillmode": "overlay",
              "size": 10,
              "solidity": 0.2
             }
            },
            "type": "bar"
           }
          ],
          "barpolar": [
           {
            "marker": {
             "line": {
              "color": "rgb(17,17,17)",
              "width": 0.5
             },
             "pattern": {
              "fillmode": "overlay",
              "size": 10,
              "solidity": 0.2
             }
            },
            "type": "barpolar"
           }
          ],
          "carpet": [
           {
            "aaxis": {
             "endlinecolor": "#A2B1C6",
             "gridcolor": "#506784",
             "linecolor": "#506784",
             "minorgridcolor": "#506784",
             "startlinecolor": "#A2B1C6"
            },
            "baxis": {
             "endlinecolor": "#A2B1C6",
             "gridcolor": "#506784",
             "linecolor": "#506784",
             "minorgridcolor": "#506784",
             "startlinecolor": "#A2B1C6"
            },
            "type": "carpet"
           }
          ],
          "choropleth": [
           {
            "colorbar": {
             "outlinewidth": 0,
             "ticks": ""
            },
            "type": "choropleth"
           }
          ],
          "contour": [
           {
            "colorbar": {
             "outlinewidth": 0,
             "ticks": ""
            },
            "colorscale": [
             [
              0,
              "#0d0887"
             ],
             [
              0.1111111111111111,
              "#46039f"
             ],
             [
              0.2222222222222222,
              "#7201a8"
             ],
             [
              0.3333333333333333,
              "#9c179e"
             ],
             [
              0.4444444444444444,
              "#bd3786"
             ],
             [
              0.5555555555555556,
              "#d8576b"
             ],
             [
              0.6666666666666666,
              "#ed7953"
             ],
             [
              0.7777777777777778,
              "#fb9f3a"
             ],
             [
              0.8888888888888888,
              "#fdca26"
             ],
             [
              1,
              "#f0f921"
             ]
            ],
            "type": "contour"
           }
          ],
          "contourcarpet": [
           {
            "colorbar": {
             "outlinewidth": 0,
             "ticks": ""
            },
            "type": "contourcarpet"
           }
          ],
          "heatmap": [
           {
            "colorbar": {
             "outlinewidth": 0,
             "ticks": ""
            },
            "colorscale": [
             [
              0,
              "#0d0887"
             ],
             [
              0.1111111111111111,
              "#46039f"
             ],
             [
              0.2222222222222222,
              "#7201a8"
             ],
             [
              0.3333333333333333,
              "#9c179e"
             ],
             [
              0.4444444444444444,
              "#bd3786"
             ],
             [
              0.5555555555555556,
              "#d8576b"
             ],
             [
              0.6666666666666666,
              "#ed7953"
             ],
             [
              0.7777777777777778,
              "#fb9f3a"
             ],
             [
              0.8888888888888888,
              "#fdca26"
             ],
             [
              1,
              "#f0f921"
             ]
            ],
            "type": "heatmap"
           }
          ],
          "heatmapgl": [
           {
            "colorbar": {
             "outlinewidth": 0,
             "ticks": ""
            },
            "colorscale": [
             [
              0,
              "#0d0887"
             ],
             [
              0.1111111111111111,
              "#46039f"
             ],
             [
              0.2222222222222222,
              "#7201a8"
             ],
             [
              0.3333333333333333,
              "#9c179e"
             ],
             [
              0.4444444444444444,
              "#bd3786"
             ],
             [
              0.5555555555555556,
              "#d8576b"
             ],
             [
              0.6666666666666666,
              "#ed7953"
             ],
             [
              0.7777777777777778,
              "#fb9f3a"
             ],
             [
              0.8888888888888888,
              "#fdca26"
             ],
             [
              1,
              "#f0f921"
             ]
            ],
            "type": "heatmapgl"
           }
          ],
          "histogram": [
           {
            "marker": {
             "pattern": {
              "fillmode": "overlay",
              "size": 10,
              "solidity": 0.2
             }
            },
            "type": "histogram"
           }
          ],
          "histogram2d": [
           {
            "colorbar": {
             "outlinewidth": 0,
             "ticks": ""
            },
            "colorscale": [
             [
              0,
              "#0d0887"
             ],
             [
              0.1111111111111111,
              "#46039f"
             ],
             [
              0.2222222222222222,
              "#7201a8"
             ],
             [
              0.3333333333333333,
              "#9c179e"
             ],
             [
              0.4444444444444444,
              "#bd3786"
             ],
             [
              0.5555555555555556,
              "#d8576b"
             ],
             [
              0.6666666666666666,
              "#ed7953"
             ],
             [
              0.7777777777777778,
              "#fb9f3a"
             ],
             [
              0.8888888888888888,
              "#fdca26"
             ],
             [
              1,
              "#f0f921"
             ]
            ],
            "type": "histogram2d"
           }
          ],
          "histogram2dcontour": [
           {
            "colorbar": {
             "outlinewidth": 0,
             "ticks": ""
            },
            "colorscale": [
             [
              0,
              "#0d0887"
             ],
             [
              0.1111111111111111,
              "#46039f"
             ],
             [
              0.2222222222222222,
              "#7201a8"
             ],
             [
              0.3333333333333333,
              "#9c179e"
             ],
             [
              0.4444444444444444,
              "#bd3786"
             ],
             [
              0.5555555555555556,
              "#d8576b"
             ],
             [
              0.6666666666666666,
              "#ed7953"
             ],
             [
              0.7777777777777778,
              "#fb9f3a"
             ],
             [
              0.8888888888888888,
              "#fdca26"
             ],
             [
              1,
              "#f0f921"
             ]
            ],
            "type": "histogram2dcontour"
           }
          ],
          "mesh3d": [
           {
            "colorbar": {
             "outlinewidth": 0,
             "ticks": ""
            },
            "type": "mesh3d"
           }
          ],
          "parcoords": [
           {
            "line": {
             "colorbar": {
              "outlinewidth": 0,
              "ticks": ""
             }
            },
            "type": "parcoords"
           }
          ],
          "pie": [
           {
            "automargin": true,
            "type": "pie"
           }
          ],
          "scatter": [
           {
            "marker": {
             "line": {
              "color": "#283442"
             }
            },
            "type": "scatter"
           }
          ],
          "scatter3d": [
           {
            "line": {
             "colorbar": {
              "outlinewidth": 0,
              "ticks": ""
             }
            },
            "marker": {
             "colorbar": {
              "outlinewidth": 0,
              "ticks": ""
             }
            },
            "type": "scatter3d"
           }
          ],
          "scattercarpet": [
           {
            "marker": {
             "colorbar": {
              "outlinewidth": 0,
              "ticks": ""
             }
            },
            "type": "scattercarpet"
           }
          ],
          "scattergeo": [
           {
            "marker": {
             "colorbar": {
              "outlinewidth": 0,
              "ticks": ""
             }
            },
            "type": "scattergeo"
           }
          ],
          "scattergl": [
           {
            "marker": {
             "line": {
              "color": "#283442"
             }
            },
            "type": "scattergl"
           }
          ],
          "scattermapbox": [
           {
            "marker": {
             "colorbar": {
              "outlinewidth": 0,
              "ticks": ""
             }
            },
            "type": "scattermapbox"
           }
          ],
          "scatterpolar": [
           {
            "marker": {
             "colorbar": {
              "outlinewidth": 0,
              "ticks": ""
             }
            },
            "type": "scatterpolar"
           }
          ],
          "scatterpolargl": [
           {
            "marker": {
             "colorbar": {
              "outlinewidth": 0,
              "ticks": ""
             }
            },
            "type": "scatterpolargl"
           }
          ],
          "scatterternary": [
           {
            "marker": {
             "colorbar": {
              "outlinewidth": 0,
              "ticks": ""
             }
            },
            "type": "scatterternary"
           }
          ],
          "surface": [
           {
            "colorbar": {
             "outlinewidth": 0,
             "ticks": ""
            },
            "colorscale": [
             [
              0,
              "#0d0887"
             ],
             [
              0.1111111111111111,
              "#46039f"
             ],
             [
              0.2222222222222222,
              "#7201a8"
             ],
             [
              0.3333333333333333,
              "#9c179e"
             ],
             [
              0.4444444444444444,
              "#bd3786"
             ],
             [
              0.5555555555555556,
              "#d8576b"
             ],
             [
              0.6666666666666666,
              "#ed7953"
             ],
             [
              0.7777777777777778,
              "#fb9f3a"
             ],
             [
              0.8888888888888888,
              "#fdca26"
             ],
             [
              1,
              "#f0f921"
             ]
            ],
            "type": "surface"
           }
          ],
          "table": [
           {
            "cells": {
             "fill": {
              "color": "#506784"
             },
             "line": {
              "color": "rgb(17,17,17)"
             }
            },
            "header": {
             "fill": {
              "color": "#2a3f5f"
             },
             "line": {
              "color": "rgb(17,17,17)"
             }
            },
            "type": "table"
           }
          ]
         },
         "layout": {
          "annotationdefaults": {
           "arrowcolor": "#f2f5fa",
           "arrowhead": 0,
           "arrowwidth": 1
          },
          "autotypenumbers": "strict",
          "coloraxis": {
           "colorbar": {
            "outlinewidth": 0,
            "ticks": ""
           }
          },
          "colorscale": {
           "diverging": [
            [
             0,
             "#8e0152"
            ],
            [
             0.1,
             "#c51b7d"
            ],
            [
             0.2,
             "#de77ae"
            ],
            [
             0.3,
             "#f1b6da"
            ],
            [
             0.4,
             "#fde0ef"
            ],
            [
             0.5,
             "#f7f7f7"
            ],
            [
             0.6,
             "#e6f5d0"
            ],
            [
             0.7,
             "#b8e186"
            ],
            [
             0.8,
             "#7fbc41"
            ],
            [
             0.9,
             "#4d9221"
            ],
            [
             1,
             "#276419"
            ]
           ],
           "sequential": [
            [
             0,
             "#0d0887"
            ],
            [
             0.1111111111111111,
             "#46039f"
            ],
            [
             0.2222222222222222,
             "#7201a8"
            ],
            [
             0.3333333333333333,
             "#9c179e"
            ],
            [
             0.4444444444444444,
             "#bd3786"
            ],
            [
             0.5555555555555556,
             "#d8576b"
            ],
            [
             0.6666666666666666,
             "#ed7953"
            ],
            [
             0.7777777777777778,
             "#fb9f3a"
            ],
            [
             0.8888888888888888,
             "#fdca26"
            ],
            [
             1,
             "#f0f921"
            ]
           ],
           "sequentialminus": [
            [
             0,
             "#0d0887"
            ],
            [
             0.1111111111111111,
             "#46039f"
            ],
            [
             0.2222222222222222,
             "#7201a8"
            ],
            [
             0.3333333333333333,
             "#9c179e"
            ],
            [
             0.4444444444444444,
             "#bd3786"
            ],
            [
             0.5555555555555556,
             "#d8576b"
            ],
            [
             0.6666666666666666,
             "#ed7953"
            ],
            [
             0.7777777777777778,
             "#fb9f3a"
            ],
            [
             0.8888888888888888,
             "#fdca26"
            ],
            [
             1,
             "#f0f921"
            ]
           ]
          },
          "colorway": [
           "#636efa",
           "#EF553B",
           "#00cc96",
           "#ab63fa",
           "#FFA15A",
           "#19d3f3",
           "#FF6692",
           "#B6E880",
           "#FF97FF",
           "#FECB52"
          ],
          "font": {
           "color": "#f2f5fa"
          },
          "geo": {
           "bgcolor": "rgb(17,17,17)",
           "lakecolor": "rgb(17,17,17)",
           "landcolor": "rgb(17,17,17)",
           "showlakes": true,
           "showland": true,
           "subunitcolor": "#506784"
          },
          "hoverlabel": {
           "align": "left"
          },
          "hovermode": "closest",
          "mapbox": {
           "style": "dark"
          },
          "paper_bgcolor": "rgb(17,17,17)",
          "plot_bgcolor": "rgb(17,17,17)",
          "polar": {
           "angularaxis": {
            "gridcolor": "#506784",
            "linecolor": "#506784",
            "ticks": ""
           },
           "bgcolor": "rgb(17,17,17)",
           "radialaxis": {
            "gridcolor": "#506784",
            "linecolor": "#506784",
            "ticks": ""
           }
          },
          "scene": {
           "xaxis": {
            "backgroundcolor": "rgb(17,17,17)",
            "gridcolor": "#506784",
            "gridwidth": 2,
            "linecolor": "#506784",
            "showbackground": true,
            "ticks": "",
            "zerolinecolor": "#C8D4E3"
           },
           "yaxis": {
            "backgroundcolor": "rgb(17,17,17)",
            "gridcolor": "#506784",
            "gridwidth": 2,
            "linecolor": "#506784",
            "showbackground": true,
            "ticks": "",
            "zerolinecolor": "#C8D4E3"
           },
           "zaxis": {
            "backgroundcolor": "rgb(17,17,17)",
            "gridcolor": "#506784",
            "gridwidth": 2,
            "linecolor": "#506784",
            "showbackground": true,
            "ticks": "",
            "zerolinecolor": "#C8D4E3"
           }
          },
          "shapedefaults": {
           "line": {
            "color": "#f2f5fa"
           }
          },
          "sliderdefaults": {
           "bgcolor": "#C8D4E3",
           "bordercolor": "rgb(17,17,17)",
           "borderwidth": 1,
           "tickwidth": 0
          },
          "ternary": {
           "aaxis": {
            "gridcolor": "#506784",
            "linecolor": "#506784",
            "ticks": ""
           },
           "baxis": {
            "gridcolor": "#506784",
            "linecolor": "#506784",
            "ticks": ""
           },
           "bgcolor": "rgb(17,17,17)",
           "caxis": {
            "gridcolor": "#506784",
            "linecolor": "#506784",
            "ticks": ""
           }
          },
          "title": {
           "x": 0.05
          },
          "updatemenudefaults": {
           "bgcolor": "#506784",
           "borderwidth": 0
          },
          "xaxis": {
           "automargin": true,
           "gridcolor": "#283442",
           "linecolor": "#506784",
           "ticks": "",
           "title": {
            "standoff": 15
           },
           "zerolinecolor": "#283442",
           "zerolinewidth": 2
          },
          "yaxis": {
           "automargin": true,
           "gridcolor": "#283442",
           "linecolor": "#506784",
           "ticks": "",
           "title": {
            "standoff": 15
           },
           "zerolinecolor": "#283442",
           "zerolinewidth": 2
          }
         }
        },
        "title": {
         "font": {
          "size": 20
         },
         "text": "Linear Regression - Actual Values vs Predicted Values",
         "x": 0.5,
         "y": 0.88
        },
        "xaxis": {
         "range": [
          0,
          1
         ],
         "title": {
          "font": {
           "size": 16
          },
          "text": "Actual Value"
         }
        },
        "yaxis": {
         "range": [
          0,
          1
         ],
         "title": {
          "font": {
           "size": 16
          },
          "text": "Predicted Value"
         }
        }
       }
      },
      "text/html": [
       "<div>                            <div id=\"fa544f0d-102f-40e5-b4ab-59b1254ad7ca\" class=\"plotly-graph-div\" style=\"height:525px; width:100%;\"></div>            <script type=\"text/javascript\">                require([\"plotly\"], function(Plotly) {                    window.PLOTLYENV=window.PLOTLYENV || {};                                    if (document.getElementById(\"fa544f0d-102f-40e5-b4ab-59b1254ad7ca\")) {                    Plotly.newPlot(                        \"fa544f0d-102f-40e5-b4ab-59b1254ad7ca\",                        [{\"marker\":{\"color\":\"skyblue\",\"size\":16,\"symbol\":\"circle\"},\"mode\":\"markers\",\"type\":\"scatter\",\"x\":[0.68,0.68,0.9,0.79,0.44,0.94,0.43,0.36,0.72,0.85,0.45,0.93,0.64,0.93,0.71,0.53,0.66,0.34,0.74,0.96,0.64,0.54,0.71,0.54,0.92,0.84,0.59,0.61,0.7,0.74,0.82,0.94,0.71,0.46,0.69,0.56,0.72,0.58,0.61,0.9,0.73,0.64,0.74,0.94,0.92,0.82,0.96,0.71,0.94,0.89,0.86,0.73,0.81,0.94,0.39,0.48,0.71,0.86,0.65,0.86,0.57,0.61,0.79,0.44,0.64,0.74,0.64,0.83,0.89,0.84,0.75,0.84,0.9,0.88,0.49,0.72,0.64,0.67,0.9,0.79],\"y\":[0.6511744621562404,0.7236874052880304,0.9353680948898283,0.8216431599284456,0.5815867330167597,0.9286301577067622,0.526823656711132,0.5430899321465714,0.6594058290894163,0.838349237347249,0.720088327216307,0.9074976908253315,0.5535447579005408,0.890086476343807,0.703895385196583,0.6866447283039697,0.666572682622483,0.4819609638185237,0.6905721696870097,0.9749313233182751,0.5880243295896874,0.6528688096986128,0.7115009770229238,0.5352864650837769,0.9467700727682588,0.8098294740994076,0.6945938261856712,0.564956133452637,0.6819242342076034,0.8103987769555776,0.8079648131416688,0.9464098346588325,0.6459949432472323,0.5110491780774973,0.6598366254206328,0.6690781067557909,0.7157227063859817,0.6455687819922271,0.615407018484829,0.8736783261988391,0.7427526112375632,0.5978264891364993,0.7745668347476338,0.9594489673905005,0.8512412513003127,0.8355482490135828,0.9466242208490192,0.6482291897354917,0.9224759372753416,0.8590618261928153,0.8962499831735263,0.7286974340956645,0.7887478300685781,0.9514270325373412,0.5732580290199862,0.5874472284651544,0.6862131600324466,0.8454464603952565,0.6049514388517195,0.8480891905869044,0.6664289426607124,0.6552496855543406,0.7002480823660896,0.5120690533999568,0.6293037557932989,0.717370102924103,0.6220083838280792,0.8417033401397045,0.8567580171271927,0.7988621708451308,0.72196477897939,0.8144820267775112,0.8737360899971147,0.8333208499584507,0.5255424736438854,0.7218181821036731,0.6896438046700191,0.5944260873999823,0.8784057939048693,0.7577933324434994]}],                        {\"template\":{\"data\":{\"bar\":[{\"error_x\":{\"color\":\"#f2f5fa\"},\"error_y\":{\"color\":\"#f2f5fa\"},\"marker\":{\"line\":{\"color\":\"rgb(17,17,17)\",\"width\":0.5},\"pattern\":{\"fillmode\":\"overlay\",\"size\":10,\"solidity\":0.2}},\"type\":\"bar\"}],\"barpolar\":[{\"marker\":{\"line\":{\"color\":\"rgb(17,17,17)\",\"width\":0.5},\"pattern\":{\"fillmode\":\"overlay\",\"size\":10,\"solidity\":0.2}},\"type\":\"barpolar\"}],\"carpet\":[{\"aaxis\":{\"endlinecolor\":\"#A2B1C6\",\"gridcolor\":\"#506784\",\"linecolor\":\"#506784\",\"minorgridcolor\":\"#506784\",\"startlinecolor\":\"#A2B1C6\"},\"baxis\":{\"endlinecolor\":\"#A2B1C6\",\"gridcolor\":\"#506784\",\"linecolor\":\"#506784\",\"minorgridcolor\":\"#506784\",\"startlinecolor\":\"#A2B1C6\"},\"type\":\"carpet\"}],\"choropleth\":[{\"colorbar\":{\"outlinewidth\":0,\"ticks\":\"\"},\"type\":\"choropleth\"}],\"contour\":[{\"colorbar\":{\"outlinewidth\":0,\"ticks\":\"\"},\"colorscale\":[[0.0,\"#0d0887\"],[0.1111111111111111,\"#46039f\"],[0.2222222222222222,\"#7201a8\"],[0.3333333333333333,\"#9c179e\"],[0.4444444444444444,\"#bd3786\"],[0.5555555555555556,\"#d8576b\"],[0.6666666666666666,\"#ed7953\"],[0.7777777777777778,\"#fb9f3a\"],[0.8888888888888888,\"#fdca26\"],[1.0,\"#f0f921\"]],\"type\":\"contour\"}],\"contourcarpet\":[{\"colorbar\":{\"outlinewidth\":0,\"ticks\":\"\"},\"type\":\"contourcarpet\"}],\"heatmap\":[{\"colorbar\":{\"outlinewidth\":0,\"ticks\":\"\"},\"colorscale\":[[0.0,\"#0d0887\"],[0.1111111111111111,\"#46039f\"],[0.2222222222222222,\"#7201a8\"],[0.3333333333333333,\"#9c179e\"],[0.4444444444444444,\"#bd3786\"],[0.5555555555555556,\"#d8576b\"],[0.6666666666666666,\"#ed7953\"],[0.7777777777777778,\"#fb9f3a\"],[0.8888888888888888,\"#fdca26\"],[1.0,\"#f0f921\"]],\"type\":\"heatmap\"}],\"heatmapgl\":[{\"colorbar\":{\"outlinewidth\":0,\"ticks\":\"\"},\"colorscale\":[[0.0,\"#0d0887\"],[0.1111111111111111,\"#46039f\"],[0.2222222222222222,\"#7201a8\"],[0.3333333333333333,\"#9c179e\"],[0.4444444444444444,\"#bd3786\"],[0.5555555555555556,\"#d8576b\"],[0.6666666666666666,\"#ed7953\"],[0.7777777777777778,\"#fb9f3a\"],[0.8888888888888888,\"#fdca26\"],[1.0,\"#f0f921\"]],\"type\":\"heatmapgl\"}],\"histogram\":[{\"marker\":{\"pattern\":{\"fillmode\":\"overlay\",\"size\":10,\"solidity\":0.2}},\"type\":\"histogram\"}],\"histogram2d\":[{\"colorbar\":{\"outlinewidth\":0,\"ticks\":\"\"},\"colorscale\":[[0.0,\"#0d0887\"],[0.1111111111111111,\"#46039f\"],[0.2222222222222222,\"#7201a8\"],[0.3333333333333333,\"#9c179e\"],[0.4444444444444444,\"#bd3786\"],[0.5555555555555556,\"#d8576b\"],[0.6666666666666666,\"#ed7953\"],[0.7777777777777778,\"#fb9f3a\"],[0.8888888888888888,\"#fdca26\"],[1.0,\"#f0f921\"]],\"type\":\"histogram2d\"}],\"histogram2dcontour\":[{\"colorbar\":{\"outlinewidth\":0,\"ticks\":\"\"},\"colorscale\":[[0.0,\"#0d0887\"],[0.1111111111111111,\"#46039f\"],[0.2222222222222222,\"#7201a8\"],[0.3333333333333333,\"#9c179e\"],[0.4444444444444444,\"#bd3786\"],[0.5555555555555556,\"#d8576b\"],[0.6666666666666666,\"#ed7953\"],[0.7777777777777778,\"#fb9f3a\"],[0.8888888888888888,\"#fdca26\"],[1.0,\"#f0f921\"]],\"type\":\"histogram2dcontour\"}],\"mesh3d\":[{\"colorbar\":{\"outlinewidth\":0,\"ticks\":\"\"},\"type\":\"mesh3d\"}],\"parcoords\":[{\"line\":{\"colorbar\":{\"outlinewidth\":0,\"ticks\":\"\"}},\"type\":\"parcoords\"}],\"pie\":[{\"automargin\":true,\"type\":\"pie\"}],\"scatter\":[{\"marker\":{\"line\":{\"color\":\"#283442\"}},\"type\":\"scatter\"}],\"scatter3d\":[{\"line\":{\"colorbar\":{\"outlinewidth\":0,\"ticks\":\"\"}},\"marker\":{\"colorbar\":{\"outlinewidth\":0,\"ticks\":\"\"}},\"type\":\"scatter3d\"}],\"scattercarpet\":[{\"marker\":{\"colorbar\":{\"outlinewidth\":0,\"ticks\":\"\"}},\"type\":\"scattercarpet\"}],\"scattergeo\":[{\"marker\":{\"colorbar\":{\"outlinewidth\":0,\"ticks\":\"\"}},\"type\":\"scattergeo\"}],\"scattergl\":[{\"marker\":{\"line\":{\"color\":\"#283442\"}},\"type\":\"scattergl\"}],\"scattermapbox\":[{\"marker\":{\"colorbar\":{\"outlinewidth\":0,\"ticks\":\"\"}},\"type\":\"scattermapbox\"}],\"scatterpolar\":[{\"marker\":{\"colorbar\":{\"outlinewidth\":0,\"ticks\":\"\"}},\"type\":\"scatterpolar\"}],\"scatterpolargl\":[{\"marker\":{\"colorbar\":{\"outlinewidth\":0,\"ticks\":\"\"}},\"type\":\"scatterpolargl\"}],\"scatterternary\":[{\"marker\":{\"colorbar\":{\"outlinewidth\":0,\"ticks\":\"\"}},\"type\":\"scatterternary\"}],\"surface\":[{\"colorbar\":{\"outlinewidth\":0,\"ticks\":\"\"},\"colorscale\":[[0.0,\"#0d0887\"],[0.1111111111111111,\"#46039f\"],[0.2222222222222222,\"#7201a8\"],[0.3333333333333333,\"#9c179e\"],[0.4444444444444444,\"#bd3786\"],[0.5555555555555556,\"#d8576b\"],[0.6666666666666666,\"#ed7953\"],[0.7777777777777778,\"#fb9f3a\"],[0.8888888888888888,\"#fdca26\"],[1.0,\"#f0f921\"]],\"type\":\"surface\"}],\"table\":[{\"cells\":{\"fill\":{\"color\":\"#506784\"},\"line\":{\"color\":\"rgb(17,17,17)\"}},\"header\":{\"fill\":{\"color\":\"#2a3f5f\"},\"line\":{\"color\":\"rgb(17,17,17)\"}},\"type\":\"table\"}]},\"layout\":{\"annotationdefaults\":{\"arrowcolor\":\"#f2f5fa\",\"arrowhead\":0,\"arrowwidth\":1},\"autotypenumbers\":\"strict\",\"coloraxis\":{\"colorbar\":{\"outlinewidth\":0,\"ticks\":\"\"}},\"colorscale\":{\"diverging\":[[0,\"#8e0152\"],[0.1,\"#c51b7d\"],[0.2,\"#de77ae\"],[0.3,\"#f1b6da\"],[0.4,\"#fde0ef\"],[0.5,\"#f7f7f7\"],[0.6,\"#e6f5d0\"],[0.7,\"#b8e186\"],[0.8,\"#7fbc41\"],[0.9,\"#4d9221\"],[1,\"#276419\"]],\"sequential\":[[0.0,\"#0d0887\"],[0.1111111111111111,\"#46039f\"],[0.2222222222222222,\"#7201a8\"],[0.3333333333333333,\"#9c179e\"],[0.4444444444444444,\"#bd3786\"],[0.5555555555555556,\"#d8576b\"],[0.6666666666666666,\"#ed7953\"],[0.7777777777777778,\"#fb9f3a\"],[0.8888888888888888,\"#fdca26\"],[1.0,\"#f0f921\"]],\"sequentialminus\":[[0.0,\"#0d0887\"],[0.1111111111111111,\"#46039f\"],[0.2222222222222222,\"#7201a8\"],[0.3333333333333333,\"#9c179e\"],[0.4444444444444444,\"#bd3786\"],[0.5555555555555556,\"#d8576b\"],[0.6666666666666666,\"#ed7953\"],[0.7777777777777778,\"#fb9f3a\"],[0.8888888888888888,\"#fdca26\"],[1.0,\"#f0f921\"]]},\"colorway\":[\"#636efa\",\"#EF553B\",\"#00cc96\",\"#ab63fa\",\"#FFA15A\",\"#19d3f3\",\"#FF6692\",\"#B6E880\",\"#FF97FF\",\"#FECB52\"],\"font\":{\"color\":\"#f2f5fa\"},\"geo\":{\"bgcolor\":\"rgb(17,17,17)\",\"lakecolor\":\"rgb(17,17,17)\",\"landcolor\":\"rgb(17,17,17)\",\"showlakes\":true,\"showland\":true,\"subunitcolor\":\"#506784\"},\"hoverlabel\":{\"align\":\"left\"},\"hovermode\":\"closest\",\"mapbox\":{\"style\":\"dark\"},\"paper_bgcolor\":\"rgb(17,17,17)\",\"plot_bgcolor\":\"rgb(17,17,17)\",\"polar\":{\"angularaxis\":{\"gridcolor\":\"#506784\",\"linecolor\":\"#506784\",\"ticks\":\"\"},\"bgcolor\":\"rgb(17,17,17)\",\"radialaxis\":{\"gridcolor\":\"#506784\",\"linecolor\":\"#506784\",\"ticks\":\"\"}},\"scene\":{\"xaxis\":{\"backgroundcolor\":\"rgb(17,17,17)\",\"gridcolor\":\"#506784\",\"gridwidth\":2,\"linecolor\":\"#506784\",\"showbackground\":true,\"ticks\":\"\",\"zerolinecolor\":\"#C8D4E3\"},\"yaxis\":{\"backgroundcolor\":\"rgb(17,17,17)\",\"gridcolor\":\"#506784\",\"gridwidth\":2,\"linecolor\":\"#506784\",\"showbackground\":true,\"ticks\":\"\",\"zerolinecolor\":\"#C8D4E3\"},\"zaxis\":{\"backgroundcolor\":\"rgb(17,17,17)\",\"gridcolor\":\"#506784\",\"gridwidth\":2,\"linecolor\":\"#506784\",\"showbackground\":true,\"ticks\":\"\",\"zerolinecolor\":\"#C8D4E3\"}},\"shapedefaults\":{\"line\":{\"color\":\"#f2f5fa\"}},\"sliderdefaults\":{\"bgcolor\":\"#C8D4E3\",\"bordercolor\":\"rgb(17,17,17)\",\"borderwidth\":1,\"tickwidth\":0},\"ternary\":{\"aaxis\":{\"gridcolor\":\"#506784\",\"linecolor\":\"#506784\",\"ticks\":\"\"},\"baxis\":{\"gridcolor\":\"#506784\",\"linecolor\":\"#506784\",\"ticks\":\"\"},\"bgcolor\":\"rgb(17,17,17)\",\"caxis\":{\"gridcolor\":\"#506784\",\"linecolor\":\"#506784\",\"ticks\":\"\"}},\"title\":{\"x\":0.05},\"updatemenudefaults\":{\"bgcolor\":\"#506784\",\"borderwidth\":0},\"xaxis\":{\"automargin\":true,\"gridcolor\":\"#283442\",\"linecolor\":\"#506784\",\"ticks\":\"\",\"title\":{\"standoff\":15},\"zerolinecolor\":\"#283442\",\"zerolinewidth\":2},\"yaxis\":{\"automargin\":true,\"gridcolor\":\"#283442\",\"linecolor\":\"#506784\",\"ticks\":\"\",\"title\":{\"standoff\":15},\"zerolinecolor\":\"#283442\",\"zerolinewidth\":2}}},\"title\":{\"font\":{\"size\":20},\"text\":\"Linear Regression - Actual Values vs Predicted Values\",\"x\":0.5,\"y\":0.88},\"xaxis\":{\"range\":[0,1],\"title\":{\"font\":{\"size\":16},\"text\":\"Actual Value\"}},\"yaxis\":{\"range\":[0,1],\"title\":{\"font\":{\"size\":16},\"text\":\"Predicted Value\"}}},                        {\"responsive\": true}                    ).then(function(){\n",
       "                            \n",
       "var gd = document.getElementById('fa544f0d-102f-40e5-b4ab-59b1254ad7ca');\n",
       "var x = new MutationObserver(function (mutations, observer) {{\n",
       "        var display = window.getComputedStyle(gd).display;\n",
       "        if (!display || display === 'none') {{\n",
       "            console.log([gd, 'removed!']);\n",
       "            Plotly.purge(gd);\n",
       "            observer.disconnect();\n",
       "        }}\n",
       "}});\n",
       "\n",
       "// Listen for the removal of the full notebook cells\n",
       "var notebookContainer = gd.closest('#notebook-container');\n",
       "if (notebookContainer) {{\n",
       "    x.observe(notebookContainer, {childList: true});\n",
       "}}\n",
       "\n",
       "// Listen for the clearing of the current output cell\n",
       "var outputEl = gd.closest('.output');\n",
       "if (outputEl) {{\n",
       "    x.observe(outputEl, {childList: true});\n",
       "}}\n",
       "\n",
       "                        })                };                });            </script>        </div>"
      ]
     },
     "metadata": {},
     "output_type": "display_data"
    }
   ],
   "source": [
    "data = [go.Scatter(x = y_test, \n",
    "                   y = y_pred_l_reg, \n",
    "                   mode = 'markers', \n",
    "                   marker = dict(symbol = 'circle', \n",
    "                                 size = 16, \n",
    "                                 color = 'skyblue'))]\n",
    "\n",
    "layout = go.Layout(title = dict(text = 'Linear Regression - Actual Values vs Predicted Values', \n",
    "                                x = 0.5, \n",
    "                                y = 0.88, \n",
    "                                font = {'size': 20}),\n",
    "                   xaxis = dict(title = 'Actual Value', \n",
    "                                titlefont = {'size': 16}, \n",
    "                                range = [0, 1]),\n",
    "                   yaxis = dict(title = 'Predicted Value', \n",
    "                                titlefont = {'size': 16}, \n",
    "                                range = [0, 1]),\n",
    "                   template = 'plotly_dark')\n",
    "\n",
    "fig = go.Figure(data = data, \n",
    "                layout = layout)\n",
    "\n",
    "iplot(fig)"
   ]
  },
  {
   "cell_type": "code",
   "execution_count": 31,
   "id": "cb8dc349",
   "metadata": {},
   "outputs": [
    {
     "name": "stdout",
     "output_type": "stream",
     "text": [
      "0.8253834707740503\n"
     ]
    }
   ],
   "source": [
    "from sklearn.preprocessing import PolynomialFeatures\n",
    "poly_reg_mms = PolynomialFeatures(degree = 2)\n",
    "X_poly_mms = poly_reg_mms.fit_transform(X_train_mms_scaled)\n",
    "X_test_poly_mms = poly_reg_mms.transform(X_test_mms_scaled)\n",
    "poly_regressor_mms = LinearRegression()\n",
    "poly_regressor_mms.fit(X_poly_mms, y_train)\n",
    "y_pred_poly_mms = poly_regressor_mms.predict(X_test_poly_mms)\n",
    "print(r2_score(y_test, y_pred_poly_mms))"
   ]
  },
  {
   "cell_type": "code",
   "execution_count": 32,
   "id": "6ac107c0",
   "metadata": {},
   "outputs": [
    {
     "name": "stdout",
     "output_type": "stream",
     "text": [
      "0.8253834707740503\n"
     ]
    }
   ],
   "source": [
    "poly_reg_ss = PolynomialFeatures(degree = 2)\n",
    "X_poly_ss = poly_reg_ss.fit_transform(X_train_ss_scaled)\n",
    "X_test_poly_ss = poly_reg_ss.transform(X_test_ss_scaled)\n",
    "poly_regressor_ss = LinearRegression()\n",
    "poly_regressor_ss.fit(X_poly_ss, y_train)\n",
    "y_pred_poly_ss = poly_regressor_ss.predict(X_test_poly_ss)\n",
    "print(r2_score(y_test, y_pred_poly_ss))"
   ]
  },
  {
   "cell_type": "code",
   "execution_count": 33,
   "id": "a2873a63",
   "metadata": {},
   "outputs": [
    {
     "data": {
      "application/vnd.plotly.v1+json": {
       "config": {
        "linkText": "Export to plot.ly",
        "plotlyServerURL": "https://plot.ly",
        "showLink": false
       },
       "data": [
        {
         "marker": {
          "color": "skyblue",
          "size": 16,
          "symbol": "circle"
         },
         "mode": "markers",
         "type": "scatter",
         "x": [
          0.68,
          0.68,
          0.9,
          0.79,
          0.44,
          0.94,
          0.43,
          0.36,
          0.72,
          0.85,
          0.45,
          0.93,
          0.64,
          0.93,
          0.71,
          0.53,
          0.66,
          0.34,
          0.74,
          0.96,
          0.64,
          0.54,
          0.71,
          0.54,
          0.92,
          0.84,
          0.59,
          0.61,
          0.7,
          0.74,
          0.82,
          0.94,
          0.71,
          0.46,
          0.69,
          0.56,
          0.72,
          0.58,
          0.61,
          0.9,
          0.73,
          0.64,
          0.74,
          0.94,
          0.92,
          0.82,
          0.96,
          0.71,
          0.94,
          0.89,
          0.86,
          0.73,
          0.81,
          0.94,
          0.39,
          0.48,
          0.71,
          0.86,
          0.65,
          0.86,
          0.57,
          0.61,
          0.79,
          0.44,
          0.64,
          0.74,
          0.64,
          0.83,
          0.89,
          0.84,
          0.75,
          0.84,
          0.9,
          0.88,
          0.49,
          0.72,
          0.64,
          0.67,
          0.9,
          0.79
         ],
         "y": [
          0.6309188473713256,
          0.6700531975250439,
          0.9292068633742581,
          0.8203629862828187,
          0.5355796038437782,
          0.9334923583048635,
          0.5490764824492255,
          0.5281617963693993,
          0.6502627220164977,
          0.8643461730097994,
          0.7167334697544627,
          0.9146115755534769,
          0.5697342841264015,
          0.9071595470005711,
          0.6983948112029124,
          0.7121238774473366,
          0.6718598114749381,
          0.4805637577835121,
          0.686440262125859,
          0.9836363926535125,
          0.607036800577005,
          0.6635413048366672,
          0.6622777817596193,
          0.5359438190425361,
          0.9339228913825064,
          0.8076454115695512,
          0.6870784917822309,
          0.5781588483046795,
          0.6896700026366823,
          0.8191455295151848,
          0.807979931472351,
          0.948349427709204,
          0.6720792630098505,
          0.4577338037380684,
          0.6653966772545405,
          0.6647923291360162,
          0.6907747846138009,
          0.6523486512720575,
          0.6171551581437759,
          0.8306249129909538,
          0.7398855783564307,
          0.6253828927911277,
          0.7692261711142974,
          0.9539012467841856,
          0.8621454798618984,
          0.8378426885300414,
          0.9470283662240494,
          0.6648775151674707,
          0.9374805004724778,
          0.8640612896132418,
          0.8994926575067734,
          0.7179646925908736,
          0.7912483468826778,
          0.9626253043484962,
          0.5856357701008252,
          0.5962873437591661,
          0.6943443922903776,
          0.8592800189739714,
          0.5672147116607006,
          0.8610620527150706,
          0.6434185809690331,
          0.6556465557102041,
          0.7195097742165375,
          0.43128564246941203,
          0.6373180768212223,
          0.7144398135007466,
          0.5988786420605894,
          0.835847625565175,
          0.8584861720084259,
          0.7984011802174555,
          0.7023479372638027,
          0.787994091632894,
          0.9242671914197601,
          0.8441261271703091,
          0.5253926958350067,
          0.7183498709667786,
          0.6896498329899248,
          0.5901522318998769,
          0.8856364075161842,
          0.7548944683985472
         ]
        }
       ],
       "layout": {
        "template": {
         "data": {
          "bar": [
           {
            "error_x": {
             "color": "#f2f5fa"
            },
            "error_y": {
             "color": "#f2f5fa"
            },
            "marker": {
             "line": {
              "color": "rgb(17,17,17)",
              "width": 0.5
             },
             "pattern": {
              "fillmode": "overlay",
              "size": 10,
              "solidity": 0.2
             }
            },
            "type": "bar"
           }
          ],
          "barpolar": [
           {
            "marker": {
             "line": {
              "color": "rgb(17,17,17)",
              "width": 0.5
             },
             "pattern": {
              "fillmode": "overlay",
              "size": 10,
              "solidity": 0.2
             }
            },
            "type": "barpolar"
           }
          ],
          "carpet": [
           {
            "aaxis": {
             "endlinecolor": "#A2B1C6",
             "gridcolor": "#506784",
             "linecolor": "#506784",
             "minorgridcolor": "#506784",
             "startlinecolor": "#A2B1C6"
            },
            "baxis": {
             "endlinecolor": "#A2B1C6",
             "gridcolor": "#506784",
             "linecolor": "#506784",
             "minorgridcolor": "#506784",
             "startlinecolor": "#A2B1C6"
            },
            "type": "carpet"
           }
          ],
          "choropleth": [
           {
            "colorbar": {
             "outlinewidth": 0,
             "ticks": ""
            },
            "type": "choropleth"
           }
          ],
          "contour": [
           {
            "colorbar": {
             "outlinewidth": 0,
             "ticks": ""
            },
            "colorscale": [
             [
              0,
              "#0d0887"
             ],
             [
              0.1111111111111111,
              "#46039f"
             ],
             [
              0.2222222222222222,
              "#7201a8"
             ],
             [
              0.3333333333333333,
              "#9c179e"
             ],
             [
              0.4444444444444444,
              "#bd3786"
             ],
             [
              0.5555555555555556,
              "#d8576b"
             ],
             [
              0.6666666666666666,
              "#ed7953"
             ],
             [
              0.7777777777777778,
              "#fb9f3a"
             ],
             [
              0.8888888888888888,
              "#fdca26"
             ],
             [
              1,
              "#f0f921"
             ]
            ],
            "type": "contour"
           }
          ],
          "contourcarpet": [
           {
            "colorbar": {
             "outlinewidth": 0,
             "ticks": ""
            },
            "type": "contourcarpet"
           }
          ],
          "heatmap": [
           {
            "colorbar": {
             "outlinewidth": 0,
             "ticks": ""
            },
            "colorscale": [
             [
              0,
              "#0d0887"
             ],
             [
              0.1111111111111111,
              "#46039f"
             ],
             [
              0.2222222222222222,
              "#7201a8"
             ],
             [
              0.3333333333333333,
              "#9c179e"
             ],
             [
              0.4444444444444444,
              "#bd3786"
             ],
             [
              0.5555555555555556,
              "#d8576b"
             ],
             [
              0.6666666666666666,
              "#ed7953"
             ],
             [
              0.7777777777777778,
              "#fb9f3a"
             ],
             [
              0.8888888888888888,
              "#fdca26"
             ],
             [
              1,
              "#f0f921"
             ]
            ],
            "type": "heatmap"
           }
          ],
          "heatmapgl": [
           {
            "colorbar": {
             "outlinewidth": 0,
             "ticks": ""
            },
            "colorscale": [
             [
              0,
              "#0d0887"
             ],
             [
              0.1111111111111111,
              "#46039f"
             ],
             [
              0.2222222222222222,
              "#7201a8"
             ],
             [
              0.3333333333333333,
              "#9c179e"
             ],
             [
              0.4444444444444444,
              "#bd3786"
             ],
             [
              0.5555555555555556,
              "#d8576b"
             ],
             [
              0.6666666666666666,
              "#ed7953"
             ],
             [
              0.7777777777777778,
              "#fb9f3a"
             ],
             [
              0.8888888888888888,
              "#fdca26"
             ],
             [
              1,
              "#f0f921"
             ]
            ],
            "type": "heatmapgl"
           }
          ],
          "histogram": [
           {
            "marker": {
             "pattern": {
              "fillmode": "overlay",
              "size": 10,
              "solidity": 0.2
             }
            },
            "type": "histogram"
           }
          ],
          "histogram2d": [
           {
            "colorbar": {
             "outlinewidth": 0,
             "ticks": ""
            },
            "colorscale": [
             [
              0,
              "#0d0887"
             ],
             [
              0.1111111111111111,
              "#46039f"
             ],
             [
              0.2222222222222222,
              "#7201a8"
             ],
             [
              0.3333333333333333,
              "#9c179e"
             ],
             [
              0.4444444444444444,
              "#bd3786"
             ],
             [
              0.5555555555555556,
              "#d8576b"
             ],
             [
              0.6666666666666666,
              "#ed7953"
             ],
             [
              0.7777777777777778,
              "#fb9f3a"
             ],
             [
              0.8888888888888888,
              "#fdca26"
             ],
             [
              1,
              "#f0f921"
             ]
            ],
            "type": "histogram2d"
           }
          ],
          "histogram2dcontour": [
           {
            "colorbar": {
             "outlinewidth": 0,
             "ticks": ""
            },
            "colorscale": [
             [
              0,
              "#0d0887"
             ],
             [
              0.1111111111111111,
              "#46039f"
             ],
             [
              0.2222222222222222,
              "#7201a8"
             ],
             [
              0.3333333333333333,
              "#9c179e"
             ],
             [
              0.4444444444444444,
              "#bd3786"
             ],
             [
              0.5555555555555556,
              "#d8576b"
             ],
             [
              0.6666666666666666,
              "#ed7953"
             ],
             [
              0.7777777777777778,
              "#fb9f3a"
             ],
             [
              0.8888888888888888,
              "#fdca26"
             ],
             [
              1,
              "#f0f921"
             ]
            ],
            "type": "histogram2dcontour"
           }
          ],
          "mesh3d": [
           {
            "colorbar": {
             "outlinewidth": 0,
             "ticks": ""
            },
            "type": "mesh3d"
           }
          ],
          "parcoords": [
           {
            "line": {
             "colorbar": {
              "outlinewidth": 0,
              "ticks": ""
             }
            },
            "type": "parcoords"
           }
          ],
          "pie": [
           {
            "automargin": true,
            "type": "pie"
           }
          ],
          "scatter": [
           {
            "marker": {
             "line": {
              "color": "#283442"
             }
            },
            "type": "scatter"
           }
          ],
          "scatter3d": [
           {
            "line": {
             "colorbar": {
              "outlinewidth": 0,
              "ticks": ""
             }
            },
            "marker": {
             "colorbar": {
              "outlinewidth": 0,
              "ticks": ""
             }
            },
            "type": "scatter3d"
           }
          ],
          "scattercarpet": [
           {
            "marker": {
             "colorbar": {
              "outlinewidth": 0,
              "ticks": ""
             }
            },
            "type": "scattercarpet"
           }
          ],
          "scattergeo": [
           {
            "marker": {
             "colorbar": {
              "outlinewidth": 0,
              "ticks": ""
             }
            },
            "type": "scattergeo"
           }
          ],
          "scattergl": [
           {
            "marker": {
             "line": {
              "color": "#283442"
             }
            },
            "type": "scattergl"
           }
          ],
          "scattermapbox": [
           {
            "marker": {
             "colorbar": {
              "outlinewidth": 0,
              "ticks": ""
             }
            },
            "type": "scattermapbox"
           }
          ],
          "scatterpolar": [
           {
            "marker": {
             "colorbar": {
              "outlinewidth": 0,
              "ticks": ""
             }
            },
            "type": "scatterpolar"
           }
          ],
          "scatterpolargl": [
           {
            "marker": {
             "colorbar": {
              "outlinewidth": 0,
              "ticks": ""
             }
            },
            "type": "scatterpolargl"
           }
          ],
          "scatterternary": [
           {
            "marker": {
             "colorbar": {
              "outlinewidth": 0,
              "ticks": ""
             }
            },
            "type": "scatterternary"
           }
          ],
          "surface": [
           {
            "colorbar": {
             "outlinewidth": 0,
             "ticks": ""
            },
            "colorscale": [
             [
              0,
              "#0d0887"
             ],
             [
              0.1111111111111111,
              "#46039f"
             ],
             [
              0.2222222222222222,
              "#7201a8"
             ],
             [
              0.3333333333333333,
              "#9c179e"
             ],
             [
              0.4444444444444444,
              "#bd3786"
             ],
             [
              0.5555555555555556,
              "#d8576b"
             ],
             [
              0.6666666666666666,
              "#ed7953"
             ],
             [
              0.7777777777777778,
              "#fb9f3a"
             ],
             [
              0.8888888888888888,
              "#fdca26"
             ],
             [
              1,
              "#f0f921"
             ]
            ],
            "type": "surface"
           }
          ],
          "table": [
           {
            "cells": {
             "fill": {
              "color": "#506784"
             },
             "line": {
              "color": "rgb(17,17,17)"
             }
            },
            "header": {
             "fill": {
              "color": "#2a3f5f"
             },
             "line": {
              "color": "rgb(17,17,17)"
             }
            },
            "type": "table"
           }
          ]
         },
         "layout": {
          "annotationdefaults": {
           "arrowcolor": "#f2f5fa",
           "arrowhead": 0,
           "arrowwidth": 1
          },
          "autotypenumbers": "strict",
          "coloraxis": {
           "colorbar": {
            "outlinewidth": 0,
            "ticks": ""
           }
          },
          "colorscale": {
           "diverging": [
            [
             0,
             "#8e0152"
            ],
            [
             0.1,
             "#c51b7d"
            ],
            [
             0.2,
             "#de77ae"
            ],
            [
             0.3,
             "#f1b6da"
            ],
            [
             0.4,
             "#fde0ef"
            ],
            [
             0.5,
             "#f7f7f7"
            ],
            [
             0.6,
             "#e6f5d0"
            ],
            [
             0.7,
             "#b8e186"
            ],
            [
             0.8,
             "#7fbc41"
            ],
            [
             0.9,
             "#4d9221"
            ],
            [
             1,
             "#276419"
            ]
           ],
           "sequential": [
            [
             0,
             "#0d0887"
            ],
            [
             0.1111111111111111,
             "#46039f"
            ],
            [
             0.2222222222222222,
             "#7201a8"
            ],
            [
             0.3333333333333333,
             "#9c179e"
            ],
            [
             0.4444444444444444,
             "#bd3786"
            ],
            [
             0.5555555555555556,
             "#d8576b"
            ],
            [
             0.6666666666666666,
             "#ed7953"
            ],
            [
             0.7777777777777778,
             "#fb9f3a"
            ],
            [
             0.8888888888888888,
             "#fdca26"
            ],
            [
             1,
             "#f0f921"
            ]
           ],
           "sequentialminus": [
            [
             0,
             "#0d0887"
            ],
            [
             0.1111111111111111,
             "#46039f"
            ],
            [
             0.2222222222222222,
             "#7201a8"
            ],
            [
             0.3333333333333333,
             "#9c179e"
            ],
            [
             0.4444444444444444,
             "#bd3786"
            ],
            [
             0.5555555555555556,
             "#d8576b"
            ],
            [
             0.6666666666666666,
             "#ed7953"
            ],
            [
             0.7777777777777778,
             "#fb9f3a"
            ],
            [
             0.8888888888888888,
             "#fdca26"
            ],
            [
             1,
             "#f0f921"
            ]
           ]
          },
          "colorway": [
           "#636efa",
           "#EF553B",
           "#00cc96",
           "#ab63fa",
           "#FFA15A",
           "#19d3f3",
           "#FF6692",
           "#B6E880",
           "#FF97FF",
           "#FECB52"
          ],
          "font": {
           "color": "#f2f5fa"
          },
          "geo": {
           "bgcolor": "rgb(17,17,17)",
           "lakecolor": "rgb(17,17,17)",
           "landcolor": "rgb(17,17,17)",
           "showlakes": true,
           "showland": true,
           "subunitcolor": "#506784"
          },
          "hoverlabel": {
           "align": "left"
          },
          "hovermode": "closest",
          "mapbox": {
           "style": "dark"
          },
          "paper_bgcolor": "rgb(17,17,17)",
          "plot_bgcolor": "rgb(17,17,17)",
          "polar": {
           "angularaxis": {
            "gridcolor": "#506784",
            "linecolor": "#506784",
            "ticks": ""
           },
           "bgcolor": "rgb(17,17,17)",
           "radialaxis": {
            "gridcolor": "#506784",
            "linecolor": "#506784",
            "ticks": ""
           }
          },
          "scene": {
           "xaxis": {
            "backgroundcolor": "rgb(17,17,17)",
            "gridcolor": "#506784",
            "gridwidth": 2,
            "linecolor": "#506784",
            "showbackground": true,
            "ticks": "",
            "zerolinecolor": "#C8D4E3"
           },
           "yaxis": {
            "backgroundcolor": "rgb(17,17,17)",
            "gridcolor": "#506784",
            "gridwidth": 2,
            "linecolor": "#506784",
            "showbackground": true,
            "ticks": "",
            "zerolinecolor": "#C8D4E3"
           },
           "zaxis": {
            "backgroundcolor": "rgb(17,17,17)",
            "gridcolor": "#506784",
            "gridwidth": 2,
            "linecolor": "#506784",
            "showbackground": true,
            "ticks": "",
            "zerolinecolor": "#C8D4E3"
           }
          },
          "shapedefaults": {
           "line": {
            "color": "#f2f5fa"
           }
          },
          "sliderdefaults": {
           "bgcolor": "#C8D4E3",
           "bordercolor": "rgb(17,17,17)",
           "borderwidth": 1,
           "tickwidth": 0
          },
          "ternary": {
           "aaxis": {
            "gridcolor": "#506784",
            "linecolor": "#506784",
            "ticks": ""
           },
           "baxis": {
            "gridcolor": "#506784",
            "linecolor": "#506784",
            "ticks": ""
           },
           "bgcolor": "rgb(17,17,17)",
           "caxis": {
            "gridcolor": "#506784",
            "linecolor": "#506784",
            "ticks": ""
           }
          },
          "title": {
           "x": 0.05
          },
          "updatemenudefaults": {
           "bgcolor": "#506784",
           "borderwidth": 0
          },
          "xaxis": {
           "automargin": true,
           "gridcolor": "#283442",
           "linecolor": "#506784",
           "ticks": "",
           "title": {
            "standoff": 15
           },
           "zerolinecolor": "#283442",
           "zerolinewidth": 2
          },
          "yaxis": {
           "automargin": true,
           "gridcolor": "#283442",
           "linecolor": "#506784",
           "ticks": "",
           "title": {
            "standoff": 15
           },
           "zerolinecolor": "#283442",
           "zerolinewidth": 2
          }
         }
        },
        "title": {
         "font": {
          "size": 20
         },
         "text": "Polynomial Regression - Actual Values vs Predicted Values",
         "x": 0.5,
         "y": 0.88
        },
        "xaxis": {
         "range": [
          0,
          1
         ],
         "title": {
          "font": {
           "size": 16
          },
          "text": "Actual Value"
         }
        },
        "yaxis": {
         "range": [
          0,
          1
         ],
         "title": {
          "font": {
           "size": 16
          },
          "text": "Predicted Value"
         }
        }
       }
      },
      "text/html": [
       "<div>                            <div id=\"d2469560-6c48-44fd-ba5b-7d85c3954d2a\" class=\"plotly-graph-div\" style=\"height:525px; width:100%;\"></div>            <script type=\"text/javascript\">                require([\"plotly\"], function(Plotly) {                    window.PLOTLYENV=window.PLOTLYENV || {};                                    if (document.getElementById(\"d2469560-6c48-44fd-ba5b-7d85c3954d2a\")) {                    Plotly.newPlot(                        \"d2469560-6c48-44fd-ba5b-7d85c3954d2a\",                        [{\"marker\":{\"color\":\"skyblue\",\"size\":16,\"symbol\":\"circle\"},\"mode\":\"markers\",\"type\":\"scatter\",\"x\":[0.68,0.68,0.9,0.79,0.44,0.94,0.43,0.36,0.72,0.85,0.45,0.93,0.64,0.93,0.71,0.53,0.66,0.34,0.74,0.96,0.64,0.54,0.71,0.54,0.92,0.84,0.59,0.61,0.7,0.74,0.82,0.94,0.71,0.46,0.69,0.56,0.72,0.58,0.61,0.9,0.73,0.64,0.74,0.94,0.92,0.82,0.96,0.71,0.94,0.89,0.86,0.73,0.81,0.94,0.39,0.48,0.71,0.86,0.65,0.86,0.57,0.61,0.79,0.44,0.64,0.74,0.64,0.83,0.89,0.84,0.75,0.84,0.9,0.88,0.49,0.72,0.64,0.67,0.9,0.79],\"y\":[0.6309188473713256,0.6700531975250439,0.9292068633742581,0.8203629862828187,0.5355796038437782,0.9334923583048635,0.5490764824492255,0.5281617963693993,0.6502627220164977,0.8643461730097994,0.7167334697544627,0.9146115755534769,0.5697342841264015,0.9071595470005711,0.6983948112029124,0.7121238774473366,0.6718598114749381,0.4805637577835121,0.686440262125859,0.9836363926535125,0.607036800577005,0.6635413048366672,0.6622777817596193,0.5359438190425361,0.9339228913825064,0.8076454115695512,0.6870784917822309,0.5781588483046795,0.6896700026366823,0.8191455295151848,0.807979931472351,0.948349427709204,0.6720792630098505,0.4577338037380684,0.6653966772545405,0.6647923291360162,0.6907747846138009,0.6523486512720575,0.6171551581437759,0.8306249129909538,0.7398855783564307,0.6253828927911277,0.7692261711142974,0.9539012467841856,0.8621454798618984,0.8378426885300414,0.9470283662240494,0.6648775151674707,0.9374805004724778,0.8640612896132418,0.8994926575067734,0.7179646925908736,0.7912483468826778,0.9626253043484962,0.5856357701008252,0.5962873437591661,0.6943443922903776,0.8592800189739714,0.5672147116607006,0.8610620527150706,0.6434185809690331,0.6556465557102041,0.7195097742165375,0.43128564246941203,0.6373180768212223,0.7144398135007466,0.5988786420605894,0.835847625565175,0.8584861720084259,0.7984011802174555,0.7023479372638027,0.787994091632894,0.9242671914197601,0.8441261271703091,0.5253926958350067,0.7183498709667786,0.6896498329899248,0.5901522318998769,0.8856364075161842,0.7548944683985472]}],                        {\"template\":{\"data\":{\"bar\":[{\"error_x\":{\"color\":\"#f2f5fa\"},\"error_y\":{\"color\":\"#f2f5fa\"},\"marker\":{\"line\":{\"color\":\"rgb(17,17,17)\",\"width\":0.5},\"pattern\":{\"fillmode\":\"overlay\",\"size\":10,\"solidity\":0.2}},\"type\":\"bar\"}],\"barpolar\":[{\"marker\":{\"line\":{\"color\":\"rgb(17,17,17)\",\"width\":0.5},\"pattern\":{\"fillmode\":\"overlay\",\"size\":10,\"solidity\":0.2}},\"type\":\"barpolar\"}],\"carpet\":[{\"aaxis\":{\"endlinecolor\":\"#A2B1C6\",\"gridcolor\":\"#506784\",\"linecolor\":\"#506784\",\"minorgridcolor\":\"#506784\",\"startlinecolor\":\"#A2B1C6\"},\"baxis\":{\"endlinecolor\":\"#A2B1C6\",\"gridcolor\":\"#506784\",\"linecolor\":\"#506784\",\"minorgridcolor\":\"#506784\",\"startlinecolor\":\"#A2B1C6\"},\"type\":\"carpet\"}],\"choropleth\":[{\"colorbar\":{\"outlinewidth\":0,\"ticks\":\"\"},\"type\":\"choropleth\"}],\"contour\":[{\"colorbar\":{\"outlinewidth\":0,\"ticks\":\"\"},\"colorscale\":[[0.0,\"#0d0887\"],[0.1111111111111111,\"#46039f\"],[0.2222222222222222,\"#7201a8\"],[0.3333333333333333,\"#9c179e\"],[0.4444444444444444,\"#bd3786\"],[0.5555555555555556,\"#d8576b\"],[0.6666666666666666,\"#ed7953\"],[0.7777777777777778,\"#fb9f3a\"],[0.8888888888888888,\"#fdca26\"],[1.0,\"#f0f921\"]],\"type\":\"contour\"}],\"contourcarpet\":[{\"colorbar\":{\"outlinewidth\":0,\"ticks\":\"\"},\"type\":\"contourcarpet\"}],\"heatmap\":[{\"colorbar\":{\"outlinewidth\":0,\"ticks\":\"\"},\"colorscale\":[[0.0,\"#0d0887\"],[0.1111111111111111,\"#46039f\"],[0.2222222222222222,\"#7201a8\"],[0.3333333333333333,\"#9c179e\"],[0.4444444444444444,\"#bd3786\"],[0.5555555555555556,\"#d8576b\"],[0.6666666666666666,\"#ed7953\"],[0.7777777777777778,\"#fb9f3a\"],[0.8888888888888888,\"#fdca26\"],[1.0,\"#f0f921\"]],\"type\":\"heatmap\"}],\"heatmapgl\":[{\"colorbar\":{\"outlinewidth\":0,\"ticks\":\"\"},\"colorscale\":[[0.0,\"#0d0887\"],[0.1111111111111111,\"#46039f\"],[0.2222222222222222,\"#7201a8\"],[0.3333333333333333,\"#9c179e\"],[0.4444444444444444,\"#bd3786\"],[0.5555555555555556,\"#d8576b\"],[0.6666666666666666,\"#ed7953\"],[0.7777777777777778,\"#fb9f3a\"],[0.8888888888888888,\"#fdca26\"],[1.0,\"#f0f921\"]],\"type\":\"heatmapgl\"}],\"histogram\":[{\"marker\":{\"pattern\":{\"fillmode\":\"overlay\",\"size\":10,\"solidity\":0.2}},\"type\":\"histogram\"}],\"histogram2d\":[{\"colorbar\":{\"outlinewidth\":0,\"ticks\":\"\"},\"colorscale\":[[0.0,\"#0d0887\"],[0.1111111111111111,\"#46039f\"],[0.2222222222222222,\"#7201a8\"],[0.3333333333333333,\"#9c179e\"],[0.4444444444444444,\"#bd3786\"],[0.5555555555555556,\"#d8576b\"],[0.6666666666666666,\"#ed7953\"],[0.7777777777777778,\"#fb9f3a\"],[0.8888888888888888,\"#fdca26\"],[1.0,\"#f0f921\"]],\"type\":\"histogram2d\"}],\"histogram2dcontour\":[{\"colorbar\":{\"outlinewidth\":0,\"ticks\":\"\"},\"colorscale\":[[0.0,\"#0d0887\"],[0.1111111111111111,\"#46039f\"],[0.2222222222222222,\"#7201a8\"],[0.3333333333333333,\"#9c179e\"],[0.4444444444444444,\"#bd3786\"],[0.5555555555555556,\"#d8576b\"],[0.6666666666666666,\"#ed7953\"],[0.7777777777777778,\"#fb9f3a\"],[0.8888888888888888,\"#fdca26\"],[1.0,\"#f0f921\"]],\"type\":\"histogram2dcontour\"}],\"mesh3d\":[{\"colorbar\":{\"outlinewidth\":0,\"ticks\":\"\"},\"type\":\"mesh3d\"}],\"parcoords\":[{\"line\":{\"colorbar\":{\"outlinewidth\":0,\"ticks\":\"\"}},\"type\":\"parcoords\"}],\"pie\":[{\"automargin\":true,\"type\":\"pie\"}],\"scatter\":[{\"marker\":{\"line\":{\"color\":\"#283442\"}},\"type\":\"scatter\"}],\"scatter3d\":[{\"line\":{\"colorbar\":{\"outlinewidth\":0,\"ticks\":\"\"}},\"marker\":{\"colorbar\":{\"outlinewidth\":0,\"ticks\":\"\"}},\"type\":\"scatter3d\"}],\"scattercarpet\":[{\"marker\":{\"colorbar\":{\"outlinewidth\":0,\"ticks\":\"\"}},\"type\":\"scattercarpet\"}],\"scattergeo\":[{\"marker\":{\"colorbar\":{\"outlinewidth\":0,\"ticks\":\"\"}},\"type\":\"scattergeo\"}],\"scattergl\":[{\"marker\":{\"line\":{\"color\":\"#283442\"}},\"type\":\"scattergl\"}],\"scattermapbox\":[{\"marker\":{\"colorbar\":{\"outlinewidth\":0,\"ticks\":\"\"}},\"type\":\"scattermapbox\"}],\"scatterpolar\":[{\"marker\":{\"colorbar\":{\"outlinewidth\":0,\"ticks\":\"\"}},\"type\":\"scatterpolar\"}],\"scatterpolargl\":[{\"marker\":{\"colorbar\":{\"outlinewidth\":0,\"ticks\":\"\"}},\"type\":\"scatterpolargl\"}],\"scatterternary\":[{\"marker\":{\"colorbar\":{\"outlinewidth\":0,\"ticks\":\"\"}},\"type\":\"scatterternary\"}],\"surface\":[{\"colorbar\":{\"outlinewidth\":0,\"ticks\":\"\"},\"colorscale\":[[0.0,\"#0d0887\"],[0.1111111111111111,\"#46039f\"],[0.2222222222222222,\"#7201a8\"],[0.3333333333333333,\"#9c179e\"],[0.4444444444444444,\"#bd3786\"],[0.5555555555555556,\"#d8576b\"],[0.6666666666666666,\"#ed7953\"],[0.7777777777777778,\"#fb9f3a\"],[0.8888888888888888,\"#fdca26\"],[1.0,\"#f0f921\"]],\"type\":\"surface\"}],\"table\":[{\"cells\":{\"fill\":{\"color\":\"#506784\"},\"line\":{\"color\":\"rgb(17,17,17)\"}},\"header\":{\"fill\":{\"color\":\"#2a3f5f\"},\"line\":{\"color\":\"rgb(17,17,17)\"}},\"type\":\"table\"}]},\"layout\":{\"annotationdefaults\":{\"arrowcolor\":\"#f2f5fa\",\"arrowhead\":0,\"arrowwidth\":1},\"autotypenumbers\":\"strict\",\"coloraxis\":{\"colorbar\":{\"outlinewidth\":0,\"ticks\":\"\"}},\"colorscale\":{\"diverging\":[[0,\"#8e0152\"],[0.1,\"#c51b7d\"],[0.2,\"#de77ae\"],[0.3,\"#f1b6da\"],[0.4,\"#fde0ef\"],[0.5,\"#f7f7f7\"],[0.6,\"#e6f5d0\"],[0.7,\"#b8e186\"],[0.8,\"#7fbc41\"],[0.9,\"#4d9221\"],[1,\"#276419\"]],\"sequential\":[[0.0,\"#0d0887\"],[0.1111111111111111,\"#46039f\"],[0.2222222222222222,\"#7201a8\"],[0.3333333333333333,\"#9c179e\"],[0.4444444444444444,\"#bd3786\"],[0.5555555555555556,\"#d8576b\"],[0.6666666666666666,\"#ed7953\"],[0.7777777777777778,\"#fb9f3a\"],[0.8888888888888888,\"#fdca26\"],[1.0,\"#f0f921\"]],\"sequentialminus\":[[0.0,\"#0d0887\"],[0.1111111111111111,\"#46039f\"],[0.2222222222222222,\"#7201a8\"],[0.3333333333333333,\"#9c179e\"],[0.4444444444444444,\"#bd3786\"],[0.5555555555555556,\"#d8576b\"],[0.6666666666666666,\"#ed7953\"],[0.7777777777777778,\"#fb9f3a\"],[0.8888888888888888,\"#fdca26\"],[1.0,\"#f0f921\"]]},\"colorway\":[\"#636efa\",\"#EF553B\",\"#00cc96\",\"#ab63fa\",\"#FFA15A\",\"#19d3f3\",\"#FF6692\",\"#B6E880\",\"#FF97FF\",\"#FECB52\"],\"font\":{\"color\":\"#f2f5fa\"},\"geo\":{\"bgcolor\":\"rgb(17,17,17)\",\"lakecolor\":\"rgb(17,17,17)\",\"landcolor\":\"rgb(17,17,17)\",\"showlakes\":true,\"showland\":true,\"subunitcolor\":\"#506784\"},\"hoverlabel\":{\"align\":\"left\"},\"hovermode\":\"closest\",\"mapbox\":{\"style\":\"dark\"},\"paper_bgcolor\":\"rgb(17,17,17)\",\"plot_bgcolor\":\"rgb(17,17,17)\",\"polar\":{\"angularaxis\":{\"gridcolor\":\"#506784\",\"linecolor\":\"#506784\",\"ticks\":\"\"},\"bgcolor\":\"rgb(17,17,17)\",\"radialaxis\":{\"gridcolor\":\"#506784\",\"linecolor\":\"#506784\",\"ticks\":\"\"}},\"scene\":{\"xaxis\":{\"backgroundcolor\":\"rgb(17,17,17)\",\"gridcolor\":\"#506784\",\"gridwidth\":2,\"linecolor\":\"#506784\",\"showbackground\":true,\"ticks\":\"\",\"zerolinecolor\":\"#C8D4E3\"},\"yaxis\":{\"backgroundcolor\":\"rgb(17,17,17)\",\"gridcolor\":\"#506784\",\"gridwidth\":2,\"linecolor\":\"#506784\",\"showbackground\":true,\"ticks\":\"\",\"zerolinecolor\":\"#C8D4E3\"},\"zaxis\":{\"backgroundcolor\":\"rgb(17,17,17)\",\"gridcolor\":\"#506784\",\"gridwidth\":2,\"linecolor\":\"#506784\",\"showbackground\":true,\"ticks\":\"\",\"zerolinecolor\":\"#C8D4E3\"}},\"shapedefaults\":{\"line\":{\"color\":\"#f2f5fa\"}},\"sliderdefaults\":{\"bgcolor\":\"#C8D4E3\",\"bordercolor\":\"rgb(17,17,17)\",\"borderwidth\":1,\"tickwidth\":0},\"ternary\":{\"aaxis\":{\"gridcolor\":\"#506784\",\"linecolor\":\"#506784\",\"ticks\":\"\"},\"baxis\":{\"gridcolor\":\"#506784\",\"linecolor\":\"#506784\",\"ticks\":\"\"},\"bgcolor\":\"rgb(17,17,17)\",\"caxis\":{\"gridcolor\":\"#506784\",\"linecolor\":\"#506784\",\"ticks\":\"\"}},\"title\":{\"x\":0.05},\"updatemenudefaults\":{\"bgcolor\":\"#506784\",\"borderwidth\":0},\"xaxis\":{\"automargin\":true,\"gridcolor\":\"#283442\",\"linecolor\":\"#506784\",\"ticks\":\"\",\"title\":{\"standoff\":15},\"zerolinecolor\":\"#283442\",\"zerolinewidth\":2},\"yaxis\":{\"automargin\":true,\"gridcolor\":\"#283442\",\"linecolor\":\"#506784\",\"ticks\":\"\",\"title\":{\"standoff\":15},\"zerolinecolor\":\"#283442\",\"zerolinewidth\":2}}},\"title\":{\"font\":{\"size\":20},\"text\":\"Polynomial Regression - Actual Values vs Predicted Values\",\"x\":0.5,\"y\":0.88},\"xaxis\":{\"range\":[0,1],\"title\":{\"font\":{\"size\":16},\"text\":\"Actual Value\"}},\"yaxis\":{\"range\":[0,1],\"title\":{\"font\":{\"size\":16},\"text\":\"Predicted Value\"}}},                        {\"responsive\": true}                    ).then(function(){\n",
       "                            \n",
       "var gd = document.getElementById('d2469560-6c48-44fd-ba5b-7d85c3954d2a');\n",
       "var x = new MutationObserver(function (mutations, observer) {{\n",
       "        var display = window.getComputedStyle(gd).display;\n",
       "        if (!display || display === 'none') {{\n",
       "            console.log([gd, 'removed!']);\n",
       "            Plotly.purge(gd);\n",
       "            observer.disconnect();\n",
       "        }}\n",
       "}});\n",
       "\n",
       "// Listen for the removal of the full notebook cells\n",
       "var notebookContainer = gd.closest('#notebook-container');\n",
       "if (notebookContainer) {{\n",
       "    x.observe(notebookContainer, {childList: true});\n",
       "}}\n",
       "\n",
       "// Listen for the clearing of the current output cell\n",
       "var outputEl = gd.closest('.output');\n",
       "if (outputEl) {{\n",
       "    x.observe(outputEl, {childList: true});\n",
       "}}\n",
       "\n",
       "                        })                };                });            </script>        </div>"
      ]
     },
     "metadata": {},
     "output_type": "display_data"
    }
   ],
   "source": [
    "data = [go.Scatter(x = y_test, \n",
    "                   y = y_pred_poly_ss, \n",
    "                   mode = 'markers', \n",
    "                   marker = dict(symbol = 'circle', \n",
    "                                 size = 16, \n",
    "                                 color = 'skyblue'))]\n",
    "\n",
    "layout = go.Layout(title = dict(text = 'Polynomial Regression - Actual Values vs Predicted Values', \n",
    "                                x = 0.5, \n",
    "                                y = 0.88, \n",
    "                                font = {'size': 20}),\n",
    "                   xaxis = dict(title = 'Actual Value', \n",
    "                                titlefont = {'size': 16}, \n",
    "                                range = [0, 1]),\n",
    "                   yaxis = dict(title = 'Predicted Value', \n",
    "                                titlefont = {'size': 16}, \n",
    "                                range = [0, 1]),\n",
    "                   template = 'plotly_dark')\n",
    "\n",
    "fig = go.Figure(data = data, \n",
    "                layout = layout)\n",
    "\n",
    "iplot(fig)"
   ]
  },
  {
   "cell_type": "code",
   "execution_count": 34,
   "id": "7616571c",
   "metadata": {},
   "outputs": [
    {
     "name": "stdout",
     "output_type": "stream",
     "text": [
      "0.7797918733594855\n"
     ]
    }
   ],
   "source": [
    "mms_y_train = MinMaxScaler()\n",
    "y_train_mms_scaled = mms_y_train.fit_transform(y_train.reshape(-1,1))\n",
    "\n",
    "from sklearn.svm import SVR\n",
    "svr_regressor_mms = SVR(kernel = 'rbf')\n",
    "svr_regressor_mms.fit(X_train_mms_scaled, y_train_mms_scaled.ravel())\n",
    "y_pred_svr_mms = svr_regressor_mms.predict(X_test_mms_scaled)\n",
    "y_pred_svr_mms = mms_y_train.inverse_transform(y_pred_svr_mms.reshape(-1, 1))\n",
    "print(r2_score(y_test, y_pred_svr_mms))"
   ]
  },
  {
   "cell_type": "code",
   "execution_count": 35,
   "id": "bc5b2359",
   "metadata": {},
   "outputs": [
    {
     "name": "stdout",
     "output_type": "stream",
     "text": [
      "0.8094206571056967\n"
     ]
    }
   ],
   "source": [
    "ss_y_train = StandardScaler()\n",
    "y_train_ss_scaled = ss_y_train.fit_transform(y_train.reshape(-1,1))\n",
    "\n",
    "from sklearn.svm import SVR\n",
    "svr_regressor_ss = SVR(kernel = 'rbf')\n",
    "svr_regressor_ss.fit(X_train_ss_scaled, y_train_ss_scaled.ravel())\n",
    "y_pred_svr_ss = svr_regressor_ss.predict(X_test_ss_scaled)\n",
    "y_pred_svr_ss = ss_y_train.inverse_transform(y_pred_svr_ss.reshape(-1, 1))\n",
    "print(r2_score(y_test, y_pred_svr_ss))"
   ]
  },
  {
   "cell_type": "code",
   "execution_count": 36,
   "id": "102c040e",
   "metadata": {},
   "outputs": [
    {
     "data": {
      "application/vnd.plotly.v1+json": {
       "config": {
        "linkText": "Export to plot.ly",
        "plotlyServerURL": "https://plot.ly",
        "showLink": false
       },
       "data": [
        {
         "marker": {
          "color": "skyblue",
          "size": 16,
          "symbol": "circle"
         },
         "mode": "markers",
         "type": "scatter",
         "x": [
          0.68,
          0.68,
          0.9,
          0.79,
          0.44,
          0.94,
          0.43,
          0.36,
          0.72,
          0.85,
          0.45,
          0.93,
          0.64,
          0.93,
          0.71,
          0.53,
          0.66,
          0.34,
          0.74,
          0.96,
          0.64,
          0.54,
          0.71,
          0.54,
          0.92,
          0.84,
          0.59,
          0.61,
          0.7,
          0.74,
          0.82,
          0.94,
          0.71,
          0.46,
          0.69,
          0.56,
          0.72,
          0.58,
          0.61,
          0.9,
          0.73,
          0.64,
          0.74,
          0.94,
          0.92,
          0.82,
          0.96,
          0.71,
          0.94,
          0.89,
          0.86,
          0.73,
          0.81,
          0.94,
          0.39,
          0.48,
          0.71,
          0.86,
          0.65,
          0.86,
          0.57,
          0.61,
          0.79,
          0.44,
          0.64,
          0.74,
          0.64,
          0.83,
          0.89,
          0.84,
          0.75,
          0.84,
          0.9,
          0.88,
          0.49,
          0.72,
          0.64,
          0.67,
          0.9,
          0.79
         ],
         "y": [
          0.6515951054042959,
          0.7074037927487113,
          0.9365287527365274,
          0.8153397337393015,
          0.5952081111202288,
          0.9445360002017705,
          0.5445408071107882,
          0.5181102281488079,
          0.688997189185423,
          0.8299518268069593,
          0.717968631001088,
          0.9227321061831059,
          0.5910901597859927,
          0.8902646978046322,
          0.6808425302021428,
          0.7238515399314353,
          0.6906373742027021,
          0.4954745676804192,
          0.7099437529642575,
          0.9627453186546617,
          0.6194069029106908,
          0.6736262755518103,
          0.7214393404292447,
          0.5133196373731004,
          0.9674713772888072,
          0.8011765158854718,
          0.7107856457926396,
          0.5913282257397433,
          0.710959530206078,
          0.8116115759145996,
          0.8044310799044676,
          0.9589847927903595,
          0.6786752544530149,
          0.5514644544736526,
          0.6896725606085,
          0.6712259822911617,
          0.6923493281293139,
          0.6651085368320429,
          0.6459123333777584,
          0.8374323906233361,
          0.7628433560413658,
          0.6413273761901769,
          0.7834522429355744,
          0.9581489241408656,
          0.8625386944496375,
          0.8357193404623033,
          0.9351244361543168,
          0.6938160271706656,
          0.9353939408183077,
          0.8706064582616602,
          0.9154807150441543,
          0.7251275963867849,
          0.7995042389780325,
          0.9519615466656186,
          0.6092955209476608,
          0.5880840075182494,
          0.6884321912920165,
          0.8493151276555381,
          0.6233257383419994,
          0.8684349583786911,
          0.6255374909768563,
          0.6526573003892197,
          0.7258557773699766,
          0.5143550070886552,
          0.6631161940712452,
          0.7159298272972578,
          0.6494102352139698,
          0.8610254618688808,
          0.8622090990362297,
          0.7899171292881305,
          0.7151078503215155,
          0.7815581943646851,
          0.8919565029809762,
          0.8457841355009798,
          0.5095702185339055,
          0.7420489233856707,
          0.6977135472863191,
          0.6112688961253939,
          0.9033810866932914,
          0.7504432723031742
         ]
        }
       ],
       "layout": {
        "template": {
         "data": {
          "bar": [
           {
            "error_x": {
             "color": "#f2f5fa"
            },
            "error_y": {
             "color": "#f2f5fa"
            },
            "marker": {
             "line": {
              "color": "rgb(17,17,17)",
              "width": 0.5
             },
             "pattern": {
              "fillmode": "overlay",
              "size": 10,
              "solidity": 0.2
             }
            },
            "type": "bar"
           }
          ],
          "barpolar": [
           {
            "marker": {
             "line": {
              "color": "rgb(17,17,17)",
              "width": 0.5
             },
             "pattern": {
              "fillmode": "overlay",
              "size": 10,
              "solidity": 0.2
             }
            },
            "type": "barpolar"
           }
          ],
          "carpet": [
           {
            "aaxis": {
             "endlinecolor": "#A2B1C6",
             "gridcolor": "#506784",
             "linecolor": "#506784",
             "minorgridcolor": "#506784",
             "startlinecolor": "#A2B1C6"
            },
            "baxis": {
             "endlinecolor": "#A2B1C6",
             "gridcolor": "#506784",
             "linecolor": "#506784",
             "minorgridcolor": "#506784",
             "startlinecolor": "#A2B1C6"
            },
            "type": "carpet"
           }
          ],
          "choropleth": [
           {
            "colorbar": {
             "outlinewidth": 0,
             "ticks": ""
            },
            "type": "choropleth"
           }
          ],
          "contour": [
           {
            "colorbar": {
             "outlinewidth": 0,
             "ticks": ""
            },
            "colorscale": [
             [
              0,
              "#0d0887"
             ],
             [
              0.1111111111111111,
              "#46039f"
             ],
             [
              0.2222222222222222,
              "#7201a8"
             ],
             [
              0.3333333333333333,
              "#9c179e"
             ],
             [
              0.4444444444444444,
              "#bd3786"
             ],
             [
              0.5555555555555556,
              "#d8576b"
             ],
             [
              0.6666666666666666,
              "#ed7953"
             ],
             [
              0.7777777777777778,
              "#fb9f3a"
             ],
             [
              0.8888888888888888,
              "#fdca26"
             ],
             [
              1,
              "#f0f921"
             ]
            ],
            "type": "contour"
           }
          ],
          "contourcarpet": [
           {
            "colorbar": {
             "outlinewidth": 0,
             "ticks": ""
            },
            "type": "contourcarpet"
           }
          ],
          "heatmap": [
           {
            "colorbar": {
             "outlinewidth": 0,
             "ticks": ""
            },
            "colorscale": [
             [
              0,
              "#0d0887"
             ],
             [
              0.1111111111111111,
              "#46039f"
             ],
             [
              0.2222222222222222,
              "#7201a8"
             ],
             [
              0.3333333333333333,
              "#9c179e"
             ],
             [
              0.4444444444444444,
              "#bd3786"
             ],
             [
              0.5555555555555556,
              "#d8576b"
             ],
             [
              0.6666666666666666,
              "#ed7953"
             ],
             [
              0.7777777777777778,
              "#fb9f3a"
             ],
             [
              0.8888888888888888,
              "#fdca26"
             ],
             [
              1,
              "#f0f921"
             ]
            ],
            "type": "heatmap"
           }
          ],
          "heatmapgl": [
           {
            "colorbar": {
             "outlinewidth": 0,
             "ticks": ""
            },
            "colorscale": [
             [
              0,
              "#0d0887"
             ],
             [
              0.1111111111111111,
              "#46039f"
             ],
             [
              0.2222222222222222,
              "#7201a8"
             ],
             [
              0.3333333333333333,
              "#9c179e"
             ],
             [
              0.4444444444444444,
              "#bd3786"
             ],
             [
              0.5555555555555556,
              "#d8576b"
             ],
             [
              0.6666666666666666,
              "#ed7953"
             ],
             [
              0.7777777777777778,
              "#fb9f3a"
             ],
             [
              0.8888888888888888,
              "#fdca26"
             ],
             [
              1,
              "#f0f921"
             ]
            ],
            "type": "heatmapgl"
           }
          ],
          "histogram": [
           {
            "marker": {
             "pattern": {
              "fillmode": "overlay",
              "size": 10,
              "solidity": 0.2
             }
            },
            "type": "histogram"
           }
          ],
          "histogram2d": [
           {
            "colorbar": {
             "outlinewidth": 0,
             "ticks": ""
            },
            "colorscale": [
             [
              0,
              "#0d0887"
             ],
             [
              0.1111111111111111,
              "#46039f"
             ],
             [
              0.2222222222222222,
              "#7201a8"
             ],
             [
              0.3333333333333333,
              "#9c179e"
             ],
             [
              0.4444444444444444,
              "#bd3786"
             ],
             [
              0.5555555555555556,
              "#d8576b"
             ],
             [
              0.6666666666666666,
              "#ed7953"
             ],
             [
              0.7777777777777778,
              "#fb9f3a"
             ],
             [
              0.8888888888888888,
              "#fdca26"
             ],
             [
              1,
              "#f0f921"
             ]
            ],
            "type": "histogram2d"
           }
          ],
          "histogram2dcontour": [
           {
            "colorbar": {
             "outlinewidth": 0,
             "ticks": ""
            },
            "colorscale": [
             [
              0,
              "#0d0887"
             ],
             [
              0.1111111111111111,
              "#46039f"
             ],
             [
              0.2222222222222222,
              "#7201a8"
             ],
             [
              0.3333333333333333,
              "#9c179e"
             ],
             [
              0.4444444444444444,
              "#bd3786"
             ],
             [
              0.5555555555555556,
              "#d8576b"
             ],
             [
              0.6666666666666666,
              "#ed7953"
             ],
             [
              0.7777777777777778,
              "#fb9f3a"
             ],
             [
              0.8888888888888888,
              "#fdca26"
             ],
             [
              1,
              "#f0f921"
             ]
            ],
            "type": "histogram2dcontour"
           }
          ],
          "mesh3d": [
           {
            "colorbar": {
             "outlinewidth": 0,
             "ticks": ""
            },
            "type": "mesh3d"
           }
          ],
          "parcoords": [
           {
            "line": {
             "colorbar": {
              "outlinewidth": 0,
              "ticks": ""
             }
            },
            "type": "parcoords"
           }
          ],
          "pie": [
           {
            "automargin": true,
            "type": "pie"
           }
          ],
          "scatter": [
           {
            "marker": {
             "line": {
              "color": "#283442"
             }
            },
            "type": "scatter"
           }
          ],
          "scatter3d": [
           {
            "line": {
             "colorbar": {
              "outlinewidth": 0,
              "ticks": ""
             }
            },
            "marker": {
             "colorbar": {
              "outlinewidth": 0,
              "ticks": ""
             }
            },
            "type": "scatter3d"
           }
          ],
          "scattercarpet": [
           {
            "marker": {
             "colorbar": {
              "outlinewidth": 0,
              "ticks": ""
             }
            },
            "type": "scattercarpet"
           }
          ],
          "scattergeo": [
           {
            "marker": {
             "colorbar": {
              "outlinewidth": 0,
              "ticks": ""
             }
            },
            "type": "scattergeo"
           }
          ],
          "scattergl": [
           {
            "marker": {
             "line": {
              "color": "#283442"
             }
            },
            "type": "scattergl"
           }
          ],
          "scattermapbox": [
           {
            "marker": {
             "colorbar": {
              "outlinewidth": 0,
              "ticks": ""
             }
            },
            "type": "scattermapbox"
           }
          ],
          "scatterpolar": [
           {
            "marker": {
             "colorbar": {
              "outlinewidth": 0,
              "ticks": ""
             }
            },
            "type": "scatterpolar"
           }
          ],
          "scatterpolargl": [
           {
            "marker": {
             "colorbar": {
              "outlinewidth": 0,
              "ticks": ""
             }
            },
            "type": "scatterpolargl"
           }
          ],
          "scatterternary": [
           {
            "marker": {
             "colorbar": {
              "outlinewidth": 0,
              "ticks": ""
             }
            },
            "type": "scatterternary"
           }
          ],
          "surface": [
           {
            "colorbar": {
             "outlinewidth": 0,
             "ticks": ""
            },
            "colorscale": [
             [
              0,
              "#0d0887"
             ],
             [
              0.1111111111111111,
              "#46039f"
             ],
             [
              0.2222222222222222,
              "#7201a8"
             ],
             [
              0.3333333333333333,
              "#9c179e"
             ],
             [
              0.4444444444444444,
              "#bd3786"
             ],
             [
              0.5555555555555556,
              "#d8576b"
             ],
             [
              0.6666666666666666,
              "#ed7953"
             ],
             [
              0.7777777777777778,
              "#fb9f3a"
             ],
             [
              0.8888888888888888,
              "#fdca26"
             ],
             [
              1,
              "#f0f921"
             ]
            ],
            "type": "surface"
           }
          ],
          "table": [
           {
            "cells": {
             "fill": {
              "color": "#506784"
             },
             "line": {
              "color": "rgb(17,17,17)"
             }
            },
            "header": {
             "fill": {
              "color": "#2a3f5f"
             },
             "line": {
              "color": "rgb(17,17,17)"
             }
            },
            "type": "table"
           }
          ]
         },
         "layout": {
          "annotationdefaults": {
           "arrowcolor": "#f2f5fa",
           "arrowhead": 0,
           "arrowwidth": 1
          },
          "autotypenumbers": "strict",
          "coloraxis": {
           "colorbar": {
            "outlinewidth": 0,
            "ticks": ""
           }
          },
          "colorscale": {
           "diverging": [
            [
             0,
             "#8e0152"
            ],
            [
             0.1,
             "#c51b7d"
            ],
            [
             0.2,
             "#de77ae"
            ],
            [
             0.3,
             "#f1b6da"
            ],
            [
             0.4,
             "#fde0ef"
            ],
            [
             0.5,
             "#f7f7f7"
            ],
            [
             0.6,
             "#e6f5d0"
            ],
            [
             0.7,
             "#b8e186"
            ],
            [
             0.8,
             "#7fbc41"
            ],
            [
             0.9,
             "#4d9221"
            ],
            [
             1,
             "#276419"
            ]
           ],
           "sequential": [
            [
             0,
             "#0d0887"
            ],
            [
             0.1111111111111111,
             "#46039f"
            ],
            [
             0.2222222222222222,
             "#7201a8"
            ],
            [
             0.3333333333333333,
             "#9c179e"
            ],
            [
             0.4444444444444444,
             "#bd3786"
            ],
            [
             0.5555555555555556,
             "#d8576b"
            ],
            [
             0.6666666666666666,
             "#ed7953"
            ],
            [
             0.7777777777777778,
             "#fb9f3a"
            ],
            [
             0.8888888888888888,
             "#fdca26"
            ],
            [
             1,
             "#f0f921"
            ]
           ],
           "sequentialminus": [
            [
             0,
             "#0d0887"
            ],
            [
             0.1111111111111111,
             "#46039f"
            ],
            [
             0.2222222222222222,
             "#7201a8"
            ],
            [
             0.3333333333333333,
             "#9c179e"
            ],
            [
             0.4444444444444444,
             "#bd3786"
            ],
            [
             0.5555555555555556,
             "#d8576b"
            ],
            [
             0.6666666666666666,
             "#ed7953"
            ],
            [
             0.7777777777777778,
             "#fb9f3a"
            ],
            [
             0.8888888888888888,
             "#fdca26"
            ],
            [
             1,
             "#f0f921"
            ]
           ]
          },
          "colorway": [
           "#636efa",
           "#EF553B",
           "#00cc96",
           "#ab63fa",
           "#FFA15A",
           "#19d3f3",
           "#FF6692",
           "#B6E880",
           "#FF97FF",
           "#FECB52"
          ],
          "font": {
           "color": "#f2f5fa"
          },
          "geo": {
           "bgcolor": "rgb(17,17,17)",
           "lakecolor": "rgb(17,17,17)",
           "landcolor": "rgb(17,17,17)",
           "showlakes": true,
           "showland": true,
           "subunitcolor": "#506784"
          },
          "hoverlabel": {
           "align": "left"
          },
          "hovermode": "closest",
          "mapbox": {
           "style": "dark"
          },
          "paper_bgcolor": "rgb(17,17,17)",
          "plot_bgcolor": "rgb(17,17,17)",
          "polar": {
           "angularaxis": {
            "gridcolor": "#506784",
            "linecolor": "#506784",
            "ticks": ""
           },
           "bgcolor": "rgb(17,17,17)",
           "radialaxis": {
            "gridcolor": "#506784",
            "linecolor": "#506784",
            "ticks": ""
           }
          },
          "scene": {
           "xaxis": {
            "backgroundcolor": "rgb(17,17,17)",
            "gridcolor": "#506784",
            "gridwidth": 2,
            "linecolor": "#506784",
            "showbackground": true,
            "ticks": "",
            "zerolinecolor": "#C8D4E3"
           },
           "yaxis": {
            "backgroundcolor": "rgb(17,17,17)",
            "gridcolor": "#506784",
            "gridwidth": 2,
            "linecolor": "#506784",
            "showbackground": true,
            "ticks": "",
            "zerolinecolor": "#C8D4E3"
           },
           "zaxis": {
            "backgroundcolor": "rgb(17,17,17)",
            "gridcolor": "#506784",
            "gridwidth": 2,
            "linecolor": "#506784",
            "showbackground": true,
            "ticks": "",
            "zerolinecolor": "#C8D4E3"
           }
          },
          "shapedefaults": {
           "line": {
            "color": "#f2f5fa"
           }
          },
          "sliderdefaults": {
           "bgcolor": "#C8D4E3",
           "bordercolor": "rgb(17,17,17)",
           "borderwidth": 1,
           "tickwidth": 0
          },
          "ternary": {
           "aaxis": {
            "gridcolor": "#506784",
            "linecolor": "#506784",
            "ticks": ""
           },
           "baxis": {
            "gridcolor": "#506784",
            "linecolor": "#506784",
            "ticks": ""
           },
           "bgcolor": "rgb(17,17,17)",
           "caxis": {
            "gridcolor": "#506784",
            "linecolor": "#506784",
            "ticks": ""
           }
          },
          "title": {
           "x": 0.05
          },
          "updatemenudefaults": {
           "bgcolor": "#506784",
           "borderwidth": 0
          },
          "xaxis": {
           "automargin": true,
           "gridcolor": "#283442",
           "linecolor": "#506784",
           "ticks": "",
           "title": {
            "standoff": 15
           },
           "zerolinecolor": "#283442",
           "zerolinewidth": 2
          },
          "yaxis": {
           "automargin": true,
           "gridcolor": "#283442",
           "linecolor": "#506784",
           "ticks": "",
           "title": {
            "standoff": 15
           },
           "zerolinecolor": "#283442",
           "zerolinewidth": 2
          }
         }
        },
        "title": {
         "font": {
          "size": 20
         },
         "text": "SVR - Actual Values vs Predicted Values",
         "x": 0.5,
         "y": 0.88
        },
        "xaxis": {
         "range": [
          0,
          1
         ],
         "title": {
          "font": {
           "size": 16
          },
          "text": "Actual Value"
         }
        },
        "yaxis": {
         "range": [
          0,
          1
         ],
         "title": {
          "font": {
           "size": 16
          },
          "text": "Predicted Value"
         }
        }
       }
      },
      "text/html": [
       "<div>                            <div id=\"392ee070-e932-4548-aabd-0dc0a8bd9361\" class=\"plotly-graph-div\" style=\"height:525px; width:100%;\"></div>            <script type=\"text/javascript\">                require([\"plotly\"], function(Plotly) {                    window.PLOTLYENV=window.PLOTLYENV || {};                                    if (document.getElementById(\"392ee070-e932-4548-aabd-0dc0a8bd9361\")) {                    Plotly.newPlot(                        \"392ee070-e932-4548-aabd-0dc0a8bd9361\",                        [{\"marker\":{\"color\":\"skyblue\",\"size\":16,\"symbol\":\"circle\"},\"mode\":\"markers\",\"type\":\"scatter\",\"x\":[0.68,0.68,0.9,0.79,0.44,0.94,0.43,0.36,0.72,0.85,0.45,0.93,0.64,0.93,0.71,0.53,0.66,0.34,0.74,0.96,0.64,0.54,0.71,0.54,0.92,0.84,0.59,0.61,0.7,0.74,0.82,0.94,0.71,0.46,0.69,0.56,0.72,0.58,0.61,0.9,0.73,0.64,0.74,0.94,0.92,0.82,0.96,0.71,0.94,0.89,0.86,0.73,0.81,0.94,0.39,0.48,0.71,0.86,0.65,0.86,0.57,0.61,0.79,0.44,0.64,0.74,0.64,0.83,0.89,0.84,0.75,0.84,0.9,0.88,0.49,0.72,0.64,0.67,0.9,0.79],\"y\":[0.6515951054042959,0.7074037927487113,0.9365287527365274,0.8153397337393015,0.5952081111202288,0.9445360002017705,0.5445408071107882,0.5181102281488079,0.688997189185423,0.8299518268069593,0.717968631001088,0.9227321061831059,0.5910901597859927,0.8902646978046322,0.6808425302021428,0.7238515399314353,0.6906373742027021,0.4954745676804192,0.7099437529642575,0.9627453186546617,0.6194069029106908,0.6736262755518103,0.7214393404292447,0.5133196373731004,0.9674713772888072,0.8011765158854718,0.7107856457926396,0.5913282257397433,0.710959530206078,0.8116115759145996,0.8044310799044676,0.9589847927903595,0.6786752544530149,0.5514644544736526,0.6896725606085,0.6712259822911617,0.6923493281293139,0.6651085368320429,0.6459123333777584,0.8374323906233361,0.7628433560413658,0.6413273761901769,0.7834522429355744,0.9581489241408656,0.8625386944496375,0.8357193404623033,0.9351244361543168,0.6938160271706656,0.9353939408183077,0.8706064582616602,0.9154807150441543,0.7251275963867849,0.7995042389780325,0.9519615466656186,0.6092955209476608,0.5880840075182494,0.6884321912920165,0.8493151276555381,0.6233257383419994,0.8684349583786911,0.6255374909768563,0.6526573003892197,0.7258557773699766,0.5143550070886552,0.6631161940712452,0.7159298272972578,0.6494102352139698,0.8610254618688808,0.8622090990362297,0.7899171292881305,0.7151078503215155,0.7815581943646851,0.8919565029809762,0.8457841355009798,0.5095702185339055,0.7420489233856707,0.6977135472863191,0.6112688961253939,0.9033810866932914,0.7504432723031742]}],                        {\"template\":{\"data\":{\"bar\":[{\"error_x\":{\"color\":\"#f2f5fa\"},\"error_y\":{\"color\":\"#f2f5fa\"},\"marker\":{\"line\":{\"color\":\"rgb(17,17,17)\",\"width\":0.5},\"pattern\":{\"fillmode\":\"overlay\",\"size\":10,\"solidity\":0.2}},\"type\":\"bar\"}],\"barpolar\":[{\"marker\":{\"line\":{\"color\":\"rgb(17,17,17)\",\"width\":0.5},\"pattern\":{\"fillmode\":\"overlay\",\"size\":10,\"solidity\":0.2}},\"type\":\"barpolar\"}],\"carpet\":[{\"aaxis\":{\"endlinecolor\":\"#A2B1C6\",\"gridcolor\":\"#506784\",\"linecolor\":\"#506784\",\"minorgridcolor\":\"#506784\",\"startlinecolor\":\"#A2B1C6\"},\"baxis\":{\"endlinecolor\":\"#A2B1C6\",\"gridcolor\":\"#506784\",\"linecolor\":\"#506784\",\"minorgridcolor\":\"#506784\",\"startlinecolor\":\"#A2B1C6\"},\"type\":\"carpet\"}],\"choropleth\":[{\"colorbar\":{\"outlinewidth\":0,\"ticks\":\"\"},\"type\":\"choropleth\"}],\"contour\":[{\"colorbar\":{\"outlinewidth\":0,\"ticks\":\"\"},\"colorscale\":[[0.0,\"#0d0887\"],[0.1111111111111111,\"#46039f\"],[0.2222222222222222,\"#7201a8\"],[0.3333333333333333,\"#9c179e\"],[0.4444444444444444,\"#bd3786\"],[0.5555555555555556,\"#d8576b\"],[0.6666666666666666,\"#ed7953\"],[0.7777777777777778,\"#fb9f3a\"],[0.8888888888888888,\"#fdca26\"],[1.0,\"#f0f921\"]],\"type\":\"contour\"}],\"contourcarpet\":[{\"colorbar\":{\"outlinewidth\":0,\"ticks\":\"\"},\"type\":\"contourcarpet\"}],\"heatmap\":[{\"colorbar\":{\"outlinewidth\":0,\"ticks\":\"\"},\"colorscale\":[[0.0,\"#0d0887\"],[0.1111111111111111,\"#46039f\"],[0.2222222222222222,\"#7201a8\"],[0.3333333333333333,\"#9c179e\"],[0.4444444444444444,\"#bd3786\"],[0.5555555555555556,\"#d8576b\"],[0.6666666666666666,\"#ed7953\"],[0.7777777777777778,\"#fb9f3a\"],[0.8888888888888888,\"#fdca26\"],[1.0,\"#f0f921\"]],\"type\":\"heatmap\"}],\"heatmapgl\":[{\"colorbar\":{\"outlinewidth\":0,\"ticks\":\"\"},\"colorscale\":[[0.0,\"#0d0887\"],[0.1111111111111111,\"#46039f\"],[0.2222222222222222,\"#7201a8\"],[0.3333333333333333,\"#9c179e\"],[0.4444444444444444,\"#bd3786\"],[0.5555555555555556,\"#d8576b\"],[0.6666666666666666,\"#ed7953\"],[0.7777777777777778,\"#fb9f3a\"],[0.8888888888888888,\"#fdca26\"],[1.0,\"#f0f921\"]],\"type\":\"heatmapgl\"}],\"histogram\":[{\"marker\":{\"pattern\":{\"fillmode\":\"overlay\",\"size\":10,\"solidity\":0.2}},\"type\":\"histogram\"}],\"histogram2d\":[{\"colorbar\":{\"outlinewidth\":0,\"ticks\":\"\"},\"colorscale\":[[0.0,\"#0d0887\"],[0.1111111111111111,\"#46039f\"],[0.2222222222222222,\"#7201a8\"],[0.3333333333333333,\"#9c179e\"],[0.4444444444444444,\"#bd3786\"],[0.5555555555555556,\"#d8576b\"],[0.6666666666666666,\"#ed7953\"],[0.7777777777777778,\"#fb9f3a\"],[0.8888888888888888,\"#fdca26\"],[1.0,\"#f0f921\"]],\"type\":\"histogram2d\"}],\"histogram2dcontour\":[{\"colorbar\":{\"outlinewidth\":0,\"ticks\":\"\"},\"colorscale\":[[0.0,\"#0d0887\"],[0.1111111111111111,\"#46039f\"],[0.2222222222222222,\"#7201a8\"],[0.3333333333333333,\"#9c179e\"],[0.4444444444444444,\"#bd3786\"],[0.5555555555555556,\"#d8576b\"],[0.6666666666666666,\"#ed7953\"],[0.7777777777777778,\"#fb9f3a\"],[0.8888888888888888,\"#fdca26\"],[1.0,\"#f0f921\"]],\"type\":\"histogram2dcontour\"}],\"mesh3d\":[{\"colorbar\":{\"outlinewidth\":0,\"ticks\":\"\"},\"type\":\"mesh3d\"}],\"parcoords\":[{\"line\":{\"colorbar\":{\"outlinewidth\":0,\"ticks\":\"\"}},\"type\":\"parcoords\"}],\"pie\":[{\"automargin\":true,\"type\":\"pie\"}],\"scatter\":[{\"marker\":{\"line\":{\"color\":\"#283442\"}},\"type\":\"scatter\"}],\"scatter3d\":[{\"line\":{\"colorbar\":{\"outlinewidth\":0,\"ticks\":\"\"}},\"marker\":{\"colorbar\":{\"outlinewidth\":0,\"ticks\":\"\"}},\"type\":\"scatter3d\"}],\"scattercarpet\":[{\"marker\":{\"colorbar\":{\"outlinewidth\":0,\"ticks\":\"\"}},\"type\":\"scattercarpet\"}],\"scattergeo\":[{\"marker\":{\"colorbar\":{\"outlinewidth\":0,\"ticks\":\"\"}},\"type\":\"scattergeo\"}],\"scattergl\":[{\"marker\":{\"line\":{\"color\":\"#283442\"}},\"type\":\"scattergl\"}],\"scattermapbox\":[{\"marker\":{\"colorbar\":{\"outlinewidth\":0,\"ticks\":\"\"}},\"type\":\"scattermapbox\"}],\"scatterpolar\":[{\"marker\":{\"colorbar\":{\"outlinewidth\":0,\"ticks\":\"\"}},\"type\":\"scatterpolar\"}],\"scatterpolargl\":[{\"marker\":{\"colorbar\":{\"outlinewidth\":0,\"ticks\":\"\"}},\"type\":\"scatterpolargl\"}],\"scatterternary\":[{\"marker\":{\"colorbar\":{\"outlinewidth\":0,\"ticks\":\"\"}},\"type\":\"scatterternary\"}],\"surface\":[{\"colorbar\":{\"outlinewidth\":0,\"ticks\":\"\"},\"colorscale\":[[0.0,\"#0d0887\"],[0.1111111111111111,\"#46039f\"],[0.2222222222222222,\"#7201a8\"],[0.3333333333333333,\"#9c179e\"],[0.4444444444444444,\"#bd3786\"],[0.5555555555555556,\"#d8576b\"],[0.6666666666666666,\"#ed7953\"],[0.7777777777777778,\"#fb9f3a\"],[0.8888888888888888,\"#fdca26\"],[1.0,\"#f0f921\"]],\"type\":\"surface\"}],\"table\":[{\"cells\":{\"fill\":{\"color\":\"#506784\"},\"line\":{\"color\":\"rgb(17,17,17)\"}},\"header\":{\"fill\":{\"color\":\"#2a3f5f\"},\"line\":{\"color\":\"rgb(17,17,17)\"}},\"type\":\"table\"}]},\"layout\":{\"annotationdefaults\":{\"arrowcolor\":\"#f2f5fa\",\"arrowhead\":0,\"arrowwidth\":1},\"autotypenumbers\":\"strict\",\"coloraxis\":{\"colorbar\":{\"outlinewidth\":0,\"ticks\":\"\"}},\"colorscale\":{\"diverging\":[[0,\"#8e0152\"],[0.1,\"#c51b7d\"],[0.2,\"#de77ae\"],[0.3,\"#f1b6da\"],[0.4,\"#fde0ef\"],[0.5,\"#f7f7f7\"],[0.6,\"#e6f5d0\"],[0.7,\"#b8e186\"],[0.8,\"#7fbc41\"],[0.9,\"#4d9221\"],[1,\"#276419\"]],\"sequential\":[[0.0,\"#0d0887\"],[0.1111111111111111,\"#46039f\"],[0.2222222222222222,\"#7201a8\"],[0.3333333333333333,\"#9c179e\"],[0.4444444444444444,\"#bd3786\"],[0.5555555555555556,\"#d8576b\"],[0.6666666666666666,\"#ed7953\"],[0.7777777777777778,\"#fb9f3a\"],[0.8888888888888888,\"#fdca26\"],[1.0,\"#f0f921\"]],\"sequentialminus\":[[0.0,\"#0d0887\"],[0.1111111111111111,\"#46039f\"],[0.2222222222222222,\"#7201a8\"],[0.3333333333333333,\"#9c179e\"],[0.4444444444444444,\"#bd3786\"],[0.5555555555555556,\"#d8576b\"],[0.6666666666666666,\"#ed7953\"],[0.7777777777777778,\"#fb9f3a\"],[0.8888888888888888,\"#fdca26\"],[1.0,\"#f0f921\"]]},\"colorway\":[\"#636efa\",\"#EF553B\",\"#00cc96\",\"#ab63fa\",\"#FFA15A\",\"#19d3f3\",\"#FF6692\",\"#B6E880\",\"#FF97FF\",\"#FECB52\"],\"font\":{\"color\":\"#f2f5fa\"},\"geo\":{\"bgcolor\":\"rgb(17,17,17)\",\"lakecolor\":\"rgb(17,17,17)\",\"landcolor\":\"rgb(17,17,17)\",\"showlakes\":true,\"showland\":true,\"subunitcolor\":\"#506784\"},\"hoverlabel\":{\"align\":\"left\"},\"hovermode\":\"closest\",\"mapbox\":{\"style\":\"dark\"},\"paper_bgcolor\":\"rgb(17,17,17)\",\"plot_bgcolor\":\"rgb(17,17,17)\",\"polar\":{\"angularaxis\":{\"gridcolor\":\"#506784\",\"linecolor\":\"#506784\",\"ticks\":\"\"},\"bgcolor\":\"rgb(17,17,17)\",\"radialaxis\":{\"gridcolor\":\"#506784\",\"linecolor\":\"#506784\",\"ticks\":\"\"}},\"scene\":{\"xaxis\":{\"backgroundcolor\":\"rgb(17,17,17)\",\"gridcolor\":\"#506784\",\"gridwidth\":2,\"linecolor\":\"#506784\",\"showbackground\":true,\"ticks\":\"\",\"zerolinecolor\":\"#C8D4E3\"},\"yaxis\":{\"backgroundcolor\":\"rgb(17,17,17)\",\"gridcolor\":\"#506784\",\"gridwidth\":2,\"linecolor\":\"#506784\",\"showbackground\":true,\"ticks\":\"\",\"zerolinecolor\":\"#C8D4E3\"},\"zaxis\":{\"backgroundcolor\":\"rgb(17,17,17)\",\"gridcolor\":\"#506784\",\"gridwidth\":2,\"linecolor\":\"#506784\",\"showbackground\":true,\"ticks\":\"\",\"zerolinecolor\":\"#C8D4E3\"}},\"shapedefaults\":{\"line\":{\"color\":\"#f2f5fa\"}},\"sliderdefaults\":{\"bgcolor\":\"#C8D4E3\",\"bordercolor\":\"rgb(17,17,17)\",\"borderwidth\":1,\"tickwidth\":0},\"ternary\":{\"aaxis\":{\"gridcolor\":\"#506784\",\"linecolor\":\"#506784\",\"ticks\":\"\"},\"baxis\":{\"gridcolor\":\"#506784\",\"linecolor\":\"#506784\",\"ticks\":\"\"},\"bgcolor\":\"rgb(17,17,17)\",\"caxis\":{\"gridcolor\":\"#506784\",\"linecolor\":\"#506784\",\"ticks\":\"\"}},\"title\":{\"x\":0.05},\"updatemenudefaults\":{\"bgcolor\":\"#506784\",\"borderwidth\":0},\"xaxis\":{\"automargin\":true,\"gridcolor\":\"#283442\",\"linecolor\":\"#506784\",\"ticks\":\"\",\"title\":{\"standoff\":15},\"zerolinecolor\":\"#283442\",\"zerolinewidth\":2},\"yaxis\":{\"automargin\":true,\"gridcolor\":\"#283442\",\"linecolor\":\"#506784\",\"ticks\":\"\",\"title\":{\"standoff\":15},\"zerolinecolor\":\"#283442\",\"zerolinewidth\":2}}},\"title\":{\"font\":{\"size\":20},\"text\":\"SVR - Actual Values vs Predicted Values\",\"x\":0.5,\"y\":0.88},\"xaxis\":{\"range\":[0,1],\"title\":{\"font\":{\"size\":16},\"text\":\"Actual Value\"}},\"yaxis\":{\"range\":[0,1],\"title\":{\"font\":{\"size\":16},\"text\":\"Predicted Value\"}}},                        {\"responsive\": true}                    ).then(function(){\n",
       "                            \n",
       "var gd = document.getElementById('392ee070-e932-4548-aabd-0dc0a8bd9361');\n",
       "var x = new MutationObserver(function (mutations, observer) {{\n",
       "        var display = window.getComputedStyle(gd).display;\n",
       "        if (!display || display === 'none') {{\n",
       "            console.log([gd, 'removed!']);\n",
       "            Plotly.purge(gd);\n",
       "            observer.disconnect();\n",
       "        }}\n",
       "}});\n",
       "\n",
       "// Listen for the removal of the full notebook cells\n",
       "var notebookContainer = gd.closest('#notebook-container');\n",
       "if (notebookContainer) {{\n",
       "    x.observe(notebookContainer, {childList: true});\n",
       "}}\n",
       "\n",
       "// Listen for the clearing of the current output cell\n",
       "var outputEl = gd.closest('.output');\n",
       "if (outputEl) {{\n",
       "    x.observe(outputEl, {childList: true});\n",
       "}}\n",
       "\n",
       "                        })                };                });            </script>        </div>"
      ]
     },
     "metadata": {},
     "output_type": "display_data"
    }
   ],
   "source": [
    "data = [go.Scatter(x = y_test, \n",
    "                   y = y_pred_svr_ss.ravel(), \n",
    "                   mode = 'markers', \n",
    "                   marker = dict(symbol = 'circle', \n",
    "                                 size = 16, \n",
    "                                 color = 'skyblue'))]\n",
    "\n",
    "layout = go.Layout(title = dict(text = 'SVR - Actual Values vs Predicted Values', \n",
    "                                x = 0.5, \n",
    "                                y = 0.88, \n",
    "                                font = {'size': 20}),\n",
    "                   xaxis = dict(title = 'Actual Value', \n",
    "                                titlefont = {'size': 16}, \n",
    "                                range = [0, 1]),\n",
    "                   yaxis = dict(title = 'Predicted Value', \n",
    "                                titlefont = {'size': 16}, \n",
    "                                range = [0, 1]),\n",
    "                   template = 'plotly_dark')\n",
    "\n",
    "fig = go.Figure(data = data, \n",
    "                layout = layout)\n",
    "\n",
    "iplot(fig)"
   ]
  },
  {
   "cell_type": "code",
   "execution_count": 37,
   "id": "534c8d4e",
   "metadata": {},
   "outputs": [
    {
     "name": "stdout",
     "output_type": "stream",
     "text": [
      "0.6392316791664523\n"
     ]
    }
   ],
   "source": [
    "# Decision Tree Regression with MinMaxScaled Data\n",
    "from sklearn.tree import DecisionTreeRegressor\n",
    "dtr_scaled_mms = DecisionTreeRegressor(random_state = 0)\n",
    "dtr_scaled_mms.fit(X_train_mms_scaled, y_train)\n",
    "y_pred_dtrs_mms = dtr_scaled_mms.predict(X_test_mms_scaled)\n",
    "print(r2_score(y_test, y_pred_dtrs_mms))"
   ]
  },
  {
   "cell_type": "code",
   "execution_count": 38,
   "id": "4de0b011",
   "metadata": {},
   "outputs": [
    {
     "name": "stdout",
     "output_type": "stream",
     "text": [
      "0.6392316791664523\n"
     ]
    }
   ],
   "source": [
    "# Decision Tree Regression with StandardScaled Data\n",
    "dtr_scaled_ss = DecisionTreeRegressor(random_state = 0)\n",
    "dtr_scaled_ss.fit(X_train_ss_scaled, y_train)\n",
    "y_pred_dtrs_ss = dtr_scaled_ss.predict(X_test_ss_scaled)\n",
    "print(r2_score(y_test, y_pred_dtrs_ss))"
   ]
  },
  {
   "cell_type": "code",
   "execution_count": 39,
   "id": "2be1a2bb",
   "metadata": {},
   "outputs": [
    {
     "name": "stdout",
     "output_type": "stream",
     "text": [
      "0.6392316791664523\n"
     ]
    }
   ],
   "source": [
    "# Decision Tree Regression with unscaled data\n",
    "from sklearn.tree import DecisionTreeRegressor\n",
    "dtr_unscaled = DecisionTreeRegressor(random_state = 0)\n",
    "dtr_unscaled.fit(X_train, y_train)\n",
    "y_pred_dtr = dtr_unscaled.predict(X_test)\n",
    "print(r2_score(y_test, y_pred_dtr))"
   ]
  },
  {
   "cell_type": "code",
   "execution_count": 40,
   "id": "4156f50f",
   "metadata": {},
   "outputs": [
    {
     "name": "stdout",
     "output_type": "stream",
     "text": [
      "0.7994010994164078\n"
     ]
    }
   ],
   "source": [
    "# Random Forest model with data scaled with MinMaxScaler\n",
    "from sklearn.ensemble import RandomForestRegressor\n",
    "rf_mms_regressor = RandomForestRegressor(n_estimators = 10, random_state = 0)\n",
    "rf_mms_regressor.fit(X_train_mms_scaled, y_train)\n",
    "y_pred_rf_mms = rf_mms_regressor.predict(X_test_mms_scaled)\n",
    "print(r2_score(y_test, y_pred_rf_mms))"
   ]
  },
  {
   "cell_type": "code",
   "execution_count": 41,
   "id": "e87d2a2f",
   "metadata": {},
   "outputs": [
    {
     "name": "stdout",
     "output_type": "stream",
     "text": [
      "0.7994010994164078\n"
     ]
    }
   ],
   "source": [
    "# Random Forest model with data scaled with StandardScaled Data\n",
    "rf_ss_regressor = RandomForestRegressor(n_estimators = 10, random_state = 0)\n",
    "rf_ss_regressor.fit(X_train_ss_scaled, y_train)\n",
    "y_pred_rf_ss = rf_ss_regressor.predict(X_test_ss_scaled)\n",
    "print(r2_score(y_test, y_pred_rf_ss))"
   ]
  },
  {
   "cell_type": "code",
   "execution_count": 42,
   "id": "44cc0834",
   "metadata": {},
   "outputs": [
    {
     "name": "stdout",
     "output_type": "stream",
     "text": [
      "0.7994010994164078\n"
     ]
    }
   ],
   "source": [
    "# Random Forest model with unscaled data\n",
    "rf_regressor = RandomForestRegressor(n_estimators = 10, random_state = 0)\n",
    "rf_regressor.fit(X_train, y_train)\n",
    "y_pred_rf = rf_regressor.predict(X_test)\n",
    "print(r2_score(y_test, y_pred_rf))"
   ]
  },
  {
   "cell_type": "code",
   "execution_count": null,
   "id": "2f314481",
   "metadata": {},
   "outputs": [],
   "source": []
  }
 ],
 "metadata": {
  "kernelspec": {
   "display_name": "Python 3",
   "language": "python",
   "name": "python3"
  },
  "language_info": {
   "codemirror_mode": {
    "name": "ipython",
    "version": 3
   },
   "file_extension": ".py",
   "mimetype": "text/x-python",
   "name": "python",
   "nbconvert_exporter": "python",
   "pygments_lexer": "ipython3",
   "version": "3.9.1"
  }
 },
 "nbformat": 4,
 "nbformat_minor": 5
}
